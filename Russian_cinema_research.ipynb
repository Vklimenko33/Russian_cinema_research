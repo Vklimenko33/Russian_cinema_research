{
 "cells": [
  {
   "cell_type": "markdown",
   "metadata": {
    "id": "sIfNaMOxgFyK"
   },
   "source": [
    "## Исследование данных о российском кинопрокате\n",
    "\n"
   ]
  },
  {
   "cell_type": "markdown",
   "metadata": {},
   "source": [
    "Нам нужно изучить рынок российского кинопроката и выявить текущие тренды. Необходимо уделить внимание фильмам, которые получили государственную поддержку. Попробуем ответить на вопрос, насколько такие фильмы интересны зрителю. \n",
    "Мы будем работать с данными, опубликованными на портале открытых данных Министерства культуры. Набор данных содержит информацию о прокатных удостоверениях, сборах и государственной поддержке фильмов, а также информацию с сайта КиноПоиск.  \n",
    "\n",
    "План работы:  \n",
    "\n",
    "Шаг 1. Откроем файлы с данными и объединим их в один датафрейм\n",
    "\n",
    "Шаг 2. Предобработка данных  \n",
    "\n",
    "Проверим типы данных в датафрейме и преобразуем их там, где это необходимо.  \n",
    "Изучим пропуски в датафрейме.  \n",
    "Проверим, есть ли в данных дубликаты. \n",
    "Изучите столбцы, которые содержат категориальные значения.  \n",
    "Изучите столбцы, которые хранят количественные значения.  \n",
    "Добавим новые столбцы:  \n",
    "С информацией о годе проката. \n",
    "С именем и фамилией главного режиссёра  \n",
    "С основным жанром фильма.  \n",
    "С расчетом, какую долю от общего бюджета фильма составляет государственная поддержка.  \n",
    "\n",
    "Шаг 3. Проведим исследовательский анализ данных  \n",
    "\n",
    "Посмотрим, сколько фильмов выходило в прокат каждый год.  \n",
    "Посчитаем, какую долю составляют фильмы с указанной информацией о прокате в кинотеатрах.  \n",
    "Проанализируем, как эта доля менялась по годам.  \n",
    "Сделаем вывод о том, какой период полнее всего представлен в данных.  \n",
    "Изучим, как менялась динамика проката по годам.  \n",
    "Посчитаем среднюю и медианную сумму сборов для каждого года.  \n",
    "Ответим на следующие вопросы:\n",
    "    - влияет ли возрастное ограничение аудитории («6+», «12+», «16+», «18+» и т. д.) на сборы фильма в прокате в период с 2015 по 2019 год?  \n",
    "    - Фильмы с каким возрастным ограничением собрали больше всего денег в прокате?  \n",
    "    - Меняется ли картина в зависимости от года?  \n",
    "    \n",
    "Шаг 4. Исследуем фильмы, которые получили государственную поддержку  \n",
    "\n",
    "Поищем интересные закономерности в данных.   \n",
    "Посмотрим, сколько выделяют средств на поддержку кино.   \n",
    "Проверим, хорошо ли окупаются такие фильмы, какой у них рейтинг.   \n",
    "\n",
    "Шаг 5. Напишем общий вывод.  \n",
    "\n"
   ]
  },
  {
   "cell_type": "markdown",
   "metadata": {
    "id": "3bSlkCsbgFyL"
   },
   "source": [
    "### Шаг 1. Откроем файлы с данными и объединим их в один датафрейм. \n",
    "\n",
    "Объединим данные таким образом, чтобы все объекты из датасета `mkrf_movies` обязательно вошли в получившийся датафрейм. \n",
    "\n",
    "<div id=\"accordion\">\n",
    "    <div class=\"card\">\n",
    "        <div class=\"card-header\" id=\"headingThree\">\n",
    "            <button class=\"btn btn-link collapsed\" data-toggle=\"collapse\" data-target=\"#collapseHint_0\" aria-expanded=\"false\" "
   ]
  },
  {
   "cell_type": "code",
   "execution_count": 1,
   "metadata": {},
   "outputs": [],
   "source": [
    "import pandas as pd"
   ]
  },
  {
   "cell_type": "code",
   "execution_count": 2,
   "metadata": {
    "id": "dw87FlzMgFyM"
   },
   "outputs": [
    {
     "name": "stdout",
     "output_type": "stream",
     "text": [
      "<class 'pandas.core.frame.DataFrame'>\n",
      "RangeIndex: 7486 entries, 0 to 7485\n",
      "Data columns (total 15 columns):\n",
      " #   Column                 Non-Null Count  Dtype  \n",
      "---  ------                 --------------  -----  \n",
      " 0   title                  7486 non-null   object \n",
      " 1   puNumber               7486 non-null   object \n",
      " 2   show_start_date        7486 non-null   object \n",
      " 3   type                   7486 non-null   object \n",
      " 4   film_studio            7468 non-null   object \n",
      " 5   production_country     7484 non-null   object \n",
      " 6   director               7477 non-null   object \n",
      " 7   producer               6918 non-null   object \n",
      " 8   age_restriction        7486 non-null   object \n",
      " 9   refundable_support     332 non-null    float64\n",
      " 10  nonrefundable_support  332 non-null    float64\n",
      " 11  budget                 332 non-null    float64\n",
      " 12  financing_source       332 non-null    object \n",
      " 13  ratings                6519 non-null   object \n",
      " 14  genres                 6510 non-null   object \n",
      "dtypes: float64(3), object(12)\n",
      "memory usage: 877.4+ KB\n"
     ]
    }
   ],
   "source": [
    "data1 = pd.read_csv('/datasets/mkrf_movies.csv')\n",
    "data1.info()"
   ]
  },
  {
   "cell_type": "code",
   "execution_count": 3,
   "metadata": {},
   "outputs": [
    {
     "data": {
      "text/html": [
       "<div>\n",
       "<style scoped>\n",
       "    .dataframe tbody tr th:only-of-type {\n",
       "        vertical-align: middle;\n",
       "    }\n",
       "\n",
       "    .dataframe tbody tr th {\n",
       "        vertical-align: top;\n",
       "    }\n",
       "\n",
       "    .dataframe thead th {\n",
       "        text-align: right;\n",
       "    }\n",
       "</style>\n",
       "<table border=\"1\" class=\"dataframe\">\n",
       "  <thead>\n",
       "    <tr style=\"text-align: right;\">\n",
       "      <th></th>\n",
       "      <th>title</th>\n",
       "      <th>puNumber</th>\n",
       "      <th>show_start_date</th>\n",
       "      <th>type</th>\n",
       "      <th>film_studio</th>\n",
       "      <th>production_country</th>\n",
       "      <th>director</th>\n",
       "      <th>producer</th>\n",
       "      <th>age_restriction</th>\n",
       "      <th>refundable_support</th>\n",
       "      <th>nonrefundable_support</th>\n",
       "      <th>budget</th>\n",
       "      <th>financing_source</th>\n",
       "      <th>ratings</th>\n",
       "      <th>genres</th>\n",
       "    </tr>\n",
       "  </thead>\n",
       "  <tbody>\n",
       "    <tr>\n",
       "      <th>0</th>\n",
       "      <td>Открытый простор</td>\n",
       "      <td>221048915</td>\n",
       "      <td>2015-11-27T12:00:00.000Z</td>\n",
       "      <td>Художественный</td>\n",
       "      <td>Тачстоун Пикчерз, Кобальт Пикчерз, Бикон Пикче...</td>\n",
       "      <td>США</td>\n",
       "      <td>Кевин Костнер</td>\n",
       "      <td>Дэвид Валдес, Кевин Костнер, Джейк Эбертс</td>\n",
       "      <td>«18+» - запрещено для детей</td>\n",
       "      <td>NaN</td>\n",
       "      <td>NaN</td>\n",
       "      <td>NaN</td>\n",
       "      <td>NaN</td>\n",
       "      <td>7.2</td>\n",
       "      <td>боевик,драма,мелодрама</td>\n",
       "    </tr>\n",
       "    <tr>\n",
       "      <th>1</th>\n",
       "      <td>Особо важное задание</td>\n",
       "      <td>111013716</td>\n",
       "      <td>2016-09-13T12:00:00.000Z</td>\n",
       "      <td>Художественный</td>\n",
       "      <td>Киностудия \"Мосфильм\"</td>\n",
       "      <td>СССР</td>\n",
       "      <td>Е.Матвеев</td>\n",
       "      <td>NaN</td>\n",
       "      <td>«6+» - для детей старше 6 лет</td>\n",
       "      <td>NaN</td>\n",
       "      <td>NaN</td>\n",
       "      <td>NaN</td>\n",
       "      <td>NaN</td>\n",
       "      <td>6.6</td>\n",
       "      <td>драма,военный</td>\n",
       "    </tr>\n",
       "    <tr>\n",
       "      <th>2</th>\n",
       "      <td>Особо опасен</td>\n",
       "      <td>221038416</td>\n",
       "      <td>2016-10-10T12:00:00.000Z</td>\n",
       "      <td>Художественный</td>\n",
       "      <td>Юниверсал Пикчерз, Кикстарт Продакшнз, Марк Пл...</td>\n",
       "      <td>США</td>\n",
       "      <td>Тимур Бекмамбетов</td>\n",
       "      <td>Джим Лемли, Джейсон Нетер, Марк Е.Платт, Яйн Смит</td>\n",
       "      <td>«18+» - запрещено для детей</td>\n",
       "      <td>NaN</td>\n",
       "      <td>NaN</td>\n",
       "      <td>NaN</td>\n",
       "      <td>NaN</td>\n",
       "      <td>6.8</td>\n",
       "      <td>фантастика,боевик,триллер</td>\n",
       "    </tr>\n",
       "    <tr>\n",
       "      <th>3</th>\n",
       "      <td>Особо опасен</td>\n",
       "      <td>221026916</td>\n",
       "      <td>2016-06-10T12:00:00.000Z</td>\n",
       "      <td>Художественный</td>\n",
       "      <td>Юниверсал Пикчерз, Кикстарт Продакшнз, Марк Пл...</td>\n",
       "      <td>США</td>\n",
       "      <td>Тимур Бекмамбетов</td>\n",
       "      <td>Джим Лемли, Джейсон Нетер, Марк Е.Платт, Яйн Смит</td>\n",
       "      <td>«18+» - запрещено для детей</td>\n",
       "      <td>NaN</td>\n",
       "      <td>NaN</td>\n",
       "      <td>NaN</td>\n",
       "      <td>NaN</td>\n",
       "      <td>6.8</td>\n",
       "      <td>фантастика,боевик,триллер</td>\n",
       "    </tr>\n",
       "    <tr>\n",
       "      <th>4</th>\n",
       "      <td>Особо опасен</td>\n",
       "      <td>221030815</td>\n",
       "      <td>2015-07-29T12:00:00.000Z</td>\n",
       "      <td>Художественный</td>\n",
       "      <td>Юниверсал Пикчерз, Кикстарт Продакшнз, Марк Пл...</td>\n",
       "      <td>США</td>\n",
       "      <td>Тимур Бекмамбетов</td>\n",
       "      <td>Джим Лемли, Джейсон Нетер, Марк Е.Платт, Яйн Смит</td>\n",
       "      <td>«18+» - запрещено для детей</td>\n",
       "      <td>NaN</td>\n",
       "      <td>NaN</td>\n",
       "      <td>NaN</td>\n",
       "      <td>NaN</td>\n",
       "      <td>6.8</td>\n",
       "      <td>фантастика,боевик,триллер</td>\n",
       "    </tr>\n",
       "  </tbody>\n",
       "</table>\n",
       "</div>"
      ],
      "text/plain": [
       "                  title   puNumber           show_start_date            type  \\\n",
       "0      Открытый простор  221048915  2015-11-27T12:00:00.000Z  Художественный   \n",
       "1  Особо важное задание  111013716  2016-09-13T12:00:00.000Z  Художественный   \n",
       "2          Особо опасен  221038416  2016-10-10T12:00:00.000Z  Художественный   \n",
       "3          Особо опасен  221026916  2016-06-10T12:00:00.000Z  Художественный   \n",
       "4          Особо опасен  221030815  2015-07-29T12:00:00.000Z  Художественный   \n",
       "\n",
       "                                         film_studio production_country  \\\n",
       "0  Тачстоун Пикчерз, Кобальт Пикчерз, Бикон Пикче...                США   \n",
       "1                              Киностудия \"Мосфильм\"               СССР   \n",
       "2  Юниверсал Пикчерз, Кикстарт Продакшнз, Марк Пл...                США   \n",
       "3  Юниверсал Пикчерз, Кикстарт Продакшнз, Марк Пл...                США   \n",
       "4  Юниверсал Пикчерз, Кикстарт Продакшнз, Марк Пл...                США   \n",
       "\n",
       "            director                                           producer  \\\n",
       "0      Кевин Костнер          Дэвид Валдес, Кевин Костнер, Джейк Эбертс   \n",
       "1          Е.Матвеев                                                NaN   \n",
       "2  Тимур Бекмамбетов  Джим Лемли, Джейсон Нетер, Марк Е.Платт, Яйн Смит   \n",
       "3  Тимур Бекмамбетов  Джим Лемли, Джейсон Нетер, Марк Е.Платт, Яйн Смит   \n",
       "4  Тимур Бекмамбетов  Джим Лемли, Джейсон Нетер, Марк Е.Платт, Яйн Смит   \n",
       "\n",
       "                 age_restriction  refundable_support  nonrefundable_support  \\\n",
       "0    «18+» - запрещено для детей                 NaN                    NaN   \n",
       "1  «6+» - для детей старше 6 лет                 NaN                    NaN   \n",
       "2    «18+» - запрещено для детей                 NaN                    NaN   \n",
       "3    «18+» - запрещено для детей                 NaN                    NaN   \n",
       "4    «18+» - запрещено для детей                 NaN                    NaN   \n",
       "\n",
       "   budget financing_source ratings                     genres  \n",
       "0     NaN              NaN     7.2     боевик,драма,мелодрама  \n",
       "1     NaN              NaN     6.6              драма,военный  \n",
       "2     NaN              NaN     6.8  фантастика,боевик,триллер  \n",
       "3     NaN              NaN     6.8  фантастика,боевик,триллер  \n",
       "4     NaN              NaN     6.8  фантастика,боевик,триллер  "
      ]
     },
     "execution_count": 3,
     "metadata": {},
     "output_type": "execute_result"
    }
   ],
   "source": [
    "data1.head()"
   ]
  },
  {
   "cell_type": "code",
   "execution_count": 4,
   "metadata": {},
   "outputs": [
    {
     "name": "stdout",
     "output_type": "stream",
     "text": [
      "<class 'pandas.core.frame.DataFrame'>\n",
      "RangeIndex: 3158 entries, 0 to 3157\n",
      "Data columns (total 2 columns):\n",
      " #   Column      Non-Null Count  Dtype  \n",
      "---  ------      --------------  -----  \n",
      " 0   puNumber    3158 non-null   int64  \n",
      " 1   box_office  3158 non-null   float64\n",
      "dtypes: float64(1), int64(1)\n",
      "memory usage: 49.5 KB\n"
     ]
    }
   ],
   "source": [
    "data2 = pd.read_csv('/datasets/mkrf_shows.csv')\n",
    "data2.info()"
   ]
  },
  {
   "cell_type": "code",
   "execution_count": 5,
   "metadata": {},
   "outputs": [
    {
     "name": "stdout",
     "output_type": "stream",
     "text": [
      "<class 'pandas.core.frame.DataFrame'>\n",
      "RangeIndex: 3158 entries, 0 to 3157\n",
      "Data columns (total 2 columns):\n",
      " #   Column      Non-Null Count  Dtype  \n",
      "---  ------      --------------  -----  \n",
      " 0   puNumber    3158 non-null   object \n",
      " 1   box_office  3158 non-null   float64\n",
      "dtypes: float64(1), object(1)\n",
      "memory usage: 49.5+ KB\n"
     ]
    }
   ],
   "source": [
    "data2['puNumber'] = data2['puNumber'].astype('str')\n",
    "data2.info()"
   ]
  },
  {
   "cell_type": "code",
   "execution_count": 6,
   "metadata": {},
   "outputs": [
    {
     "data": {
      "text/html": [
       "<div>\n",
       "<style scoped>\n",
       "    .dataframe tbody tr th:only-of-type {\n",
       "        vertical-align: middle;\n",
       "    }\n",
       "\n",
       "    .dataframe tbody tr th {\n",
       "        vertical-align: top;\n",
       "    }\n",
       "\n",
       "    .dataframe thead th {\n",
       "        text-align: right;\n",
       "    }\n",
       "</style>\n",
       "<table border=\"1\" class=\"dataframe\">\n",
       "  <thead>\n",
       "    <tr style=\"text-align: right;\">\n",
       "      <th></th>\n",
       "      <th>puNumber</th>\n",
       "      <th>box_office</th>\n",
       "    </tr>\n",
       "  </thead>\n",
       "  <tbody>\n",
       "    <tr>\n",
       "      <th>0</th>\n",
       "      <td>111000113</td>\n",
       "      <td>2.450000e+03</td>\n",
       "    </tr>\n",
       "    <tr>\n",
       "      <th>1</th>\n",
       "      <td>111000115</td>\n",
       "      <td>6.104000e+04</td>\n",
       "    </tr>\n",
       "    <tr>\n",
       "      <th>2</th>\n",
       "      <td>111000116</td>\n",
       "      <td>1.530300e+08</td>\n",
       "    </tr>\n",
       "    <tr>\n",
       "      <th>3</th>\n",
       "      <td>111000117</td>\n",
       "      <td>1.226096e+07</td>\n",
       "    </tr>\n",
       "    <tr>\n",
       "      <th>4</th>\n",
       "      <td>111000118</td>\n",
       "      <td>1.636841e+08</td>\n",
       "    </tr>\n",
       "  </tbody>\n",
       "</table>\n",
       "</div>"
      ],
      "text/plain": [
       "    puNumber    box_office\n",
       "0  111000113  2.450000e+03\n",
       "1  111000115  6.104000e+04\n",
       "2  111000116  1.530300e+08\n",
       "3  111000117  1.226096e+07\n",
       "4  111000118  1.636841e+08"
      ]
     },
     "execution_count": 6,
     "metadata": {},
     "output_type": "execute_result"
    }
   ],
   "source": [
    "data2.head()"
   ]
  },
  {
   "cell_type": "code",
   "execution_count": 7,
   "metadata": {},
   "outputs": [],
   "source": [
    "pd.options.display.float_format = '{:20,.2f}'.format"
   ]
  },
  {
   "cell_type": "code",
   "execution_count": 8,
   "metadata": {},
   "outputs": [
    {
     "data": {
      "text/html": [
       "<div>\n",
       "<style scoped>\n",
       "    .dataframe tbody tr th:only-of-type {\n",
       "        vertical-align: middle;\n",
       "    }\n",
       "\n",
       "    .dataframe tbody tr th {\n",
       "        vertical-align: top;\n",
       "    }\n",
       "\n",
       "    .dataframe thead th {\n",
       "        text-align: right;\n",
       "    }\n",
       "</style>\n",
       "<table border=\"1\" class=\"dataframe\">\n",
       "  <thead>\n",
       "    <tr style=\"text-align: right;\">\n",
       "      <th></th>\n",
       "      <th>title</th>\n",
       "      <th>puNumber</th>\n",
       "      <th>show_start_date</th>\n",
       "      <th>type</th>\n",
       "      <th>film_studio</th>\n",
       "      <th>production_country</th>\n",
       "      <th>director</th>\n",
       "      <th>producer</th>\n",
       "      <th>age_restriction</th>\n",
       "      <th>refundable_support</th>\n",
       "      <th>nonrefundable_support</th>\n",
       "      <th>budget</th>\n",
       "      <th>financing_source</th>\n",
       "      <th>ratings</th>\n",
       "      <th>genres</th>\n",
       "      <th>box_office</th>\n",
       "    </tr>\n",
       "  </thead>\n",
       "  <tbody>\n",
       "    <tr>\n",
       "      <th>0</th>\n",
       "      <td>Открытый простор</td>\n",
       "      <td>221048915</td>\n",
       "      <td>2015-11-27T12:00:00.000Z</td>\n",
       "      <td>Художественный</td>\n",
       "      <td>Тачстоун Пикчерз, Кобальт Пикчерз, Бикон Пикче...</td>\n",
       "      <td>США</td>\n",
       "      <td>Кевин Костнер</td>\n",
       "      <td>Дэвид Валдес, Кевин Костнер, Джейк Эбертс</td>\n",
       "      <td>«18+» - запрещено для детей</td>\n",
       "      <td>NaN</td>\n",
       "      <td>NaN</td>\n",
       "      <td>NaN</td>\n",
       "      <td>NaN</td>\n",
       "      <td>7.2</td>\n",
       "      <td>боевик,драма,мелодрама</td>\n",
       "      <td>NaN</td>\n",
       "    </tr>\n",
       "    <tr>\n",
       "      <th>1</th>\n",
       "      <td>Особо важное задание</td>\n",
       "      <td>111013716</td>\n",
       "      <td>2016-09-13T12:00:00.000Z</td>\n",
       "      <td>Художественный</td>\n",
       "      <td>Киностудия \"Мосфильм\"</td>\n",
       "      <td>СССР</td>\n",
       "      <td>Е.Матвеев</td>\n",
       "      <td>NaN</td>\n",
       "      <td>«6+» - для детей старше 6 лет</td>\n",
       "      <td>NaN</td>\n",
       "      <td>NaN</td>\n",
       "      <td>NaN</td>\n",
       "      <td>NaN</td>\n",
       "      <td>6.6</td>\n",
       "      <td>драма,военный</td>\n",
       "      <td>NaN</td>\n",
       "    </tr>\n",
       "    <tr>\n",
       "      <th>2</th>\n",
       "      <td>Особо опасен</td>\n",
       "      <td>221038416</td>\n",
       "      <td>2016-10-10T12:00:00.000Z</td>\n",
       "      <td>Художественный</td>\n",
       "      <td>Юниверсал Пикчерз, Кикстарт Продакшнз, Марк Пл...</td>\n",
       "      <td>США</td>\n",
       "      <td>Тимур Бекмамбетов</td>\n",
       "      <td>Джим Лемли, Джейсон Нетер, Марк Е.Платт, Яйн Смит</td>\n",
       "      <td>«18+» - запрещено для детей</td>\n",
       "      <td>NaN</td>\n",
       "      <td>NaN</td>\n",
       "      <td>NaN</td>\n",
       "      <td>NaN</td>\n",
       "      <td>6.8</td>\n",
       "      <td>фантастика,боевик,триллер</td>\n",
       "      <td>NaN</td>\n",
       "    </tr>\n",
       "    <tr>\n",
       "      <th>3</th>\n",
       "      <td>Особо опасен</td>\n",
       "      <td>221026916</td>\n",
       "      <td>2016-06-10T12:00:00.000Z</td>\n",
       "      <td>Художественный</td>\n",
       "      <td>Юниверсал Пикчерз, Кикстарт Продакшнз, Марк Пл...</td>\n",
       "      <td>США</td>\n",
       "      <td>Тимур Бекмамбетов</td>\n",
       "      <td>Джим Лемли, Джейсон Нетер, Марк Е.Платт, Яйн Смит</td>\n",
       "      <td>«18+» - запрещено для детей</td>\n",
       "      <td>NaN</td>\n",
       "      <td>NaN</td>\n",
       "      <td>NaN</td>\n",
       "      <td>NaN</td>\n",
       "      <td>6.8</td>\n",
       "      <td>фантастика,боевик,триллер</td>\n",
       "      <td>NaN</td>\n",
       "    </tr>\n",
       "    <tr>\n",
       "      <th>4</th>\n",
       "      <td>Особо опасен</td>\n",
       "      <td>221030815</td>\n",
       "      <td>2015-07-29T12:00:00.000Z</td>\n",
       "      <td>Художественный</td>\n",
       "      <td>Юниверсал Пикчерз, Кикстарт Продакшнз, Марк Пл...</td>\n",
       "      <td>США</td>\n",
       "      <td>Тимур Бекмамбетов</td>\n",
       "      <td>Джим Лемли, Джейсон Нетер, Марк Е.Платт, Яйн Смит</td>\n",
       "      <td>«18+» - запрещено для детей</td>\n",
       "      <td>NaN</td>\n",
       "      <td>NaN</td>\n",
       "      <td>NaN</td>\n",
       "      <td>NaN</td>\n",
       "      <td>6.8</td>\n",
       "      <td>фантастика,боевик,триллер</td>\n",
       "      <td>NaN</td>\n",
       "    </tr>\n",
       "    <tr>\n",
       "      <th>5</th>\n",
       "      <td>Остановился поезд</td>\n",
       "      <td>111013816</td>\n",
       "      <td>2016-09-13T12:00:00.000Z</td>\n",
       "      <td>Художественный</td>\n",
       "      <td>Киностудия \"Мосфильм\"</td>\n",
       "      <td>СССР</td>\n",
       "      <td>В.Абдрашитов</td>\n",
       "      <td>NaN</td>\n",
       "      <td>«6+» - для детей старше 6 лет</td>\n",
       "      <td>NaN</td>\n",
       "      <td>NaN</td>\n",
       "      <td>NaN</td>\n",
       "      <td>NaN</td>\n",
       "      <td>7.7</td>\n",
       "      <td>драма</td>\n",
       "      <td>NaN</td>\n",
       "    </tr>\n",
       "    <tr>\n",
       "      <th>6</th>\n",
       "      <td>Любовь и голуби</td>\n",
       "      <td>111007013</td>\n",
       "      <td>2013-10-18T12:00:00.000Z</td>\n",
       "      <td>Художественный</td>\n",
       "      <td>Киностудия \"Мосфильм\"</td>\n",
       "      <td>СССР</td>\n",
       "      <td>В.Меньшов</td>\n",
       "      <td>NaN</td>\n",
       "      <td>«12+» - для детей старше 12 лет</td>\n",
       "      <td>NaN</td>\n",
       "      <td>NaN</td>\n",
       "      <td>NaN</td>\n",
       "      <td>NaN</td>\n",
       "      <td>8.3</td>\n",
       "      <td>мелодрама,комедия</td>\n",
       "      <td>2,700.00</td>\n",
       "    </tr>\n",
       "    <tr>\n",
       "      <th>7</th>\n",
       "      <td>Любовь и сигареты</td>\n",
       "      <td>221074614</td>\n",
       "      <td>2014-12-29T12:00:00.000Z</td>\n",
       "      <td>Художественный</td>\n",
       "      <td>Юнайтед Артистс, Грин Стрит Филмз, Айкон Интер...</td>\n",
       "      <td>США</td>\n",
       "      <td>Джон Туртурро</td>\n",
       "      <td>Джон Пенотти, Джон Туртурро</td>\n",
       "      <td>«18+» - запрещено для детей</td>\n",
       "      <td>NaN</td>\n",
       "      <td>NaN</td>\n",
       "      <td>NaN</td>\n",
       "      <td>NaN</td>\n",
       "      <td>6.6</td>\n",
       "      <td>мюзикл,мелодрама,комедия</td>\n",
       "      <td>NaN</td>\n",
       "    </tr>\n",
       "    <tr>\n",
       "      <th>8</th>\n",
       "      <td>Отпетые мошенники.</td>\n",
       "      <td>121011416</td>\n",
       "      <td>2016-05-05T12:00:00.000Z</td>\n",
       "      <td>Художественный</td>\n",
       "      <td>Пульсар Продюксьон, ТФ1 Фильм</td>\n",
       "      <td>Франция</td>\n",
       "      <td>Эрик Беснард</td>\n",
       "      <td>Патрис Леду</td>\n",
       "      <td>«18+» - запрещено для детей</td>\n",
       "      <td>NaN</td>\n",
       "      <td>NaN</td>\n",
       "      <td>NaN</td>\n",
       "      <td>NaN</td>\n",
       "      <td>8.0</td>\n",
       "      <td>комедия,криминал</td>\n",
       "      <td>NaN</td>\n",
       "    </tr>\n",
       "    <tr>\n",
       "      <th>9</th>\n",
       "      <td>Отпуск за свой счет</td>\n",
       "      <td>111019114</td>\n",
       "      <td>2014-12-01T12:00:00.000Z</td>\n",
       "      <td>Художественный</td>\n",
       "      <td>Киностудия \"Мосфильм\", Телевидение ВНР</td>\n",
       "      <td>СССР, Венгрия</td>\n",
       "      <td>В.Титов</td>\n",
       "      <td>NaN</td>\n",
       "      <td>«12+» - для детей старше 12 лет</td>\n",
       "      <td>NaN</td>\n",
       "      <td>NaN</td>\n",
       "      <td>NaN</td>\n",
       "      <td>NaN</td>\n",
       "      <td>7.8</td>\n",
       "      <td>мелодрама,комедия</td>\n",
       "      <td>NaN</td>\n",
       "    </tr>\n",
       "  </tbody>\n",
       "</table>\n",
       "</div>"
      ],
      "text/plain": [
       "                  title   puNumber           show_start_date            type  \\\n",
       "0      Открытый простор  221048915  2015-11-27T12:00:00.000Z  Художественный   \n",
       "1  Особо важное задание  111013716  2016-09-13T12:00:00.000Z  Художественный   \n",
       "2          Особо опасен  221038416  2016-10-10T12:00:00.000Z  Художественный   \n",
       "3          Особо опасен  221026916  2016-06-10T12:00:00.000Z  Художественный   \n",
       "4          Особо опасен  221030815  2015-07-29T12:00:00.000Z  Художественный   \n",
       "5     Остановился поезд  111013816  2016-09-13T12:00:00.000Z  Художественный   \n",
       "6       Любовь и голуби  111007013  2013-10-18T12:00:00.000Z  Художественный   \n",
       "7     Любовь и сигареты  221074614  2014-12-29T12:00:00.000Z  Художественный   \n",
       "8    Отпетые мошенники.  121011416  2016-05-05T12:00:00.000Z  Художественный   \n",
       "9   Отпуск за свой счет  111019114  2014-12-01T12:00:00.000Z  Художественный   \n",
       "\n",
       "                                         film_studio production_country  \\\n",
       "0  Тачстоун Пикчерз, Кобальт Пикчерз, Бикон Пикче...                США   \n",
       "1                              Киностудия \"Мосфильм\"               СССР   \n",
       "2  Юниверсал Пикчерз, Кикстарт Продакшнз, Марк Пл...                США   \n",
       "3  Юниверсал Пикчерз, Кикстарт Продакшнз, Марк Пл...                США   \n",
       "4  Юниверсал Пикчерз, Кикстарт Продакшнз, Марк Пл...                США   \n",
       "5                              Киностудия \"Мосфильм\"               СССР   \n",
       "6                              Киностудия \"Мосфильм\"               СССР   \n",
       "7  Юнайтед Артистс, Грин Стрит Филмз, Айкон Интер...                США   \n",
       "8                     Пульсар Продюксьон, ТФ1 Фильм             Франция   \n",
       "9             Киностудия \"Мосфильм\", Телевидение ВНР      СССР, Венгрия   \n",
       "\n",
       "            director                                           producer  \\\n",
       "0      Кевин Костнер          Дэвид Валдес, Кевин Костнер, Джейк Эбертс   \n",
       "1          Е.Матвеев                                                NaN   \n",
       "2  Тимур Бекмамбетов  Джим Лемли, Джейсон Нетер, Марк Е.Платт, Яйн Смит   \n",
       "3  Тимур Бекмамбетов  Джим Лемли, Джейсон Нетер, Марк Е.Платт, Яйн Смит   \n",
       "4  Тимур Бекмамбетов  Джим Лемли, Джейсон Нетер, Марк Е.Платт, Яйн Смит   \n",
       "5       В.Абдрашитов                                                NaN   \n",
       "6          В.Меньшов                                                NaN   \n",
       "7      Джон Туртурро                        Джон Пенотти, Джон Туртурро   \n",
       "8       Эрик Беснард                                        Патрис Леду   \n",
       "9            В.Титов                                                NaN   \n",
       "\n",
       "                   age_restriction  refundable_support  nonrefundable_support  \\\n",
       "0      «18+» - запрещено для детей                 NaN                    NaN   \n",
       "1    «6+» - для детей старше 6 лет                 NaN                    NaN   \n",
       "2      «18+» - запрещено для детей                 NaN                    NaN   \n",
       "3      «18+» - запрещено для детей                 NaN                    NaN   \n",
       "4      «18+» - запрещено для детей                 NaN                    NaN   \n",
       "5    «6+» - для детей старше 6 лет                 NaN                    NaN   \n",
       "6  «12+» - для детей старше 12 лет                 NaN                    NaN   \n",
       "7      «18+» - запрещено для детей                 NaN                    NaN   \n",
       "8      «18+» - запрещено для детей                 NaN                    NaN   \n",
       "9  «12+» - для детей старше 12 лет                 NaN                    NaN   \n",
       "\n",
       "   budget financing_source ratings                     genres  \\\n",
       "0     NaN              NaN     7.2     боевик,драма,мелодрама   \n",
       "1     NaN              NaN     6.6              драма,военный   \n",
       "2     NaN              NaN     6.8  фантастика,боевик,триллер   \n",
       "3     NaN              NaN     6.8  фантастика,боевик,триллер   \n",
       "4     NaN              NaN     6.8  фантастика,боевик,триллер   \n",
       "5     NaN              NaN     7.7                      драма   \n",
       "6     NaN              NaN     8.3          мелодрама,комедия   \n",
       "7     NaN              NaN     6.6   мюзикл,мелодрама,комедия   \n",
       "8     NaN              NaN     8.0           комедия,криминал   \n",
       "9     NaN              NaN     7.8          мелодрама,комедия   \n",
       "\n",
       "            box_office  \n",
       "0                  NaN  \n",
       "1                  NaN  \n",
       "2                  NaN  \n",
       "3                  NaN  \n",
       "4                  NaN  \n",
       "5                  NaN  \n",
       "6             2,700.00  \n",
       "7                  NaN  \n",
       "8                  NaN  \n",
       "9                  NaN  "
      ]
     },
     "execution_count": 8,
     "metadata": {},
     "output_type": "execute_result"
    }
   ],
   "source": [
    "data = data1.merge(data2, on='puNumber', how='outer')\n",
    "data.head(10)"
   ]
  },
  {
   "cell_type": "code",
   "execution_count": 9,
   "metadata": {},
   "outputs": [
    {
     "data": {
      "text/plain": [
       "7486"
      ]
     },
     "metadata": {},
     "output_type": "display_data"
    },
    {
     "data": {
      "text/plain": [
       "3158"
      ]
     },
     "metadata": {},
     "output_type": "display_data"
    },
    {
     "data": {
      "text/plain": [
       "7486"
      ]
     },
     "metadata": {},
     "output_type": "display_data"
    },
    {
     "data": {
      "text/html": [
       "<div>\n",
       "<style scoped>\n",
       "    .dataframe tbody tr th:only-of-type {\n",
       "        vertical-align: middle;\n",
       "    }\n",
       "\n",
       "    .dataframe tbody tr th {\n",
       "        vertical-align: top;\n",
       "    }\n",
       "\n",
       "    .dataframe thead th {\n",
       "        text-align: right;\n",
       "    }\n",
       "</style>\n",
       "<table border=\"1\" class=\"dataframe\">\n",
       "  <thead>\n",
       "    <tr style=\"text-align: right;\">\n",
       "      <th></th>\n",
       "      <th>title</th>\n",
       "      <th>puNumber</th>\n",
       "      <th>show_start_date</th>\n",
       "      <th>type</th>\n",
       "      <th>film_studio</th>\n",
       "      <th>production_country</th>\n",
       "      <th>director</th>\n",
       "      <th>producer</th>\n",
       "      <th>age_restriction</th>\n",
       "      <th>refundable_support</th>\n",
       "      <th>nonrefundable_support</th>\n",
       "      <th>budget</th>\n",
       "      <th>financing_source</th>\n",
       "      <th>ratings</th>\n",
       "      <th>genres</th>\n",
       "    </tr>\n",
       "  </thead>\n",
       "  <tbody>\n",
       "  </tbody>\n",
       "</table>\n",
       "</div>"
      ],
      "text/plain": [
       "Empty DataFrame\n",
       "Columns: [title, puNumber, show_start_date, type, film_studio, production_country, director, producer, age_restriction, refundable_support, nonrefundable_support, budget, financing_source, ratings, genres]\n",
       "Index: []"
      ]
     },
     "execution_count": 9,
     "metadata": {},
     "output_type": "execute_result"
    }
   ],
   "source": [
    "# Проверим, что все данные из датасета mkrf_movies вошли в получившийся датафрейм:\n",
    "display(data1.shape[0])\n",
    "display(data2.shape[0])\n",
    "display(data.shape[0])\n",
    "data1[~data1['puNumber'].isin(data['puNumber'].unique())]"
   ]
  },
  {
   "cell_type": "markdown",
   "metadata": {},
   "source": [
    "Описание данных  \n",
    "\n",
    "\n",
    "title — название фильма  \n",
    "puNumber — номер прокатного удостоверения  \n",
    "show_start_date — дата премьеры фильма  \n",
    "type — тип фильма  \n",
    "film_studio — студия-производитель  \n",
    "production_country — страна-производитель  \n",
    "director — режиссёр  \n",
    "producer — продюсер  \n",
    "age_restriction — возрастная категория  \n",
    "refundable_support — объём возвратных средств государственной поддержки  \n",
    "nonrefundable_support — объём невозвратных средств государственной поддержки  \n",
    "financing_source — источник государственного финансирования  \n",
    "budget — общий бюджет фильма  \n",
    "ratings — рейтинг фильма на КиноПоиске  \n",
    "genres — жанр фильма  \n",
    "puNumber — номер прокатного удостоверения  \n",
    "box_office — сборы в рублях"
   ]
  },
  {
   "cell_type": "markdown",
   "metadata": {},
   "source": [
    "Мы открыли предоставленные данные и объединили их в один датафрейм. Также мы сделали проверку, благодаря которой можно убедиться, что правильно выбран метод объединения, и что все строки из датафрейма mkrf_movies вошли в получившийся датафрейм."
   ]
  },
  {
   "cell_type": "markdown",
   "metadata": {
    "id": "KLDGpPG0gFyM"
   },
   "source": [
    "### Шаг 2. Предобработка данных"
   ]
  },
  {
   "cell_type": "markdown",
   "metadata": {
    "id": "ssWwKXsxgFyO"
   },
   "source": [
    "#### Шаг 2.1. Проверим типы данных\n",
    "\n",
    "- Проверим типы данных в датафрейме и преобразуем их там, где это необходимо."
   ]
  },
  {
   "cell_type": "code",
   "execution_count": 10,
   "metadata": {
    "id": "kVGSplJOgFyO"
   },
   "outputs": [
    {
     "name": "stdout",
     "output_type": "stream",
     "text": [
      "<class 'pandas.core.frame.DataFrame'>\n",
      "Int64Index: 7486 entries, 0 to 7485\n",
      "Data columns (total 16 columns):\n",
      " #   Column                 Non-Null Count  Dtype  \n",
      "---  ------                 --------------  -----  \n",
      " 0   title                  7486 non-null   object \n",
      " 1   puNumber               7486 non-null   object \n",
      " 2   show_start_date        7486 non-null   object \n",
      " 3   type                   7486 non-null   object \n",
      " 4   film_studio            7468 non-null   object \n",
      " 5   production_country     7484 non-null   object \n",
      " 6   director               7477 non-null   object \n",
      " 7   producer               6918 non-null   object \n",
      " 8   age_restriction        7486 non-null   object \n",
      " 9   refundable_support     332 non-null    float64\n",
      " 10  nonrefundable_support  332 non-null    float64\n",
      " 11  budget                 332 non-null    float64\n",
      " 12  financing_source       332 non-null    object \n",
      " 13  ratings                6519 non-null   object \n",
      " 14  genres                 6510 non-null   object \n",
      " 15  box_office             3158 non-null   float64\n",
      "dtypes: float64(4), object(12)\n",
      "memory usage: 994.2+ KB\n"
     ]
    }
   ],
   "source": [
    "data.info()"
   ]
  },
  {
   "cell_type": "code",
   "execution_count": 11,
   "metadata": {},
   "outputs": [
    {
     "data": {
      "text/html": [
       "<div>\n",
       "<style scoped>\n",
       "    .dataframe tbody tr th:only-of-type {\n",
       "        vertical-align: middle;\n",
       "    }\n",
       "\n",
       "    .dataframe tbody tr th {\n",
       "        vertical-align: top;\n",
       "    }\n",
       "\n",
       "    .dataframe thead th {\n",
       "        text-align: right;\n",
       "    }\n",
       "</style>\n",
       "<table border=\"1\" class=\"dataframe\">\n",
       "  <thead>\n",
       "    <tr style=\"text-align: right;\">\n",
       "      <th></th>\n",
       "      <th>title</th>\n",
       "      <th>puNumber</th>\n",
       "      <th>show_start_date</th>\n",
       "      <th>type</th>\n",
       "      <th>film_studio</th>\n",
       "      <th>production_country</th>\n",
       "      <th>director</th>\n",
       "      <th>producer</th>\n",
       "      <th>age_restriction</th>\n",
       "      <th>refundable_support</th>\n",
       "      <th>nonrefundable_support</th>\n",
       "      <th>budget</th>\n",
       "      <th>financing_source</th>\n",
       "      <th>ratings</th>\n",
       "      <th>genres</th>\n",
       "      <th>box_office</th>\n",
       "    </tr>\n",
       "  </thead>\n",
       "  <tbody>\n",
       "    <tr>\n",
       "      <th>7476</th>\n",
       "      <td>Я свободен</td>\n",
       "      <td>111023019</td>\n",
       "      <td>2019-12-26T12:00:00.000Z</td>\n",
       "      <td>Художественный</td>\n",
       "      <td>АО \"ТПО \"Киностудия им. М.Горького\"</td>\n",
       "      <td>Россия</td>\n",
       "      <td>И.Северов</td>\n",
       "      <td>С.Зернов</td>\n",
       "      <td>«12+» - для детей старше 12 лет</td>\n",
       "      <td>0.00</td>\n",
       "      <td>30,000,000.00</td>\n",
       "      <td>46,154,000.00</td>\n",
       "      <td>Министерство культуры</td>\n",
       "      <td>5.9</td>\n",
       "      <td>драма</td>\n",
       "      <td>NaN</td>\n",
       "    </tr>\n",
       "    <tr>\n",
       "      <th>7477</th>\n",
       "      <td>Тридцать</td>\n",
       "      <td>121038419</td>\n",
       "      <td>2019-12-26T12:00:00.000Z</td>\n",
       "      <td>Художественный</td>\n",
       "      <td>Демнехст ауф видео</td>\n",
       "      <td>Германия</td>\n",
       "      <td>Симона Костова</td>\n",
       "      <td>Джейлан Атаман-Джека</td>\n",
       "      <td>«16+» - для детей старше 16 лет</td>\n",
       "      <td>NaN</td>\n",
       "      <td>NaN</td>\n",
       "      <td>NaN</td>\n",
       "      <td>NaN</td>\n",
       "      <td>6.3</td>\n",
       "      <td>драма</td>\n",
       "      <td>NaN</td>\n",
       "    </tr>\n",
       "    <tr>\n",
       "      <th>7478</th>\n",
       "      <td>(Не)идеальный мужчина</td>\n",
       "      <td>111023119</td>\n",
       "      <td>2019-12-24T12:00:00.000Z</td>\n",
       "      <td>Художественный</td>\n",
       "      <td>ООО \"Нон-Стоп Продакшн\"</td>\n",
       "      <td>Россия</td>\n",
       "      <td>М.Бальчюнас (псевдоним М.Вайсберг)</td>\n",
       "      <td>С.Мелькумов, А.Роднянский, М.Вайсберг, Р.Минас...</td>\n",
       "      <td>«12+» - для детей старше 12 лет</td>\n",
       "      <td>40,000,000.00</td>\n",
       "      <td>60,000,000.00</td>\n",
       "      <td>150,147,502.00</td>\n",
       "      <td>Фонд кино</td>\n",
       "      <td>4.5</td>\n",
       "      <td>комедия,фантастика,мелодрама</td>\n",
       "      <td>NaN</td>\n",
       "    </tr>\n",
       "    <tr>\n",
       "      <th>7479</th>\n",
       "      <td>Эколав</td>\n",
       "      <td>111023219</td>\n",
       "      <td>2019-12-26T12:00:00.000Z</td>\n",
       "      <td>Художественный</td>\n",
       "      <td>ВГИК</td>\n",
       "      <td>Россия</td>\n",
       "      <td>Д.Григорьев</td>\n",
       "      <td>ВГИК</td>\n",
       "      <td>«18+» - запрещено для детей</td>\n",
       "      <td>NaN</td>\n",
       "      <td>NaN</td>\n",
       "      <td>NaN</td>\n",
       "      <td>NaN</td>\n",
       "      <td>NaN</td>\n",
       "      <td>NaN</td>\n",
       "      <td>NaN</td>\n",
       "    </tr>\n",
       "    <tr>\n",
       "      <th>7480</th>\n",
       "      <td>Акрам Хан: Родом из Карри Хауса</td>\n",
       "      <td>126007919</td>\n",
       "      <td>2019-12-23T12:00:00.000Z</td>\n",
       "      <td>Прочие</td>\n",
       "      <td>Свон Филмз</td>\n",
       "      <td>Великобритания</td>\n",
       "      <td>Ник Пойнц</td>\n",
       "      <td>Поппи Бегум, Ник Пойнц</td>\n",
       "      <td>«12+» - для детей старше 12 лет</td>\n",
       "      <td>NaN</td>\n",
       "      <td>NaN</td>\n",
       "      <td>NaN</td>\n",
       "      <td>NaN</td>\n",
       "      <td>NaN</td>\n",
       "      <td>NaN</td>\n",
       "      <td>219,569.00</td>\n",
       "    </tr>\n",
       "    <tr>\n",
       "      <th>7481</th>\n",
       "      <td>Сад художника: Американский импрессионизм</td>\n",
       "      <td>126008019</td>\n",
       "      <td>2019-12-23T12:00:00.000Z</td>\n",
       "      <td>Прочие</td>\n",
       "      <td>Севен Артс Продакшнз</td>\n",
       "      <td>Великобритания</td>\n",
       "      <td>Фил Грабски</td>\n",
       "      <td>Фил Грабски</td>\n",
       "      <td>«12+» - для детей старше 12 лет</td>\n",
       "      <td>NaN</td>\n",
       "      <td>NaN</td>\n",
       "      <td>NaN</td>\n",
       "      <td>NaN</td>\n",
       "      <td>NaN</td>\n",
       "      <td>NaN</td>\n",
       "      <td>NaN</td>\n",
       "    </tr>\n",
       "    <tr>\n",
       "      <th>7482</th>\n",
       "      <td>Звериная ярость</td>\n",
       "      <td>121037819</td>\n",
       "      <td>2019-12-24T12:00:00.000Z</td>\n",
       "      <td>Художественный</td>\n",
       "      <td>Дэниел Гродник Продакшнз, Вандерфилм Медиа Кор...</td>\n",
       "      <td>США</td>\n",
       "      <td>Ник Пауэлл</td>\n",
       "      <td>Джефф Боулер, Дэниэл Гродник, Луильо Руис, Брэ...</td>\n",
       "      <td>«16+» - для детей старше 16 лет</td>\n",
       "      <td>NaN</td>\n",
       "      <td>NaN</td>\n",
       "      <td>NaN</td>\n",
       "      <td>NaN</td>\n",
       "      <td>5.4</td>\n",
       "      <td>боевик,триллер</td>\n",
       "      <td>NaN</td>\n",
       "    </tr>\n",
       "    <tr>\n",
       "      <th>7483</th>\n",
       "      <td>Щенячий патруль: Скорей спешим на помощь!</td>\n",
       "      <td>124010819</td>\n",
       "      <td>2019-12-28T12:00:00.000Z</td>\n",
       "      <td>Художественный</td>\n",
       "      <td>Никелодеон Анимейшн Студиос, Спин Мастер</td>\n",
       "      <td>США - Канада</td>\n",
       "      <td>Чарльз Е.Бастьен</td>\n",
       "      <td>Дженнифер Додж</td>\n",
       "      <td>«0+» - для любой зрительской аудитории</td>\n",
       "      <td>NaN</td>\n",
       "      <td>NaN</td>\n",
       "      <td>NaN</td>\n",
       "      <td>NaN</td>\n",
       "      <td>NaN</td>\n",
       "      <td>NaN</td>\n",
       "      <td>NaN</td>\n",
       "    </tr>\n",
       "    <tr>\n",
       "      <th>7484</th>\n",
       "      <td>Машины песенки. Серия \"Испанские мотивы\"</td>\n",
       "      <td>124010619</td>\n",
       "      <td>2019-12-30T12:00:00.000Z</td>\n",
       "      <td>Анимационный</td>\n",
       "      <td>Анимаккорд Лтд., ООО Студия \"АНИМАККОРД\"</td>\n",
       "      <td>Республика Кипр, Россия</td>\n",
       "      <td>А.Беляев</td>\n",
       "      <td>Д.Ловейко</td>\n",
       "      <td>«0+» - для любой зрительской аудитории</td>\n",
       "      <td>NaN</td>\n",
       "      <td>NaN</td>\n",
       "      <td>NaN</td>\n",
       "      <td>NaN</td>\n",
       "      <td>NaN</td>\n",
       "      <td>NaN</td>\n",
       "      <td>NaN</td>\n",
       "    </tr>\n",
       "    <tr>\n",
       "      <th>7485</th>\n",
       "      <td>Машины песенки. Серия \"Когда цветут кактусы\"</td>\n",
       "      <td>124010719</td>\n",
       "      <td>2019-12-30T12:00:00.000Z</td>\n",
       "      <td>Анимационный</td>\n",
       "      <td>Анимаккорд Лтд., ООО Студия \"АНИМАККОРД\"</td>\n",
       "      <td>Республика Кипр, Россия</td>\n",
       "      <td>И.Трусов</td>\n",
       "      <td>Д.Ловейко</td>\n",
       "      <td>«0+» - для любой зрительской аудитории</td>\n",
       "      <td>NaN</td>\n",
       "      <td>NaN</td>\n",
       "      <td>NaN</td>\n",
       "      <td>NaN</td>\n",
       "      <td>6.3</td>\n",
       "      <td>комедия,вестерн</td>\n",
       "      <td>NaN</td>\n",
       "    </tr>\n",
       "  </tbody>\n",
       "</table>\n",
       "</div>"
      ],
      "text/plain": [
       "                                             title   puNumber  \\\n",
       "7476                                    Я свободен  111023019   \n",
       "7477                                      Тридцать  121038419   \n",
       "7478                         (Не)идеальный мужчина  111023119   \n",
       "7479                                        Эколав  111023219   \n",
       "7480               Акрам Хан: Родом из Карри Хауса  126007919   \n",
       "7481     Сад художника: Американский импрессионизм  126008019   \n",
       "7482                               Звериная ярость  121037819   \n",
       "7483     Щенячий патруль: Скорей спешим на помощь!  124010819   \n",
       "7484      Машины песенки. Серия \"Испанские мотивы\"  124010619   \n",
       "7485  Машины песенки. Серия \"Когда цветут кактусы\"  124010719   \n",
       "\n",
       "               show_start_date             type  \\\n",
       "7476  2019-12-26T12:00:00.000Z   Художественный   \n",
       "7477  2019-12-26T12:00:00.000Z   Художественный   \n",
       "7478  2019-12-24T12:00:00.000Z   Художественный   \n",
       "7479  2019-12-26T12:00:00.000Z   Художественный   \n",
       "7480  2019-12-23T12:00:00.000Z           Прочие   \n",
       "7481  2019-12-23T12:00:00.000Z           Прочие   \n",
       "7482  2019-12-24T12:00:00.000Z   Художественный   \n",
       "7483  2019-12-28T12:00:00.000Z   Художественный   \n",
       "7484  2019-12-30T12:00:00.000Z     Анимационный   \n",
       "7485  2019-12-30T12:00:00.000Z     Анимационный   \n",
       "\n",
       "                                            film_studio  \\\n",
       "7476                АО \"ТПО \"Киностудия им. М.Горького\"   \n",
       "7477                                 Демнехст ауф видео   \n",
       "7478                           ООО \"Нон-Стоп Продакшн\"    \n",
       "7479                                               ВГИК   \n",
       "7480                                         Свон Филмз   \n",
       "7481                               Севен Артс Продакшнз   \n",
       "7482  Дэниел Гродник Продакшнз, Вандерфилм Медиа Кор...   \n",
       "7483           Никелодеон Анимейшн Студиос, Спин Мастер   \n",
       "7484           Анимаккорд Лтд., ООО Студия \"АНИМАККОРД\"   \n",
       "7485           Анимаккорд Лтд., ООО Студия \"АНИМАККОРД\"   \n",
       "\n",
       "           production_country                            director  \\\n",
       "7476                   Россия                           И.Северов   \n",
       "7477                 Германия                      Симона Костова   \n",
       "7478                   Россия  М.Бальчюнас (псевдоним М.Вайсберг)   \n",
       "7479                   Россия                         Д.Григорьев   \n",
       "7480           Великобритания                           Ник Пойнц   \n",
       "7481           Великобритания                         Фил Грабски   \n",
       "7482                      США                          Ник Пауэлл   \n",
       "7483             США - Канада                    Чарльз Е.Бастьен   \n",
       "7484  Республика Кипр, Россия                            А.Беляев   \n",
       "7485  Республика Кипр, Россия                            И.Трусов   \n",
       "\n",
       "                                               producer  \\\n",
       "7476                                           С.Зернов   \n",
       "7477                               Джейлан Атаман-Джека   \n",
       "7478  С.Мелькумов, А.Роднянский, М.Вайсберг, Р.Минас...   \n",
       "7479                                               ВГИК   \n",
       "7480                             Поппи Бегум, Ник Пойнц   \n",
       "7481                                        Фил Грабски   \n",
       "7482  Джефф Боулер, Дэниэл Гродник, Луильо Руис, Брэ...   \n",
       "7483                                     Дженнифер Додж   \n",
       "7484                                          Д.Ловейко   \n",
       "7485                                          Д.Ловейко   \n",
       "\n",
       "                             age_restriction   refundable_support  \\\n",
       "7476         «12+» - для детей старше 12 лет                 0.00   \n",
       "7477         «16+» - для детей старше 16 лет                  NaN   \n",
       "7478         «12+» - для детей старше 12 лет        40,000,000.00   \n",
       "7479             «18+» - запрещено для детей                  NaN   \n",
       "7480         «12+» - для детей старше 12 лет                  NaN   \n",
       "7481         «12+» - для детей старше 12 лет                  NaN   \n",
       "7482         «16+» - для детей старше 16 лет                  NaN   \n",
       "7483  «0+» - для любой зрительской аудитории                  NaN   \n",
       "7484  «0+» - для любой зрительской аудитории                  NaN   \n",
       "7485  «0+» - для любой зрительской аудитории                  NaN   \n",
       "\n",
       "      nonrefundable_support               budget       financing_source  \\\n",
       "7476          30,000,000.00        46,154,000.00  Министерство культуры   \n",
       "7477                    NaN                  NaN                    NaN   \n",
       "7478          60,000,000.00       150,147,502.00              Фонд кино   \n",
       "7479                    NaN                  NaN                    NaN   \n",
       "7480                    NaN                  NaN                    NaN   \n",
       "7481                    NaN                  NaN                    NaN   \n",
       "7482                    NaN                  NaN                    NaN   \n",
       "7483                    NaN                  NaN                    NaN   \n",
       "7484                    NaN                  NaN                    NaN   \n",
       "7485                    NaN                  NaN                    NaN   \n",
       "\n",
       "     ratings                        genres           box_office  \n",
       "7476     5.9                         драма                  NaN  \n",
       "7477     6.3                         драма                  NaN  \n",
       "7478     4.5  комедия,фантастика,мелодрама                  NaN  \n",
       "7479     NaN                           NaN                  NaN  \n",
       "7480     NaN                           NaN           219,569.00  \n",
       "7481     NaN                           NaN                  NaN  \n",
       "7482     5.4                боевик,триллер                  NaN  \n",
       "7483     NaN                           NaN                  NaN  \n",
       "7484     NaN                           NaN                  NaN  \n",
       "7485     6.3               комедия,вестерн                  NaN  "
      ]
     },
     "execution_count": 11,
     "metadata": {},
     "output_type": "execute_result"
    }
   ],
   "source": [
    "data.tail(10)"
   ]
  },
  {
   "cell_type": "code",
   "execution_count": 12,
   "metadata": {},
   "outputs": [
    {
     "name": "stdout",
     "output_type": "stream",
     "text": [
      "<class 'pandas.core.frame.DataFrame'>\n",
      "Int64Index: 7486 entries, 0 to 7485\n",
      "Data columns (total 16 columns):\n",
      " #   Column                 Non-Null Count  Dtype  \n",
      "---  ------                 --------------  -----  \n",
      " 0   title                  7486 non-null   object \n",
      " 1   puNumber               7486 non-null   int64  \n",
      " 2   show_start_date        7486 non-null   object \n",
      " 3   type                   7486 non-null   object \n",
      " 4   film_studio            7468 non-null   object \n",
      " 5   production_country     7484 non-null   object \n",
      " 6   director               7477 non-null   object \n",
      " 7   producer               6918 non-null   object \n",
      " 8   age_restriction        7486 non-null   object \n",
      " 9   refundable_support     332 non-null    float64\n",
      " 10  nonrefundable_support  332 non-null    float64\n",
      " 11  budget                 332 non-null    float64\n",
      " 12  financing_source       332 non-null    object \n",
      " 13  ratings                6519 non-null   object \n",
      " 14  genres                 6510 non-null   object \n",
      " 15  box_office             3158 non-null   float64\n",
      "dtypes: float64(4), int64(1), object(11)\n",
      "memory usage: 994.2+ KB\n"
     ]
    }
   ],
   "source": [
    "data.loc[data['puNumber'] == 'нет', 'puNumber'] = 0\n",
    "data['puNumber'] = data['puNumber'].astype('int')\n",
    "data.info()"
   ]
  },
  {
   "cell_type": "code",
   "execution_count": 13,
   "metadata": {},
   "outputs": [
    {
     "name": "stdout",
     "output_type": "stream",
     "text": [
      "<class 'pandas.core.frame.DataFrame'>\n",
      "Int64Index: 7486 entries, 0 to 7485\n",
      "Data columns (total 16 columns):\n",
      " #   Column                 Non-Null Count  Dtype              \n",
      "---  ------                 --------------  -----              \n",
      " 0   title                  7486 non-null   object             \n",
      " 1   puNumber               7486 non-null   int64              \n",
      " 2   show_start_date        7486 non-null   datetime64[ns, UTC]\n",
      " 3   type                   7486 non-null   object             \n",
      " 4   film_studio            7468 non-null   object             \n",
      " 5   production_country     7484 non-null   object             \n",
      " 6   director               7477 non-null   object             \n",
      " 7   producer               6918 non-null   object             \n",
      " 8   age_restriction        7486 non-null   object             \n",
      " 9   refundable_support     332 non-null    float64            \n",
      " 10  nonrefundable_support  332 non-null    float64            \n",
      " 11  budget                 332 non-null    float64            \n",
      " 12  financing_source       332 non-null    object             \n",
      " 13  ratings                6519 non-null   object             \n",
      " 14  genres                 6510 non-null   object             \n",
      " 15  box_office             3158 non-null   float64            \n",
      "dtypes: datetime64[ns, UTC](1), float64(4), int64(1), object(10)\n",
      "memory usage: 994.2+ KB\n"
     ]
    }
   ],
   "source": [
    "data['show_start_date'] = pd.to_datetime(data['show_start_date'], format= '%Y-%m-%d %H:%M')\n",
    "data.info()"
   ]
  },
  {
   "cell_type": "code",
   "execution_count": 14,
   "metadata": {},
   "outputs": [
    {
     "data": {
      "text/plain": [
       "array(['1.0', '1.1', '1.2', '1.3', '1.4', '1.5', '1.6', '1.7', '1.8',\n",
       "       '1.9', '19%', '2.1', '2.4', '2.5', '2.6', '2.7', '2.8', '2.9',\n",
       "       '28%', '3.0', '3.1', '3.2', '3.3', '3.4', '3.5', '3.6', '3.7',\n",
       "       '3.8', '3.9', '4.0', '4.1', '4.2', '4.3', '4.4', '4.5', '4.6',\n",
       "       '4.7', '4.8', '4.9', '5.0', '5.1', '5.2', '5.3', '5.4', '5.5',\n",
       "       '5.6', '5.7', '5.8', '5.9', '6.0', '6.1', '6.2', '6.3', '6.4',\n",
       "       '6.5', '6.6', '6.7', '6.8', '6.9', '62%', '64%', '7.0', '7.1',\n",
       "       '7.2', '7.3', '7.4', '7.5', '7.6', '7.7', '7.8', '7.9', '79%',\n",
       "       '8.0', '8.1', '8.2', '8.3', '8.4', '8.5', '8.6', '8.7', '8.8',\n",
       "       '8.9', '83%', '88%', '89%', '9.0', '9.1', '9.2', '90%', '91%',\n",
       "       '94%', '97%', '98%', '99%', nan], dtype=object)"
      ]
     },
     "execution_count": 14,
     "metadata": {},
     "output_type": "execute_result"
    }
   ],
   "source": [
    "data['ratings'].sort_values().unique()"
   ]
  },
  {
   "cell_type": "code",
   "execution_count": 15,
   "metadata": {},
   "outputs": [
    {
     "data": {
      "text/plain": [
       "array([ 1. ,  1.1,  1.2,  1.3,  1.4,  1.5,  1.6,  1.7,  1.8,  1.9,  2.1,\n",
       "        2.4,  2.5,  2.6,  2.7,  2.8,  2.9,  3. ,  3.1,  3.2,  3.3,  3.4,\n",
       "        3.5,  3.6,  3.7,  3.8,  3.9,  4. ,  4.1,  4.2,  4.3,  4.4,  4.5,\n",
       "        4.6,  4.7,  4.8,  4.9,  5. ,  5.1,  5.2,  5.3,  5.4,  5.5,  5.6,\n",
       "        5.7,  5.8,  5.9,  6. ,  6.1,  6.2,  6.3,  6.4,  6.5,  6.6,  6.7,\n",
       "        6.8,  6.9,  7. ,  7.1,  7.2,  7.3,  7.4,  7.5,  7.6,  7.7,  7.8,\n",
       "        7.9,  8. ,  8.1,  8.2,  8.3,  8.4,  8.5,  8.6,  8.7,  8.8,  8.9,\n",
       "        9. ,  9.1,  9.2, 19. , 28. , 62. , 64. , 79. , 83. , 88. , 89. ,\n",
       "       90. , 91. , 94. , 97. , 98. , 99. ,  nan])"
      ]
     },
     "execution_count": 15,
     "metadata": {},
     "output_type": "execute_result"
    }
   ],
   "source": [
    "data['ratings'] = data['ratings'].str.strip('%').astype('float64')\n",
    "data['ratings'].sort_values().unique()"
   ]
  },
  {
   "cell_type": "code",
   "execution_count": 16,
   "metadata": {},
   "outputs": [
    {
     "data": {
      "text/plain": [
       "array([1. , 1.1, 1.2, 1.3, 1.4, 1.5, 1.6, 1.7, 1.8, 1.9, 2.1, 2.4, 2.5,\n",
       "       2.6, 2.7, 2.8, 2.9, 3. , 3.1, 3.2, 3.3, 3.4, 3.5, 3.6, 3.7, 3.8,\n",
       "       3.9, 4. , 4.1, 4.2, 4.3, 4.4, 4.5, 4.6, 4.7, 4.8, 4.9, 5. , 5.1,\n",
       "       5.2, 5.3, 5.4, 5.5, 5.6, 5.7, 5.8, 5.9, 6. , 6.1, 6.2, 6.3, 6.4,\n",
       "       6.5, 6.6, 6.7, 6.8, 6.9, 7. , 7.1, 7.2, 7.3, 7.4, 7.5, 7.6, 7.7,\n",
       "       7.8, 7.9, 8. , 8.1, 8.2, 8.3, 8.4, 8.5, 8.6, 8.7, 8.8, 8.9, 9. ,\n",
       "       9.1, 9.2, 9.4, 9.7, 9.8, 9.9, nan])"
      ]
     },
     "execution_count": 16,
     "metadata": {},
     "output_type": "execute_result"
    }
   ],
   "source": [
    "data.update(data[data['ratings'] >= 11]['ratings']/10)\n",
    "data['ratings'].sort_values().unique()"
   ]
  },
  {
   "cell_type": "markdown",
   "metadata": {},
   "source": [
    "В данных обнаружены неоптимальные типы:  \n",
    "- в столбце puNumber obj заменен на int  \n",
    "- в столбце show_start_time obj заменен на datetime  \n",
    "- в столбце ratings obj заменен на float"
   ]
  },
  {
   "cell_type": "markdown",
   "metadata": {
    "id": "i0MOLbF-gFyP"
   },
   "source": [
    "#### Шаг 2.2. Изучим пропуски в датафрейме\n",
    "\n",
    "- И объясним, почему заполнили пропуски определённым образом или почему не стали этого делать."
   ]
  },
  {
   "cell_type": "markdown",
   "metadata": {},
   "source": [
    "Сделаем контроль размера датасета до обработки пропусков:"
   ]
  },
  {
   "cell_type": "code",
   "execution_count": 17,
   "metadata": {},
   "outputs": [
    {
     "data": {
      "text/plain": [
       "7486"
      ]
     },
     "execution_count": 17,
     "metadata": {},
     "output_type": "execute_result"
    }
   ],
   "source": [
    "data_begin = data.shape[0]\n",
    "data_begin"
   ]
  },
  {
   "cell_type": "code",
   "execution_count": 18,
   "metadata": {
    "id": "8MJD_lkngFyP"
   },
   "outputs": [
    {
     "data": {
      "text/plain": [
       "title                       0\n",
       "puNumber                    0\n",
       "show_start_date             0\n",
       "type                        0\n",
       "film_studio                18\n",
       "production_country          2\n",
       "director                    9\n",
       "producer                  568\n",
       "age_restriction             0\n",
       "refundable_support       7154\n",
       "nonrefundable_support    7154\n",
       "budget                   7154\n",
       "financing_source         7154\n",
       "ratings                   967\n",
       "genres                    976\n",
       "box_office               4328\n",
       "dtype: int64"
      ]
     },
     "execution_count": 18,
     "metadata": {},
     "output_type": "execute_result"
    }
   ],
   "source": [
    "data.isna().sum()"
   ]
  },
  {
   "cell_type": "code",
   "execution_count": 19,
   "metadata": {},
   "outputs": [
    {
     "data": {
      "text/html": [
       "<div>\n",
       "<style scoped>\n",
       "    .dataframe tbody tr th:only-of-type {\n",
       "        vertical-align: middle;\n",
       "    }\n",
       "\n",
       "    .dataframe tbody tr th {\n",
       "        vertical-align: top;\n",
       "    }\n",
       "\n",
       "    .dataframe thead th {\n",
       "        text-align: right;\n",
       "    }\n",
       "</style>\n",
       "<table border=\"1\" class=\"dataframe\">\n",
       "  <thead>\n",
       "    <tr style=\"text-align: right;\">\n",
       "      <th></th>\n",
       "      <th>title</th>\n",
       "      <th>puNumber</th>\n",
       "      <th>show_start_date</th>\n",
       "      <th>type</th>\n",
       "      <th>film_studio</th>\n",
       "      <th>production_country</th>\n",
       "      <th>director</th>\n",
       "      <th>producer</th>\n",
       "      <th>age_restriction</th>\n",
       "      <th>refundable_support</th>\n",
       "      <th>nonrefundable_support</th>\n",
       "      <th>budget</th>\n",
       "      <th>financing_source</th>\n",
       "      <th>ratings</th>\n",
       "      <th>genres</th>\n",
       "      <th>box_office</th>\n",
       "    </tr>\n",
       "  </thead>\n",
       "  <tbody>\n",
       "    <tr>\n",
       "      <th>3186</th>\n",
       "      <td>Детский юмористический киножурнал \"Ералаш. Ну ...</td>\n",
       "      <td>111001216</td>\n",
       "      <td>2016-02-09 12:00:00+00:00</td>\n",
       "      <td>Художественный</td>\n",
       "      <td>ООО \"Продюсерский центр ЕРАЛАШ\"</td>\n",
       "      <td>NaN</td>\n",
       "      <td>Р.Светлов, И.Магитон, А.Арутюнян, Л.Мирский, А...</td>\n",
       "      <td>ООО \"Продюсерский центр ЕРАЛАШ\"</td>\n",
       "      <td>«0+» - для любой зрительской аудитории</td>\n",
       "      <td>NaN</td>\n",
       "      <td>NaN</td>\n",
       "      <td>NaN</td>\n",
       "      <td>NaN</td>\n",
       "      <td>7.20</td>\n",
       "      <td>детский,комедия</td>\n",
       "      <td>194,527.00</td>\n",
       "    </tr>\n",
       "    <tr>\n",
       "      <th>4441</th>\n",
       "      <td>Мульт личности. Выпуск 5</td>\n",
       "      <td>214000410</td>\n",
       "      <td>2010-01-25 12:00:00+00:00</td>\n",
       "      <td>Художественный</td>\n",
       "      <td>NaN</td>\n",
       "      <td>NaN</td>\n",
       "      <td>NaN</td>\n",
       "      <td>NaN</td>\n",
       "      <td>«0+» - для любой зрительской аудитории</td>\n",
       "      <td>NaN</td>\n",
       "      <td>NaN</td>\n",
       "      <td>NaN</td>\n",
       "      <td>NaN</td>\n",
       "      <td>4.00</td>\n",
       "      <td>мультфильм,комедия</td>\n",
       "      <td>NaN</td>\n",
       "    </tr>\n",
       "  </tbody>\n",
       "</table>\n",
       "</div>"
      ],
      "text/plain": [
       "                                                  title   puNumber  \\\n",
       "3186  Детский юмористический киножурнал \"Ералаш. Ну ...  111001216   \n",
       "4441                           Мульт личности. Выпуск 5  214000410   \n",
       "\n",
       "               show_start_date            type  \\\n",
       "3186 2016-02-09 12:00:00+00:00  Художественный   \n",
       "4441 2010-01-25 12:00:00+00:00  Художественный   \n",
       "\n",
       "                          film_studio production_country  \\\n",
       "3186  ООО \"Продюсерский центр ЕРАЛАШ\"                NaN   \n",
       "4441                              NaN                NaN   \n",
       "\n",
       "                                               director  \\\n",
       "3186  Р.Светлов, И.Магитон, А.Арутюнян, Л.Мирский, А...   \n",
       "4441                                                NaN   \n",
       "\n",
       "                             producer                         age_restriction  \\\n",
       "3186  ООО \"Продюсерский центр ЕРАЛАШ\"  «0+» - для любой зрительской аудитории   \n",
       "4441                              NaN  «0+» - для любой зрительской аудитории   \n",
       "\n",
       "      refundable_support  nonrefundable_support  budget financing_source  \\\n",
       "3186                 NaN                    NaN     NaN              NaN   \n",
       "4441                 NaN                    NaN     NaN              NaN   \n",
       "\n",
       "                  ratings              genres           box_office  \n",
       "3186                 7.20     детский,комедия           194,527.00  \n",
       "4441                 4.00  мультфильм,комедия                  NaN  "
      ]
     },
     "execution_count": 19,
     "metadata": {},
     "output_type": "execute_result"
    }
   ],
   "source": [
    "data.loc[data['production_country'].isnull()]"
   ]
  },
  {
   "cell_type": "code",
   "execution_count": 20,
   "metadata": {},
   "outputs": [
    {
     "data": {
      "text/plain": [
       "0"
      ]
     },
     "execution_count": 20,
     "metadata": {},
     "output_type": "execute_result"
    }
   ],
   "source": [
    "data['production_country'] = data['production_country'].fillna(value = 'Россия')\n",
    "data['production_country'].isna().sum()"
   ]
  },
  {
   "cell_type": "code",
   "execution_count": 21,
   "metadata": {},
   "outputs": [
    {
     "data": {
      "text/html": [
       "<div>\n",
       "<style scoped>\n",
       "    .dataframe tbody tr th:only-of-type {\n",
       "        vertical-align: middle;\n",
       "    }\n",
       "\n",
       "    .dataframe tbody tr th {\n",
       "        vertical-align: top;\n",
       "    }\n",
       "\n",
       "    .dataframe thead th {\n",
       "        text-align: right;\n",
       "    }\n",
       "</style>\n",
       "<table border=\"1\" class=\"dataframe\">\n",
       "  <thead>\n",
       "    <tr style=\"text-align: right;\">\n",
       "      <th></th>\n",
       "      <th>title</th>\n",
       "      <th>puNumber</th>\n",
       "      <th>show_start_date</th>\n",
       "      <th>type</th>\n",
       "      <th>film_studio</th>\n",
       "      <th>production_country</th>\n",
       "      <th>director</th>\n",
       "      <th>producer</th>\n",
       "      <th>age_restriction</th>\n",
       "      <th>refundable_support</th>\n",
       "      <th>nonrefundable_support</th>\n",
       "      <th>budget</th>\n",
       "      <th>financing_source</th>\n",
       "      <th>ratings</th>\n",
       "      <th>genres</th>\n",
       "      <th>box_office</th>\n",
       "    </tr>\n",
       "  </thead>\n",
       "  <tbody>\n",
       "    <tr>\n",
       "      <th>764</th>\n",
       "      <td>Три звезды. Концерт в Waldbuhne Theater, Берли...</td>\n",
       "      <td>126003512</td>\n",
       "      <td>2012-12-04 12:00:00+00:00</td>\n",
       "      <td>Прочие</td>\n",
       "      <td>Райзинг Алтернатив</td>\n",
       "      <td>Великобритания</td>\n",
       "      <td>NaN</td>\n",
       "      <td>Вальдбюне Театр</td>\n",
       "      <td>«0+» - для любой зрительской аудитории</td>\n",
       "      <td>NaN</td>\n",
       "      <td>NaN</td>\n",
       "      <td>NaN</td>\n",
       "      <td>NaN</td>\n",
       "      <td>NaN</td>\n",
       "      <td>NaN</td>\n",
       "      <td>44,350.00</td>\n",
       "    </tr>\n",
       "    <tr>\n",
       "      <th>1735</th>\n",
       "      <td>Помпеи. Британский музей</td>\n",
       "      <td>126003413</td>\n",
       "      <td>2013-09-11 12:00:00+00:00</td>\n",
       "      <td>Прочие</td>\n",
       "      <td>МортуСкрин, Британский музей</td>\n",
       "      <td>Великобритания</td>\n",
       "      <td>NaN</td>\n",
       "      <td>Британский музей</td>\n",
       "      <td>«0+» - для любой зрительской аудитории</td>\n",
       "      <td>NaN</td>\n",
       "      <td>NaN</td>\n",
       "      <td>NaN</td>\n",
       "      <td>NaN</td>\n",
       "      <td>NaN</td>\n",
       "      <td>NaN</td>\n",
       "      <td>NaN</td>\n",
       "    </tr>\n",
       "    <tr>\n",
       "      <th>3840</th>\n",
       "      <td>Зур концерт (Большой концерт).</td>\n",
       "      <td>217027010</td>\n",
       "      <td>2010-06-24 12:00:00+00:00</td>\n",
       "      <td>Художественный</td>\n",
       "      <td>ООО \"Барс Рекордс\"</td>\n",
       "      <td>Россия</td>\n",
       "      <td>NaN</td>\n",
       "      <td>NaN</td>\n",
       "      <td>«12+» - для детей старше 12 лет</td>\n",
       "      <td>NaN</td>\n",
       "      <td>NaN</td>\n",
       "      <td>NaN</td>\n",
       "      <td>NaN</td>\n",
       "      <td>NaN</td>\n",
       "      <td>NaN</td>\n",
       "      <td>NaN</td>\n",
       "    </tr>\n",
       "    <tr>\n",
       "      <th>4052</th>\n",
       "      <td>Ганс Сэйфуллин \"Авылым чишмэлэре. Ганс Сэйфулл...</td>\n",
       "      <td>217017310</td>\n",
       "      <td>2010-04-22 12:00:00+00:00</td>\n",
       "      <td>Художественный</td>\n",
       "      <td>ООО \"Барс-Рекордс\"</td>\n",
       "      <td>Россия</td>\n",
       "      <td>NaN</td>\n",
       "      <td>NaN</td>\n",
       "      <td>«0+» - для любой зрительской аудитории</td>\n",
       "      <td>NaN</td>\n",
       "      <td>NaN</td>\n",
       "      <td>NaN</td>\n",
       "      <td>NaN</td>\n",
       "      <td>NaN</td>\n",
       "      <td>NaN</td>\n",
       "      <td>NaN</td>\n",
       "    </tr>\n",
       "    <tr>\n",
       "      <th>4298</th>\n",
       "      <td>Изге Вэли (Святой Валентин)</td>\n",
       "      <td>217020610</td>\n",
       "      <td>2010-05-20 12:00:00+00:00</td>\n",
       "      <td>Художественный</td>\n",
       "      <td>ООО \"Барс Рекордс\"</td>\n",
       "      <td>Россия</td>\n",
       "      <td>NaN</td>\n",
       "      <td>NaN</td>\n",
       "      <td>«12+» - для детей старше 12 лет</td>\n",
       "      <td>NaN</td>\n",
       "      <td>NaN</td>\n",
       "      <td>NaN</td>\n",
       "      <td>NaN</td>\n",
       "      <td>NaN</td>\n",
       "      <td>NaN</td>\n",
       "      <td>NaN</td>\n",
       "    </tr>\n",
       "    <tr>\n",
       "      <th>4415</th>\n",
       "      <td>Bon Jovi. The Circle Tour</td>\n",
       "      <td>126001710</td>\n",
       "      <td>2010-11-11 12:00:00+00:00</td>\n",
       "      <td>Прочие</td>\n",
       "      <td>Эншутц Интертейнмент Груп</td>\n",
       "      <td>США</td>\n",
       "      <td>NaN</td>\n",
       "      <td>Эншутц Интертейнмент Груп</td>\n",
       "      <td>«0+» - для любой зрительской аудитории</td>\n",
       "      <td>NaN</td>\n",
       "      <td>NaN</td>\n",
       "      <td>NaN</td>\n",
       "      <td>NaN</td>\n",
       "      <td>7.90</td>\n",
       "      <td>концерт,музыка</td>\n",
       "      <td>NaN</td>\n",
       "    </tr>\n",
       "    <tr>\n",
       "      <th>4441</th>\n",
       "      <td>Мульт личности. Выпуск 5</td>\n",
       "      <td>214000410</td>\n",
       "      <td>2010-01-25 12:00:00+00:00</td>\n",
       "      <td>Художественный</td>\n",
       "      <td>NaN</td>\n",
       "      <td>Россия</td>\n",
       "      <td>NaN</td>\n",
       "      <td>NaN</td>\n",
       "      <td>«0+» - для любой зрительской аудитории</td>\n",
       "      <td>NaN</td>\n",
       "      <td>NaN</td>\n",
       "      <td>NaN</td>\n",
       "      <td>NaN</td>\n",
       "      <td>4.00</td>\n",
       "      <td>мультфильм,комедия</td>\n",
       "      <td>NaN</td>\n",
       "    </tr>\n",
       "    <tr>\n",
       "      <th>4923</th>\n",
       "      <td>Георг Фридрих Гендель. Мессия. Оратория. Корол...</td>\n",
       "      <td>126001111</td>\n",
       "      <td>2011-04-25 12:00:00+00:00</td>\n",
       "      <td>Прочие</td>\n",
       "      <td>Опус Арт</td>\n",
       "      <td>Великобритания</td>\n",
       "      <td>NaN</td>\n",
       "      <td>Короевский колледж Кембриджа</td>\n",
       "      <td>«0+» - для любой зрительской аудитории</td>\n",
       "      <td>NaN</td>\n",
       "      <td>NaN</td>\n",
       "      <td>NaN</td>\n",
       "      <td>NaN</td>\n",
       "      <td>NaN</td>\n",
       "      <td>NaN</td>\n",
       "      <td>NaN</td>\n",
       "    </tr>\n",
       "    <tr>\n",
       "      <th>4942</th>\n",
       "      <td>Питер Гэбриэл и New Blood Orchestra 3D</td>\n",
       "      <td>126002711</td>\n",
       "      <td>2011-11-11 12:00:00+00:00</td>\n",
       "      <td>Прочие</td>\n",
       "      <td>Омниверс Визион</td>\n",
       "      <td>Великобритания</td>\n",
       "      <td>NaN</td>\n",
       "      <td>Омниверс Визион</td>\n",
       "      <td>«0+» - для любой зрительской аудитории</td>\n",
       "      <td>NaN</td>\n",
       "      <td>NaN</td>\n",
       "      <td>NaN</td>\n",
       "      <td>NaN</td>\n",
       "      <td>6.70</td>\n",
       "      <td>концерт,музыка</td>\n",
       "      <td>NaN</td>\n",
       "    </tr>\n",
       "  </tbody>\n",
       "</table>\n",
       "</div>"
      ],
      "text/plain": [
       "                                                  title   puNumber  \\\n",
       "764   Три звезды. Концерт в Waldbuhne Theater, Берли...  126003512   \n",
       "1735                           Помпеи. Британский музей  126003413   \n",
       "3840                     Зур концерт (Большой концерт).  217027010   \n",
       "4052  Ганс Сэйфуллин \"Авылым чишмэлэре. Ганс Сэйфулл...  217017310   \n",
       "4298                        Изге Вэли (Святой Валентин)  217020610   \n",
       "4415                          Bon Jovi. The Circle Tour  126001710   \n",
       "4441                           Мульт личности. Выпуск 5  214000410   \n",
       "4923  Георг Фридрих Гендель. Мессия. Оратория. Корол...  126001111   \n",
       "4942             Питер Гэбриэл и New Blood Orchestra 3D  126002711   \n",
       "\n",
       "               show_start_date            type                   film_studio  \\\n",
       "764  2012-12-04 12:00:00+00:00          Прочие            Райзинг Алтернатив   \n",
       "1735 2013-09-11 12:00:00+00:00          Прочие  МортуСкрин, Британский музей   \n",
       "3840 2010-06-24 12:00:00+00:00  Художественный            ООО \"Барс Рекордс\"   \n",
       "4052 2010-04-22 12:00:00+00:00  Художественный            ООО \"Барс-Рекордс\"   \n",
       "4298 2010-05-20 12:00:00+00:00  Художественный            ООО \"Барс Рекордс\"   \n",
       "4415 2010-11-11 12:00:00+00:00          Прочие     Эншутц Интертейнмент Груп   \n",
       "4441 2010-01-25 12:00:00+00:00  Художественный                           NaN   \n",
       "4923 2011-04-25 12:00:00+00:00          Прочие                      Опус Арт   \n",
       "4942 2011-11-11 12:00:00+00:00          Прочие               Омниверс Визион   \n",
       "\n",
       "     production_country director                      producer  \\\n",
       "764      Великобритания      NaN               Вальдбюне Театр   \n",
       "1735     Великобритания      NaN              Британский музей   \n",
       "3840             Россия      NaN                           NaN   \n",
       "4052             Россия      NaN                           NaN   \n",
       "4298             Россия      NaN                           NaN   \n",
       "4415                США      NaN     Эншутц Интертейнмент Груп   \n",
       "4441             Россия      NaN                           NaN   \n",
       "4923     Великобритания      NaN  Короевский колледж Кембриджа   \n",
       "4942     Великобритания      NaN               Омниверс Визион   \n",
       "\n",
       "                             age_restriction  refundable_support  \\\n",
       "764   «0+» - для любой зрительской аудитории                 NaN   \n",
       "1735  «0+» - для любой зрительской аудитории                 NaN   \n",
       "3840         «12+» - для детей старше 12 лет                 NaN   \n",
       "4052  «0+» - для любой зрительской аудитории                 NaN   \n",
       "4298         «12+» - для детей старше 12 лет                 NaN   \n",
       "4415  «0+» - для любой зрительской аудитории                 NaN   \n",
       "4441  «0+» - для любой зрительской аудитории                 NaN   \n",
       "4923  «0+» - для любой зрительской аудитории                 NaN   \n",
       "4942  «0+» - для любой зрительской аудитории                 NaN   \n",
       "\n",
       "      nonrefundable_support  budget financing_source              ratings  \\\n",
       "764                     NaN     NaN              NaN                  NaN   \n",
       "1735                    NaN     NaN              NaN                  NaN   \n",
       "3840                    NaN     NaN              NaN                  NaN   \n",
       "4052                    NaN     NaN              NaN                  NaN   \n",
       "4298                    NaN     NaN              NaN                  NaN   \n",
       "4415                    NaN     NaN              NaN                 7.90   \n",
       "4441                    NaN     NaN              NaN                 4.00   \n",
       "4923                    NaN     NaN              NaN                  NaN   \n",
       "4942                    NaN     NaN              NaN                 6.70   \n",
       "\n",
       "                  genres           box_office  \n",
       "764                  NaN            44,350.00  \n",
       "1735                 NaN                  NaN  \n",
       "3840                 NaN                  NaN  \n",
       "4052                 NaN                  NaN  \n",
       "4298                 NaN                  NaN  \n",
       "4415      концерт,музыка                  NaN  \n",
       "4441  мультфильм,комедия                  NaN  \n",
       "4923                 NaN                  NaN  \n",
       "4942      концерт,музыка                  NaN  "
      ]
     },
     "execution_count": 21,
     "metadata": {},
     "output_type": "execute_result"
    }
   ],
   "source": [
    "data.loc[data['director'].isnull()]"
   ]
  },
  {
   "cell_type": "code",
   "execution_count": 22,
   "metadata": {},
   "outputs": [
    {
     "data": {
      "text/plain": [
       "0"
      ]
     },
     "execution_count": 22,
     "metadata": {},
     "output_type": "execute_result"
    }
   ],
   "source": [
    "data['director'] = data['director'].fillna(value = '')\n",
    "data['director'].isna().sum()"
   ]
  },
  {
   "cell_type": "code",
   "execution_count": 23,
   "metadata": {},
   "outputs": [
    {
     "data": {
      "text/html": [
       "<div>\n",
       "<style scoped>\n",
       "    .dataframe tbody tr th:only-of-type {\n",
       "        vertical-align: middle;\n",
       "    }\n",
       "\n",
       "    .dataframe tbody tr th {\n",
       "        vertical-align: top;\n",
       "    }\n",
       "\n",
       "    .dataframe thead th {\n",
       "        text-align: right;\n",
       "    }\n",
       "</style>\n",
       "<table border=\"1\" class=\"dataframe\">\n",
       "  <thead>\n",
       "    <tr style=\"text-align: right;\">\n",
       "      <th></th>\n",
       "      <th>title</th>\n",
       "      <th>puNumber</th>\n",
       "      <th>show_start_date</th>\n",
       "      <th>type</th>\n",
       "      <th>film_studio</th>\n",
       "      <th>production_country</th>\n",
       "      <th>director</th>\n",
       "      <th>producer</th>\n",
       "      <th>age_restriction</th>\n",
       "      <th>refundable_support</th>\n",
       "      <th>nonrefundable_support</th>\n",
       "      <th>budget</th>\n",
       "      <th>financing_source</th>\n",
       "      <th>ratings</th>\n",
       "      <th>genres</th>\n",
       "      <th>box_office</th>\n",
       "    </tr>\n",
       "  </thead>\n",
       "  <tbody>\n",
       "    <tr>\n",
       "      <th>1</th>\n",
       "      <td>Особо важное задание</td>\n",
       "      <td>111013716</td>\n",
       "      <td>2016-09-13 12:00:00+00:00</td>\n",
       "      <td>Художественный</td>\n",
       "      <td>Киностудия \"Мосфильм\"</td>\n",
       "      <td>СССР</td>\n",
       "      <td>Е.Матвеев</td>\n",
       "      <td>NaN</td>\n",
       "      <td>«6+» - для детей старше 6 лет</td>\n",
       "      <td>NaN</td>\n",
       "      <td>NaN</td>\n",
       "      <td>NaN</td>\n",
       "      <td>NaN</td>\n",
       "      <td>6.60</td>\n",
       "      <td>драма,военный</td>\n",
       "      <td>NaN</td>\n",
       "    </tr>\n",
       "    <tr>\n",
       "      <th>5</th>\n",
       "      <td>Остановился поезд</td>\n",
       "      <td>111013816</td>\n",
       "      <td>2016-09-13 12:00:00+00:00</td>\n",
       "      <td>Художественный</td>\n",
       "      <td>Киностудия \"Мосфильм\"</td>\n",
       "      <td>СССР</td>\n",
       "      <td>В.Абдрашитов</td>\n",
       "      <td>NaN</td>\n",
       "      <td>«6+» - для детей старше 6 лет</td>\n",
       "      <td>NaN</td>\n",
       "      <td>NaN</td>\n",
       "      <td>NaN</td>\n",
       "      <td>NaN</td>\n",
       "      <td>7.70</td>\n",
       "      <td>драма</td>\n",
       "      <td>NaN</td>\n",
       "    </tr>\n",
       "    <tr>\n",
       "      <th>6</th>\n",
       "      <td>Любовь и голуби</td>\n",
       "      <td>111007013</td>\n",
       "      <td>2013-10-18 12:00:00+00:00</td>\n",
       "      <td>Художественный</td>\n",
       "      <td>Киностудия \"Мосфильм\"</td>\n",
       "      <td>СССР</td>\n",
       "      <td>В.Меньшов</td>\n",
       "      <td>NaN</td>\n",
       "      <td>«12+» - для детей старше 12 лет</td>\n",
       "      <td>NaN</td>\n",
       "      <td>NaN</td>\n",
       "      <td>NaN</td>\n",
       "      <td>NaN</td>\n",
       "      <td>8.30</td>\n",
       "      <td>мелодрама,комедия</td>\n",
       "      <td>2,700.00</td>\n",
       "    </tr>\n",
       "    <tr>\n",
       "      <th>9</th>\n",
       "      <td>Отпуск за свой счет</td>\n",
       "      <td>111019114</td>\n",
       "      <td>2014-12-01 12:00:00+00:00</td>\n",
       "      <td>Художественный</td>\n",
       "      <td>Киностудия \"Мосфильм\", Телевидение ВНР</td>\n",
       "      <td>СССР, Венгрия</td>\n",
       "      <td>В.Титов</td>\n",
       "      <td>NaN</td>\n",
       "      <td>«12+» - для детей старше 12 лет</td>\n",
       "      <td>NaN</td>\n",
       "      <td>NaN</td>\n",
       "      <td>NaN</td>\n",
       "      <td>NaN</td>\n",
       "      <td>7.80</td>\n",
       "      <td>мелодрама,комедия</td>\n",
       "      <td>NaN</td>\n",
       "    </tr>\n",
       "    <tr>\n",
       "      <th>11</th>\n",
       "      <td>Ответный ход</td>\n",
       "      <td>111019014</td>\n",
       "      <td>2014-12-01 12:00:00+00:00</td>\n",
       "      <td>Художественный</td>\n",
       "      <td>Киностудия \"Мосфильм\"</td>\n",
       "      <td>СССР</td>\n",
       "      <td>М.Туманишвили</td>\n",
       "      <td>NaN</td>\n",
       "      <td>«12+» - для детей старше 12 лет</td>\n",
       "      <td>NaN</td>\n",
       "      <td>NaN</td>\n",
       "      <td>NaN</td>\n",
       "      <td>NaN</td>\n",
       "      <td>7.80</td>\n",
       "      <td>боевик,драма,приключения</td>\n",
       "      <td>NaN</td>\n",
       "    </tr>\n",
       "    <tr>\n",
       "      <th>...</th>\n",
       "      <td>...</td>\n",
       "      <td>...</td>\n",
       "      <td>...</td>\n",
       "      <td>...</td>\n",
       "      <td>...</td>\n",
       "      <td>...</td>\n",
       "      <td>...</td>\n",
       "      <td>...</td>\n",
       "      <td>...</td>\n",
       "      <td>...</td>\n",
       "      <td>...</td>\n",
       "      <td>...</td>\n",
       "      <td>...</td>\n",
       "      <td>...</td>\n",
       "      <td>...</td>\n",
       "      <td>...</td>\n",
       "    </tr>\n",
       "    <tr>\n",
       "      <th>7405</th>\n",
       "      <td>Отряд специального назначения</td>\n",
       "      <td>111020419</td>\n",
       "      <td>2019-12-01 12:00:00+00:00</td>\n",
       "      <td>Художественный</td>\n",
       "      <td>Свердловская киностудия</td>\n",
       "      <td>СССР</td>\n",
       "      <td>Г.Кузнецов</td>\n",
       "      <td>NaN</td>\n",
       "      <td>«6+» - для детей старше 6 лет</td>\n",
       "      <td>NaN</td>\n",
       "      <td>NaN</td>\n",
       "      <td>NaN</td>\n",
       "      <td>NaN</td>\n",
       "      <td>7.00</td>\n",
       "      <td>приключения,военный</td>\n",
       "      <td>NaN</td>\n",
       "    </tr>\n",
       "    <tr>\n",
       "      <th>7406</th>\n",
       "      <td>Назначаешься внучкой</td>\n",
       "      <td>111020519</td>\n",
       "      <td>2019-12-01 12:00:00+00:00</td>\n",
       "      <td>Художественный</td>\n",
       "      <td>Свердловская киностудия</td>\n",
       "      <td>СССР</td>\n",
       "      <td>Я.Лапшин</td>\n",
       "      <td>NaN</td>\n",
       "      <td>«12+» - для детей старше 12 лет</td>\n",
       "      <td>NaN</td>\n",
       "      <td>NaN</td>\n",
       "      <td>NaN</td>\n",
       "      <td>NaN</td>\n",
       "      <td>7.00</td>\n",
       "      <td>военный</td>\n",
       "      <td>NaN</td>\n",
       "    </tr>\n",
       "    <tr>\n",
       "      <th>7407</th>\n",
       "      <td>Перед рассветом</td>\n",
       "      <td>111020619</td>\n",
       "      <td>2019-12-01 12:00:00+00:00</td>\n",
       "      <td>Художественный</td>\n",
       "      <td>Свердловская киностудия</td>\n",
       "      <td>СССР</td>\n",
       "      <td>Я.Лапшин</td>\n",
       "      <td>NaN</td>\n",
       "      <td>«16+» - для детей старше 16 лет</td>\n",
       "      <td>NaN</td>\n",
       "      <td>NaN</td>\n",
       "      <td>NaN</td>\n",
       "      <td>NaN</td>\n",
       "      <td>7.90</td>\n",
       "      <td>драма,мелодрама</td>\n",
       "      <td>NaN</td>\n",
       "    </tr>\n",
       "    <tr>\n",
       "      <th>7408</th>\n",
       "      <td>Ты помнишь</td>\n",
       "      <td>111020719</td>\n",
       "      <td>2019-12-01 12:00:00+00:00</td>\n",
       "      <td>Художественный</td>\n",
       "      <td>Свердловская киностудия</td>\n",
       "      <td>СССР</td>\n",
       "      <td>О.Николаевский</td>\n",
       "      <td>NaN</td>\n",
       "      <td>«12+» - для детей старше 12 лет</td>\n",
       "      <td>NaN</td>\n",
       "      <td>NaN</td>\n",
       "      <td>NaN</td>\n",
       "      <td>NaN</td>\n",
       "      <td>7.00</td>\n",
       "      <td>драма,мелодрама,военный</td>\n",
       "      <td>NaN</td>\n",
       "    </tr>\n",
       "    <tr>\n",
       "      <th>7409</th>\n",
       "      <td>Здесь твой фронт</td>\n",
       "      <td>111020819</td>\n",
       "      <td>2019-12-01 12:00:00+00:00</td>\n",
       "      <td>Художественный</td>\n",
       "      <td>Свердловская киностудия</td>\n",
       "      <td>СССР</td>\n",
       "      <td>Э.Гаврилов</td>\n",
       "      <td>NaN</td>\n",
       "      <td>«16+» - для детей старше 16 лет</td>\n",
       "      <td>NaN</td>\n",
       "      <td>NaN</td>\n",
       "      <td>NaN</td>\n",
       "      <td>NaN</td>\n",
       "      <td>5.80</td>\n",
       "      <td>драма,военный</td>\n",
       "      <td>NaN</td>\n",
       "    </tr>\n",
       "  </tbody>\n",
       "</table>\n",
       "<p>568 rows × 16 columns</p>\n",
       "</div>"
      ],
      "text/plain": [
       "                              title   puNumber           show_start_date  \\\n",
       "1              Особо важное задание  111013716 2016-09-13 12:00:00+00:00   \n",
       "5                 Остановился поезд  111013816 2016-09-13 12:00:00+00:00   \n",
       "6                   Любовь и голуби  111007013 2013-10-18 12:00:00+00:00   \n",
       "9               Отпуск за свой счет  111019114 2014-12-01 12:00:00+00:00   \n",
       "11                     Ответный ход  111019014 2014-12-01 12:00:00+00:00   \n",
       "...                             ...        ...                       ...   \n",
       "7405  Отряд специального назначения  111020419 2019-12-01 12:00:00+00:00   \n",
       "7406           Назначаешься внучкой  111020519 2019-12-01 12:00:00+00:00   \n",
       "7407                Перед рассветом  111020619 2019-12-01 12:00:00+00:00   \n",
       "7408                     Ты помнишь  111020719 2019-12-01 12:00:00+00:00   \n",
       "7409               Здесь твой фронт  111020819 2019-12-01 12:00:00+00:00   \n",
       "\n",
       "                 type                             film_studio  \\\n",
       "1      Художественный                   Киностудия \"Мосфильм\"   \n",
       "5      Художественный                   Киностудия \"Мосфильм\"   \n",
       "6      Художественный                   Киностудия \"Мосфильм\"   \n",
       "9      Художественный  Киностудия \"Мосфильм\", Телевидение ВНР   \n",
       "11     Художественный                   Киностудия \"Мосфильм\"   \n",
       "...               ...                                     ...   \n",
       "7405   Художественный                 Свердловская киностудия   \n",
       "7406   Художественный                 Свердловская киностудия   \n",
       "7407   Художественный                 Свердловская киностудия   \n",
       "7408   Художественный                 Свердловская киностудия   \n",
       "7409   Художественный                 Свердловская киностудия   \n",
       "\n",
       "     production_country        director producer  \\\n",
       "1                  СССР       Е.Матвеев      NaN   \n",
       "5                  СССР    В.Абдрашитов      NaN   \n",
       "6                  СССР       В.Меньшов      NaN   \n",
       "9         СССР, Венгрия         В.Титов      NaN   \n",
       "11                 СССР   М.Туманишвили      NaN   \n",
       "...                 ...             ...      ...   \n",
       "7405               СССР      Г.Кузнецов      NaN   \n",
       "7406               СССР        Я.Лапшин      NaN   \n",
       "7407               СССР        Я.Лапшин      NaN   \n",
       "7408               СССР  О.Николаевский      NaN   \n",
       "7409               СССР      Э.Гаврилов      NaN   \n",
       "\n",
       "                      age_restriction  refundable_support  \\\n",
       "1       «6+» - для детей старше 6 лет                 NaN   \n",
       "5       «6+» - для детей старше 6 лет                 NaN   \n",
       "6     «12+» - для детей старше 12 лет                 NaN   \n",
       "9     «12+» - для детей старше 12 лет                 NaN   \n",
       "11    «12+» - для детей старше 12 лет                 NaN   \n",
       "...                               ...                 ...   \n",
       "7405    «6+» - для детей старше 6 лет                 NaN   \n",
       "7406  «12+» - для детей старше 12 лет                 NaN   \n",
       "7407  «16+» - для детей старше 16 лет                 NaN   \n",
       "7408  «12+» - для детей старше 12 лет                 NaN   \n",
       "7409  «16+» - для детей старше 16 лет                 NaN   \n",
       "\n",
       "      nonrefundable_support  budget financing_source              ratings  \\\n",
       "1                       NaN     NaN              NaN                 6.60   \n",
       "5                       NaN     NaN              NaN                 7.70   \n",
       "6                       NaN     NaN              NaN                 8.30   \n",
       "9                       NaN     NaN              NaN                 7.80   \n",
       "11                      NaN     NaN              NaN                 7.80   \n",
       "...                     ...     ...              ...                  ...   \n",
       "7405                    NaN     NaN              NaN                 7.00   \n",
       "7406                    NaN     NaN              NaN                 7.00   \n",
       "7407                    NaN     NaN              NaN                 7.90   \n",
       "7408                    NaN     NaN              NaN                 7.00   \n",
       "7409                    NaN     NaN              NaN                 5.80   \n",
       "\n",
       "                        genres           box_office  \n",
       "1                драма,военный                  NaN  \n",
       "5                        драма                  NaN  \n",
       "6            мелодрама,комедия             2,700.00  \n",
       "9            мелодрама,комедия                  NaN  \n",
       "11    боевик,драма,приключения                  NaN  \n",
       "...                        ...                  ...  \n",
       "7405       приключения,военный                  NaN  \n",
       "7406                   военный                  NaN  \n",
       "7407           драма,мелодрама                  NaN  \n",
       "7408   драма,мелодрама,военный                  NaN  \n",
       "7409             драма,военный                  NaN  \n",
       "\n",
       "[568 rows x 16 columns]"
      ]
     },
     "execution_count": 23,
     "metadata": {},
     "output_type": "execute_result"
    }
   ],
   "source": [
    "data.loc[data['producer'].isnull()]"
   ]
  },
  {
   "cell_type": "code",
   "execution_count": 24,
   "metadata": {},
   "outputs": [
    {
     "data": {
      "text/html": [
       "<div>\n",
       "<style scoped>\n",
       "    .dataframe tbody tr th:only-of-type {\n",
       "        vertical-align: middle;\n",
       "    }\n",
       "\n",
       "    .dataframe tbody tr th {\n",
       "        vertical-align: top;\n",
       "    }\n",
       "\n",
       "    .dataframe thead th {\n",
       "        text-align: right;\n",
       "    }\n",
       "</style>\n",
       "<table border=\"1\" class=\"dataframe\">\n",
       "  <thead>\n",
       "    <tr style=\"text-align: right;\">\n",
       "      <th></th>\n",
       "      <th>title</th>\n",
       "      <th>puNumber</th>\n",
       "      <th>show_start_date</th>\n",
       "      <th>type</th>\n",
       "      <th>film_studio</th>\n",
       "      <th>production_country</th>\n",
       "      <th>director</th>\n",
       "      <th>producer</th>\n",
       "      <th>age_restriction</th>\n",
       "      <th>refundable_support</th>\n",
       "      <th>nonrefundable_support</th>\n",
       "      <th>budget</th>\n",
       "      <th>financing_source</th>\n",
       "      <th>ratings</th>\n",
       "      <th>genres</th>\n",
       "      <th>box_office</th>\n",
       "    </tr>\n",
       "  </thead>\n",
       "  <tbody>\n",
       "    <tr>\n",
       "      <th>43</th>\n",
       "      <td>Мемуары гейши (по роману Артура Голдена)</td>\n",
       "      <td>121000606</td>\n",
       "      <td>2012-12-14 12:00:00+00:00</td>\n",
       "      <td>Художественный</td>\n",
       "      <td>Коламбия Пикчерз Корпорейшн, ДримУоркс ЭсКейДж...</td>\n",
       "      <td>США</td>\n",
       "      <td>Роб Маршалл</td>\n",
       "      <td>Стивен Спилберг, Люси Фишер, Дуглас Уик, Джон ...</td>\n",
       "      <td>«12+» - для детей старше 12 лет</td>\n",
       "      <td>NaN</td>\n",
       "      <td>NaN</td>\n",
       "      <td>NaN</td>\n",
       "      <td>NaN</td>\n",
       "      <td>NaN</td>\n",
       "      <td>NaN</td>\n",
       "      <td>NaN</td>\n",
       "    </tr>\n",
       "    <tr>\n",
       "      <th>150</th>\n",
       "      <td>Жди меня</td>\n",
       "      <td>111013615</td>\n",
       "      <td>2015-08-25 12:00:00+00:00</td>\n",
       "      <td>Художественный</td>\n",
       "      <td>Киностудия \"Мосфильм\"</td>\n",
       "      <td>СССР</td>\n",
       "      <td>А.Столпер, Б.Иванов</td>\n",
       "      <td>NaN</td>\n",
       "      <td>«6+» - для детей старше 6 лет</td>\n",
       "      <td>NaN</td>\n",
       "      <td>NaN</td>\n",
       "      <td>NaN</td>\n",
       "      <td>NaN</td>\n",
       "      <td>NaN</td>\n",
       "      <td>NaN</td>\n",
       "      <td>NaN</td>\n",
       "    </tr>\n",
       "    <tr>\n",
       "      <th>154</th>\n",
       "      <td>Дом из песка и тумана (по книге Андре Дюбуи III)</td>\n",
       "      <td>221037813</td>\n",
       "      <td>2013-10-25 12:00:00+00:00</td>\n",
       "      <td>Художественный</td>\n",
       "      <td>Кобальт Пикчерз</td>\n",
       "      <td>США</td>\n",
       "      <td>Вадим Перельман</td>\n",
       "      <td>Майкл Лондон</td>\n",
       "      <td>«16+» - для детей старше 16 лет</td>\n",
       "      <td>NaN</td>\n",
       "      <td>NaN</td>\n",
       "      <td>NaN</td>\n",
       "      <td>NaN</td>\n",
       "      <td>NaN</td>\n",
       "      <td>NaN</td>\n",
       "      <td>NaN</td>\n",
       "    </tr>\n",
       "    <tr>\n",
       "      <th>159</th>\n",
       "      <td>Жемчужная девушка</td>\n",
       "      <td>224011014</td>\n",
       "      <td>2014-08-28 12:00:00+00:00</td>\n",
       "      <td>Художественный</td>\n",
       "      <td>Чешское телевидение,Студия \"Три брата\" агентск...</td>\n",
       "      <td>Чехия</td>\n",
       "      <td>Владимир Дрга</td>\n",
       "      <td>NaN</td>\n",
       "      <td>«0+» - для любой зрительской аудитории</td>\n",
       "      <td>NaN</td>\n",
       "      <td>NaN</td>\n",
       "      <td>NaN</td>\n",
       "      <td>NaN</td>\n",
       "      <td>NaN</td>\n",
       "      <td>NaN</td>\n",
       "      <td>NaN</td>\n",
       "    </tr>\n",
       "    <tr>\n",
       "      <th>227</th>\n",
       "      <td>Полустанок</td>\n",
       "      <td>111026714</td>\n",
       "      <td>2014-12-24 12:00:00+00:00</td>\n",
       "      <td>Художественный</td>\n",
       "      <td>Киностудия \"Мосфильм\"</td>\n",
       "      <td>СССР</td>\n",
       "      <td>Б.Барнет</td>\n",
       "      <td>NaN</td>\n",
       "      <td>«12+» - для детей старше 12 лет</td>\n",
       "      <td>NaN</td>\n",
       "      <td>NaN</td>\n",
       "      <td>NaN</td>\n",
       "      <td>NaN</td>\n",
       "      <td>NaN</td>\n",
       "      <td>NaN</td>\n",
       "      <td>NaN</td>\n",
       "    </tr>\n",
       "    <tr>\n",
       "      <th>...</th>\n",
       "      <td>...</td>\n",
       "      <td>...</td>\n",
       "      <td>...</td>\n",
       "      <td>...</td>\n",
       "      <td>...</td>\n",
       "      <td>...</td>\n",
       "      <td>...</td>\n",
       "      <td>...</td>\n",
       "      <td>...</td>\n",
       "      <td>...</td>\n",
       "      <td>...</td>\n",
       "      <td>...</td>\n",
       "      <td>...</td>\n",
       "      <td>...</td>\n",
       "      <td>...</td>\n",
       "      <td>...</td>\n",
       "    </tr>\n",
       "    <tr>\n",
       "      <th>7479</th>\n",
       "      <td>Эколав</td>\n",
       "      <td>111023219</td>\n",
       "      <td>2019-12-26 12:00:00+00:00</td>\n",
       "      <td>Художественный</td>\n",
       "      <td>ВГИК</td>\n",
       "      <td>Россия</td>\n",
       "      <td>Д.Григорьев</td>\n",
       "      <td>ВГИК</td>\n",
       "      <td>«18+» - запрещено для детей</td>\n",
       "      <td>NaN</td>\n",
       "      <td>NaN</td>\n",
       "      <td>NaN</td>\n",
       "      <td>NaN</td>\n",
       "      <td>NaN</td>\n",
       "      <td>NaN</td>\n",
       "      <td>NaN</td>\n",
       "    </tr>\n",
       "    <tr>\n",
       "      <th>7480</th>\n",
       "      <td>Акрам Хан: Родом из Карри Хауса</td>\n",
       "      <td>126007919</td>\n",
       "      <td>2019-12-23 12:00:00+00:00</td>\n",
       "      <td>Прочие</td>\n",
       "      <td>Свон Филмз</td>\n",
       "      <td>Великобритания</td>\n",
       "      <td>Ник Пойнц</td>\n",
       "      <td>Поппи Бегум, Ник Пойнц</td>\n",
       "      <td>«12+» - для детей старше 12 лет</td>\n",
       "      <td>NaN</td>\n",
       "      <td>NaN</td>\n",
       "      <td>NaN</td>\n",
       "      <td>NaN</td>\n",
       "      <td>NaN</td>\n",
       "      <td>NaN</td>\n",
       "      <td>219,569.00</td>\n",
       "    </tr>\n",
       "    <tr>\n",
       "      <th>7481</th>\n",
       "      <td>Сад художника: Американский импрессионизм</td>\n",
       "      <td>126008019</td>\n",
       "      <td>2019-12-23 12:00:00+00:00</td>\n",
       "      <td>Прочие</td>\n",
       "      <td>Севен Артс Продакшнз</td>\n",
       "      <td>Великобритания</td>\n",
       "      <td>Фил Грабски</td>\n",
       "      <td>Фил Грабски</td>\n",
       "      <td>«12+» - для детей старше 12 лет</td>\n",
       "      <td>NaN</td>\n",
       "      <td>NaN</td>\n",
       "      <td>NaN</td>\n",
       "      <td>NaN</td>\n",
       "      <td>NaN</td>\n",
       "      <td>NaN</td>\n",
       "      <td>NaN</td>\n",
       "    </tr>\n",
       "    <tr>\n",
       "      <th>7483</th>\n",
       "      <td>Щенячий патруль: Скорей спешим на помощь!</td>\n",
       "      <td>124010819</td>\n",
       "      <td>2019-12-28 12:00:00+00:00</td>\n",
       "      <td>Художественный</td>\n",
       "      <td>Никелодеон Анимейшн Студиос, Спин Мастер</td>\n",
       "      <td>США - Канада</td>\n",
       "      <td>Чарльз Е.Бастьен</td>\n",
       "      <td>Дженнифер Додж</td>\n",
       "      <td>«0+» - для любой зрительской аудитории</td>\n",
       "      <td>NaN</td>\n",
       "      <td>NaN</td>\n",
       "      <td>NaN</td>\n",
       "      <td>NaN</td>\n",
       "      <td>NaN</td>\n",
       "      <td>NaN</td>\n",
       "      <td>NaN</td>\n",
       "    </tr>\n",
       "    <tr>\n",
       "      <th>7484</th>\n",
       "      <td>Машины песенки. Серия \"Испанские мотивы\"</td>\n",
       "      <td>124010619</td>\n",
       "      <td>2019-12-30 12:00:00+00:00</td>\n",
       "      <td>Анимационный</td>\n",
       "      <td>Анимаккорд Лтд., ООО Студия \"АНИМАККОРД\"</td>\n",
       "      <td>Республика Кипр, Россия</td>\n",
       "      <td>А.Беляев</td>\n",
       "      <td>Д.Ловейко</td>\n",
       "      <td>«0+» - для любой зрительской аудитории</td>\n",
       "      <td>NaN</td>\n",
       "      <td>NaN</td>\n",
       "      <td>NaN</td>\n",
       "      <td>NaN</td>\n",
       "      <td>NaN</td>\n",
       "      <td>NaN</td>\n",
       "      <td>NaN</td>\n",
       "    </tr>\n",
       "  </tbody>\n",
       "</table>\n",
       "<p>967 rows × 16 columns</p>\n",
       "</div>"
      ],
      "text/plain": [
       "                                                 title   puNumber  \\\n",
       "43            Мемуары гейши (по роману Артура Голдена)  121000606   \n",
       "150                                           Жди меня  111013615   \n",
       "154   Дом из песка и тумана (по книге Андре Дюбуи III)  221037813   \n",
       "159                                  Жемчужная девушка  224011014   \n",
       "227                                         Полустанок  111026714   \n",
       "...                                                ...        ...   \n",
       "7479                                            Эколав  111023219   \n",
       "7480                   Акрам Хан: Родом из Карри Хауса  126007919   \n",
       "7481         Сад художника: Американский импрессионизм  126008019   \n",
       "7483         Щенячий патруль: Скорей спешим на помощь!  124010819   \n",
       "7484          Машины песенки. Серия \"Испанские мотивы\"  124010619   \n",
       "\n",
       "               show_start_date             type  \\\n",
       "43   2012-12-14 12:00:00+00:00   Художественный   \n",
       "150  2015-08-25 12:00:00+00:00   Художественный   \n",
       "154  2013-10-25 12:00:00+00:00   Художественный   \n",
       "159  2014-08-28 12:00:00+00:00   Художественный   \n",
       "227  2014-12-24 12:00:00+00:00   Художественный   \n",
       "...                        ...              ...   \n",
       "7479 2019-12-26 12:00:00+00:00   Художественный   \n",
       "7480 2019-12-23 12:00:00+00:00           Прочие   \n",
       "7481 2019-12-23 12:00:00+00:00           Прочие   \n",
       "7483 2019-12-28 12:00:00+00:00   Художественный   \n",
       "7484 2019-12-30 12:00:00+00:00     Анимационный   \n",
       "\n",
       "                                            film_studio  \\\n",
       "43    Коламбия Пикчерз Корпорейшн, ДримУоркс ЭсКейДж...   \n",
       "150                               Киностудия \"Мосфильм\"   \n",
       "154                                     Кобальт Пикчерз   \n",
       "159   Чешское телевидение,Студия \"Три брата\" агентск...   \n",
       "227                               Киностудия \"Мосфильм\"   \n",
       "...                                                 ...   \n",
       "7479                                               ВГИК   \n",
       "7480                                         Свон Филмз   \n",
       "7481                               Севен Артс Продакшнз   \n",
       "7483           Никелодеон Анимейшн Студиос, Спин Мастер   \n",
       "7484           Анимаккорд Лтд., ООО Студия \"АНИМАККОРД\"   \n",
       "\n",
       "           production_country             director  \\\n",
       "43                        США          Роб Маршалл   \n",
       "150                      СССР  А.Столпер, Б.Иванов   \n",
       "154                       США      Вадим Перельман   \n",
       "159                     Чехия        Владимир Дрга   \n",
       "227                      СССР             Б.Барнет   \n",
       "...                       ...                  ...   \n",
       "7479                   Россия          Д.Григорьев   \n",
       "7480           Великобритания            Ник Пойнц   \n",
       "7481           Великобритания          Фил Грабски   \n",
       "7483             США - Канада     Чарльз Е.Бастьен   \n",
       "7484  Республика Кипр, Россия             А.Беляев   \n",
       "\n",
       "                                               producer  \\\n",
       "43    Стивен Спилберг, Люси Фишер, Дуглас Уик, Джон ...   \n",
       "150                                                 NaN   \n",
       "154                                        Майкл Лондон   \n",
       "159                                                 NaN   \n",
       "227                                                 NaN   \n",
       "...                                                 ...   \n",
       "7479                                               ВГИК   \n",
       "7480                             Поппи Бегум, Ник Пойнц   \n",
       "7481                                        Фил Грабски   \n",
       "7483                                     Дженнифер Додж   \n",
       "7484                                          Д.Ловейко   \n",
       "\n",
       "                             age_restriction  refundable_support  \\\n",
       "43           «12+» - для детей старше 12 лет                 NaN   \n",
       "150            «6+» - для детей старше 6 лет                 NaN   \n",
       "154          «16+» - для детей старше 16 лет                 NaN   \n",
       "159   «0+» - для любой зрительской аудитории                 NaN   \n",
       "227          «12+» - для детей старше 12 лет                 NaN   \n",
       "...                                      ...                 ...   \n",
       "7479             «18+» - запрещено для детей                 NaN   \n",
       "7480         «12+» - для детей старше 12 лет                 NaN   \n",
       "7481         «12+» - для детей старше 12 лет                 NaN   \n",
       "7483  «0+» - для любой зрительской аудитории                 NaN   \n",
       "7484  «0+» - для любой зрительской аудитории                 NaN   \n",
       "\n",
       "      nonrefundable_support  budget financing_source  ratings genres  \\\n",
       "43                      NaN     NaN              NaN      NaN    NaN   \n",
       "150                     NaN     NaN              NaN      NaN    NaN   \n",
       "154                     NaN     NaN              NaN      NaN    NaN   \n",
       "159                     NaN     NaN              NaN      NaN    NaN   \n",
       "227                     NaN     NaN              NaN      NaN    NaN   \n",
       "...                     ...     ...              ...      ...    ...   \n",
       "7479                    NaN     NaN              NaN      NaN    NaN   \n",
       "7480                    NaN     NaN              NaN      NaN    NaN   \n",
       "7481                    NaN     NaN              NaN      NaN    NaN   \n",
       "7483                    NaN     NaN              NaN      NaN    NaN   \n",
       "7484                    NaN     NaN              NaN      NaN    NaN   \n",
       "\n",
       "               box_office  \n",
       "43                    NaN  \n",
       "150                   NaN  \n",
       "154                   NaN  \n",
       "159                   NaN  \n",
       "227                   NaN  \n",
       "...                   ...  \n",
       "7479                  NaN  \n",
       "7480           219,569.00  \n",
       "7481                  NaN  \n",
       "7483                  NaN  \n",
       "7484                  NaN  \n",
       "\n",
       "[967 rows x 16 columns]"
      ]
     },
     "execution_count": 24,
     "metadata": {},
     "output_type": "execute_result"
    }
   ],
   "source": [
    "data.loc[data['ratings'].isnull()]"
   ]
  },
  {
   "cell_type": "markdown",
   "metadata": {},
   "source": [
    "В данных имеются пропуски в следующих столбцах:  \n",
    "- film_studio  \n",
    "- priduction_country  \n",
    "- director  \n",
    "- producer  \n",
    "- refundable_support  \n",
    "- nonrefundable_support  \n",
    "- budget  \n",
    "- financing_source  \n",
    "- ratings  \n",
    "- genres  \n",
    "- box_office \n",
    "  \n",
    "В столбце film_studio имеются пропуски, т.к. не все фильмы снимаются на студиях. Такие пропуски не являются случайными и заполнять их не нужно.  \n",
    "При рассмотрении строк с пропусками в столбце production_country заметно, что значения можно заполнить, основываясь данных из соседних столбцов, что мы и сделали. Такие пропуски называются полностью случайными.  \n",
    "В столбцах director, ratings и genres пропуски похожи на случайные, однако предложить логичную замену им невозможно. В столбцах rating и genres мы их оставляем, а в столбце director заменим пустой строкой. Этот столбец участвует в дальнейшем анализе, а наличие пропусков будет мешать выполнению операций.  \n",
    "В столбце producer пропуски случайны и не подлежат заполнению, т.к. пропуски имеют фильмы, снятые в СССР. В СССР кинематограф финансировался только государством, продюсеров не было.  \n",
    "Из описания данных следует, что в столбцах refundable_support, nonrefundable_support, budget и financing_source указан объем государственной поддержки. Если в информации о фильме есть пропуски в данных столбцах, значит государственной поддержки он не получал. Пропуски не являются случайными.  "
   ]
  },
  {
   "cell_type": "markdown",
   "metadata": {
    "id": "4c6k1t9ygFyQ"
   },
   "source": [
    "#### Шаг 2.3. Изучим дубликаты в датафрейме\n",
    "- Проверим, есть ли в данных дубликаты. Опишем причины, которые могли повлиять на появление дублей."
   ]
  },
  {
   "cell_type": "code",
   "execution_count": 25,
   "metadata": {},
   "outputs": [
    {
     "data": {
      "text/plain": [
       "0"
      ]
     },
     "execution_count": 25,
     "metadata": {},
     "output_type": "execute_result"
    }
   ],
   "source": [
    "data.duplicated().sum()"
   ]
  },
  {
   "cell_type": "code",
   "execution_count": 26,
   "metadata": {},
   "outputs": [],
   "source": [
    "#data[data[['title', 'director', 'ratings', 'box_office']].duplicated()]"
   ]
  },
  {
   "cell_type": "code",
   "execution_count": 27,
   "metadata": {},
   "outputs": [],
   "source": [
    "#data = data.drop_duplicates(subset =['title', 'director', 'ratings', 'box_office'], keep = 'first').reset_index(drop = True)"
   ]
  },
  {
   "cell_type": "code",
   "execution_count": 28,
   "metadata": {},
   "outputs": [],
   "source": [
    "#data[['title', 'director', 'ratings', 'box_office']].duplicated().sum()"
   ]
  },
  {
   "cell_type": "code",
   "execution_count": 29,
   "metadata": {},
   "outputs": [],
   "source": [
    "#data.shape[0] / beginning_data"
   ]
  },
  {
   "cell_type": "code",
   "execution_count": 30,
   "metadata": {},
   "outputs": [
    {
     "data": {
      "text/html": [
       "<div>\n",
       "<style scoped>\n",
       "    .dataframe tbody tr th:only-of-type {\n",
       "        vertical-align: middle;\n",
       "    }\n",
       "\n",
       "    .dataframe tbody tr th {\n",
       "        vertical-align: top;\n",
       "    }\n",
       "\n",
       "    .dataframe thead th {\n",
       "        text-align: right;\n",
       "    }\n",
       "</style>\n",
       "<table border=\"1\" class=\"dataframe\">\n",
       "  <thead>\n",
       "    <tr style=\"text-align: right;\">\n",
       "      <th></th>\n",
       "      <th>title</th>\n",
       "      <th>puNumber</th>\n",
       "      <th>show_start_date</th>\n",
       "      <th>type</th>\n",
       "      <th>film_studio</th>\n",
       "      <th>production_country</th>\n",
       "      <th>director</th>\n",
       "      <th>producer</th>\n",
       "      <th>age_restriction</th>\n",
       "      <th>refundable_support</th>\n",
       "      <th>nonrefundable_support</th>\n",
       "      <th>budget</th>\n",
       "      <th>financing_source</th>\n",
       "      <th>ratings</th>\n",
       "      <th>genres</th>\n",
       "      <th>box_office</th>\n",
       "    </tr>\n",
       "  </thead>\n",
       "  <tbody>\n",
       "  </tbody>\n",
       "</table>\n",
       "</div>"
      ],
      "text/plain": [
       "Empty DataFrame\n",
       "Columns: [title, puNumber, show_start_date, type, film_studio, production_country, director, producer, age_restriction, refundable_support, nonrefundable_support, budget, financing_source, ratings, genres, box_office]\n",
       "Index: []"
      ]
     },
     "execution_count": 30,
     "metadata": {},
     "output_type": "execute_result"
    }
   ],
   "source": [
    "data[data[['title','puNumber']].duplicated()]"
   ]
  },
  {
   "cell_type": "markdown",
   "metadata": {},
   "source": [
    "Операторы базы данных могли неправильно ввести данные или они не обладали нужной информацией на момент её ввода. Проблемы с данными, полученными автоматически, могли возникнуть на этапе загрузки и на этапе выгрузки данных. Неправильный запрос, объединение таблиц также может быть причиной."
   ]
  },
  {
   "cell_type": "markdown",
   "metadata": {
    "id": "52fOPrEBgFyQ"
   },
   "source": [
    "#### Шаг 2.4. Изучим категориальные значения\n",
    "\n",
    "- Посмотрим, какая общая проблема встречается почти во всех категориальных столбцах;\n",
    "- Исправим проблемные значения в поле `type`.\n",
    "\n",
    "<div id=\"accordion\">\n",
    "    <div class=\"card\">\n",
    "        <div class=\"card-header\" id=\"headingThree\">\n",
    "            <button class=\"btn btn-link collapsed\" data-toggle=\"collapse\" data-target=\"#collapseHint_1\" aria-expanded=\"false\" aria-controls=\"collapseHint_1\">Подсказка</button>\n",
    "        </div>\n",
    "        <div id=\"collapseHint_1\" class=\"collapse\" aria-labelledby=\"headingThree\" data-parent=\"#accordion\">\n",
    "            <div class=\"card-body\">\n",
    "В поле <code>type</code> есть несколько значений, у которых появился пробел в начале строки. Самый простой способ их «починить» -- использовать метод <a href=\"https://pandas.pydata.org/docs/reference/api/pandas.Series.str.strip.html#pandas.Series.str.strip\">.str.strip</a>. Этот метод удаляет все пробелы, которые встречаются в начале и в конце строки. Применяют его таким образом:<br>\n",
    "<code>df['type'].str.strip()</code>\n",
    "            </div>\n",
    "        </div>\n",
    "    </div>\n",
    "</div>"
   ]
  },
  {
   "cell_type": "code",
   "execution_count": 31,
   "metadata": {
    "id": "PnXKIVdFgFyR"
   },
   "outputs": [
    {
     "data": {
      "text/html": [
       "<div>\n",
       "<style scoped>\n",
       "    .dataframe tbody tr th:only-of-type {\n",
       "        vertical-align: middle;\n",
       "    }\n",
       "\n",
       "    .dataframe tbody tr th {\n",
       "        vertical-align: top;\n",
       "    }\n",
       "\n",
       "    .dataframe thead th {\n",
       "        text-align: right;\n",
       "    }\n",
       "</style>\n",
       "<table border=\"1\" class=\"dataframe\">\n",
       "  <thead>\n",
       "    <tr style=\"text-align: right;\">\n",
       "      <th></th>\n",
       "      <th>title</th>\n",
       "      <th>puNumber</th>\n",
       "      <th>type</th>\n",
       "      <th>film_studio</th>\n",
       "      <th>production_country</th>\n",
       "      <th>director</th>\n",
       "      <th>producer</th>\n",
       "      <th>age_restriction</th>\n",
       "      <th>genres</th>\n",
       "    </tr>\n",
       "  </thead>\n",
       "  <tbody>\n",
       "    <tr>\n",
       "      <th>0</th>\n",
       "      <td>Открытый простор</td>\n",
       "      <td>221048915</td>\n",
       "      <td>Художественный</td>\n",
       "      <td>Тачстоун Пикчерз, Кобальт Пикчерз, Бикон Пикче...</td>\n",
       "      <td>США</td>\n",
       "      <td>Кевин Костнер</td>\n",
       "      <td>Дэвид Валдес, Кевин Костнер, Джейк Эбертс</td>\n",
       "      <td>«18+» - запрещено для детей</td>\n",
       "      <td>боевик,драма,мелодрама</td>\n",
       "    </tr>\n",
       "    <tr>\n",
       "      <th>1</th>\n",
       "      <td>Особо важное задание</td>\n",
       "      <td>111013716</td>\n",
       "      <td>Художественный</td>\n",
       "      <td>Киностудия \"Мосфильм\"</td>\n",
       "      <td>СССР</td>\n",
       "      <td>Е.Матвеев</td>\n",
       "      <td>NaN</td>\n",
       "      <td>«6+» - для детей старше 6 лет</td>\n",
       "      <td>драма,военный</td>\n",
       "    </tr>\n",
       "    <tr>\n",
       "      <th>2</th>\n",
       "      <td>Особо опасен</td>\n",
       "      <td>221038416</td>\n",
       "      <td>Художественный</td>\n",
       "      <td>Юниверсал Пикчерз, Кикстарт Продакшнз, Марк Пл...</td>\n",
       "      <td>США</td>\n",
       "      <td>Тимур Бекмамбетов</td>\n",
       "      <td>Джим Лемли, Джейсон Нетер, Марк Е.Платт, Яйн Смит</td>\n",
       "      <td>«18+» - запрещено для детей</td>\n",
       "      <td>фантастика,боевик,триллер</td>\n",
       "    </tr>\n",
       "    <tr>\n",
       "      <th>3</th>\n",
       "      <td>Особо опасен</td>\n",
       "      <td>221026916</td>\n",
       "      <td>Художественный</td>\n",
       "      <td>Юниверсал Пикчерз, Кикстарт Продакшнз, Марк Пл...</td>\n",
       "      <td>США</td>\n",
       "      <td>Тимур Бекмамбетов</td>\n",
       "      <td>Джим Лемли, Джейсон Нетер, Марк Е.Платт, Яйн Смит</td>\n",
       "      <td>«18+» - запрещено для детей</td>\n",
       "      <td>фантастика,боевик,триллер</td>\n",
       "    </tr>\n",
       "    <tr>\n",
       "      <th>4</th>\n",
       "      <td>Особо опасен</td>\n",
       "      <td>221030815</td>\n",
       "      <td>Художественный</td>\n",
       "      <td>Юниверсал Пикчерз, Кикстарт Продакшнз, Марк Пл...</td>\n",
       "      <td>США</td>\n",
       "      <td>Тимур Бекмамбетов</td>\n",
       "      <td>Джим Лемли, Джейсон Нетер, Марк Е.Платт, Яйн Смит</td>\n",
       "      <td>«18+» - запрещено для детей</td>\n",
       "      <td>фантастика,боевик,триллер</td>\n",
       "    </tr>\n",
       "  </tbody>\n",
       "</table>\n",
       "</div>"
      ],
      "text/plain": [
       "                  title   puNumber            type  \\\n",
       "0      Открытый простор  221048915  Художественный   \n",
       "1  Особо важное задание  111013716  Художественный   \n",
       "2          Особо опасен  221038416  Художественный   \n",
       "3          Особо опасен  221026916  Художественный   \n",
       "4          Особо опасен  221030815  Художественный   \n",
       "\n",
       "                                         film_studio production_country  \\\n",
       "0  Тачстоун Пикчерз, Кобальт Пикчерз, Бикон Пикче...                США   \n",
       "1                              Киностудия \"Мосфильм\"               СССР   \n",
       "2  Юниверсал Пикчерз, Кикстарт Продакшнз, Марк Пл...                США   \n",
       "3  Юниверсал Пикчерз, Кикстарт Продакшнз, Марк Пл...                США   \n",
       "4  Юниверсал Пикчерз, Кикстарт Продакшнз, Марк Пл...                США   \n",
       "\n",
       "            director                                           producer  \\\n",
       "0      Кевин Костнер          Дэвид Валдес, Кевин Костнер, Джейк Эбертс   \n",
       "1          Е.Матвеев                                                NaN   \n",
       "2  Тимур Бекмамбетов  Джим Лемли, Джейсон Нетер, Марк Е.Платт, Яйн Смит   \n",
       "3  Тимур Бекмамбетов  Джим Лемли, Джейсон Нетер, Марк Е.Платт, Яйн Смит   \n",
       "4  Тимур Бекмамбетов  Джим Лемли, Джейсон Нетер, Марк Е.Платт, Яйн Смит   \n",
       "\n",
       "                 age_restriction                     genres  \n",
       "0    «18+» - запрещено для детей     боевик,драма,мелодрама  \n",
       "1  «6+» - для детей старше 6 лет              драма,военный  \n",
       "2    «18+» - запрещено для детей  фантастика,боевик,триллер  \n",
       "3    «18+» - запрещено для детей  фантастика,боевик,триллер  \n",
       "4    «18+» - запрещено для детей  фантастика,боевик,триллер  "
      ]
     },
     "execution_count": 31,
     "metadata": {},
     "output_type": "execute_result"
    }
   ],
   "source": [
    "data[['title','puNumber', 'type','film_studio', 'production_country', 'director', 'producer','age_restriction', 'genres']].head()"
   ]
  },
  {
   "cell_type": "code",
   "execution_count": 32,
   "metadata": {},
   "outputs": [
    {
     "data": {
      "text/html": [
       "<div>\n",
       "<style scoped>\n",
       "    .dataframe tbody tr th:only-of-type {\n",
       "        vertical-align: middle;\n",
       "    }\n",
       "\n",
       "    .dataframe tbody tr th {\n",
       "        vertical-align: top;\n",
       "    }\n",
       "\n",
       "    .dataframe thead th {\n",
       "        text-align: right;\n",
       "    }\n",
       "</style>\n",
       "<table border=\"1\" class=\"dataframe\">\n",
       "  <thead>\n",
       "    <tr style=\"text-align: right;\">\n",
       "      <th></th>\n",
       "      <th>title</th>\n",
       "      <th>puNumber</th>\n",
       "      <th>type</th>\n",
       "      <th>film_studio</th>\n",
       "      <th>production_country</th>\n",
       "      <th>director</th>\n",
       "      <th>producer</th>\n",
       "      <th>age_restriction</th>\n",
       "      <th>financing_source</th>\n",
       "      <th>genres</th>\n",
       "    </tr>\n",
       "  </thead>\n",
       "  <tbody>\n",
       "    <tr>\n",
       "      <th>0</th>\n",
       "      <td>Открытый простор</td>\n",
       "      <td>221048915</td>\n",
       "      <td>Художественный</td>\n",
       "      <td>Тачстоун Пикчерз, Кобальт Пикчерз, Бикон Пикче...</td>\n",
       "      <td>США</td>\n",
       "      <td>Кевин Костнер</td>\n",
       "      <td>Дэвид Валдес, Кевин Костнер, Джейк Эбертс</td>\n",
       "      <td>«18+» - запрещено для детей</td>\n",
       "      <td>NaN</td>\n",
       "      <td>боевик,драма,мелодрама</td>\n",
       "    </tr>\n",
       "    <tr>\n",
       "      <th>1</th>\n",
       "      <td>Особо важное задание</td>\n",
       "      <td>111013716</td>\n",
       "      <td>Художественный</td>\n",
       "      <td>Киностудия \"Мосфильм\"</td>\n",
       "      <td>СССР</td>\n",
       "      <td>Е.Матвеев</td>\n",
       "      <td>NaN</td>\n",
       "      <td>«6+» - для детей старше 6 лет</td>\n",
       "      <td>NaN</td>\n",
       "      <td>драма,военный</td>\n",
       "    </tr>\n",
       "    <tr>\n",
       "      <th>2</th>\n",
       "      <td>Особо опасен</td>\n",
       "      <td>221038416</td>\n",
       "      <td>Художественный</td>\n",
       "      <td>Юниверсал Пикчерз, Кикстарт Продакшнз, Марк Пл...</td>\n",
       "      <td>США</td>\n",
       "      <td>Тимур Бекмамбетов</td>\n",
       "      <td>Джим Лемли, Джейсон Нетер, Марк Е.Платт, Яйн Смит</td>\n",
       "      <td>«18+» - запрещено для детей</td>\n",
       "      <td>NaN</td>\n",
       "      <td>фантастика,боевик,триллер</td>\n",
       "    </tr>\n",
       "    <tr>\n",
       "      <th>3</th>\n",
       "      <td>Особо опасен</td>\n",
       "      <td>221026916</td>\n",
       "      <td>Художественный</td>\n",
       "      <td>Юниверсал Пикчерз, Кикстарт Продакшнз, Марк Пл...</td>\n",
       "      <td>США</td>\n",
       "      <td>Тимур Бекмамбетов</td>\n",
       "      <td>Джим Лемли, Джейсон Нетер, Марк Е.Платт, Яйн Смит</td>\n",
       "      <td>«18+» - запрещено для детей</td>\n",
       "      <td>NaN</td>\n",
       "      <td>фантастика,боевик,триллер</td>\n",
       "    </tr>\n",
       "    <tr>\n",
       "      <th>4</th>\n",
       "      <td>Особо опасен</td>\n",
       "      <td>221030815</td>\n",
       "      <td>Художественный</td>\n",
       "      <td>Юниверсал Пикчерз, Кикстарт Продакшнз, Марк Пл...</td>\n",
       "      <td>США</td>\n",
       "      <td>Тимур Бекмамбетов</td>\n",
       "      <td>Джим Лемли, Джейсон Нетер, Марк Е.Платт, Яйн Смит</td>\n",
       "      <td>«18+» - запрещено для детей</td>\n",
       "      <td>NaN</td>\n",
       "      <td>фантастика,боевик,триллер</td>\n",
       "    </tr>\n",
       "  </tbody>\n",
       "</table>\n",
       "</div>"
      ],
      "text/plain": [
       "                  title   puNumber            type  \\\n",
       "0      Открытый простор  221048915  Художественный   \n",
       "1  Особо важное задание  111013716  Художественный   \n",
       "2          Особо опасен  221038416  Художественный   \n",
       "3          Особо опасен  221026916  Художественный   \n",
       "4          Особо опасен  221030815  Художественный   \n",
       "\n",
       "                                         film_studio production_country  \\\n",
       "0  Тачстоун Пикчерз, Кобальт Пикчерз, Бикон Пикче...                США   \n",
       "1                              Киностудия \"Мосфильм\"               СССР   \n",
       "2  Юниверсал Пикчерз, Кикстарт Продакшнз, Марк Пл...                США   \n",
       "3  Юниверсал Пикчерз, Кикстарт Продакшнз, Марк Пл...                США   \n",
       "4  Юниверсал Пикчерз, Кикстарт Продакшнз, Марк Пл...                США   \n",
       "\n",
       "            director                                           producer  \\\n",
       "0      Кевин Костнер          Дэвид Валдес, Кевин Костнер, Джейк Эбертс   \n",
       "1          Е.Матвеев                                                NaN   \n",
       "2  Тимур Бекмамбетов  Джим Лемли, Джейсон Нетер, Марк Е.Платт, Яйн Смит   \n",
       "3  Тимур Бекмамбетов  Джим Лемли, Джейсон Нетер, Марк Е.Платт, Яйн Смит   \n",
       "4  Тимур Бекмамбетов  Джим Лемли, Джейсон Нетер, Марк Е.Платт, Яйн Смит   \n",
       "\n",
       "                 age_restriction financing_source                     genres  \n",
       "0    «18+» - запрещено для детей              NaN     боевик,драма,мелодрама  \n",
       "1  «6+» - для детей старше 6 лет              NaN              драма,военный  \n",
       "2    «18+» - запрещено для детей              NaN  фантастика,боевик,триллер  \n",
       "3    «18+» - запрещено для детей              NaN  фантастика,боевик,триллер  \n",
       "4    «18+» - запрещено для детей              NaN  фантастика,боевик,триллер  "
      ]
     },
     "execution_count": 32,
     "metadata": {},
     "output_type": "execute_result"
    }
   ],
   "source": [
    "data['title'] = data['title'].str.strip()\n",
    "data['type'] = data['type'].str.strip()\n",
    "data['film_studio'] = data['film_studio'].str.strip()\n",
    "data['production_country'] = data['production_country'].str.strip()\n",
    "data['director'] = data['director'].str.strip()\n",
    "data['producer'] = data['producer'].str.strip()\n",
    "data['age_restriction'] = data['age_restriction'].str.strip()\n",
    "data['financing_source'] = data['financing_source'].str.strip()\n",
    "data['genres'] = data['genres'].str.strip()\n",
    "data[['title', 'puNumber', 'type','film_studio', 'production_country', 'director', 'producer','age_restriction','financing_source','genres']].head()"
   ]
  },
  {
   "cell_type": "markdown",
   "metadata": {},
   "source": [
    "Столбцами с категориальными значениями являются следующие столбцы:  \n",
    "- title  \n",
    "- puNumber\n",
    "- type  \n",
    "- film_studio  \n",
    "- production_country  \n",
    "- director  \n",
    "- producer  \n",
    "- age_restriction  \n",
    "- financing_source\n",
    "- genres  \n",
    "\n",
    "Почти в каждом из них встречаются значения, имеющие пробел в начале строки. Исправим эти значения методом .str.strip().   \n",
    "Почти во всех категориальных столбцах в одной ячейке идет перечисление субъектов."
   ]
  },
  {
   "cell_type": "markdown",
   "metadata": {
    "id": "XFSN5lrEgFyR"
   },
   "source": [
    "#### Шаг 2.5. Проверим количественные значения\n",
    "\n",
    "- Проверим, обнаружились ли в таких столбцах подозрительные данные, и решим, как с такими данными лучше поступить\n",
    "\n",
    "<div id=\"accordion\">\n",
    "    <div class=\"card\">\n",
    "        <div class=\"card-header\" id=\"headingThree\">\n",
    "            <button class=\"btn btn-link collapsed\" data-toggle=\"collapse\" data-target=\"#collapseHint_budget\" aria-expanded=\"false\" aria-controls=\"collapseHint_budget\">Подсказка</button>\n",
    "        </div>\n",
    "        <div id=\"collapseHint_budget\" class=\"collapse\" aria-labelledby=\"headingThree\" data-parent=\"#accordion\">\n",
    "            <div class=\"card-body\">\n",
    "Обратите внимание на описание столбца <code>budget</code>. Как этот столбец соотносится с двумя другими: <code>refundable_support</code> и <code>nonrefundable_support</code>?\n",
    "            </div>\n",
    "        </div>\n",
    "    </div>\n",
    "</div>"
   ]
  },
  {
   "cell_type": "code",
   "execution_count": 33,
   "metadata": {
    "id": "YbzClBxagFyS"
   },
   "outputs": [
    {
     "data": {
      "image/png": "[encoded data removed]",
      "text/plain": [
       "<Figure size 1440x360 with 3 Axes>"
      ]
     },
     "metadata": {
      "needs_background": "light"
     },
     "output_type": "display_data"
    }
   ],
   "source": [
    "import matplotlib\n",
    "import matplotlib.pyplot as plt\n",
    "fig, axes = plt.subplots(nrows=1, ncols=3, figsize = (20, 5))\n",
    "data['show_start_date'].hist(ax=axes[0])\n",
    "axes[0].set_title('График show_start_date')\n",
    "axes[0].set_xlabel('Год')\n",
    "axes[0].set_ylabel('Количество фильмов')\n",
    "data['refundable_support'].hist(ax=axes[1])\n",
    "axes[1].set_title('График refundable_support')\n",
    "axes[1].set_xlabel('Объем поддержки')\n",
    "axes[1].set_ylabel('Количество фильмов')\n",
    "data['nonrefundable_support'].hist(ax=axes[2])\n",
    "axes[2].set_title('График nonrefundable_support')\n",
    "axes[2].set_xlabel('Количество фильмов')\n",
    "axes[2].set_ylabel('Объем поддержки')\n",
    "plt.show()"
   ]
  },
  {
   "cell_type": "code",
   "execution_count": 34,
   "metadata": {},
   "outputs": [
    {
     "data": {
      "image/png": "[encoded data removed]",
      "text/plain": [
       "<Figure size 1440x360 with 2 Axes>"
      ]
     },
     "metadata": {
      "needs_background": "light"
     },
     "output_type": "display_data"
    }
   ],
   "source": [
    "fig, axes = plt.subplots(nrows=1, ncols=2, figsize = (20, 5))\n",
    "data['budget'].hist(ax=axes[0])\n",
    "axes[0].set_title('График budget')\n",
    "axes[0].set_xlabel('Объем финансов')\n",
    "axes[0].set_ylabel('Количество фильмов')\n",
    "data['ratings'].hist(ax=axes[1])\n",
    "axes[1].set_title('График ratings')\n",
    "axes[1].set_xlabel('Значение рейтинга')\n",
    "axes[1].set_ylabel('Количество фильмов')\n",
    "plt.show()"
   ]
  },
  {
   "cell_type": "code",
   "execution_count": 35,
   "metadata": {},
   "outputs": [
    {
     "data": {
      "text/html": [
       "<div>\n",
       "<style scoped>\n",
       "    .dataframe tbody tr th:only-of-type {\n",
       "        vertical-align: middle;\n",
       "    }\n",
       "\n",
       "    .dataframe tbody tr th {\n",
       "        vertical-align: top;\n",
       "    }\n",
       "\n",
       "    .dataframe thead th {\n",
       "        text-align: right;\n",
       "    }\n",
       "</style>\n",
       "<table border=\"1\" class=\"dataframe\">\n",
       "  <thead>\n",
       "    <tr style=\"text-align: right;\">\n",
       "      <th></th>\n",
       "      <th>refundable_support</th>\n",
       "      <th>nonrefundable_support</th>\n",
       "      <th>budget</th>\n",
       "      <th>ratings</th>\n",
       "    </tr>\n",
       "  </thead>\n",
       "  <tbody>\n",
       "    <tr>\n",
       "      <th>count</th>\n",
       "      <td>332.00</td>\n",
       "      <td>332.00</td>\n",
       "      <td>332.00</td>\n",
       "      <td>6,519.00</td>\n",
       "    </tr>\n",
       "    <tr>\n",
       "      <th>mean</th>\n",
       "      <td>11,864,457.83</td>\n",
       "      <td>48,980,988.89</td>\n",
       "      <td>127,229,716.68</td>\n",
       "      <td>6.49</td>\n",
       "    </tr>\n",
       "    <tr>\n",
       "      <th>std</th>\n",
       "      <td>24,916,555.26</td>\n",
       "      <td>59,980,117.92</td>\n",
       "      <td>188,588,333.12</td>\n",
       "      <td>1.11</td>\n",
       "    </tr>\n",
       "    <tr>\n",
       "      <th>min</th>\n",
       "      <td>0.00</td>\n",
       "      <td>0.00</td>\n",
       "      <td>0.00</td>\n",
       "      <td>1.00</td>\n",
       "    </tr>\n",
       "    <tr>\n",
       "      <th>25%</th>\n",
       "      <td>0.00</td>\n",
       "      <td>25,000,000.00</td>\n",
       "      <td>42,000,000.00</td>\n",
       "      <td>5.90</td>\n",
       "    </tr>\n",
       "    <tr>\n",
       "      <th>50%</th>\n",
       "      <td>0.00</td>\n",
       "      <td>30,000,000.00</td>\n",
       "      <td>68,649,916.00</td>\n",
       "      <td>6.60</td>\n",
       "    </tr>\n",
       "    <tr>\n",
       "      <th>75%</th>\n",
       "      <td>15,000,000.00</td>\n",
       "      <td>40,375,000.00</td>\n",
       "      <td>141,985,319.50</td>\n",
       "      <td>7.20</td>\n",
       "    </tr>\n",
       "    <tr>\n",
       "      <th>max</th>\n",
       "      <td>180,000,000.00</td>\n",
       "      <td>400,000,000.00</td>\n",
       "      <td>2,305,074,303.00</td>\n",
       "      <td>9.90</td>\n",
       "    </tr>\n",
       "  </tbody>\n",
       "</table>\n",
       "</div>"
      ],
      "text/plain": [
       "        refundable_support  nonrefundable_support               budget  \\\n",
       "count               332.00                 332.00               332.00   \n",
       "mean         11,864,457.83          48,980,988.89       127,229,716.68   \n",
       "std          24,916,555.26          59,980,117.92       188,588,333.12   \n",
       "min                   0.00                   0.00                 0.00   \n",
       "25%                   0.00          25,000,000.00        42,000,000.00   \n",
       "50%                   0.00          30,000,000.00        68,649,916.00   \n",
       "75%          15,000,000.00          40,375,000.00       141,985,319.50   \n",
       "max         180,000,000.00         400,000,000.00     2,305,074,303.00   \n",
       "\n",
       "                   ratings  \n",
       "count             6,519.00  \n",
       "mean                  6.49  \n",
       "std                   1.11  \n",
       "min                   1.00  \n",
       "25%                   5.90  \n",
       "50%                   6.60  \n",
       "75%                   7.20  \n",
       "max                   9.90  "
      ]
     },
     "execution_count": 35,
     "metadata": {},
     "output_type": "execute_result"
    }
   ],
   "source": [
    "count_data = data[['show_start_date', 'refundable_support', 'nonrefundable_support', 'budget', 'ratings']]\n",
    "count_data.describe()"
   ]
  },
  {
   "cell_type": "code",
   "execution_count": 36,
   "metadata": {},
   "outputs": [
    {
     "data": {
      "text/html": [
       "<div>\n",
       "<style scoped>\n",
       "    .dataframe tbody tr th:only-of-type {\n",
       "        vertical-align: middle;\n",
       "    }\n",
       "\n",
       "    .dataframe tbody tr th {\n",
       "        vertical-align: top;\n",
       "    }\n",
       "\n",
       "    .dataframe thead th {\n",
       "        text-align: right;\n",
       "    }\n",
       "</style>\n",
       "<table border=\"1\" class=\"dataframe\">\n",
       "  <thead>\n",
       "    <tr style=\"text-align: right;\">\n",
       "      <th></th>\n",
       "      <th>refundable_support</th>\n",
       "      <th>nonrefundable_support</th>\n",
       "      <th>budget</th>\n",
       "      <th>ratings</th>\n",
       "    </tr>\n",
       "  </thead>\n",
       "  <tbody>\n",
       "    <tr>\n",
       "      <th>refundable_support</th>\n",
       "      <td>1.00</td>\n",
       "      <td>0.36</td>\n",
       "      <td>0.64</td>\n",
       "      <td>-0.00</td>\n",
       "    </tr>\n",
       "    <tr>\n",
       "      <th>nonrefundable_support</th>\n",
       "      <td>0.36</td>\n",
       "      <td>1.00</td>\n",
       "      <td>0.59</td>\n",
       "      <td>0.13</td>\n",
       "    </tr>\n",
       "    <tr>\n",
       "      <th>budget</th>\n",
       "      <td>0.64</td>\n",
       "      <td>0.59</td>\n",
       "      <td>1.00</td>\n",
       "      <td>0.09</td>\n",
       "    </tr>\n",
       "    <tr>\n",
       "      <th>ratings</th>\n",
       "      <td>-0.00</td>\n",
       "      <td>0.13</td>\n",
       "      <td>0.09</td>\n",
       "      <td>1.00</td>\n",
       "    </tr>\n",
       "  </tbody>\n",
       "</table>\n",
       "</div>"
      ],
      "text/plain": [
       "                        refundable_support  nonrefundable_support  \\\n",
       "refundable_support                    1.00                   0.36   \n",
       "nonrefundable_support                 0.36                   1.00   \n",
       "budget                                0.64                   0.59   \n",
       "ratings                              -0.00                   0.13   \n",
       "\n",
       "                                    budget              ratings  \n",
       "refundable_support                    0.64                -0.00  \n",
       "nonrefundable_support                 0.59                 0.13  \n",
       "budget                                1.00                 0.09  \n",
       "ratings                               0.09                 1.00  "
      ]
     },
     "execution_count": 36,
     "metadata": {},
     "output_type": "execute_result"
    }
   ],
   "source": [
    "count_data.corr()"
   ]
  },
  {
   "cell_type": "code",
   "execution_count": 37,
   "metadata": {},
   "outputs": [
    {
     "data": {
      "text/html": [
       "<div>\n",
       "<style scoped>\n",
       "    .dataframe tbody tr th:only-of-type {\n",
       "        vertical-align: middle;\n",
       "    }\n",
       "\n",
       "    .dataframe tbody tr th {\n",
       "        vertical-align: top;\n",
       "    }\n",
       "\n",
       "    .dataframe thead th {\n",
       "        text-align: right;\n",
       "    }\n",
       "</style>\n",
       "<table border=\"1\" class=\"dataframe\">\n",
       "  <thead>\n",
       "    <tr style=\"text-align: right;\">\n",
       "      <th></th>\n",
       "      <th>title</th>\n",
       "      <th>puNumber</th>\n",
       "      <th>show_start_date</th>\n",
       "      <th>type</th>\n",
       "      <th>film_studio</th>\n",
       "      <th>production_country</th>\n",
       "      <th>director</th>\n",
       "      <th>producer</th>\n",
       "      <th>age_restriction</th>\n",
       "      <th>refundable_support</th>\n",
       "      <th>nonrefundable_support</th>\n",
       "      <th>budget</th>\n",
       "      <th>financing_source</th>\n",
       "      <th>ratings</th>\n",
       "      <th>genres</th>\n",
       "      <th>box_office</th>\n",
       "    </tr>\n",
       "  </thead>\n",
       "  <tbody>\n",
       "    <tr>\n",
       "      <th>2053</th>\n",
       "      <td>14+</td>\n",
       "      <td>111023614</td>\n",
       "      <td>2014-12-19 12:00:00+00:00</td>\n",
       "      <td>Художественный</td>\n",
       "      <td>ООО Киностудия  \"Сентябрь\"</td>\n",
       "      <td>Россия</td>\n",
       "      <td>А.Зайцев</td>\n",
       "      <td>О.Гранина, А.Зайцев</td>\n",
       "      <td>«16+» - для детей старше 16 лет</td>\n",
       "      <td>0.00</td>\n",
       "      <td>23,000,000.00</td>\n",
       "      <td>0.00</td>\n",
       "      <td>Министерство культуры, Фонд кино</td>\n",
       "      <td>6.60</td>\n",
       "      <td>мелодрама</td>\n",
       "      <td>10,234,016.10</td>\n",
       "    </tr>\n",
       "    <tr>\n",
       "      <th>2058</th>\n",
       "      <td>Дуxless 2</td>\n",
       "      <td>111000415</td>\n",
       "      <td>2015-01-26 12:00:00+00:00</td>\n",
       "      <td>Художественный</td>\n",
       "      <td>ООО \"Киностудия \"Слово\", ООО \"Арт Пикчерс Студия\"</td>\n",
       "      <td>Россия</td>\n",
       "      <td>Р.Прыгунов</td>\n",
       "      <td>П.Ануров, Ф.Бондарчук, Д.Рудовский</td>\n",
       "      <td>«16+» - для детей старше 16 лет</td>\n",
       "      <td>0.00</td>\n",
       "      <td>75,000,000.00</td>\n",
       "      <td>0.00</td>\n",
       "      <td>Фонд кино</td>\n",
       "      <td>6.60</td>\n",
       "      <td>драма</td>\n",
       "      <td>446,163,511.00</td>\n",
       "    </tr>\n",
       "    <tr>\n",
       "      <th>2472</th>\n",
       "      <td>Воин (2015)</td>\n",
       "      <td>111017315</td>\n",
       "      <td>2015-09-28 12:00:00+00:00</td>\n",
       "      <td>Художественный</td>\n",
       "      <td>ООО \"Форпост Продакшн\", ООО \"Арт Пикчерс Студия\"</td>\n",
       "      <td>Россия</td>\n",
       "      <td>А.Андрианов</td>\n",
       "      <td>ООО \"Арт Пикчерс Студия\"</td>\n",
       "      <td>«12+» - для детей старше 12 лет</td>\n",
       "      <td>10,000,000.00</td>\n",
       "      <td>70,000,000.00</td>\n",
       "      <td>0.00</td>\n",
       "      <td>Фонд кино</td>\n",
       "      <td>7.80</td>\n",
       "      <td>боевик,драма,криминал</td>\n",
       "      <td>196,572,438.40</td>\n",
       "    </tr>\n",
       "    <tr>\n",
       "      <th>2532</th>\n",
       "      <td>Бармен.</td>\n",
       "      <td>111009615</td>\n",
       "      <td>2015-05-26 12:00:00+00:00</td>\n",
       "      <td>Художественный</td>\n",
       "      <td>АО \"ВайТ Медиа\", ООО \"Арт Пикчерс Студия\"</td>\n",
       "      <td>Россия</td>\n",
       "      <td>Д.Штурманова</td>\n",
       "      <td>Т.Вайнштейн</td>\n",
       "      <td>«16+» - для детей старше 16 лет</td>\n",
       "      <td>20,000,000.00</td>\n",
       "      <td>0.00</td>\n",
       "      <td>0.00</td>\n",
       "      <td>Фонд кино</td>\n",
       "      <td>6.20</td>\n",
       "      <td>комедия,фэнтези</td>\n",
       "      <td>67,418,974.80</td>\n",
       "    </tr>\n",
       "    <tr>\n",
       "      <th>2615</th>\n",
       "      <td>Савва. Сердце воина</td>\n",
       "      <td>114001715</td>\n",
       "      <td>2015-07-21 12:00:00+00:00</td>\n",
       "      <td>Анимационный</td>\n",
       "      <td>ООО \"Глюкоза Продакшн\", ООО \"Арт Пикчерс Студия\"</td>\n",
       "      <td>Россия</td>\n",
       "      <td>М.Фадеев</td>\n",
       "      <td>А.Чистяков</td>\n",
       "      <td>«6+» - для детей старше 6 лет</td>\n",
       "      <td>60,000,000.00</td>\n",
       "      <td>100,000,000.00</td>\n",
       "      <td>0.00</td>\n",
       "      <td>Фонд кино</td>\n",
       "      <td>4.60</td>\n",
       "      <td>мультфильм,приключения,фэнтези</td>\n",
       "      <td>184,487,551.40</td>\n",
       "    </tr>\n",
       "    <tr>\n",
       "      <th>2684</th>\n",
       "      <td>Тряпичный союз</td>\n",
       "      <td>111010215</td>\n",
       "      <td>2015-06-08 12:00:00+00:00</td>\n",
       "      <td>Художественный</td>\n",
       "      <td>ООО \"Кинокомпания \"КОКТЕБЕЛЬ\"</td>\n",
       "      <td>Россия</td>\n",
       "      <td>М.Местецкий</td>\n",
       "      <td>Р.Борисевич, А.Кушаев</td>\n",
       "      <td>«18+» - запрещено для детей</td>\n",
       "      <td>0.00</td>\n",
       "      <td>59,000,000.00</td>\n",
       "      <td>0.00</td>\n",
       "      <td>Фонд кино</td>\n",
       "      <td>6.30</td>\n",
       "      <td>комедия,драма</td>\n",
       "      <td>1,957,738.51</td>\n",
       "    </tr>\n",
       "    <tr>\n",
       "      <th>2788</th>\n",
       "      <td>Срочно выйду замуж</td>\n",
       "      <td>111017115</td>\n",
       "      <td>2015-09-30 12:00:00+00:00</td>\n",
       "      <td>Художественный</td>\n",
       "      <td>АО \"ВайТ Медиа\", ООО \"Арт Пикчерс Студия\"</td>\n",
       "      <td>Россия</td>\n",
       "      <td>С Чекалов</td>\n",
       "      <td>Ф.Бондарчук, Т.Вайнштейн, Д.Рудовский</td>\n",
       "      <td>«16+» - для детей старше 16 лет</td>\n",
       "      <td>0.00</td>\n",
       "      <td>35,000,000.00</td>\n",
       "      <td>0.00</td>\n",
       "      <td>Фонд кино</td>\n",
       "      <td>5.10</td>\n",
       "      <td>комедия,мелодрама</td>\n",
       "      <td>72,937,783.20</td>\n",
       "    </tr>\n",
       "    <tr>\n",
       "      <th>2874</th>\n",
       "      <td>Помню - не помню!</td>\n",
       "      <td>111004916</td>\n",
       "      <td>2016-03-01 12:00:00+00:00</td>\n",
       "      <td>Художественный</td>\n",
       "      <td>ООО \"КиноФирма\"</td>\n",
       "      <td>Россия</td>\n",
       "      <td>В.Ровенский</td>\n",
       "      <td>ООО \"КиноФирма\"</td>\n",
       "      <td>«12+» - для детей старше 12 лет</td>\n",
       "      <td>0.00</td>\n",
       "      <td>6,000,000.00</td>\n",
       "      <td>0.00</td>\n",
       "      <td>Министерство культуры</td>\n",
       "      <td>4.30</td>\n",
       "      <td>комедия</td>\n",
       "      <td>15,362,931.43</td>\n",
       "    </tr>\n",
       "    <tr>\n",
       "      <th>3047</th>\n",
       "      <td>Любовь с ограничениями</td>\n",
       "      <td>111008216</td>\n",
       "      <td>2016-04-29 12:00:00+00:00</td>\n",
       "      <td>Художественный</td>\n",
       "      <td>АО \"ВайТ Медиа\", ООО \"Арт Пикчерс Студия\"</td>\n",
       "      <td>Россия</td>\n",
       "      <td>Д.Тюрин</td>\n",
       "      <td>Ф.Бондарчук, Т.Вайнштейн, Д.Рудовский</td>\n",
       "      <td>«16+» - для детей старше 16 лет</td>\n",
       "      <td>19,000,000.00</td>\n",
       "      <td>51,000,000.00</td>\n",
       "      <td>0.00</td>\n",
       "      <td>Фонд кино</td>\n",
       "      <td>6.30</td>\n",
       "      <td>комедия,мелодрама</td>\n",
       "      <td>70,299,052.00</td>\n",
       "    </tr>\n",
       "    <tr>\n",
       "      <th>3565</th>\n",
       "      <td>Притяжение (2016)</td>\n",
       "      <td>111018116</td>\n",
       "      <td>2016-12-16 12:00:00+00:00</td>\n",
       "      <td>Художественный</td>\n",
       "      <td>ООО \"Водород 2011\",  ООО \"Арт Пикчерс Студия\"</td>\n",
       "      <td>Россия</td>\n",
       "      <td>Ф.Бондарчук</td>\n",
       "      <td>ООО \"Арт Пикчерс Студия\"</td>\n",
       "      <td>«12+» - для детей старше 12 лет</td>\n",
       "      <td>0.00</td>\n",
       "      <td>250,000,000.00</td>\n",
       "      <td>0.00</td>\n",
       "      <td>Фонд кино</td>\n",
       "      <td>5.60</td>\n",
       "      <td>фантастика</td>\n",
       "      <td>1,038,321,489.00</td>\n",
       "    </tr>\n",
       "    <tr>\n",
       "      <th>3675</th>\n",
       "      <td>Чудо-юдо</td>\n",
       "      <td>114001817</td>\n",
       "      <td>2017-06-27 12:00:00+00:00</td>\n",
       "      <td>Анимационный</td>\n",
       "      <td>ООО \"КиноФирма\"</td>\n",
       "      <td>Россия</td>\n",
       "      <td>А.Лукичев</td>\n",
       "      <td>ООО \"КиноФирма\"</td>\n",
       "      <td>«6+» - для детей старше 6 лет</td>\n",
       "      <td>20,000,000.00</td>\n",
       "      <td>20,000,000.00</td>\n",
       "      <td>0.00</td>\n",
       "      <td>Фонд кино</td>\n",
       "      <td>5.20</td>\n",
       "      <td>мультфильм,фэнтези,семейный</td>\n",
       "      <td>55,108,014.76</td>\n",
       "    </tr>\n",
       "    <tr>\n",
       "      <th>3739</th>\n",
       "      <td>Мифы</td>\n",
       "      <td>111004317</td>\n",
       "      <td>2017-06-07 12:00:00+00:00</td>\n",
       "      <td>Художественный</td>\n",
       "      <td>ООО \"ХАЙПФИЛМ\", ООО \"Арт Пикчерс Студия\"</td>\n",
       "      <td>Россия</td>\n",
       "      <td>А.Молочников</td>\n",
       "      <td>Ф.Бондарчук, Д.Рудовский, И.Стюарт, М.Османн, ...</td>\n",
       "      <td>«16+» - для детей старше 16 лет</td>\n",
       "      <td>25,000,000.00</td>\n",
       "      <td>20,000,000.00</td>\n",
       "      <td>0.00</td>\n",
       "      <td>Фонд кино</td>\n",
       "      <td>4.80</td>\n",
       "      <td>комедия</td>\n",
       "      <td>50,451,949.00</td>\n",
       "    </tr>\n",
       "    <tr>\n",
       "      <th>5673</th>\n",
       "      <td>Селфи</td>\n",
       "      <td>111012117</td>\n",
       "      <td>2018-02-01 12:00:00+00:00</td>\n",
       "      <td>Художественный</td>\n",
       "      <td>ООО \"Киностудия \"Слово\", ООО \"Арт Пикчерс Студия\"</td>\n",
       "      <td>Россия</td>\n",
       "      <td>Н.Хомерики</td>\n",
       "      <td>П.Ануров, Ф.Бондарчук, Д.Рудовский</td>\n",
       "      <td>«16+» - для детей старше 16 лет</td>\n",
       "      <td>20,000,000.00</td>\n",
       "      <td>40,000,000.00</td>\n",
       "      <td>0.00</td>\n",
       "      <td>Фонд кино</td>\n",
       "      <td>5.80</td>\n",
       "      <td>триллер,драма</td>\n",
       "      <td>225,196,400.03</td>\n",
       "    </tr>\n",
       "    <tr>\n",
       "      <th>5806</th>\n",
       "      <td>Два хвоста</td>\n",
       "      <td>114001018</td>\n",
       "      <td>2018-05-31 12:00:00+00:00</td>\n",
       "      <td>Анимационный</td>\n",
       "      <td>ООО \"ЛИЦЕНЗИОННЫЕ БРЕНДЫ\"</td>\n",
       "      <td>Россия</td>\n",
       "      <td>В.Ровенский, Н.Лопато, В.Азеев</td>\n",
       "      <td>ООО \"ЛИЦЕНЗИОННЫЕ БРЕНДЫ\"</td>\n",
       "      <td>«6+» - для детей старше 6 лет</td>\n",
       "      <td>10,000,000.00</td>\n",
       "      <td>60,000,000.00</td>\n",
       "      <td>0.00</td>\n",
       "      <td>Фонд кино</td>\n",
       "      <td>5.00</td>\n",
       "      <td>мультфильм,детский</td>\n",
       "      <td>106,514,301.03</td>\n",
       "    </tr>\n",
       "    <tr>\n",
       "      <th>6008</th>\n",
       "      <td>Принцесса и дракон</td>\n",
       "      <td>114003018</td>\n",
       "      <td>2018-08-23 12:00:00+00:00</td>\n",
       "      <td>Анимационный</td>\n",
       "      <td>ООО \"ЛИЦЕНЗИОННЫЕ БРЕНДЫ\"</td>\n",
       "      <td>Россия</td>\n",
       "      <td>М.Нефедова</td>\n",
       "      <td>ООО \"ЛИЦЕНЗИОННЫЕ БРЕНДЫ\"</td>\n",
       "      <td>«6+» - для детей старше 6 лет</td>\n",
       "      <td>40,000,000.00</td>\n",
       "      <td>40,000,000.00</td>\n",
       "      <td>0.00</td>\n",
       "      <td>Фонд кино</td>\n",
       "      <td>5.20</td>\n",
       "      <td>мультфильм,фэнтези,детский</td>\n",
       "      <td>83,366,328.66</td>\n",
       "    </tr>\n",
       "    <tr>\n",
       "      <th>6323</th>\n",
       "      <td>Баба Яга</td>\n",
       "      <td>114006518</td>\n",
       "      <td>2018-11-08 12:00:00+00:00</td>\n",
       "      <td>Анимационный</td>\n",
       "      <td>ООО \"Арт Пикчерс Студия\"</td>\n",
       "      <td>Россия</td>\n",
       "      <td>В.Саков</td>\n",
       "      <td>ООО \"Арт Пикчерс Студия\", ООО \"КРИЭЙТИВ АНИМЭЙ...</td>\n",
       "      <td>«6+» - для детей старше 6 лет</td>\n",
       "      <td>0.00</td>\n",
       "      <td>138,969,465.00</td>\n",
       "      <td>0.00</td>\n",
       "      <td>Фонд кино</td>\n",
       "      <td>NaN</td>\n",
       "      <td>NaN</td>\n",
       "      <td>1,334,699.40</td>\n",
       "    </tr>\n",
       "    <tr>\n",
       "      <th>6823</th>\n",
       "      <td>Большое путешествие</td>\n",
       "      <td>114002419</td>\n",
       "      <td>2019-04-20 12:00:00+00:00</td>\n",
       "      <td>Анимационный</td>\n",
       "      <td>ООО \"ЛИЦЕНЗИОННЫЕ БРЕНДЫ\"</td>\n",
       "      <td>Россия</td>\n",
       "      <td>Н.Лопато, В.Ровенский</td>\n",
       "      <td>ООО \"ЛИЦЕНЗИОННЫЕ БРЕНДЫ\"</td>\n",
       "      <td>«6+» - для детей старше 6 лет</td>\n",
       "      <td>60,000,000.00</td>\n",
       "      <td>120,000,000.00</td>\n",
       "      <td>0.00</td>\n",
       "      <td>Фонд кино</td>\n",
       "      <td>6.20</td>\n",
       "      <td>мультфильм,комедия,приключения</td>\n",
       "      <td>147,606,826.51</td>\n",
       "    </tr>\n",
       "  </tbody>\n",
       "</table>\n",
       "</div>"
      ],
      "text/plain": [
       "                       title   puNumber           show_start_date  \\\n",
       "2053                     14+  111023614 2014-12-19 12:00:00+00:00   \n",
       "2058               Дуxless 2  111000415 2015-01-26 12:00:00+00:00   \n",
       "2472             Воин (2015)  111017315 2015-09-28 12:00:00+00:00   \n",
       "2532                 Бармен.  111009615 2015-05-26 12:00:00+00:00   \n",
       "2615     Савва. Сердце воина  114001715 2015-07-21 12:00:00+00:00   \n",
       "2684          Тряпичный союз  111010215 2015-06-08 12:00:00+00:00   \n",
       "2788      Срочно выйду замуж  111017115 2015-09-30 12:00:00+00:00   \n",
       "2874       Помню - не помню!  111004916 2016-03-01 12:00:00+00:00   \n",
       "3047  Любовь с ограничениями  111008216 2016-04-29 12:00:00+00:00   \n",
       "3565       Притяжение (2016)  111018116 2016-12-16 12:00:00+00:00   \n",
       "3675                Чудо-юдо  114001817 2017-06-27 12:00:00+00:00   \n",
       "3739                    Мифы  111004317 2017-06-07 12:00:00+00:00   \n",
       "5673                   Селфи  111012117 2018-02-01 12:00:00+00:00   \n",
       "5806              Два хвоста  114001018 2018-05-31 12:00:00+00:00   \n",
       "6008      Принцесса и дракон  114003018 2018-08-23 12:00:00+00:00   \n",
       "6323                Баба Яга  114006518 2018-11-08 12:00:00+00:00   \n",
       "6823     Большое путешествие  114002419 2019-04-20 12:00:00+00:00   \n",
       "\n",
       "                type                                        film_studio  \\\n",
       "2053  Художественный                         ООО Киностудия  \"Сентябрь\"   \n",
       "2058  Художественный  ООО \"Киностудия \"Слово\", ООО \"Арт Пикчерс Студия\"   \n",
       "2472  Художественный   ООО \"Форпост Продакшн\", ООО \"Арт Пикчерс Студия\"   \n",
       "2532  Художественный          АО \"ВайТ Медиа\", ООО \"Арт Пикчерс Студия\"   \n",
       "2615    Анимационный   ООО \"Глюкоза Продакшн\", ООО \"Арт Пикчерс Студия\"   \n",
       "2684  Художественный                      ООО \"Кинокомпания \"КОКТЕБЕЛЬ\"   \n",
       "2788  Художественный          АО \"ВайТ Медиа\", ООО \"Арт Пикчерс Студия\"   \n",
       "2874  Художественный                                    ООО \"КиноФирма\"   \n",
       "3047  Художественный          АО \"ВайТ Медиа\", ООО \"Арт Пикчерс Студия\"   \n",
       "3565  Художественный      ООО \"Водород 2011\",  ООО \"Арт Пикчерс Студия\"   \n",
       "3675    Анимационный                                    ООО \"КиноФирма\"   \n",
       "3739  Художественный           ООО \"ХАЙПФИЛМ\", ООО \"Арт Пикчерс Студия\"   \n",
       "5673  Художественный  ООО \"Киностудия \"Слово\", ООО \"Арт Пикчерс Студия\"   \n",
       "5806    Анимационный                          ООО \"ЛИЦЕНЗИОННЫЕ БРЕНДЫ\"   \n",
       "6008    Анимационный                          ООО \"ЛИЦЕНЗИОННЫЕ БРЕНДЫ\"   \n",
       "6323    Анимационный                           ООО \"Арт Пикчерс Студия\"   \n",
       "6823    Анимационный                          ООО \"ЛИЦЕНЗИОННЫЕ БРЕНДЫ\"   \n",
       "\n",
       "     production_country                        director  \\\n",
       "2053             Россия                        А.Зайцев   \n",
       "2058             Россия                      Р.Прыгунов   \n",
       "2472             Россия                     А.Андрианов   \n",
       "2532             Россия                    Д.Штурманова   \n",
       "2615             Россия                        М.Фадеев   \n",
       "2684             Россия                     М.Местецкий   \n",
       "2788             Россия                       С Чекалов   \n",
       "2874             Россия                     В.Ровенский   \n",
       "3047             Россия                         Д.Тюрин   \n",
       "3565             Россия                     Ф.Бондарчук   \n",
       "3675             Россия                       А.Лукичев   \n",
       "3739             Россия                    А.Молочников   \n",
       "5673             Россия                      Н.Хомерики   \n",
       "5806             Россия  В.Ровенский, Н.Лопато, В.Азеев   \n",
       "6008             Россия                      М.Нефедова   \n",
       "6323             Россия                         В.Саков   \n",
       "6823             Россия           Н.Лопато, В.Ровенский   \n",
       "\n",
       "                                               producer  \\\n",
       "2053                                О.Гранина, А.Зайцев   \n",
       "2058                 П.Ануров, Ф.Бондарчук, Д.Рудовский   \n",
       "2472                           ООО \"Арт Пикчерс Студия\"   \n",
       "2532                                        Т.Вайнштейн   \n",
       "2615                                         А.Чистяков   \n",
       "2684                              Р.Борисевич, А.Кушаев   \n",
       "2788              Ф.Бондарчук, Т.Вайнштейн, Д.Рудовский   \n",
       "2874                                    ООО \"КиноФирма\"   \n",
       "3047              Ф.Бондарчук, Т.Вайнштейн, Д.Рудовский   \n",
       "3565                           ООО \"Арт Пикчерс Студия\"   \n",
       "3675                                    ООО \"КиноФирма\"   \n",
       "3739  Ф.Бондарчук, Д.Рудовский, И.Стюарт, М.Османн, ...   \n",
       "5673                 П.Ануров, Ф.Бондарчук, Д.Рудовский   \n",
       "5806                          ООО \"ЛИЦЕНЗИОННЫЕ БРЕНДЫ\"   \n",
       "6008                          ООО \"ЛИЦЕНЗИОННЫЕ БРЕНДЫ\"   \n",
       "6323  ООО \"Арт Пикчерс Студия\", ООО \"КРИЭЙТИВ АНИМЭЙ...   \n",
       "6823                          ООО \"ЛИЦЕНЗИОННЫЕ БРЕНДЫ\"   \n",
       "\n",
       "                      age_restriction   refundable_support  \\\n",
       "2053  «16+» - для детей старше 16 лет                 0.00   \n",
       "2058  «16+» - для детей старше 16 лет                 0.00   \n",
       "2472  «12+» - для детей старше 12 лет        10,000,000.00   \n",
       "2532  «16+» - для детей старше 16 лет        20,000,000.00   \n",
       "2615    «6+» - для детей старше 6 лет        60,000,000.00   \n",
       "2684      «18+» - запрещено для детей                 0.00   \n",
       "2788  «16+» - для детей старше 16 лет                 0.00   \n",
       "2874  «12+» - для детей старше 12 лет                 0.00   \n",
       "3047  «16+» - для детей старше 16 лет        19,000,000.00   \n",
       "3565  «12+» - для детей старше 12 лет                 0.00   \n",
       "3675    «6+» - для детей старше 6 лет        20,000,000.00   \n",
       "3739  «16+» - для детей старше 16 лет        25,000,000.00   \n",
       "5673  «16+» - для детей старше 16 лет        20,000,000.00   \n",
       "5806    «6+» - для детей старше 6 лет        10,000,000.00   \n",
       "6008    «6+» - для детей старше 6 лет        40,000,000.00   \n",
       "6323    «6+» - для детей старше 6 лет                 0.00   \n",
       "6823    «6+» - для детей старше 6 лет        60,000,000.00   \n",
       "\n",
       "      nonrefundable_support               budget  \\\n",
       "2053          23,000,000.00                 0.00   \n",
       "2058          75,000,000.00                 0.00   \n",
       "2472          70,000,000.00                 0.00   \n",
       "2532                   0.00                 0.00   \n",
       "2615         100,000,000.00                 0.00   \n",
       "2684          59,000,000.00                 0.00   \n",
       "2788          35,000,000.00                 0.00   \n",
       "2874           6,000,000.00                 0.00   \n",
       "3047          51,000,000.00                 0.00   \n",
       "3565         250,000,000.00                 0.00   \n",
       "3675          20,000,000.00                 0.00   \n",
       "3739          20,000,000.00                 0.00   \n",
       "5673          40,000,000.00                 0.00   \n",
       "5806          60,000,000.00                 0.00   \n",
       "6008          40,000,000.00                 0.00   \n",
       "6323         138,969,465.00                 0.00   \n",
       "6823         120,000,000.00                 0.00   \n",
       "\n",
       "                      financing_source              ratings  \\\n",
       "2053  Министерство культуры, Фонд кино                 6.60   \n",
       "2058                         Фонд кино                 6.60   \n",
       "2472                         Фонд кино                 7.80   \n",
       "2532                         Фонд кино                 6.20   \n",
       "2615                         Фонд кино                 4.60   \n",
       "2684                         Фонд кино                 6.30   \n",
       "2788                         Фонд кино                 5.10   \n",
       "2874             Министерство культуры                 4.30   \n",
       "3047                         Фонд кино                 6.30   \n",
       "3565                         Фонд кино                 5.60   \n",
       "3675                         Фонд кино                 5.20   \n",
       "3739                         Фонд кино                 4.80   \n",
       "5673                         Фонд кино                 5.80   \n",
       "5806                         Фонд кино                 5.00   \n",
       "6008                         Фонд кино                 5.20   \n",
       "6323                         Фонд кино                  NaN   \n",
       "6823                         Фонд кино                 6.20   \n",
       "\n",
       "                              genres           box_office  \n",
       "2053                       мелодрама        10,234,016.10  \n",
       "2058                           драма       446,163,511.00  \n",
       "2472           боевик,драма,криминал       196,572,438.40  \n",
       "2532                 комедия,фэнтези        67,418,974.80  \n",
       "2615  мультфильм,приключения,фэнтези       184,487,551.40  \n",
       "2684                   комедия,драма         1,957,738.51  \n",
       "2788               комедия,мелодрама        72,937,783.20  \n",
       "2874                         комедия        15,362,931.43  \n",
       "3047               комедия,мелодрама        70,299,052.00  \n",
       "3565                      фантастика     1,038,321,489.00  \n",
       "3675     мультфильм,фэнтези,семейный        55,108,014.76  \n",
       "3739                         комедия        50,451,949.00  \n",
       "5673                   триллер,драма       225,196,400.03  \n",
       "5806              мультфильм,детский       106,514,301.03  \n",
       "6008      мультфильм,фэнтези,детский        83,366,328.66  \n",
       "6323                             NaN         1,334,699.40  \n",
       "6823  мультфильм,комедия,приключения       147,606,826.51  "
      ]
     },
     "execution_count": 37,
     "metadata": {},
     "output_type": "execute_result"
    }
   ],
   "source": [
    "data.loc[data['refundable_support'] + data['nonrefundable_support'] >= data['budget']]"
   ]
  },
  {
   "cell_type": "code",
   "execution_count": 38,
   "metadata": {},
   "outputs": [
    {
     "data": {
      "text/html": [
       "<div>\n",
       "<style scoped>\n",
       "    .dataframe tbody tr th:only-of-type {\n",
       "        vertical-align: middle;\n",
       "    }\n",
       "\n",
       "    .dataframe tbody tr th {\n",
       "        vertical-align: top;\n",
       "    }\n",
       "\n",
       "    .dataframe thead th {\n",
       "        text-align: right;\n",
       "    }\n",
       "</style>\n",
       "<table border=\"1\" class=\"dataframe\">\n",
       "  <thead>\n",
       "    <tr style=\"text-align: right;\">\n",
       "      <th></th>\n",
       "      <th>title</th>\n",
       "      <th>puNumber</th>\n",
       "      <th>show_start_date</th>\n",
       "      <th>type</th>\n",
       "      <th>film_studio</th>\n",
       "      <th>production_country</th>\n",
       "      <th>director</th>\n",
       "      <th>producer</th>\n",
       "      <th>age_restriction</th>\n",
       "      <th>refundable_support</th>\n",
       "      <th>nonrefundable_support</th>\n",
       "      <th>budget</th>\n",
       "      <th>financing_source</th>\n",
       "      <th>ratings</th>\n",
       "      <th>genres</th>\n",
       "      <th>box_office</th>\n",
       "    </tr>\n",
       "  </thead>\n",
       "  <tbody>\n",
       "    <tr>\n",
       "      <th>2053</th>\n",
       "      <td>14+</td>\n",
       "      <td>111023614</td>\n",
       "      <td>2014-12-19 12:00:00+00:00</td>\n",
       "      <td>Художественный</td>\n",
       "      <td>ООО Киностудия  \"Сентябрь\"</td>\n",
       "      <td>Россия</td>\n",
       "      <td>А.Зайцев</td>\n",
       "      <td>О.Гранина, А.Зайцев</td>\n",
       "      <td>«16+» - для детей старше 16 лет</td>\n",
       "      <td>0.00</td>\n",
       "      <td>0.00</td>\n",
       "      <td>0.00</td>\n",
       "      <td>Министерство культуры, Фонд кино</td>\n",
       "      <td>6.60</td>\n",
       "      <td>мелодрама</td>\n",
       "      <td>10,234,016.10</td>\n",
       "    </tr>\n",
       "    <tr>\n",
       "      <th>2058</th>\n",
       "      <td>Дуxless 2</td>\n",
       "      <td>111000415</td>\n",
       "      <td>2015-01-26 12:00:00+00:00</td>\n",
       "      <td>Художественный</td>\n",
       "      <td>ООО \"Киностудия \"Слово\", ООО \"Арт Пикчерс Студия\"</td>\n",
       "      <td>Россия</td>\n",
       "      <td>Р.Прыгунов</td>\n",
       "      <td>П.Ануров, Ф.Бондарчук, Д.Рудовский</td>\n",
       "      <td>«16+» - для детей старше 16 лет</td>\n",
       "      <td>0.00</td>\n",
       "      <td>0.00</td>\n",
       "      <td>0.00</td>\n",
       "      <td>Фонд кино</td>\n",
       "      <td>6.60</td>\n",
       "      <td>драма</td>\n",
       "      <td>446,163,511.00</td>\n",
       "    </tr>\n",
       "    <tr>\n",
       "      <th>2472</th>\n",
       "      <td>Воин (2015)</td>\n",
       "      <td>111017315</td>\n",
       "      <td>2015-09-28 12:00:00+00:00</td>\n",
       "      <td>Художественный</td>\n",
       "      <td>ООО \"Форпост Продакшн\", ООО \"Арт Пикчерс Студия\"</td>\n",
       "      <td>Россия</td>\n",
       "      <td>А.Андрианов</td>\n",
       "      <td>ООО \"Арт Пикчерс Студия\"</td>\n",
       "      <td>«12+» - для детей старше 12 лет</td>\n",
       "      <td>0.00</td>\n",
       "      <td>0.00</td>\n",
       "      <td>0.00</td>\n",
       "      <td>Фонд кино</td>\n",
       "      <td>7.80</td>\n",
       "      <td>боевик,драма,криминал</td>\n",
       "      <td>196,572,438.40</td>\n",
       "    </tr>\n",
       "    <tr>\n",
       "      <th>2532</th>\n",
       "      <td>Бармен.</td>\n",
       "      <td>111009615</td>\n",
       "      <td>2015-05-26 12:00:00+00:00</td>\n",
       "      <td>Художественный</td>\n",
       "      <td>АО \"ВайТ Медиа\", ООО \"Арт Пикчерс Студия\"</td>\n",
       "      <td>Россия</td>\n",
       "      <td>Д.Штурманова</td>\n",
       "      <td>Т.Вайнштейн</td>\n",
       "      <td>«16+» - для детей старше 16 лет</td>\n",
       "      <td>0.00</td>\n",
       "      <td>0.00</td>\n",
       "      <td>0.00</td>\n",
       "      <td>Фонд кино</td>\n",
       "      <td>6.20</td>\n",
       "      <td>комедия,фэнтези</td>\n",
       "      <td>67,418,974.80</td>\n",
       "    </tr>\n",
       "    <tr>\n",
       "      <th>2615</th>\n",
       "      <td>Савва. Сердце воина</td>\n",
       "      <td>114001715</td>\n",
       "      <td>2015-07-21 12:00:00+00:00</td>\n",
       "      <td>Анимационный</td>\n",
       "      <td>ООО \"Глюкоза Продакшн\", ООО \"Арт Пикчерс Студия\"</td>\n",
       "      <td>Россия</td>\n",
       "      <td>М.Фадеев</td>\n",
       "      <td>А.Чистяков</td>\n",
       "      <td>«6+» - для детей старше 6 лет</td>\n",
       "      <td>0.00</td>\n",
       "      <td>0.00</td>\n",
       "      <td>0.00</td>\n",
       "      <td>Фонд кино</td>\n",
       "      <td>4.60</td>\n",
       "      <td>мультфильм,приключения,фэнтези</td>\n",
       "      <td>184,487,551.40</td>\n",
       "    </tr>\n",
       "    <tr>\n",
       "      <th>2684</th>\n",
       "      <td>Тряпичный союз</td>\n",
       "      <td>111010215</td>\n",
       "      <td>2015-06-08 12:00:00+00:00</td>\n",
       "      <td>Художественный</td>\n",
       "      <td>ООО \"Кинокомпания \"КОКТЕБЕЛЬ\"</td>\n",
       "      <td>Россия</td>\n",
       "      <td>М.Местецкий</td>\n",
       "      <td>Р.Борисевич, А.Кушаев</td>\n",
       "      <td>«18+» - запрещено для детей</td>\n",
       "      <td>0.00</td>\n",
       "      <td>0.00</td>\n",
       "      <td>0.00</td>\n",
       "      <td>Фонд кино</td>\n",
       "      <td>6.30</td>\n",
       "      <td>комедия,драма</td>\n",
       "      <td>1,957,738.51</td>\n",
       "    </tr>\n",
       "    <tr>\n",
       "      <th>2788</th>\n",
       "      <td>Срочно выйду замуж</td>\n",
       "      <td>111017115</td>\n",
       "      <td>2015-09-30 12:00:00+00:00</td>\n",
       "      <td>Художественный</td>\n",
       "      <td>АО \"ВайТ Медиа\", ООО \"Арт Пикчерс Студия\"</td>\n",
       "      <td>Россия</td>\n",
       "      <td>С Чекалов</td>\n",
       "      <td>Ф.Бондарчук, Т.Вайнштейн, Д.Рудовский</td>\n",
       "      <td>«16+» - для детей старше 16 лет</td>\n",
       "      <td>0.00</td>\n",
       "      <td>0.00</td>\n",
       "      <td>0.00</td>\n",
       "      <td>Фонд кино</td>\n",
       "      <td>5.10</td>\n",
       "      <td>комедия,мелодрама</td>\n",
       "      <td>72,937,783.20</td>\n",
       "    </tr>\n",
       "    <tr>\n",
       "      <th>2874</th>\n",
       "      <td>Помню - не помню!</td>\n",
       "      <td>111004916</td>\n",
       "      <td>2016-03-01 12:00:00+00:00</td>\n",
       "      <td>Художественный</td>\n",
       "      <td>ООО \"КиноФирма\"</td>\n",
       "      <td>Россия</td>\n",
       "      <td>В.Ровенский</td>\n",
       "      <td>ООО \"КиноФирма\"</td>\n",
       "      <td>«12+» - для детей старше 12 лет</td>\n",
       "      <td>0.00</td>\n",
       "      <td>0.00</td>\n",
       "      <td>0.00</td>\n",
       "      <td>Министерство культуры</td>\n",
       "      <td>4.30</td>\n",
       "      <td>комедия</td>\n",
       "      <td>15,362,931.43</td>\n",
       "    </tr>\n",
       "    <tr>\n",
       "      <th>3047</th>\n",
       "      <td>Любовь с ограничениями</td>\n",
       "      <td>111008216</td>\n",
       "      <td>2016-04-29 12:00:00+00:00</td>\n",
       "      <td>Художественный</td>\n",
       "      <td>АО \"ВайТ Медиа\", ООО \"Арт Пикчерс Студия\"</td>\n",
       "      <td>Россия</td>\n",
       "      <td>Д.Тюрин</td>\n",
       "      <td>Ф.Бондарчук, Т.Вайнштейн, Д.Рудовский</td>\n",
       "      <td>«16+» - для детей старше 16 лет</td>\n",
       "      <td>0.00</td>\n",
       "      <td>0.00</td>\n",
       "      <td>0.00</td>\n",
       "      <td>Фонд кино</td>\n",
       "      <td>6.30</td>\n",
       "      <td>комедия,мелодрама</td>\n",
       "      <td>70,299,052.00</td>\n",
       "    </tr>\n",
       "    <tr>\n",
       "      <th>3565</th>\n",
       "      <td>Притяжение (2016)</td>\n",
       "      <td>111018116</td>\n",
       "      <td>2016-12-16 12:00:00+00:00</td>\n",
       "      <td>Художественный</td>\n",
       "      <td>ООО \"Водород 2011\",  ООО \"Арт Пикчерс Студия\"</td>\n",
       "      <td>Россия</td>\n",
       "      <td>Ф.Бондарчук</td>\n",
       "      <td>ООО \"Арт Пикчерс Студия\"</td>\n",
       "      <td>«12+» - для детей старше 12 лет</td>\n",
       "      <td>0.00</td>\n",
       "      <td>0.00</td>\n",
       "      <td>0.00</td>\n",
       "      <td>Фонд кино</td>\n",
       "      <td>5.60</td>\n",
       "      <td>фантастика</td>\n",
       "      <td>1,038,321,489.00</td>\n",
       "    </tr>\n",
       "    <tr>\n",
       "      <th>3675</th>\n",
       "      <td>Чудо-юдо</td>\n",
       "      <td>114001817</td>\n",
       "      <td>2017-06-27 12:00:00+00:00</td>\n",
       "      <td>Анимационный</td>\n",
       "      <td>ООО \"КиноФирма\"</td>\n",
       "      <td>Россия</td>\n",
       "      <td>А.Лукичев</td>\n",
       "      <td>ООО \"КиноФирма\"</td>\n",
       "      <td>«6+» - для детей старше 6 лет</td>\n",
       "      <td>0.00</td>\n",
       "      <td>0.00</td>\n",
       "      <td>0.00</td>\n",
       "      <td>Фонд кино</td>\n",
       "      <td>5.20</td>\n",
       "      <td>мультфильм,фэнтези,семейный</td>\n",
       "      <td>55,108,014.76</td>\n",
       "    </tr>\n",
       "    <tr>\n",
       "      <th>3739</th>\n",
       "      <td>Мифы</td>\n",
       "      <td>111004317</td>\n",
       "      <td>2017-06-07 12:00:00+00:00</td>\n",
       "      <td>Художественный</td>\n",
       "      <td>ООО \"ХАЙПФИЛМ\", ООО \"Арт Пикчерс Студия\"</td>\n",
       "      <td>Россия</td>\n",
       "      <td>А.Молочников</td>\n",
       "      <td>Ф.Бондарчук, Д.Рудовский, И.Стюарт, М.Османн, ...</td>\n",
       "      <td>«16+» - для детей старше 16 лет</td>\n",
       "      <td>0.00</td>\n",
       "      <td>0.00</td>\n",
       "      <td>0.00</td>\n",
       "      <td>Фонд кино</td>\n",
       "      <td>4.80</td>\n",
       "      <td>комедия</td>\n",
       "      <td>50,451,949.00</td>\n",
       "    </tr>\n",
       "    <tr>\n",
       "      <th>5673</th>\n",
       "      <td>Селфи</td>\n",
       "      <td>111012117</td>\n",
       "      <td>2018-02-01 12:00:00+00:00</td>\n",
       "      <td>Художественный</td>\n",
       "      <td>ООО \"Киностудия \"Слово\", ООО \"Арт Пикчерс Студия\"</td>\n",
       "      <td>Россия</td>\n",
       "      <td>Н.Хомерики</td>\n",
       "      <td>П.Ануров, Ф.Бондарчук, Д.Рудовский</td>\n",
       "      <td>«16+» - для детей старше 16 лет</td>\n",
       "      <td>0.00</td>\n",
       "      <td>0.00</td>\n",
       "      <td>0.00</td>\n",
       "      <td>Фонд кино</td>\n",
       "      <td>5.80</td>\n",
       "      <td>триллер,драма</td>\n",
       "      <td>225,196,400.03</td>\n",
       "    </tr>\n",
       "    <tr>\n",
       "      <th>5806</th>\n",
       "      <td>Два хвоста</td>\n",
       "      <td>114001018</td>\n",
       "      <td>2018-05-31 12:00:00+00:00</td>\n",
       "      <td>Анимационный</td>\n",
       "      <td>ООО \"ЛИЦЕНЗИОННЫЕ БРЕНДЫ\"</td>\n",
       "      <td>Россия</td>\n",
       "      <td>В.Ровенский, Н.Лопато, В.Азеев</td>\n",
       "      <td>ООО \"ЛИЦЕНЗИОННЫЕ БРЕНДЫ\"</td>\n",
       "      <td>«6+» - для детей старше 6 лет</td>\n",
       "      <td>0.00</td>\n",
       "      <td>0.00</td>\n",
       "      <td>0.00</td>\n",
       "      <td>Фонд кино</td>\n",
       "      <td>5.00</td>\n",
       "      <td>мультфильм,детский</td>\n",
       "      <td>106,514,301.03</td>\n",
       "    </tr>\n",
       "    <tr>\n",
       "      <th>6008</th>\n",
       "      <td>Принцесса и дракон</td>\n",
       "      <td>114003018</td>\n",
       "      <td>2018-08-23 12:00:00+00:00</td>\n",
       "      <td>Анимационный</td>\n",
       "      <td>ООО \"ЛИЦЕНЗИОННЫЕ БРЕНДЫ\"</td>\n",
       "      <td>Россия</td>\n",
       "      <td>М.Нефедова</td>\n",
       "      <td>ООО \"ЛИЦЕНЗИОННЫЕ БРЕНДЫ\"</td>\n",
       "      <td>«6+» - для детей старше 6 лет</td>\n",
       "      <td>0.00</td>\n",
       "      <td>0.00</td>\n",
       "      <td>0.00</td>\n",
       "      <td>Фонд кино</td>\n",
       "      <td>5.20</td>\n",
       "      <td>мультфильм,фэнтези,детский</td>\n",
       "      <td>83,366,328.66</td>\n",
       "    </tr>\n",
       "    <tr>\n",
       "      <th>6323</th>\n",
       "      <td>Баба Яга</td>\n",
       "      <td>114006518</td>\n",
       "      <td>2018-11-08 12:00:00+00:00</td>\n",
       "      <td>Анимационный</td>\n",
       "      <td>ООО \"Арт Пикчерс Студия\"</td>\n",
       "      <td>Россия</td>\n",
       "      <td>В.Саков</td>\n",
       "      <td>ООО \"Арт Пикчерс Студия\", ООО \"КРИЭЙТИВ АНИМЭЙ...</td>\n",
       "      <td>«6+» - для детей старше 6 лет</td>\n",
       "      <td>0.00</td>\n",
       "      <td>0.00</td>\n",
       "      <td>0.00</td>\n",
       "      <td>Фонд кино</td>\n",
       "      <td>NaN</td>\n",
       "      <td>NaN</td>\n",
       "      <td>1,334,699.40</td>\n",
       "    </tr>\n",
       "    <tr>\n",
       "      <th>6823</th>\n",
       "      <td>Большое путешествие</td>\n",
       "      <td>114002419</td>\n",
       "      <td>2019-04-20 12:00:00+00:00</td>\n",
       "      <td>Анимационный</td>\n",
       "      <td>ООО \"ЛИЦЕНЗИОННЫЕ БРЕНДЫ\"</td>\n",
       "      <td>Россия</td>\n",
       "      <td>Н.Лопато, В.Ровенский</td>\n",
       "      <td>ООО \"ЛИЦЕНЗИОННЫЕ БРЕНДЫ\"</td>\n",
       "      <td>«6+» - для детей старше 6 лет</td>\n",
       "      <td>0.00</td>\n",
       "      <td>0.00</td>\n",
       "      <td>0.00</td>\n",
       "      <td>Фонд кино</td>\n",
       "      <td>6.20</td>\n",
       "      <td>мультфильм,комедия,приключения</td>\n",
       "      <td>147,606,826.51</td>\n",
       "    </tr>\n",
       "  </tbody>\n",
       "</table>\n",
       "</div>"
      ],
      "text/plain": [
       "                       title   puNumber           show_start_date  \\\n",
       "2053                     14+  111023614 2014-12-19 12:00:00+00:00   \n",
       "2058               Дуxless 2  111000415 2015-01-26 12:00:00+00:00   \n",
       "2472             Воин (2015)  111017315 2015-09-28 12:00:00+00:00   \n",
       "2532                 Бармен.  111009615 2015-05-26 12:00:00+00:00   \n",
       "2615     Савва. Сердце воина  114001715 2015-07-21 12:00:00+00:00   \n",
       "2684          Тряпичный союз  111010215 2015-06-08 12:00:00+00:00   \n",
       "2788      Срочно выйду замуж  111017115 2015-09-30 12:00:00+00:00   \n",
       "2874       Помню - не помню!  111004916 2016-03-01 12:00:00+00:00   \n",
       "3047  Любовь с ограничениями  111008216 2016-04-29 12:00:00+00:00   \n",
       "3565       Притяжение (2016)  111018116 2016-12-16 12:00:00+00:00   \n",
       "3675                Чудо-юдо  114001817 2017-06-27 12:00:00+00:00   \n",
       "3739                    Мифы  111004317 2017-06-07 12:00:00+00:00   \n",
       "5673                   Селфи  111012117 2018-02-01 12:00:00+00:00   \n",
       "5806              Два хвоста  114001018 2018-05-31 12:00:00+00:00   \n",
       "6008      Принцесса и дракон  114003018 2018-08-23 12:00:00+00:00   \n",
       "6323                Баба Яга  114006518 2018-11-08 12:00:00+00:00   \n",
       "6823     Большое путешествие  114002419 2019-04-20 12:00:00+00:00   \n",
       "\n",
       "                type                                        film_studio  \\\n",
       "2053  Художественный                         ООО Киностудия  \"Сентябрь\"   \n",
       "2058  Художественный  ООО \"Киностудия \"Слово\", ООО \"Арт Пикчерс Студия\"   \n",
       "2472  Художественный   ООО \"Форпост Продакшн\", ООО \"Арт Пикчерс Студия\"   \n",
       "2532  Художественный          АО \"ВайТ Медиа\", ООО \"Арт Пикчерс Студия\"   \n",
       "2615    Анимационный   ООО \"Глюкоза Продакшн\", ООО \"Арт Пикчерс Студия\"   \n",
       "2684  Художественный                      ООО \"Кинокомпания \"КОКТЕБЕЛЬ\"   \n",
       "2788  Художественный          АО \"ВайТ Медиа\", ООО \"Арт Пикчерс Студия\"   \n",
       "2874  Художественный                                    ООО \"КиноФирма\"   \n",
       "3047  Художественный          АО \"ВайТ Медиа\", ООО \"Арт Пикчерс Студия\"   \n",
       "3565  Художественный      ООО \"Водород 2011\",  ООО \"Арт Пикчерс Студия\"   \n",
       "3675    Анимационный                                    ООО \"КиноФирма\"   \n",
       "3739  Художественный           ООО \"ХАЙПФИЛМ\", ООО \"Арт Пикчерс Студия\"   \n",
       "5673  Художественный  ООО \"Киностудия \"Слово\", ООО \"Арт Пикчерс Студия\"   \n",
       "5806    Анимационный                          ООО \"ЛИЦЕНЗИОННЫЕ БРЕНДЫ\"   \n",
       "6008    Анимационный                          ООО \"ЛИЦЕНЗИОННЫЕ БРЕНДЫ\"   \n",
       "6323    Анимационный                           ООО \"Арт Пикчерс Студия\"   \n",
       "6823    Анимационный                          ООО \"ЛИЦЕНЗИОННЫЕ БРЕНДЫ\"   \n",
       "\n",
       "     production_country                        director  \\\n",
       "2053             Россия                        А.Зайцев   \n",
       "2058             Россия                      Р.Прыгунов   \n",
       "2472             Россия                     А.Андрианов   \n",
       "2532             Россия                    Д.Штурманова   \n",
       "2615             Россия                        М.Фадеев   \n",
       "2684             Россия                     М.Местецкий   \n",
       "2788             Россия                       С Чекалов   \n",
       "2874             Россия                     В.Ровенский   \n",
       "3047             Россия                         Д.Тюрин   \n",
       "3565             Россия                     Ф.Бондарчук   \n",
       "3675             Россия                       А.Лукичев   \n",
       "3739             Россия                    А.Молочников   \n",
       "5673             Россия                      Н.Хомерики   \n",
       "5806             Россия  В.Ровенский, Н.Лопато, В.Азеев   \n",
       "6008             Россия                      М.Нефедова   \n",
       "6323             Россия                         В.Саков   \n",
       "6823             Россия           Н.Лопато, В.Ровенский   \n",
       "\n",
       "                                               producer  \\\n",
       "2053                                О.Гранина, А.Зайцев   \n",
       "2058                 П.Ануров, Ф.Бондарчук, Д.Рудовский   \n",
       "2472                           ООО \"Арт Пикчерс Студия\"   \n",
       "2532                                        Т.Вайнштейн   \n",
       "2615                                         А.Чистяков   \n",
       "2684                              Р.Борисевич, А.Кушаев   \n",
       "2788              Ф.Бондарчук, Т.Вайнштейн, Д.Рудовский   \n",
       "2874                                    ООО \"КиноФирма\"   \n",
       "3047              Ф.Бондарчук, Т.Вайнштейн, Д.Рудовский   \n",
       "3565                           ООО \"Арт Пикчерс Студия\"   \n",
       "3675                                    ООО \"КиноФирма\"   \n",
       "3739  Ф.Бондарчук, Д.Рудовский, И.Стюарт, М.Османн, ...   \n",
       "5673                 П.Ануров, Ф.Бондарчук, Д.Рудовский   \n",
       "5806                          ООО \"ЛИЦЕНЗИОННЫЕ БРЕНДЫ\"   \n",
       "6008                          ООО \"ЛИЦЕНЗИОННЫЕ БРЕНДЫ\"   \n",
       "6323  ООО \"Арт Пикчерс Студия\", ООО \"КРИЭЙТИВ АНИМЭЙ...   \n",
       "6823                          ООО \"ЛИЦЕНЗИОННЫЕ БРЕНДЫ\"   \n",
       "\n",
       "                      age_restriction   refundable_support  \\\n",
       "2053  «16+» - для детей старше 16 лет                 0.00   \n",
       "2058  «16+» - для детей старше 16 лет                 0.00   \n",
       "2472  «12+» - для детей старше 12 лет                 0.00   \n",
       "2532  «16+» - для детей старше 16 лет                 0.00   \n",
       "2615    «6+» - для детей старше 6 лет                 0.00   \n",
       "2684      «18+» - запрещено для детей                 0.00   \n",
       "2788  «16+» - для детей старше 16 лет                 0.00   \n",
       "2874  «12+» - для детей старше 12 лет                 0.00   \n",
       "3047  «16+» - для детей старше 16 лет                 0.00   \n",
       "3565  «12+» - для детей старше 12 лет                 0.00   \n",
       "3675    «6+» - для детей старше 6 лет                 0.00   \n",
       "3739  «16+» - для детей старше 16 лет                 0.00   \n",
       "5673  «16+» - для детей старше 16 лет                 0.00   \n",
       "5806    «6+» - для детей старше 6 лет                 0.00   \n",
       "6008    «6+» - для детей старше 6 лет                 0.00   \n",
       "6323    «6+» - для детей старше 6 лет                 0.00   \n",
       "6823    «6+» - для детей старше 6 лет                 0.00   \n",
       "\n",
       "      nonrefundable_support               budget  \\\n",
       "2053                   0.00                 0.00   \n",
       "2058                   0.00                 0.00   \n",
       "2472                   0.00                 0.00   \n",
       "2532                   0.00                 0.00   \n",
       "2615                   0.00                 0.00   \n",
       "2684                   0.00                 0.00   \n",
       "2788                   0.00                 0.00   \n",
       "2874                   0.00                 0.00   \n",
       "3047                   0.00                 0.00   \n",
       "3565                   0.00                 0.00   \n",
       "3675                   0.00                 0.00   \n",
       "3739                   0.00                 0.00   \n",
       "5673                   0.00                 0.00   \n",
       "5806                   0.00                 0.00   \n",
       "6008                   0.00                 0.00   \n",
       "6323                   0.00                 0.00   \n",
       "6823                   0.00                 0.00   \n",
       "\n",
       "                      financing_source              ratings  \\\n",
       "2053  Министерство культуры, Фонд кино                 6.60   \n",
       "2058                         Фонд кино                 6.60   \n",
       "2472                         Фонд кино                 7.80   \n",
       "2532                         Фонд кино                 6.20   \n",
       "2615                         Фонд кино                 4.60   \n",
       "2684                         Фонд кино                 6.30   \n",
       "2788                         Фонд кино                 5.10   \n",
       "2874             Министерство культуры                 4.30   \n",
       "3047                         Фонд кино                 6.30   \n",
       "3565                         Фонд кино                 5.60   \n",
       "3675                         Фонд кино                 5.20   \n",
       "3739                         Фонд кино                 4.80   \n",
       "5673                         Фонд кино                 5.80   \n",
       "5806                         Фонд кино                 5.00   \n",
       "6008                         Фонд кино                 5.20   \n",
       "6323                         Фонд кино                  NaN   \n",
       "6823                         Фонд кино                 6.20   \n",
       "\n",
       "                              genres           box_office  \n",
       "2053                       мелодрама        10,234,016.10  \n",
       "2058                           драма       446,163,511.00  \n",
       "2472           боевик,драма,криминал       196,572,438.40  \n",
       "2532                 комедия,фэнтези        67,418,974.80  \n",
       "2615  мультфильм,приключения,фэнтези       184,487,551.40  \n",
       "2684                   комедия,драма         1,957,738.51  \n",
       "2788               комедия,мелодрама        72,937,783.20  \n",
       "2874                         комедия        15,362,931.43  \n",
       "3047               комедия,мелодрама        70,299,052.00  \n",
       "3565                      фантастика     1,038,321,489.00  \n",
       "3675     мультфильм,фэнтези,семейный        55,108,014.76  \n",
       "3739                         комедия        50,451,949.00  \n",
       "5673                   триллер,драма       225,196,400.03  \n",
       "5806              мультфильм,детский       106,514,301.03  \n",
       "6008      мультфильм,фэнтези,детский        83,366,328.66  \n",
       "6323                             NaN         1,334,699.40  \n",
       "6823  мультфильм,комедия,приключения       147,606,826.51  "
      ]
     },
     "execution_count": 38,
     "metadata": {},
     "output_type": "execute_result"
    }
   ],
   "source": [
    "data.loc[(data['refundable_support'] > 0) & (data['budget'] == 0), 'refundable_support'] = 0\n",
    "data.loc[(data['nonrefundable_support'] > 0) & (data['budget'] == 0), 'nonrefundable_support'] = 0\n",
    "data.loc[data['refundable_support'] + data['nonrefundable_support'] >= data['budget']]"
   ]
  },
  {
   "cell_type": "markdown",
   "metadata": {},
   "source": [
    "Столбцами с количественными значениями являются следующие столбцы:  \n",
    "- show_start_date    \n",
    "- refundable_support    \n",
    "- nonrefundable_support    \n",
    "- budget  \n",
    "- ratings  \n",
    "Отклоние, медиана и размах в этих столбцах находятся в пределах нормы, как и экстремумы. Из описания столбца budget следует, что он включает в себя сумму значений столбцов refundable_support и nonrefundable_support. Также столбец budget имеет с вышеуказанными столбцами положительную корреляцию.  \n",
    "В 17 строках обнаружилась ошибка - значение в столбце бюджет было меньше суммы значений в столбцах господдержки. Достоверно указать размер бюджета мы не может, поэтому будет лучше обнулить в таких строках информацию о размере господдержки."
   ]
  },
  {
   "cell_type": "markdown",
   "metadata": {
    "id": "Eu6oWp2CgFyS"
   },
   "source": [
    "#### Шаг 2.6. Добавим новые столбцы\n",
    "\n",
    "\n",
    "\n"
   ]
  },
  {
   "cell_type": "markdown",
   "metadata": {
    "id": "7GgW-UpAgFyS"
   },
   "source": [
    "- Создадим столбец с информацией о годе проката. Выделим год из даты премьеры фильма."
   ]
  },
  {
   "cell_type": "code",
   "execution_count": 39,
   "metadata": {
    "id": "I-yd1DkWgFyT"
   },
   "outputs": [
    {
     "data": {
      "text/html": [
       "<div>\n",
       "<style scoped>\n",
       "    .dataframe tbody tr th:only-of-type {\n",
       "        vertical-align: middle;\n",
       "    }\n",
       "\n",
       "    .dataframe tbody tr th {\n",
       "        vertical-align: top;\n",
       "    }\n",
       "\n",
       "    .dataframe thead th {\n",
       "        text-align: right;\n",
       "    }\n",
       "</style>\n",
       "<table border=\"1\" class=\"dataframe\">\n",
       "  <thead>\n",
       "    <tr style=\"text-align: right;\">\n",
       "      <th></th>\n",
       "      <th>title</th>\n",
       "      <th>puNumber</th>\n",
       "      <th>show_start_date</th>\n",
       "      <th>type</th>\n",
       "      <th>film_studio</th>\n",
       "      <th>production_country</th>\n",
       "      <th>director</th>\n",
       "      <th>producer</th>\n",
       "      <th>age_restriction</th>\n",
       "      <th>refundable_support</th>\n",
       "      <th>nonrefundable_support</th>\n",
       "      <th>budget</th>\n",
       "      <th>financing_source</th>\n",
       "      <th>ratings</th>\n",
       "      <th>genres</th>\n",
       "      <th>box_office</th>\n",
       "      <th>show_year</th>\n",
       "    </tr>\n",
       "  </thead>\n",
       "  <tbody>\n",
       "    <tr>\n",
       "      <th>0</th>\n",
       "      <td>Открытый простор</td>\n",
       "      <td>221048915</td>\n",
       "      <td>2015-11-27 12:00:00+00:00</td>\n",
       "      <td>Художественный</td>\n",
       "      <td>Тачстоун Пикчерз, Кобальт Пикчерз, Бикон Пикче...</td>\n",
       "      <td>США</td>\n",
       "      <td>Кевин Костнер</td>\n",
       "      <td>Дэвид Валдес, Кевин Костнер, Джейк Эбертс</td>\n",
       "      <td>«18+» - запрещено для детей</td>\n",
       "      <td>NaN</td>\n",
       "      <td>NaN</td>\n",
       "      <td>NaN</td>\n",
       "      <td>NaN</td>\n",
       "      <td>7.20</td>\n",
       "      <td>боевик,драма,мелодрама</td>\n",
       "      <td>NaN</td>\n",
       "      <td>2015</td>\n",
       "    </tr>\n",
       "    <tr>\n",
       "      <th>1</th>\n",
       "      <td>Особо важное задание</td>\n",
       "      <td>111013716</td>\n",
       "      <td>2016-09-13 12:00:00+00:00</td>\n",
       "      <td>Художественный</td>\n",
       "      <td>Киностудия \"Мосфильм\"</td>\n",
       "      <td>СССР</td>\n",
       "      <td>Е.Матвеев</td>\n",
       "      <td>NaN</td>\n",
       "      <td>«6+» - для детей старше 6 лет</td>\n",
       "      <td>NaN</td>\n",
       "      <td>NaN</td>\n",
       "      <td>NaN</td>\n",
       "      <td>NaN</td>\n",
       "      <td>6.60</td>\n",
       "      <td>драма,военный</td>\n",
       "      <td>NaN</td>\n",
       "      <td>2016</td>\n",
       "    </tr>\n",
       "    <tr>\n",
       "      <th>2</th>\n",
       "      <td>Особо опасен</td>\n",
       "      <td>221038416</td>\n",
       "      <td>2016-10-10 12:00:00+00:00</td>\n",
       "      <td>Художественный</td>\n",
       "      <td>Юниверсал Пикчерз, Кикстарт Продакшнз, Марк Пл...</td>\n",
       "      <td>США</td>\n",
       "      <td>Тимур Бекмамбетов</td>\n",
       "      <td>Джим Лемли, Джейсон Нетер, Марк Е.Платт, Яйн Смит</td>\n",
       "      <td>«18+» - запрещено для детей</td>\n",
       "      <td>NaN</td>\n",
       "      <td>NaN</td>\n",
       "      <td>NaN</td>\n",
       "      <td>NaN</td>\n",
       "      <td>6.80</td>\n",
       "      <td>фантастика,боевик,триллер</td>\n",
       "      <td>NaN</td>\n",
       "      <td>2016</td>\n",
       "    </tr>\n",
       "    <tr>\n",
       "      <th>3</th>\n",
       "      <td>Особо опасен</td>\n",
       "      <td>221026916</td>\n",
       "      <td>2016-06-10 12:00:00+00:00</td>\n",
       "      <td>Художественный</td>\n",
       "      <td>Юниверсал Пикчерз, Кикстарт Продакшнз, Марк Пл...</td>\n",
       "      <td>США</td>\n",
       "      <td>Тимур Бекмамбетов</td>\n",
       "      <td>Джим Лемли, Джейсон Нетер, Марк Е.Платт, Яйн Смит</td>\n",
       "      <td>«18+» - запрещено для детей</td>\n",
       "      <td>NaN</td>\n",
       "      <td>NaN</td>\n",
       "      <td>NaN</td>\n",
       "      <td>NaN</td>\n",
       "      <td>6.80</td>\n",
       "      <td>фантастика,боевик,триллер</td>\n",
       "      <td>NaN</td>\n",
       "      <td>2016</td>\n",
       "    </tr>\n",
       "    <tr>\n",
       "      <th>4</th>\n",
       "      <td>Особо опасен</td>\n",
       "      <td>221030815</td>\n",
       "      <td>2015-07-29 12:00:00+00:00</td>\n",
       "      <td>Художественный</td>\n",
       "      <td>Юниверсал Пикчерз, Кикстарт Продакшнз, Марк Пл...</td>\n",
       "      <td>США</td>\n",
       "      <td>Тимур Бекмамбетов</td>\n",
       "      <td>Джим Лемли, Джейсон Нетер, Марк Е.Платт, Яйн Смит</td>\n",
       "      <td>«18+» - запрещено для детей</td>\n",
       "      <td>NaN</td>\n",
       "      <td>NaN</td>\n",
       "      <td>NaN</td>\n",
       "      <td>NaN</td>\n",
       "      <td>6.80</td>\n",
       "      <td>фантастика,боевик,триллер</td>\n",
       "      <td>NaN</td>\n",
       "      <td>2015</td>\n",
       "    </tr>\n",
       "  </tbody>\n",
       "</table>\n",
       "</div>"
      ],
      "text/plain": [
       "                  title   puNumber           show_start_date            type  \\\n",
       "0      Открытый простор  221048915 2015-11-27 12:00:00+00:00  Художественный   \n",
       "1  Особо важное задание  111013716 2016-09-13 12:00:00+00:00  Художественный   \n",
       "2          Особо опасен  221038416 2016-10-10 12:00:00+00:00  Художественный   \n",
       "3          Особо опасен  221026916 2016-06-10 12:00:00+00:00  Художественный   \n",
       "4          Особо опасен  221030815 2015-07-29 12:00:00+00:00  Художественный   \n",
       "\n",
       "                                         film_studio production_country  \\\n",
       "0  Тачстоун Пикчерз, Кобальт Пикчерз, Бикон Пикче...                США   \n",
       "1                              Киностудия \"Мосфильм\"               СССР   \n",
       "2  Юниверсал Пикчерз, Кикстарт Продакшнз, Марк Пл...                США   \n",
       "3  Юниверсал Пикчерз, Кикстарт Продакшнз, Марк Пл...                США   \n",
       "4  Юниверсал Пикчерз, Кикстарт Продакшнз, Марк Пл...                США   \n",
       "\n",
       "            director                                           producer  \\\n",
       "0      Кевин Костнер          Дэвид Валдес, Кевин Костнер, Джейк Эбертс   \n",
       "1          Е.Матвеев                                                NaN   \n",
       "2  Тимур Бекмамбетов  Джим Лемли, Джейсон Нетер, Марк Е.Платт, Яйн Смит   \n",
       "3  Тимур Бекмамбетов  Джим Лемли, Джейсон Нетер, Марк Е.Платт, Яйн Смит   \n",
       "4  Тимур Бекмамбетов  Джим Лемли, Джейсон Нетер, Марк Е.Платт, Яйн Смит   \n",
       "\n",
       "                 age_restriction  refundable_support  nonrefundable_support  \\\n",
       "0    «18+» - запрещено для детей                 NaN                    NaN   \n",
       "1  «6+» - для детей старше 6 лет                 NaN                    NaN   \n",
       "2    «18+» - запрещено для детей                 NaN                    NaN   \n",
       "3    «18+» - запрещено для детей                 NaN                    NaN   \n",
       "4    «18+» - запрещено для детей                 NaN                    NaN   \n",
       "\n",
       "   budget financing_source              ratings                     genres  \\\n",
       "0     NaN              NaN                 7.20     боевик,драма,мелодрама   \n",
       "1     NaN              NaN                 6.60              драма,военный   \n",
       "2     NaN              NaN                 6.80  фантастика,боевик,триллер   \n",
       "3     NaN              NaN                 6.80  фантастика,боевик,триллер   \n",
       "4     NaN              NaN                 6.80  фантастика,боевик,триллер   \n",
       "\n",
       "   box_office  show_year  \n",
       "0         NaN       2015  \n",
       "1         NaN       2016  \n",
       "2         NaN       2016  \n",
       "3         NaN       2016  \n",
       "4         NaN       2015  "
      ]
     },
     "execution_count": 39,
     "metadata": {},
     "output_type": "execute_result"
    }
   ],
   "source": [
    "data['show_year'] = data['show_start_date'].dt.year\n",
    "data.head()"
   ]
  },
  {
   "cell_type": "markdown",
   "metadata": {
    "id": "nFTDLDYOgFyT"
   },
   "source": [
    "- Создадим два столбца: с именем и фамилией главного режиссёра и основным жанром фильма. В столбцы войдут первые значения из списка режиссёров и жанров соответственно.\n",
    "\n",
    "<div id=\"accordion\">\n",
    "    <div class=\"card\">\n",
    "        <div class=\"card-header\" id=\"headingThree\">\n",
    "            <button class=\"btn btn-link collapsed\" data-toggle=\"collapse\" data-target=\"#collapseHint_2\" aria-expanded=\"false\" aria-controls=\"collapseHint_2\">Подсказка</button>\n",
    "        </div>\n",
    "        <div id=\"collapseHint_2\" class=\"collapse\" aria-labelledby=\"headingThree\" data-parent=\"#accordion\">\n",
    "            <div class=\"card-body\">\n",
    "Чтобы создать такие столбцы, лучше всего использовать собственную функцию. Эту функцию можно применить к двум столбцам сразу. \n",
    "            </div>\n",
    "        </div>\n",
    "    </div>\n",
    "</div>"
   ]
  },
  {
   "cell_type": "code",
   "execution_count": 40,
   "metadata": {
    "id": "LSbRZKbMgFyU"
   },
   "outputs": [
    {
     "data": {
      "text/html": [
       "<div>\n",
       "<style scoped>\n",
       "    .dataframe tbody tr th:only-of-type {\n",
       "        vertical-align: middle;\n",
       "    }\n",
       "\n",
       "    .dataframe tbody tr th {\n",
       "        vertical-align: top;\n",
       "    }\n",
       "\n",
       "    .dataframe thead th {\n",
       "        text-align: right;\n",
       "    }\n",
       "</style>\n",
       "<table border=\"1\" class=\"dataframe\">\n",
       "  <thead>\n",
       "    <tr style=\"text-align: right;\">\n",
       "      <th></th>\n",
       "      <th>title</th>\n",
       "      <th>puNumber</th>\n",
       "      <th>show_start_date</th>\n",
       "      <th>type</th>\n",
       "      <th>film_studio</th>\n",
       "      <th>production_country</th>\n",
       "      <th>director</th>\n",
       "      <th>producer</th>\n",
       "      <th>age_restriction</th>\n",
       "      <th>refundable_support</th>\n",
       "      <th>nonrefundable_support</th>\n",
       "      <th>budget</th>\n",
       "      <th>financing_source</th>\n",
       "      <th>ratings</th>\n",
       "      <th>genres</th>\n",
       "      <th>box_office</th>\n",
       "      <th>show_year</th>\n",
       "      <th>main_director</th>\n",
       "      <th>main_genre</th>\n",
       "    </tr>\n",
       "  </thead>\n",
       "  <tbody>\n",
       "    <tr>\n",
       "      <th>0</th>\n",
       "      <td>Открытый простор</td>\n",
       "      <td>221048915</td>\n",
       "      <td>2015-11-27 12:00:00+00:00</td>\n",
       "      <td>Художественный</td>\n",
       "      <td>Тачстоун Пикчерз, Кобальт Пикчерз, Бикон Пикче...</td>\n",
       "      <td>США</td>\n",
       "      <td>Кевин Костнер</td>\n",
       "      <td>Дэвид Валдес, Кевин Костнер, Джейк Эбертс</td>\n",
       "      <td>«18+» - запрещено для детей</td>\n",
       "      <td>NaN</td>\n",
       "      <td>NaN</td>\n",
       "      <td>NaN</td>\n",
       "      <td>NaN</td>\n",
       "      <td>7.20</td>\n",
       "      <td>боевик,драма,мелодрама</td>\n",
       "      <td>NaN</td>\n",
       "      <td>2015</td>\n",
       "      <td>Кевин Костнер</td>\n",
       "      <td>боевик</td>\n",
       "    </tr>\n",
       "    <tr>\n",
       "      <th>1</th>\n",
       "      <td>Особо важное задание</td>\n",
       "      <td>111013716</td>\n",
       "      <td>2016-09-13 12:00:00+00:00</td>\n",
       "      <td>Художественный</td>\n",
       "      <td>Киностудия \"Мосфильм\"</td>\n",
       "      <td>СССР</td>\n",
       "      <td>Е.Матвеев</td>\n",
       "      <td>NaN</td>\n",
       "      <td>«6+» - для детей старше 6 лет</td>\n",
       "      <td>NaN</td>\n",
       "      <td>NaN</td>\n",
       "      <td>NaN</td>\n",
       "      <td>NaN</td>\n",
       "      <td>6.60</td>\n",
       "      <td>драма,военный</td>\n",
       "      <td>NaN</td>\n",
       "      <td>2016</td>\n",
       "      <td>Е.Матвеев</td>\n",
       "      <td>драма</td>\n",
       "    </tr>\n",
       "    <tr>\n",
       "      <th>2</th>\n",
       "      <td>Особо опасен</td>\n",
       "      <td>221038416</td>\n",
       "      <td>2016-10-10 12:00:00+00:00</td>\n",
       "      <td>Художественный</td>\n",
       "      <td>Юниверсал Пикчерз, Кикстарт Продакшнз, Марк Пл...</td>\n",
       "      <td>США</td>\n",
       "      <td>Тимур Бекмамбетов</td>\n",
       "      <td>Джим Лемли, Джейсон Нетер, Марк Е.Платт, Яйн Смит</td>\n",
       "      <td>«18+» - запрещено для детей</td>\n",
       "      <td>NaN</td>\n",
       "      <td>NaN</td>\n",
       "      <td>NaN</td>\n",
       "      <td>NaN</td>\n",
       "      <td>6.80</td>\n",
       "      <td>фантастика,боевик,триллер</td>\n",
       "      <td>NaN</td>\n",
       "      <td>2016</td>\n",
       "      <td>Тимур Бекмамбетов</td>\n",
       "      <td>фантастика</td>\n",
       "    </tr>\n",
       "    <tr>\n",
       "      <th>3</th>\n",
       "      <td>Особо опасен</td>\n",
       "      <td>221026916</td>\n",
       "      <td>2016-06-10 12:00:00+00:00</td>\n",
       "      <td>Художественный</td>\n",
       "      <td>Юниверсал Пикчерз, Кикстарт Продакшнз, Марк Пл...</td>\n",
       "      <td>США</td>\n",
       "      <td>Тимур Бекмамбетов</td>\n",
       "      <td>Джим Лемли, Джейсон Нетер, Марк Е.Платт, Яйн Смит</td>\n",
       "      <td>«18+» - запрещено для детей</td>\n",
       "      <td>NaN</td>\n",
       "      <td>NaN</td>\n",
       "      <td>NaN</td>\n",
       "      <td>NaN</td>\n",
       "      <td>6.80</td>\n",
       "      <td>фантастика,боевик,триллер</td>\n",
       "      <td>NaN</td>\n",
       "      <td>2016</td>\n",
       "      <td>Тимур Бекмамбетов</td>\n",
       "      <td>фантастика</td>\n",
       "    </tr>\n",
       "    <tr>\n",
       "      <th>4</th>\n",
       "      <td>Особо опасен</td>\n",
       "      <td>221030815</td>\n",
       "      <td>2015-07-29 12:00:00+00:00</td>\n",
       "      <td>Художественный</td>\n",
       "      <td>Юниверсал Пикчерз, Кикстарт Продакшнз, Марк Пл...</td>\n",
       "      <td>США</td>\n",
       "      <td>Тимур Бекмамбетов</td>\n",
       "      <td>Джим Лемли, Джейсон Нетер, Марк Е.Платт, Яйн Смит</td>\n",
       "      <td>«18+» - запрещено для детей</td>\n",
       "      <td>NaN</td>\n",
       "      <td>NaN</td>\n",
       "      <td>NaN</td>\n",
       "      <td>NaN</td>\n",
       "      <td>6.80</td>\n",
       "      <td>фантастика,боевик,триллер</td>\n",
       "      <td>NaN</td>\n",
       "      <td>2015</td>\n",
       "      <td>Тимур Бекмамбетов</td>\n",
       "      <td>фантастика</td>\n",
       "    </tr>\n",
       "  </tbody>\n",
       "</table>\n",
       "</div>"
      ],
      "text/plain": [
       "                  title   puNumber           show_start_date            type  \\\n",
       "0      Открытый простор  221048915 2015-11-27 12:00:00+00:00  Художественный   \n",
       "1  Особо важное задание  111013716 2016-09-13 12:00:00+00:00  Художественный   \n",
       "2          Особо опасен  221038416 2016-10-10 12:00:00+00:00  Художественный   \n",
       "3          Особо опасен  221026916 2016-06-10 12:00:00+00:00  Художественный   \n",
       "4          Особо опасен  221030815 2015-07-29 12:00:00+00:00  Художественный   \n",
       "\n",
       "                                         film_studio production_country  \\\n",
       "0  Тачстоун Пикчерз, Кобальт Пикчерз, Бикон Пикче...                США   \n",
       "1                              Киностудия \"Мосфильм\"               СССР   \n",
       "2  Юниверсал Пикчерз, Кикстарт Продакшнз, Марк Пл...                США   \n",
       "3  Юниверсал Пикчерз, Кикстарт Продакшнз, Марк Пл...                США   \n",
       "4  Юниверсал Пикчерз, Кикстарт Продакшнз, Марк Пл...                США   \n",
       "\n",
       "            director                                           producer  \\\n",
       "0      Кевин Костнер          Дэвид Валдес, Кевин Костнер, Джейк Эбертс   \n",
       "1          Е.Матвеев                                                NaN   \n",
       "2  Тимур Бекмамбетов  Джим Лемли, Джейсон Нетер, Марк Е.Платт, Яйн Смит   \n",
       "3  Тимур Бекмамбетов  Джим Лемли, Джейсон Нетер, Марк Е.Платт, Яйн Смит   \n",
       "4  Тимур Бекмамбетов  Джим Лемли, Джейсон Нетер, Марк Е.Платт, Яйн Смит   \n",
       "\n",
       "                 age_restriction  refundable_support  nonrefundable_support  \\\n",
       "0    «18+» - запрещено для детей                 NaN                    NaN   \n",
       "1  «6+» - для детей старше 6 лет                 NaN                    NaN   \n",
       "2    «18+» - запрещено для детей                 NaN                    NaN   \n",
       "3    «18+» - запрещено для детей                 NaN                    NaN   \n",
       "4    «18+» - запрещено для детей                 NaN                    NaN   \n",
       "\n",
       "   budget financing_source              ratings                     genres  \\\n",
       "0     NaN              NaN                 7.20     боевик,драма,мелодрама   \n",
       "1     NaN              NaN                 6.60              драма,военный   \n",
       "2     NaN              NaN                 6.80  фантастика,боевик,триллер   \n",
       "3     NaN              NaN                 6.80  фантастика,боевик,триллер   \n",
       "4     NaN              NaN                 6.80  фантастика,боевик,триллер   \n",
       "\n",
       "   box_office  show_year      main_director  main_genre  \n",
       "0         NaN       2015      Кевин Костнер      боевик  \n",
       "1         NaN       2016          Е.Матвеев       драма  \n",
       "2         NaN       2016  Тимур Бекмамбетов  фантастика  \n",
       "3         NaN       2016  Тимур Бекмамбетов  фантастика  \n",
       "4         NaN       2015  Тимур Бекмамбетов  фантастика  "
      ]
     },
     "execution_count": 40,
     "metadata": {},
     "output_type": "execute_result"
    }
   ],
   "source": [
    "data['main_director'] = data['director'].str.split(',').str[0]\n",
    "data['main_genre'] = data['genres'].str.split(',').str[0]\n",
    "data.head()"
   ]
  },
  {
   "cell_type": "markdown",
   "metadata": {
    "id": "1FsCXHwdgFyU"
   },
   "source": [
    "- Посчитаем, какую долю от общего бюджета фильма составляет государственная поддержка."
   ]
  },
  {
   "cell_type": "code",
   "execution_count": 41,
   "metadata": {
    "id": "LV6qFuZLgFyV"
   },
   "outputs": [
    {
     "data": {
      "text/html": [
       "<div>\n",
       "<style scoped>\n",
       "    .dataframe tbody tr th:only-of-type {\n",
       "        vertical-align: middle;\n",
       "    }\n",
       "\n",
       "    .dataframe tbody tr th {\n",
       "        vertical-align: top;\n",
       "    }\n",
       "\n",
       "    .dataframe thead th {\n",
       "        text-align: right;\n",
       "    }\n",
       "</style>\n",
       "<table border=\"1\" class=\"dataframe\">\n",
       "  <thead>\n",
       "    <tr style=\"text-align: right;\">\n",
       "      <th></th>\n",
       "      <th>title</th>\n",
       "      <th>puNumber</th>\n",
       "      <th>show_start_date</th>\n",
       "      <th>type</th>\n",
       "      <th>film_studio</th>\n",
       "      <th>production_country</th>\n",
       "      <th>director</th>\n",
       "      <th>producer</th>\n",
       "      <th>age_restriction</th>\n",
       "      <th>refundable_support</th>\n",
       "      <th>nonrefundable_support</th>\n",
       "      <th>budget</th>\n",
       "      <th>financing_source</th>\n",
       "      <th>ratings</th>\n",
       "      <th>genres</th>\n",
       "      <th>box_office</th>\n",
       "      <th>show_year</th>\n",
       "      <th>main_director</th>\n",
       "      <th>main_genre</th>\n",
       "      <th>support_ratio</th>\n",
       "    </tr>\n",
       "  </thead>\n",
       "  <tbody>\n",
       "    <tr>\n",
       "      <th>7476</th>\n",
       "      <td>Я свободен</td>\n",
       "      <td>111023019</td>\n",
       "      <td>2019-12-26 12:00:00+00:00</td>\n",
       "      <td>Художественный</td>\n",
       "      <td>АО \"ТПО \"Киностудия им. М.Горького\"</td>\n",
       "      <td>Россия</td>\n",
       "      <td>И.Северов</td>\n",
       "      <td>С.Зернов</td>\n",
       "      <td>«12+» - для детей старше 12 лет</td>\n",
       "      <td>0.00</td>\n",
       "      <td>30,000,000.00</td>\n",
       "      <td>46,154,000.00</td>\n",
       "      <td>Министерство культуры</td>\n",
       "      <td>5.90</td>\n",
       "      <td>драма</td>\n",
       "      <td>NaN</td>\n",
       "      <td>2019</td>\n",
       "      <td>И.Северов</td>\n",
       "      <td>драма</td>\n",
       "      <td>0.65</td>\n",
       "    </tr>\n",
       "    <tr>\n",
       "      <th>7477</th>\n",
       "      <td>Тридцать</td>\n",
       "      <td>121038419</td>\n",
       "      <td>2019-12-26 12:00:00+00:00</td>\n",
       "      <td>Художественный</td>\n",
       "      <td>Демнехст ауф видео</td>\n",
       "      <td>Германия</td>\n",
       "      <td>Симона Костова</td>\n",
       "      <td>Джейлан Атаман-Джека</td>\n",
       "      <td>«16+» - для детей старше 16 лет</td>\n",
       "      <td>NaN</td>\n",
       "      <td>NaN</td>\n",
       "      <td>NaN</td>\n",
       "      <td>NaN</td>\n",
       "      <td>6.30</td>\n",
       "      <td>драма</td>\n",
       "      <td>NaN</td>\n",
       "      <td>2019</td>\n",
       "      <td>Симона Костова</td>\n",
       "      <td>драма</td>\n",
       "      <td>NaN</td>\n",
       "    </tr>\n",
       "    <tr>\n",
       "      <th>7478</th>\n",
       "      <td>(Не)идеальный мужчина</td>\n",
       "      <td>111023119</td>\n",
       "      <td>2019-12-24 12:00:00+00:00</td>\n",
       "      <td>Художественный</td>\n",
       "      <td>ООО \"Нон-Стоп Продакшн\"</td>\n",
       "      <td>Россия</td>\n",
       "      <td>М.Бальчюнас (псевдоним М.Вайсберг)</td>\n",
       "      <td>С.Мелькумов, А.Роднянский, М.Вайсберг, Р.Минас...</td>\n",
       "      <td>«12+» - для детей старше 12 лет</td>\n",
       "      <td>40,000,000.00</td>\n",
       "      <td>60,000,000.00</td>\n",
       "      <td>150,147,502.00</td>\n",
       "      <td>Фонд кино</td>\n",
       "      <td>4.50</td>\n",
       "      <td>комедия,фантастика,мелодрама</td>\n",
       "      <td>NaN</td>\n",
       "      <td>2019</td>\n",
       "      <td>М.Бальчюнас (псевдоним М.Вайсберг)</td>\n",
       "      <td>комедия</td>\n",
       "      <td>0.67</td>\n",
       "    </tr>\n",
       "    <tr>\n",
       "      <th>7479</th>\n",
       "      <td>Эколав</td>\n",
       "      <td>111023219</td>\n",
       "      <td>2019-12-26 12:00:00+00:00</td>\n",
       "      <td>Художественный</td>\n",
       "      <td>ВГИК</td>\n",
       "      <td>Россия</td>\n",
       "      <td>Д.Григорьев</td>\n",
       "      <td>ВГИК</td>\n",
       "      <td>«18+» - запрещено для детей</td>\n",
       "      <td>NaN</td>\n",
       "      <td>NaN</td>\n",
       "      <td>NaN</td>\n",
       "      <td>NaN</td>\n",
       "      <td>NaN</td>\n",
       "      <td>NaN</td>\n",
       "      <td>NaN</td>\n",
       "      <td>2019</td>\n",
       "      <td>Д.Григорьев</td>\n",
       "      <td>NaN</td>\n",
       "      <td>NaN</td>\n",
       "    </tr>\n",
       "    <tr>\n",
       "      <th>7480</th>\n",
       "      <td>Акрам Хан: Родом из Карри Хауса</td>\n",
       "      <td>126007919</td>\n",
       "      <td>2019-12-23 12:00:00+00:00</td>\n",
       "      <td>Прочие</td>\n",
       "      <td>Свон Филмз</td>\n",
       "      <td>Великобритания</td>\n",
       "      <td>Ник Пойнц</td>\n",
       "      <td>Поппи Бегум, Ник Пойнц</td>\n",
       "      <td>«12+» - для детей старше 12 лет</td>\n",
       "      <td>NaN</td>\n",
       "      <td>NaN</td>\n",
       "      <td>NaN</td>\n",
       "      <td>NaN</td>\n",
       "      <td>NaN</td>\n",
       "      <td>NaN</td>\n",
       "      <td>219,569.00</td>\n",
       "      <td>2019</td>\n",
       "      <td>Ник Пойнц</td>\n",
       "      <td>NaN</td>\n",
       "      <td>NaN</td>\n",
       "    </tr>\n",
       "    <tr>\n",
       "      <th>7481</th>\n",
       "      <td>Сад художника: Американский импрессионизм</td>\n",
       "      <td>126008019</td>\n",
       "      <td>2019-12-23 12:00:00+00:00</td>\n",
       "      <td>Прочие</td>\n",
       "      <td>Севен Артс Продакшнз</td>\n",
       "      <td>Великобритания</td>\n",
       "      <td>Фил Грабски</td>\n",
       "      <td>Фил Грабски</td>\n",
       "      <td>«12+» - для детей старше 12 лет</td>\n",
       "      <td>NaN</td>\n",
       "      <td>NaN</td>\n",
       "      <td>NaN</td>\n",
       "      <td>NaN</td>\n",
       "      <td>NaN</td>\n",
       "      <td>NaN</td>\n",
       "      <td>NaN</td>\n",
       "      <td>2019</td>\n",
       "      <td>Фил Грабски</td>\n",
       "      <td>NaN</td>\n",
       "      <td>NaN</td>\n",
       "    </tr>\n",
       "    <tr>\n",
       "      <th>7482</th>\n",
       "      <td>Звериная ярость</td>\n",
       "      <td>121037819</td>\n",
       "      <td>2019-12-24 12:00:00+00:00</td>\n",
       "      <td>Художественный</td>\n",
       "      <td>Дэниел Гродник Продакшнз, Вандерфилм Медиа Кор...</td>\n",
       "      <td>США</td>\n",
       "      <td>Ник Пауэлл</td>\n",
       "      <td>Джефф Боулер, Дэниэл Гродник, Луильо Руис, Брэ...</td>\n",
       "      <td>«16+» - для детей старше 16 лет</td>\n",
       "      <td>NaN</td>\n",
       "      <td>NaN</td>\n",
       "      <td>NaN</td>\n",
       "      <td>NaN</td>\n",
       "      <td>5.40</td>\n",
       "      <td>боевик,триллер</td>\n",
       "      <td>NaN</td>\n",
       "      <td>2019</td>\n",
       "      <td>Ник Пауэлл</td>\n",
       "      <td>боевик</td>\n",
       "      <td>NaN</td>\n",
       "    </tr>\n",
       "    <tr>\n",
       "      <th>7483</th>\n",
       "      <td>Щенячий патруль: Скорей спешим на помощь!</td>\n",
       "      <td>124010819</td>\n",
       "      <td>2019-12-28 12:00:00+00:00</td>\n",
       "      <td>Художественный</td>\n",
       "      <td>Никелодеон Анимейшн Студиос, Спин Мастер</td>\n",
       "      <td>США - Канада</td>\n",
       "      <td>Чарльз Е.Бастьен</td>\n",
       "      <td>Дженнифер Додж</td>\n",
       "      <td>«0+» - для любой зрительской аудитории</td>\n",
       "      <td>NaN</td>\n",
       "      <td>NaN</td>\n",
       "      <td>NaN</td>\n",
       "      <td>NaN</td>\n",
       "      <td>NaN</td>\n",
       "      <td>NaN</td>\n",
       "      <td>NaN</td>\n",
       "      <td>2019</td>\n",
       "      <td>Чарльз Е.Бастьен</td>\n",
       "      <td>NaN</td>\n",
       "      <td>NaN</td>\n",
       "    </tr>\n",
       "    <tr>\n",
       "      <th>7484</th>\n",
       "      <td>Машины песенки. Серия \"Испанские мотивы\"</td>\n",
       "      <td>124010619</td>\n",
       "      <td>2019-12-30 12:00:00+00:00</td>\n",
       "      <td>Анимационный</td>\n",
       "      <td>Анимаккорд Лтд., ООО Студия \"АНИМАККОРД\"</td>\n",
       "      <td>Республика Кипр, Россия</td>\n",
       "      <td>А.Беляев</td>\n",
       "      <td>Д.Ловейко</td>\n",
       "      <td>«0+» - для любой зрительской аудитории</td>\n",
       "      <td>NaN</td>\n",
       "      <td>NaN</td>\n",
       "      <td>NaN</td>\n",
       "      <td>NaN</td>\n",
       "      <td>NaN</td>\n",
       "      <td>NaN</td>\n",
       "      <td>NaN</td>\n",
       "      <td>2019</td>\n",
       "      <td>А.Беляев</td>\n",
       "      <td>NaN</td>\n",
       "      <td>NaN</td>\n",
       "    </tr>\n",
       "    <tr>\n",
       "      <th>7485</th>\n",
       "      <td>Машины песенки. Серия \"Когда цветут кактусы\"</td>\n",
       "      <td>124010719</td>\n",
       "      <td>2019-12-30 12:00:00+00:00</td>\n",
       "      <td>Анимационный</td>\n",
       "      <td>Анимаккорд Лтд., ООО Студия \"АНИМАККОРД\"</td>\n",
       "      <td>Республика Кипр, Россия</td>\n",
       "      <td>И.Трусов</td>\n",
       "      <td>Д.Ловейко</td>\n",
       "      <td>«0+» - для любой зрительской аудитории</td>\n",
       "      <td>NaN</td>\n",
       "      <td>NaN</td>\n",
       "      <td>NaN</td>\n",
       "      <td>NaN</td>\n",
       "      <td>6.30</td>\n",
       "      <td>комедия,вестерн</td>\n",
       "      <td>NaN</td>\n",
       "      <td>2019</td>\n",
       "      <td>И.Трусов</td>\n",
       "      <td>комедия</td>\n",
       "      <td>NaN</td>\n",
       "    </tr>\n",
       "  </tbody>\n",
       "</table>\n",
       "</div>"
      ],
      "text/plain": [
       "                                             title   puNumber  \\\n",
       "7476                                    Я свободен  111023019   \n",
       "7477                                      Тридцать  121038419   \n",
       "7478                         (Не)идеальный мужчина  111023119   \n",
       "7479                                        Эколав  111023219   \n",
       "7480               Акрам Хан: Родом из Карри Хауса  126007919   \n",
       "7481     Сад художника: Американский импрессионизм  126008019   \n",
       "7482                               Звериная ярость  121037819   \n",
       "7483     Щенячий патруль: Скорей спешим на помощь!  124010819   \n",
       "7484      Машины песенки. Серия \"Испанские мотивы\"  124010619   \n",
       "7485  Машины песенки. Серия \"Когда цветут кактусы\"  124010719   \n",
       "\n",
       "               show_start_date            type  \\\n",
       "7476 2019-12-26 12:00:00+00:00  Художественный   \n",
       "7477 2019-12-26 12:00:00+00:00  Художественный   \n",
       "7478 2019-12-24 12:00:00+00:00  Художественный   \n",
       "7479 2019-12-26 12:00:00+00:00  Художественный   \n",
       "7480 2019-12-23 12:00:00+00:00          Прочие   \n",
       "7481 2019-12-23 12:00:00+00:00          Прочие   \n",
       "7482 2019-12-24 12:00:00+00:00  Художественный   \n",
       "7483 2019-12-28 12:00:00+00:00  Художественный   \n",
       "7484 2019-12-30 12:00:00+00:00    Анимационный   \n",
       "7485 2019-12-30 12:00:00+00:00    Анимационный   \n",
       "\n",
       "                                            film_studio  \\\n",
       "7476                АО \"ТПО \"Киностудия им. М.Горького\"   \n",
       "7477                                 Демнехст ауф видео   \n",
       "7478                            ООО \"Нон-Стоп Продакшн\"   \n",
       "7479                                               ВГИК   \n",
       "7480                                         Свон Филмз   \n",
       "7481                               Севен Артс Продакшнз   \n",
       "7482  Дэниел Гродник Продакшнз, Вандерфилм Медиа Кор...   \n",
       "7483           Никелодеон Анимейшн Студиос, Спин Мастер   \n",
       "7484           Анимаккорд Лтд., ООО Студия \"АНИМАККОРД\"   \n",
       "7485           Анимаккорд Лтд., ООО Студия \"АНИМАККОРД\"   \n",
       "\n",
       "           production_country                            director  \\\n",
       "7476                   Россия                           И.Северов   \n",
       "7477                 Германия                      Симона Костова   \n",
       "7478                   Россия  М.Бальчюнас (псевдоним М.Вайсберг)   \n",
       "7479                   Россия                         Д.Григорьев   \n",
       "7480           Великобритания                           Ник Пойнц   \n",
       "7481           Великобритания                         Фил Грабски   \n",
       "7482                      США                          Ник Пауэлл   \n",
       "7483             США - Канада                    Чарльз Е.Бастьен   \n",
       "7484  Республика Кипр, Россия                            А.Беляев   \n",
       "7485  Республика Кипр, Россия                            И.Трусов   \n",
       "\n",
       "                                               producer  \\\n",
       "7476                                           С.Зернов   \n",
       "7477                               Джейлан Атаман-Джека   \n",
       "7478  С.Мелькумов, А.Роднянский, М.Вайсберг, Р.Минас...   \n",
       "7479                                               ВГИК   \n",
       "7480                             Поппи Бегум, Ник Пойнц   \n",
       "7481                                        Фил Грабски   \n",
       "7482  Джефф Боулер, Дэниэл Гродник, Луильо Руис, Брэ...   \n",
       "7483                                     Дженнифер Додж   \n",
       "7484                                          Д.Ловейко   \n",
       "7485                                          Д.Ловейко   \n",
       "\n",
       "                             age_restriction   refundable_support  \\\n",
       "7476         «12+» - для детей старше 12 лет                 0.00   \n",
       "7477         «16+» - для детей старше 16 лет                  NaN   \n",
       "7478         «12+» - для детей старше 12 лет        40,000,000.00   \n",
       "7479             «18+» - запрещено для детей                  NaN   \n",
       "7480         «12+» - для детей старше 12 лет                  NaN   \n",
       "7481         «12+» - для детей старше 12 лет                  NaN   \n",
       "7482         «16+» - для детей старше 16 лет                  NaN   \n",
       "7483  «0+» - для любой зрительской аудитории                  NaN   \n",
       "7484  «0+» - для любой зрительской аудитории                  NaN   \n",
       "7485  «0+» - для любой зрительской аудитории                  NaN   \n",
       "\n",
       "      nonrefundable_support               budget       financing_source  \\\n",
       "7476          30,000,000.00        46,154,000.00  Министерство культуры   \n",
       "7477                    NaN                  NaN                    NaN   \n",
       "7478          60,000,000.00       150,147,502.00              Фонд кино   \n",
       "7479                    NaN                  NaN                    NaN   \n",
       "7480                    NaN                  NaN                    NaN   \n",
       "7481                    NaN                  NaN                    NaN   \n",
       "7482                    NaN                  NaN                    NaN   \n",
       "7483                    NaN                  NaN                    NaN   \n",
       "7484                    NaN                  NaN                    NaN   \n",
       "7485                    NaN                  NaN                    NaN   \n",
       "\n",
       "                  ratings                        genres           box_office  \\\n",
       "7476                 5.90                         драма                  NaN   \n",
       "7477                 6.30                         драма                  NaN   \n",
       "7478                 4.50  комедия,фантастика,мелодрама                  NaN   \n",
       "7479                  NaN                           NaN                  NaN   \n",
       "7480                  NaN                           NaN           219,569.00   \n",
       "7481                  NaN                           NaN                  NaN   \n",
       "7482                 5.40                боевик,триллер                  NaN   \n",
       "7483                  NaN                           NaN                  NaN   \n",
       "7484                  NaN                           NaN                  NaN   \n",
       "7485                 6.30               комедия,вестерн                  NaN   \n",
       "\n",
       "      show_year                       main_director main_genre  \\\n",
       "7476       2019                           И.Северов      драма   \n",
       "7477       2019                      Симона Костова      драма   \n",
       "7478       2019  М.Бальчюнас (псевдоним М.Вайсберг)    комедия   \n",
       "7479       2019                         Д.Григорьев        NaN   \n",
       "7480       2019                           Ник Пойнц        NaN   \n",
       "7481       2019                         Фил Грабски        NaN   \n",
       "7482       2019                          Ник Пауэлл     боевик   \n",
       "7483       2019                    Чарльз Е.Бастьен        NaN   \n",
       "7484       2019                            А.Беляев        NaN   \n",
       "7485       2019                            И.Трусов    комедия   \n",
       "\n",
       "            support_ratio  \n",
       "7476                 0.65  \n",
       "7477                  NaN  \n",
       "7478                 0.67  \n",
       "7479                  NaN  \n",
       "7480                  NaN  \n",
       "7481                  NaN  \n",
       "7482                  NaN  \n",
       "7483                  NaN  \n",
       "7484                  NaN  \n",
       "7485                  NaN  "
      ]
     },
     "execution_count": 41,
     "metadata": {},
     "output_type": "execute_result"
    }
   ],
   "source": [
    "data['support_ratio'] = (data['refundable_support'] + data['nonrefundable_support']) / data['budget']\n",
    "data.tail(10)"
   ]
  },
  {
   "cell_type": "markdown",
   "metadata": {},
   "source": [
    "На этапе преобработки данных мы:  \n",
    "- Проверили типы данных в столбацах и преобразовали их там, где это было необходимо.   \n",
    "- Изучили пропуски в датафрейме и объяснили, почему заполнили пропуски определенным образом или почему не стали этого делать.   \n",
    "- Проверили, есть ли в данных дубликаты и описали причины, которые могли повлиять на их появление.  \n",
    "- Изучили категориальные и количественные значения  \n",
    "- Добавили в таблицу новые столбцы со следующими названиями и данными:  \n",
    "show_year - показывает год начала проката фильма  \n",
    "main_director - показывает имя главного режиссера фильма  \n",
    "main_genre - показывает основной жанр фильма  \n",
    "support_ratio - показывает, какую долю от общего бюджета фильма составляет государственная поддержка  \n",
    "\n",
    "В данных имеются пропуски в следующих столбцах:\n",
    "\n",
    "film_studio\n",
    "priduction_country\n",
    "director\n",
    "producer\n",
    "refundable_support\n",
    "nonrefundable_support\n",
    "budget\n",
    "financing_source\n",
    "ratings\n",
    "genres\n",
    "box_office\n",
    "\n",
    "В столбце film_studio имеются пропуски, т.к. не все фильмы снимаются на студиях. Такие пропуски не являются случайными и заполнять их не нужно.\n",
    "При рассмотрении строк с пропусками в столбце production_country заметно, что значения можно заполнить, основываясь данных из соседних столбцов, что мы и сделали. Такие пропуски называются полностью случайными.\n",
    "В столбцах director, ratings и genres пропуски похожи на случайные, однако предложить логичную замену им невозможно. В столбцах rating и genres мы их оставляем, а в столбце director заменим пустой строкой. Этот столбец участвует в дальнейшем анализе, а наличие пропусков будет мешать выполнению операций.\n",
    "В столбце producer пропуски случайны и не подлежат заполнению, т.к. пропуски имеют фильмы, снятые в СССР. В СССР кинематограф финансировался только государством, продюсеров не было.\n",
    "Из описания данных следует, что в столбцах refundable_support, nonrefundable_support, budget и financing_source указан объем государственной поддержки. Если в информации о фильме есть пропуски в данных столбцах, значит государственной поддержки он не получал. Пропуски не являются случайными."
   ]
  },
  {
   "cell_type": "markdown",
   "metadata": {
    "id": "6t4EukPLgFyV"
   },
   "source": [
    "### Шаг 3. Проведём исследовательский анализ данных\n"
   ]
  },
  {
   "cell_type": "markdown",
   "metadata": {
    "id": "vAH8WCzugFyV"
   },
   "source": [
    "- Посмотрим, сколько фильмов выходило в прокат каждый год. Данные о прокате в кинотеатрах известны не для всех фильмов. Посчитаем, какую долю составляют фильмы с указанной информацией о прокате в кинотеатрах. Проанализируем, как эта доля менялась по годам. Сделаем вывод о том, какой период полнее всего представлен в данных."
   ]
  },
  {
   "cell_type": "code",
   "execution_count": 42,
   "metadata": {
    "id": "ABeV47y7gFyW"
   },
   "outputs": [
    {
     "data": {
      "text/plain": [
       "show_year\n",
       "2010    105\n",
       "2011    109\n",
       "2012    128\n",
       "2013    184\n",
       "2014    279\n",
       "2015    465\n",
       "2016    526\n",
       "2017    357\n",
       "2018    475\n",
       "2019    530\n",
       "Name: box_office, dtype: int64"
      ]
     },
     "execution_count": 42,
     "metadata": {},
     "output_type": "execute_result"
    }
   ],
   "source": [
    "data.groupby('show_year')['box_office'].count()"
   ]
  },
  {
   "cell_type": "code",
   "execution_count": 43,
   "metadata": {},
   "outputs": [
    {
     "data": {
      "text/plain": [
       "3158"
      ]
     },
     "execution_count": 43,
     "metadata": {},
     "output_type": "execute_result"
    }
   ],
   "source": [
    "data.groupby('show_year')['box_office'].count().sum()"
   ]
  },
  {
   "cell_type": "code",
   "execution_count": 44,
   "metadata": {},
   "outputs": [
    {
     "data": {
      "text/plain": [
       "0.42185412770504943"
      ]
     },
     "execution_count": 44,
     "metadata": {},
     "output_type": "execute_result"
    }
   ],
   "source": [
    "data['box_office'].notnull().sum() / data.shape[0]"
   ]
  },
  {
   "cell_type": "code",
   "execution_count": 45,
   "metadata": {},
   "outputs": [
    {
     "data": {
      "text/html": [
       "<div>\n",
       "<style scoped>\n",
       "    .dataframe tbody tr th:only-of-type {\n",
       "        vertical-align: middle;\n",
       "    }\n",
       "\n",
       "    .dataframe tbody tr th {\n",
       "        vertical-align: top;\n",
       "    }\n",
       "\n",
       "    .dataframe thead th {\n",
       "        text-align: right;\n",
       "    }\n",
       "</style>\n",
       "<table border=\"1\" class=\"dataframe\">\n",
       "  <thead>\n",
       "    <tr style=\"text-align: right;\">\n",
       "      <th></th>\n",
       "      <th>Динамика доли с указанной информацией о прокате</th>\n",
       "    </tr>\n",
       "    <tr>\n",
       "      <th>show_year</th>\n",
       "      <th></th>\n",
       "    </tr>\n",
       "  </thead>\n",
       "  <tbody>\n",
       "    <tr>\n",
       "      <th>2010</th>\n",
       "      <td>0.14</td>\n",
       "    </tr>\n",
       "    <tr>\n",
       "      <th>2011</th>\n",
       "      <td>0.15</td>\n",
       "    </tr>\n",
       "    <tr>\n",
       "      <th>2012</th>\n",
       "      <td>0.17</td>\n",
       "    </tr>\n",
       "    <tr>\n",
       "      <th>2013</th>\n",
       "      <td>0.25</td>\n",
       "    </tr>\n",
       "    <tr>\n",
       "      <th>2014</th>\n",
       "      <td>0.37</td>\n",
       "    </tr>\n",
       "    <tr>\n",
       "      <th>2015</th>\n",
       "      <td>0.62</td>\n",
       "    </tr>\n",
       "    <tr>\n",
       "      <th>2016</th>\n",
       "      <td>0.70</td>\n",
       "    </tr>\n",
       "    <tr>\n",
       "      <th>2017</th>\n",
       "      <td>0.48</td>\n",
       "    </tr>\n",
       "    <tr>\n",
       "      <th>2018</th>\n",
       "      <td>0.63</td>\n",
       "    </tr>\n",
       "    <tr>\n",
       "      <th>2019</th>\n",
       "      <td>0.71</td>\n",
       "    </tr>\n",
       "  </tbody>\n",
       "</table>\n",
       "</div>"
      ],
      "text/plain": [
       "           Динамика доли с указанной информацией о прокате\n",
       "show_year                                                 \n",
       "2010                                                  0.14\n",
       "2011                                                  0.15\n",
       "2012                                                  0.17\n",
       "2013                                                  0.25\n",
       "2014                                                  0.37\n",
       "2015                                                  0.62\n",
       "2016                                                  0.70\n",
       "2017                                                  0.48\n",
       "2018                                                  0.63\n",
       "2019                                                  0.71"
      ]
     },
     "execution_count": 45,
     "metadata": {},
     "output_type": "execute_result"
    }
   ],
   "source": [
    "ptable = data.pivot_table(index = 'show_year', values = 'box_office', aggfunc = ['count'])\n",
    "ptable = ptable.droplevel(0, axis = 1)\n",
    "ptable.columns = ['Динамика доли с указанной информацией о прокате']\n",
    "ptable / data.shape[0] * 10"
   ]
  },
  {
   "cell_type": "markdown",
   "metadata": {},
   "source": [
    "Полнее всего представлена информация о прокате в кинотеатрах в период с 2015 по 2019 год."
   ]
  },
  {
   "cell_type": "markdown",
   "metadata": {
    "id": "BEOdcIrIgFyW"
   },
   "source": [
    "- Изучим, как менялась динамика проката по годам. В каком году сумма сборов была минимальной? А максимальной?"
   ]
  },
  {
   "cell_type": "code",
   "execution_count": 46,
   "metadata": {
    "id": "tfEhofYvgFyX"
   },
   "outputs": [
    {
     "data": {
      "image/png": "[encoded data removed]",
      "text/plain": [
       "<Figure size 432x288 with 1 Axes>"
      ]
     },
     "metadata": {
      "needs_background": "light"
     },
     "output_type": "display_data"
    }
   ],
   "source": [
    "data.groupby('show_year')['box_office'].count().plot(x = 'show_year', y = 'box_office', title = 'Динамика проката по годам', xlabel = 'Год', ylabel = 'Количество фильмов')\n",
    "plt.show()"
   ]
  },
  {
   "cell_type": "code",
   "execution_count": 47,
   "metadata": {},
   "outputs": [
    {
     "data": {
      "image/png": "[encoded data removed]",
      "text/plain": [
       "<Figure size 432x288 with 1 Axes>"
      ]
     },
     "metadata": {
      "needs_background": "light"
     },
     "output_type": "display_data"
    }
   ],
   "source": [
    "data.groupby('show_year')['box_office'].sum().plot(x = 'show_year', y = 'box_office', title = 'Динамика сборов по годам', xlabel = 'Год', ylabel = 'Количество сборов')\n",
    "plt.show()"
   ]
  },
  {
   "cell_type": "code",
   "execution_count": 48,
   "metadata": {},
   "outputs": [
    {
     "data": {
      "text/plain": [
       "show_year\n",
       "2010           2,428,654.00\n",
       "2011          14,102,765.00\n",
       "2012           6,955,423.00\n",
       "2013          29,799,706.20\n",
       "2014       7,444,951,859.20\n",
       "2015      39,497,365,196.40\n",
       "2016      47,866,299,741.91\n",
       "2017      48,563,707,217.51\n",
       "2018      49,668,403,134.32\n",
       "2019      48,425,708,779.59\n",
       "Name: box_office, dtype: float64"
      ]
     },
     "execution_count": 48,
     "metadata": {},
     "output_type": "execute_result"
    }
   ],
   "source": [
    "data.groupby('show_year')['box_office'].sum()"
   ]
  },
  {
   "cell_type": "markdown",
   "metadata": {},
   "source": [
    "Минимальной сумма сборов была в 2010 году, а максимальной - в 2018."
   ]
  },
  {
   "cell_type": "markdown",
   "metadata": {
    "id": "G-7qS-N-gFyY"
   },
   "source": [
    "- С помощью сводной таблицы посчитаем среднюю и медианную сумму сборов для каждого года."
   ]
  },
  {
   "cell_type": "code",
   "execution_count": 49,
   "metadata": {
    "id": "jmp-rgg9gFyY"
   },
   "outputs": [
    {
     "data": {
      "text/html": [
       "<div>\n",
       "<style scoped>\n",
       "    .dataframe tbody tr th:only-of-type {\n",
       "        vertical-align: middle;\n",
       "    }\n",
       "\n",
       "    .dataframe tbody tr th {\n",
       "        vertical-align: top;\n",
       "    }\n",
       "\n",
       "    .dataframe thead th {\n",
       "        text-align: right;\n",
       "    }\n",
       "</style>\n",
       "<table border=\"1\" class=\"dataframe\">\n",
       "  <thead>\n",
       "    <tr style=\"text-align: right;\">\n",
       "      <th></th>\n",
       "      <th>Средняя сумма сборов</th>\n",
       "      <th>Медианная сумма сборов</th>\n",
       "    </tr>\n",
       "    <tr>\n",
       "      <th>show_year</th>\n",
       "      <th></th>\n",
       "      <th></th>\n",
       "    </tr>\n",
       "  </thead>\n",
       "  <tbody>\n",
       "    <tr>\n",
       "      <th>2010</th>\n",
       "      <td>23,130.04</td>\n",
       "      <td>1,700.00</td>\n",
       "    </tr>\n",
       "    <tr>\n",
       "      <th>2011</th>\n",
       "      <td>129,383.17</td>\n",
       "      <td>3,000.00</td>\n",
       "    </tr>\n",
       "    <tr>\n",
       "      <th>2012</th>\n",
       "      <td>54,339.24</td>\n",
       "      <td>5,660.00</td>\n",
       "    </tr>\n",
       "    <tr>\n",
       "      <th>2013</th>\n",
       "      <td>161,954.92</td>\n",
       "      <td>3,522.50</td>\n",
       "    </tr>\n",
       "    <tr>\n",
       "      <th>2014</th>\n",
       "      <td>26,684,415.27</td>\n",
       "      <td>18,160.00</td>\n",
       "    </tr>\n",
       "    <tr>\n",
       "      <th>2015</th>\n",
       "      <td>84,940,570.31</td>\n",
       "      <td>4,920,933.00</td>\n",
       "    </tr>\n",
       "    <tr>\n",
       "      <th>2016</th>\n",
       "      <td>91,000,569.85</td>\n",
       "      <td>3,846,679.41</td>\n",
       "    </tr>\n",
       "    <tr>\n",
       "      <th>2017</th>\n",
       "      <td>136,032,793.33</td>\n",
       "      <td>9,968,340.00</td>\n",
       "    </tr>\n",
       "    <tr>\n",
       "      <th>2018</th>\n",
       "      <td>104,565,059.23</td>\n",
       "      <td>8,891,102.21</td>\n",
       "    </tr>\n",
       "    <tr>\n",
       "      <th>2019</th>\n",
       "      <td>91,369,261.85</td>\n",
       "      <td>4,627,798.34</td>\n",
       "    </tr>\n",
       "  </tbody>\n",
       "</table>\n",
       "</div>"
      ],
      "text/plain": [
       "           Средняя сумма сборов  Медианная сумма сборов\n",
       "show_year                                              \n",
       "2010                  23,130.04                1,700.00\n",
       "2011                 129,383.17                3,000.00\n",
       "2012                  54,339.24                5,660.00\n",
       "2013                 161,954.92                3,522.50\n",
       "2014              26,684,415.27               18,160.00\n",
       "2015              84,940,570.31            4,920,933.00\n",
       "2016              91,000,569.85            3,846,679.41\n",
       "2017             136,032,793.33            9,968,340.00\n",
       "2018             104,565,059.23            8,891,102.21\n",
       "2019              91,369,261.85            4,627,798.34"
      ]
     },
     "execution_count": 49,
     "metadata": {},
     "output_type": "execute_result"
    }
   ],
   "source": [
    "pivot_table = data.pivot_table(index = 'show_year', values = 'box_office', aggfunc = [('mean', 'median')])\n",
    "pivot_table = pivot_table.droplevel(1, axis = 1)\n",
    "pivot_table = pivot_table.droplevel(1, axis = 1)\n",
    "pivot_table.columns = ['Средняя сумма сборов', 'Медианная сумма сборов']\n",
    "pivot_table"
   ]
  },
  {
   "cell_type": "code",
   "execution_count": 50,
   "metadata": {},
   "outputs": [
    {
     "data": {
      "image/png": "[encoded data removed]",
      "text/plain": [
       "<Figure size 432x288 with 1 Axes>"
      ]
     },
     "metadata": {
      "needs_background": "light"
     },
     "output_type": "display_data"
    }
   ],
   "source": [
    "pivot_table['ratio'] = pivot_table['Медианная сумма сборов'] / pivot_table['Средняя сумма сборов'] * 100\n",
    "pivot_table['ratio'].plot(title = 'Отношение медианной суммы сборов к средней', xlabel = 'Год', ylabel = 'Процент')\n",
    "plt.show()"
   ]
  },
  {
   "cell_type": "code",
   "execution_count": 51,
   "metadata": {},
   "outputs": [
    {
     "data": {
      "text/plain": [
       "count                  10.00\n",
       "mean                    5.32\n",
       "std                     3.20\n",
       "min                     0.07\n",
       "25%                     2.80\n",
       "50%                     5.43\n",
       "75%                     7.34\n",
       "max                    10.42\n",
       "Name: ratio, dtype: float64"
      ]
     },
     "execution_count": 51,
     "metadata": {},
     "output_type": "execute_result"
    }
   ],
   "source": [
    "pivot_table['ratio'].describe()"
   ]
  },
  {
   "cell_type": "markdown",
   "metadata": {},
   "source": [
    "Минимальная средняя сумма сборов была в 2010 году, а максимальная - в 2017. Минимальной медианная сумма сборов была также в 2010 году, а максимальной - также в 2017. Медианная и средняя сумма сборов сильно отличаются - на 1-2 порядка. Это вызвано тем, что средняя сумма более чувствительная к выбросам и аномально высоким значениям. Медианная сумма сборов составляла максимум 10.5% от средней в 2012 году и минимум 0.07 % в 2014 году."
   ]
  },
  {
   "cell_type": "markdown",
   "metadata": {
    "id": "Ok89WFwJgFyZ"
   },
   "source": [
    "Определим, влияет ли возрастное ограничение аудитории («6+», «12+», «16+», «18+» и т. д.) на сборы фильма в прокате в период с 2015 по 2019 год. Ответим на следующие вопросы:  \n",
    "- Фильмы с каким возрастным ограничением собрали больше всего денег в прокате? \n",
    "- Меняется ли картина в зависимости от года? Если да, с чем это может быть связано."
   ]
  },
  {
   "cell_type": "code",
   "execution_count": 52,
   "metadata": {
    "id": "jsSbEqfjgFya"
   },
   "outputs": [
    {
     "name": "stderr",
     "output_type": "stream",
     "text": [
      "/tmp/ipykernel_48/4019866645.py:2: SettingWithCopyWarning: \n",
      "A value is trying to be set on a copy of a slice from a DataFrame.\n",
      "Try using .loc[row_indexer,col_indexer] = value instead\n",
      "\n",
      "See the caveats in the documentation: https://pandas.pydata.org/pandas-docs/stable/user_guide/indexing.html#returning-a-view-versus-a-copy\n",
      "  age_data['age_restriction'] = age_data['age_restriction'].str.extract(r'(\\d+)', expand=False)\n"
     ]
    },
    {
     "data": {
      "text/html": [
       "<div>\n",
       "<style scoped>\n",
       "    .dataframe tbody tr th:only-of-type {\n",
       "        vertical-align: middle;\n",
       "    }\n",
       "\n",
       "    .dataframe tbody tr th {\n",
       "        vertical-align: top;\n",
       "    }\n",
       "\n",
       "    .dataframe thead th {\n",
       "        text-align: right;\n",
       "    }\n",
       "</style>\n",
       "<table border=\"1\" class=\"dataframe\">\n",
       "  <thead>\n",
       "    <tr style=\"text-align: right;\">\n",
       "      <th></th>\n",
       "      <th>box_office</th>\n",
       "    </tr>\n",
       "    <tr>\n",
       "      <th>age_restriction</th>\n",
       "      <th></th>\n",
       "    </tr>\n",
       "  </thead>\n",
       "  <tbody>\n",
       "    <tr>\n",
       "      <th>16</th>\n",
       "      <td>76,034,733,643.63</td>\n",
       "    </tr>\n",
       "    <tr>\n",
       "      <th>12</th>\n",
       "      <td>60,619,446,628.33</td>\n",
       "    </tr>\n",
       "    <tr>\n",
       "      <th>6</th>\n",
       "      <td>55,798,610,799.68</td>\n",
       "    </tr>\n",
       "    <tr>\n",
       "      <th>18</th>\n",
       "      <td>40,759,615,572.12</td>\n",
       "    </tr>\n",
       "    <tr>\n",
       "      <th>0</th>\n",
       "      <td>809,077,425.97</td>\n",
       "    </tr>\n",
       "  </tbody>\n",
       "</table>\n",
       "</div>"
      ],
      "text/plain": [
       "                          box_office\n",
       "age_restriction                     \n",
       "16                 76,034,733,643.63\n",
       "12                 60,619,446,628.33\n",
       "6                  55,798,610,799.68\n",
       "18                 40,759,615,572.12\n",
       "0                     809,077,425.97"
      ]
     },
     "execution_count": 52,
     "metadata": {},
     "output_type": "execute_result"
    }
   ],
   "source": [
    "age_data = data[data['show_year'] >= 2015]\n",
    "age_data['age_restriction'] = age_data['age_restriction'].str.extract(r'(\\d+)', expand=False)\n",
    "age_ptable = age_data.pivot_table(index = ['show_year', 'age_restriction'], values = 'box_office', aggfunc = ['sum'])\n",
    "age_ptable = age_ptable.droplevel(0, axis = 1)\n",
    "age_ptable.groupby('age_restriction').sum().sort_values(by = 'box_office', ascending = False)"
   ]
  },
  {
   "cell_type": "code",
   "execution_count": 53,
   "metadata": {},
   "outputs": [
    {
     "data": {
      "text/html": [
       "<div>\n",
       "<style scoped>\n",
       "    .dataframe tbody tr th:only-of-type {\n",
       "        vertical-align: middle;\n",
       "    }\n",
       "\n",
       "    .dataframe tbody tr th {\n",
       "        vertical-align: top;\n",
       "    }\n",
       "\n",
       "    .dataframe thead th {\n",
       "        text-align: right;\n",
       "    }\n",
       "</style>\n",
       "<table border=\"1\" class=\"dataframe\">\n",
       "  <thead>\n",
       "    <tr style=\"text-align: right;\">\n",
       "      <th></th>\n",
       "      <th></th>\n",
       "      <th>box_office</th>\n",
       "    </tr>\n",
       "    <tr>\n",
       "      <th>show_year</th>\n",
       "      <th>age_restriction</th>\n",
       "      <th></th>\n",
       "    </tr>\n",
       "  </thead>\n",
       "  <tbody>\n",
       "    <tr>\n",
       "      <th>2019</th>\n",
       "      <th>6</th>\n",
       "      <td>12,852,548,650.86</td>\n",
       "    </tr>\n",
       "    <tr>\n",
       "      <th rowspan=\"2\" valign=\"top\">2018</th>\n",
       "      <th>16</th>\n",
       "      <td>16,503,602,346.96</td>\n",
       "    </tr>\n",
       "    <tr>\n",
       "      <th>12</th>\n",
       "      <td>14,267,291,660.69</td>\n",
       "    </tr>\n",
       "    <tr>\n",
       "      <th>2017</th>\n",
       "      <th>16</th>\n",
       "      <td>18,745,042,900.06</td>\n",
       "    </tr>\n",
       "    <tr>\n",
       "      <th>2016</th>\n",
       "      <th>16</th>\n",
       "      <td>16,664,548,541.74</td>\n",
       "    </tr>\n",
       "    <tr>\n",
       "      <th>2015</th>\n",
       "      <th>12</th>\n",
       "      <td>13,616,082,008.91</td>\n",
       "    </tr>\n",
       "  </tbody>\n",
       "</table>\n",
       "</div>"
      ],
      "text/plain": [
       "                                    box_office\n",
       "show_year age_restriction                     \n",
       "2019      6                  12,852,548,650.86\n",
       "2018      16                 16,503,602,346.96\n",
       "          12                 14,267,291,660.69\n",
       "2017      16                 18,745,042,900.06\n",
       "2016      16                 16,664,548,541.74\n",
       "2015      12                 13,616,082,008.91"
      ]
     },
     "execution_count": 53,
     "metadata": {},
     "output_type": "execute_result"
    }
   ],
   "source": [
    "age_ptable.sort_values(by = 'box_office', ascending = False).head(6).sort_values(by = 'show_year', ascending = False)"
   ]
  },
  {
   "cell_type": "markdown",
   "metadata": {},
   "source": [
    "По данному разделу проекта можно сделать следующие промежуточные выводы:  \n",
    "\n",
    "Цели и задачи были следующими:  \n",
    "- Посмотреть, сколько фильмов выходило в прокат каждый год.   \n",
    "- Посчитать, какую долю составляют фильмы с указанной информацией о прокате в кинотеатрах.   \n",
    "- Проанализировать, как эта доля менялась по годам.   \n",
    "- Сделать вывод о том, какой период полнее всего представлен в данных.  \n",
    "- Изучить, как менялась динамика проката по годам.  \n",
    "- Узнать в каком году сумма сборов была минимальной и максимальной.  \n",
    "- С помощью сводной таблицы посчитать среднюю и медианную сумму сборов для каждого года.   \n",
    "- Сравнить эти значения и сделать выводы.  \n",
    "- Определить, влияет ли возрастное ограничение аудитории («6+», «12+», «16+», «18+» и т. д.) на сборы фильма в прокате в период с 2015 по 2019 год.  \n",
    "- Узнать, фильмы с каким возрастным ограничением собрали больше всего денег в прокате и меняется ли картина в зависимости от года  \n",
    "\n",
    "С 2010 по 2019 год имеются данные о выходе в прокат 3158 фильмов, что составляет 45% от всех фильмов в таблице. Динамика доли фильмов с указанной информацией о прокате на протяжении с 2010 по 2019 годы меняется с 15% до 75%. Полнее всего представлена информация о прокате в кинотеатрах в период с 2015 по 2019 год.\n",
    "\n",
    "С 2010 по 2012 годы количество фильмов в прокате было минимальным. С 2013 по по 2016 оно резко выросло до максимальных значений. В 2017 году прокат несколько снизился до средне-высокого значения, а с 2018 по 2019 снова достиг максимальных показателей. Сумма сборов была минимальной в 2010 году, а максимальной в 2018.\n",
    "\n",
    "С 2010 по 2014 годы средняя и медианная сумма сборов находилась в медленном росте с минимальных значений. С 2015 по 2019 годы произошел резкий рост сборов сразу на два порядка.\n",
    "\n",
    "В области детского кино есть ценз 6+, а следом за ним уже 12+. Между этими возрастами большой разрыв, и не хватает промежуточного рейтинга. Притом что у нас есть два разных рейтинга — 16+ и 18+, хотя разница между шестнадцатилетним и восемнадцатилетним вовсе не столь существенна, как бывает в раннем детском возрасте.\n",
    "За период с 2015 по 2019 год больше всего фильмов в прокате собрали фильмы с возрастным ограничение категории \"16+\". В зависимости от года самыми прибыльными были фильмы следующих возрастных категорий:  \n",
    "- В 2015 году - 12+  \n",
    "- В 2016 году - 16+  \n",
    "- В 2017 году - 16+  \n",
    "- В 2018 году - 16+  \n",
    "- В 2019 году - 6+  \n",
    "\n",
    "Возможна связь с демографией - большим количеством рожденных в 2000-2002 гг.  \n",
    "В области детского кино есть ценз 6+, а следом за ним уже 12+. Между этими возрастами большой разрыв, и  не хватает промежуточного рейтинга. Притом что у нас есть два разных рейтинга — 16+ и 18+, хотя разница между шестнадцатилетним и восемнадцатилетним вовсе не столь существенна, как бывает в раннем детском возрасте."
   ]
  },
  {
   "cell_type": "markdown",
   "metadata": {
    "id": "l_Kg6Ku4gFya"
   },
   "source": [
    "### Шаг 4. Исследуем фильмы, которые получили государственную поддержку\n",
    "\n",
    "Поищем интересные закономерности в данных. Посмотрим, сколько выделяют средств на поддержку кино. Проверим, хорошо ли окупаются такие фильмы, какой у них рейтинг."
   ]
  },
  {
   "cell_type": "code",
   "execution_count": 54,
   "metadata": {
    "id": "W9QKpjUdgFyb"
   },
   "outputs": [
    {
     "name": "stderr",
     "output_type": "stream",
     "text": [
      "/tmp/ipykernel_48/184049025.py:2: SettingWithCopyWarning: \n",
      "A value is trying to be set on a copy of a slice from a DataFrame.\n",
      "Try using .loc[row_indexer,col_indexer] = value instead\n",
      "\n",
      "See the caveats in the documentation: https://pandas.pydata.org/pandas-docs/stable/user_guide/indexing.html#returning-a-view-versus-a-copy\n",
      "  budget_data['total_support'] = budget_data['refundable_support'] + budget_data['nonrefundable_support']\n"
     ]
    },
    {
     "data": {
      "text/html": [
       "<div>\n",
       "<style scoped>\n",
       "    .dataframe tbody tr th:only-of-type {\n",
       "        vertical-align: middle;\n",
       "    }\n",
       "\n",
       "    .dataframe tbody tr th {\n",
       "        vertical-align: top;\n",
       "    }\n",
       "\n",
       "    .dataframe thead tr th {\n",
       "        text-align: left;\n",
       "    }\n",
       "\n",
       "    .dataframe thead tr:last-of-type th {\n",
       "        text-align: right;\n",
       "    }\n",
       "</style>\n",
       "<table border=\"1\" class=\"dataframe\">\n",
       "  <thead>\n",
       "    <tr>\n",
       "      <th></th>\n",
       "      <th>sum</th>\n",
       "    </tr>\n",
       "    <tr>\n",
       "      <th></th>\n",
       "      <th>total_support</th>\n",
       "    </tr>\n",
       "    <tr>\n",
       "      <th>show_year</th>\n",
       "      <th></th>\n",
       "    </tr>\n",
       "  </thead>\n",
       "  <tbody>\n",
       "    <tr>\n",
       "      <th>2013</th>\n",
       "      <td>134,347,945.00</td>\n",
       "    </tr>\n",
       "    <tr>\n",
       "      <th>2014</th>\n",
       "      <td>549,002,299.00</td>\n",
       "    </tr>\n",
       "    <tr>\n",
       "      <th>2015</th>\n",
       "      <td>3,227,241,459.00</td>\n",
       "    </tr>\n",
       "    <tr>\n",
       "      <th>2016</th>\n",
       "      <td>3,977,155,482.00</td>\n",
       "    </tr>\n",
       "    <tr>\n",
       "      <th>2017</th>\n",
       "      <td>3,098,971,662.00</td>\n",
       "    </tr>\n",
       "    <tr>\n",
       "      <th>2018</th>\n",
       "      <td>3,098,000,000.00</td>\n",
       "    </tr>\n",
       "    <tr>\n",
       "      <th>2019</th>\n",
       "      <td>4,724,000,000.00</td>\n",
       "    </tr>\n",
       "  </tbody>\n",
       "</table>\n",
       "</div>"
      ],
      "text/plain": [
       "                           sum\n",
       "                 total_support\n",
       "show_year                     \n",
       "2013            134,347,945.00\n",
       "2014            549,002,299.00\n",
       "2015          3,227,241,459.00\n",
       "2016          3,977,155,482.00\n",
       "2017          3,098,971,662.00\n",
       "2018          3,098,000,000.00\n",
       "2019          4,724,000,000.00"
      ]
     },
     "execution_count": 54,
     "metadata": {},
     "output_type": "execute_result"
    }
   ],
   "source": [
    "budget_data = data[data['refundable_support'].notnull()]\n",
    "budget_data['total_support'] = budget_data['refundable_support'] + budget_data['nonrefundable_support']\n",
    "budget_ptable = budget_data.pivot_table(index = 'show_year', values = 'total_support', aggfunc = ['sum'])\n",
    "budget_ptable"
   ]
  },
  {
   "cell_type": "code",
   "execution_count": 55,
   "metadata": {},
   "outputs": [
    {
     "data": {
      "text/plain": [
       "18808718847.0"
      ]
     },
     "execution_count": 55,
     "metadata": {},
     "output_type": "execute_result"
    }
   ],
   "source": [
    "budget_data['total_support'].sum()"
   ]
  },
  {
   "cell_type": "code",
   "execution_count": 56,
   "metadata": {},
   "outputs": [
    {
     "data": {
      "image/png": "[encoded data removed]",
      "text/plain": [
       "<Figure size 432x288 with 1 Axes>"
      ]
     },
     "metadata": {
      "needs_background": "light"
     },
     "output_type": "display_data"
    }
   ],
   "source": [
    "budget_ptable.plot(title = 'Динамика сборов по годам', xlabel = 'Год', ylabel = 'Объем поддержки', legend = False)\n",
    "plt.show()"
   ]
  },
  {
   "cell_type": "code",
   "execution_count": 57,
   "metadata": {},
   "outputs": [
    {
     "name": "stderr",
     "output_type": "stream",
     "text": [
      "/tmp/ipykernel_48/2498982373.py:2: SettingWithCopyWarning: \n",
      "A value is trying to be set on a copy of a slice from a DataFrame.\n",
      "Try using .loc[row_indexer,col_indexer] = value instead\n",
      "\n",
      "See the caveats in the documentation: https://pandas.pydata.org/pandas-docs/stable/user_guide/indexing.html#returning-a-view-versus-a-copy\n",
      "  payback_data['show_result'] = payback_data['box_office'] - payback_data['budget']\n"
     ]
    },
    {
     "data": {
      "text/plain": [
       "count                 318.00\n",
       "mean            4,802,960.43\n",
       "std           319,013,833.07\n",
       "min        -1,971,477,243.41\n",
       "25%           -70,061,013.25\n",
       "50%           -40,108,127.50\n",
       "75%             2,176,585.58\n",
       "max         2,913,568,690.79\n",
       "Name: show_result, dtype: float64"
      ]
     },
     "execution_count": 57,
     "metadata": {},
     "output_type": "execute_result"
    }
   ],
   "source": [
    "payback_data = budget_data[budget_data['box_office'].notnull()]\n",
    "payback_data['show_result'] = payback_data['box_office'] - payback_data['budget']\n",
    "payback_data['show_result'].describe()"
   ]
  },
  {
   "cell_type": "code",
   "execution_count": 58,
   "metadata": {},
   "outputs": [
    {
     "data": {
      "text/plain": [
       "count                 316.00\n",
       "mean                    6.02\n",
       "std                     1.15\n",
       "min                     1.00\n",
       "25%                     5.30\n",
       "50%                     6.20\n",
       "75%                     6.70\n",
       "max                     9.40\n",
       "Name: ratings, dtype: float64"
      ]
     },
     "execution_count": 58,
     "metadata": {},
     "output_type": "execute_result"
    }
   ],
   "source": [
    "ratings_data = budget_data[budget_data['ratings'].notnull()]\n",
    "ratings_data['ratings'].describe()"
   ]
  },
  {
   "cell_type": "markdown",
   "metadata": {},
   "source": [
    "На данном этапе у нас были следующие цели и задачи:  \n",
    "Посмотреть, сколько выделяют средств на поддержку кино.   \n",
    "Проверить, хорошо ли окупаются такие фильмы, какой у них рейтинг.   \n",
    "\n",
    "Были получены следующие результаты:\n",
    "C 2010 по 2012 данные о поддержке кино из бюджета отсутствуют. С 2013 по 2019 год на поддержку кино было выделено свыше 20 миллиардов рублей. Окупаются поддерживаемые из бюджета фильмы плохо, причиняя около 40 миллионов рублей убытков с фильма. Такие фильмы в среднем имеют рейтинг 6,2 из 10.\n",
    "\n",
    "Из этого можно сделать вывод, что, несмотря на значительное финансирование киноиндустрии со стороны государства, большинство поддерживаемых фильмов не приносят ожидаемой прибыли, а их средний рейтинг указывает на то, что они могут быть недостаточно качественными или популярными. Это может свидетельствовать о необходимости пересмотра стратегии государственной поддержки кино и внедрении более эффективных механизмов финансирования и оценки результатов.  \n",
    "Переходим к общему выводу."
   ]
  },
  {
   "cell_type": "markdown",
   "metadata": {
    "id": "V2gYwMcPgFyd"
   },
   "source": [
    "### Шаг 5. Напишем общий вывод"
   ]
  },
  {
   "cell_type": "markdown",
   "metadata": {
    "id": "AYRg3dzXgFye"
   },
   "source": [
    "В ходе исследования был проведен анализ статистики рынка российского кинопроката.  Проведена предобработка данных, включающая в себя:\n",
    "\n",
    "1) Удаление пропусков путем заполнения их подходящими значениями.\n",
    "\n",
    "2) Изменение типов данных.\n",
    "\n",
    "3) Обработку дубликатов.\n",
    "\n",
    "В данных имеются пропуски в следующих столбцах:  \n",
    "\n",
    "film_studio  \n",
    "priduction_country  \n",
    "director  \n",
    "producer  \n",
    "refundable_support  \n",
    "nonrefundable_support  \n",
    "budget  \n",
    "financing_source  \n",
    "ratings  \n",
    "genres  \n",
    "box_office  \n",
    "\n",
    "В столбце film_studio имеются пропуски, т.к. не все фильмы снимаются на студиях. Такие пропуски не являются случайными и заполнять их не нужно.  \n",
    "При рассмотрении строк с пропусками в столбце production_country заметно, что значения можно заполнить, основываясь данных из соседних столбцов, что мы и сделали. Такие пропуски называются полностью случайными.  \n",
    "В столбцах director, ratings и genres пропуски похожи на случайные, однако предложить логичную замену им невозможно. В столбцах rating и genres мы их оставляем, а в столбце director заменим пустой строкой. Этот столбец участвует в дальнейшем анализе, а наличие пропусков будет мешать выполнению операций.  \n",
    "В столбце producer пропуски случайны и не подлежат заполнению, т.к. пропуски имеют фильмы, снятые в СССР. В СССР кинематограф финансировался только государством, продюсеров не было.  \n",
    "Из описания данных следует, что в столбцах refundable_support, nonrefundable_support, budget и financing_source указан объем государственной поддержки. Если в информации о фильме есть пропуски в данных столбцах, значит государственной поддержки он не получал. Пропуски не являются случайными.   \n",
    "\n",
    "Почти во всех категориальных столбцах в одной ячейке идет перечисление субъектов.  \n",
    "\n",
    "В 17 строках обнаружилась ошибка - значение в столбце бюджет было меньше суммы значений в столбцах господдержки. Достоверно указать размер бюджета мы не может, поэтому будет лучше обнулить в таких строках информацию о размере господдержки.  \n",
    "\n",
    "\n",
    "Добавлены в таблицу новые столбцы со следующими названиями и данными:  \n",
    "- show_year - показывает год начала проката фильма  \n",
    "- main_director - показывает имя главного режиссера фильма  \n",
    "- main_genre - показывает основной жанр фильма  \n",
    "- support_ratio - показывает, какую долю от общего бюджета фильма составляет государственная поддержка \n",
    "\n",
    "Выявлены следующие зависимости:\n",
    "С 2010 по 2019 год имеются данные о выходе в прокат 3158 фильмов, что составляет 45% от всех фильмов в таблице. Динамика доли фильмов с указанной информацией о прокате на протяжении с 2010 по 2019 годы меняется с 15% до 75%. Полнее всего представлена информация о прокате в кинотеатрах в период с 2015 по 2019 год.  \n",
    "\n",
    "С 2010 по 2012 годы количество фильмов в прокате было минимальным. С 2013 по по 2016 оно резко выросло до максимальных значений. В 2017 году прокат несколько снизился до средне-высокого значения, а с 2018 по 2019 снова достиг максимальных показателей.  Сумма сборов была минимальной в 2010 году, а максимальной в 2018.  \n",
    "\n",
    "С 2010 по 2014 годы средняя и медианная сумма сборов находилась в медленном росте с минимальных значений. С 2015 по 2019 годы произошел резкий рост сборов сразу на два порядка. Минимальная средняя сумма сборов была в 2010 году, а максимальная - в 2017. Минимальной медианная сумма сборов была также в 2010 году, а максимальной - также в 2017. Медианная и средняя сумма сборов сильно отличаются - на 1-2 порядка. Это вызвано тем, что средняя сумма более чувствительная к выбросам и аномально высоким значениям. Медианная сумма сборов составляла максимум 10.5% от средней в 2012 году и минимум 0.07 % в 2014 году.  \n",
    "\n",
    "За период с 2015 по 2019 год больше всего фильмов в прокате собрали фильмы с возрастным ограничение категории \"16+\". В зависимости от года самыми прибыльными были фильмы следующих возрастных категорий:  \n",
    "\n",
    "- В 2015 году - 12+  \n",
    "- В 2016 году - 16+  \n",
    "- В 2017 году - 16+  \n",
    "- В 2018 году - 16+  \n",
    "- В 2019 году - 6+  \n",
    "\n",
    "Возможна связь с демографией - большим количеством рожденных в 2000-2002 гг.  \n",
    "В области детского кино есть ценз 6+, а следом за ним уже 12+. Между этими возрастами большой разрыв, и не хватает промежуточного рейтинга. Притом что у нас есть два разных рейтинга — 16+ и 18+, хотя разница между шестнадцатилетним и восемнадцатилетним вовсе не столь существенна, как бывает в раннем детском возрасте.  \n",
    "\n",
    "C 2010 по 2012 данные о поддержке кино из бюджета отсутствуют. С 2013 по 2019 год на поддержку кино было выделено свыше 20 миллиардов рублей. Окупаются поддерживаемые из бюджета фильмы плохо, причиняя около 40 миллионов рублей убытков с каждого фильма. Такие фильмы в среднем имеют рейтинг 6,2 из 10.  \n",
    "Из этого можно сделать вывод, что, несмотря на значительное финансирование киноиндустрии со стороны государства, большинство поддерживаемых фильмов не приносят ожидаемой прибыли, а их средний рейтинг указывает на то, что они могут быть недостаточно качественными или популярными. \n",
    "\n",
    "\n",
    "В качестве рекомендаций можно предложить:\n",
    "\n",
    "- Обратить внимание на подростковое кино, как стабильно популярный у зрителя жанр  \n",
    "\n",
    "- Совершенствовать систему отбора фильмов для государственной поддержки  \n",
    "\n",
    "- Совершенствовать систему, формирующую данные для предотвращения пропусков в данных  \n",
    "\n",
    "- Добавить больше категорий в систему возрастных ограничений  \n",
    "\n",
    "- Решения, принятые для поддержки кино в период с 2015 по 2019 годы оказались эффективными, их лучше развивать.  \n",
    "\n",
    "- Рассмотреть возможность пересмотра стратегии государственной поддержки кино и внедрении более эффективных механизмов финансирования и оценки результатов.\n",
    "\n",
    "- Исследовать другие признаки, рассчитывать другие метрики"
   ]
  }
 ],
 "metadata": {
  "ExecuteTimeLog": [
   {
    "duration": 537,
    "start_time": "2021-07-07T10:12:08.634Z"
   },
   {
    "duration": 206,
    "start_time": "2021-07-07T10:12:30.191Z"
   },
   {
    "duration": 227,
    "start_time": "2021-07-07T10:12:33.078Z"
   },
   {
    "duration": 153,
    "start_time": "2021-07-07T10:13:42.146Z"
   },
   {
    "duration": 233,
    "start_time": "2021-07-07T10:30:09.252Z"
   },
   {
    "duration": 19,
    "start_time": "2021-07-07T10:30:15.577Z"
   },
   {
    "duration": 18,
    "start_time": "2021-07-07T10:30:57.348Z"
   },
   {
    "duration": 19,
    "start_time": "2021-07-07T10:31:17.452Z"
   },
   {
    "duration": 21,
    "start_time": "2021-07-07T10:31:32.227Z"
   },
   {
    "duration": 27,
    "start_time": "2021-07-07T10:32:06.588Z"
   },
   {
    "duration": 23,
    "start_time": "2021-07-07T10:32:43.645Z"
   },
   {
    "duration": 24,
    "start_time": "2021-07-07T10:33:06.948Z"
   },
   {
    "duration": 7,
    "start_time": "2021-07-07T10:33:28.558Z"
   },
   {
    "duration": 23,
    "start_time": "2021-07-07T10:33:43.761Z"
   },
   {
    "duration": 28,
    "start_time": "2021-07-07T10:34:13.466Z"
   },
   {
    "duration": 23,
    "start_time": "2021-07-07T10:35:56.187Z"
   },
   {
    "duration": 6,
    "start_time": "2021-07-07T10:36:48.182Z"
   },
   {
    "duration": 14,
    "start_time": "2021-07-07T10:37:49.641Z"
   },
   {
    "duration": 6,
    "start_time": "2021-07-07T10:38:06.694Z"
   },
   {
    "duration": 6,
    "start_time": "2021-07-07T10:38:13.493Z"
   },
   {
    "duration": 19,
    "start_time": "2021-07-07T10:38:44.056Z"
   },
   {
    "duration": 186,
    "start_time": "2021-07-07T10:48:35.618Z"
   },
   {
    "duration": 24,
    "start_time": "2021-07-07T10:48:51.498Z"
   },
   {
    "duration": 20,
    "start_time": "2021-07-07T10:48:59.415Z"
   },
   {
    "duration": 20,
    "start_time": "2021-07-07T10:53:02.195Z"
   },
   {
    "duration": 188,
    "start_time": "2021-07-07T10:54:40.486Z"
   },
   {
    "duration": 115,
    "start_time": "2021-07-07T10:54:52.552Z"
   },
   {
    "duration": 214,
    "start_time": "2021-07-07T10:54:56.354Z"
   },
   {
    "duration": 47,
    "start_time": "2021-07-07T10:54:58.282Z"
   },
   {
    "duration": 217,
    "start_time": "2021-07-07T10:59:16.075Z"
   },
   {
    "duration": 51,
    "start_time": "2021-07-07T10:59:16.243Z"
   },
   {
    "duration": 578,
    "start_time": "2021-07-07T10:59:18.774Z"
   },
   {
    "duration": 161,
    "start_time": "2021-07-07T10:59:21.238Z"
   },
   {
    "duration": 59,
    "start_time": "2021-07-07T10:59:21.453Z"
   },
   {
    "duration": 3,
    "start_time": "2021-07-07T11:02:10.786Z"
   },
   {
    "duration": 13,
    "start_time": "2021-07-07T11:07:07.722Z"
   },
   {
    "duration": 26,
    "start_time": "2021-07-07T11:07:17.958Z"
   },
   {
    "duration": 22,
    "start_time": "2021-07-07T11:08:17.939Z"
   },
   {
    "duration": 212,
    "start_time": "2021-07-07T11:08:19.665Z"
   },
   {
    "duration": 21,
    "start_time": "2021-07-07T11:08:29.945Z"
   },
   {
    "duration": 31,
    "start_time": "2021-07-07T11:08:38.899Z"
   },
   {
    "duration": 23,
    "start_time": "2021-07-07T11:08:54.527Z"
   },
   {
    "duration": 8,
    "start_time": "2021-07-07T11:18:55.974Z"
   },
   {
    "duration": 7,
    "start_time": "2021-07-07T11:19:03.639Z"
   },
   {
    "duration": 7,
    "start_time": "2021-07-07T11:19:06.444Z"
   },
   {
    "duration": 578,
    "start_time": "2021-07-07T12:09:59.576Z"
   },
   {
    "duration": 195,
    "start_time": "2021-07-07T12:10:00.156Z"
   },
   {
    "duration": 115,
    "start_time": "2021-07-07T12:10:00.353Z"
   },
   {
    "duration": 3,
    "start_time": "2021-07-07T12:10:00.470Z"
   },
   {
    "duration": 32,
    "start_time": "2021-07-07T12:10:00.474Z"
   },
   {
    "duration": 23,
    "start_time": "2021-07-07T12:10:00.508Z"
   },
   {
    "duration": 19,
    "start_time": "2021-07-07T12:10:00.533Z"
   },
   {
    "duration": 44,
    "start_time": "2021-07-07T12:10:00.553Z"
   },
   {
    "duration": 7,
    "start_time": "2021-07-07T12:10:00.600Z"
   },
   {
    "duration": 7,
    "start_time": "2021-07-07T12:19:45.761Z"
   },
   {
    "duration": 21,
    "start_time": "2021-07-07T12:21:35.482Z"
   },
   {
    "duration": 21,
    "start_time": "2021-07-07T12:29:23.569Z"
   },
   {
    "duration": 525,
    "start_time": "2021-07-07T12:29:44.542Z"
   },
   {
    "duration": 214,
    "start_time": "2021-07-07T12:29:45.069Z"
   },
   {
    "duration": 92,
    "start_time": "2021-07-07T12:29:45.285Z"
   },
   {
    "duration": 3,
    "start_time": "2021-07-07T12:29:45.379Z"
   },
   {
    "duration": 28,
    "start_time": "2021-07-07T12:29:45.384Z"
   },
   {
    "duration": 23,
    "start_time": "2021-07-07T12:29:45.413Z"
   },
   {
    "duration": 21,
    "start_time": "2021-07-07T12:29:45.437Z"
   },
   {
    "duration": 41,
    "start_time": "2021-07-07T12:29:45.460Z"
   },
   {
    "duration": 7,
    "start_time": "2021-07-07T12:29:45.502Z"
   },
   {
    "duration": 20,
    "start_time": "2021-07-07T12:29:45.511Z"
   },
   {
    "duration": 12,
    "start_time": "2021-07-07T12:34:02.800Z"
   },
   {
    "duration": 7,
    "start_time": "2021-07-07T12:35:10.479Z"
   },
   {
    "duration": 8,
    "start_time": "2021-07-07T12:35:22.440Z"
   },
   {
    "duration": 6,
    "start_time": "2021-07-07T12:35:35.649Z"
   },
   {
    "duration": 6,
    "start_time": "2021-07-07T12:35:43.107Z"
   },
   {
    "duration": 22,
    "start_time": "2021-07-07T12:38:03.029Z"
   },
   {
    "duration": 10,
    "start_time": "2021-07-07T12:38:06.592Z"
   },
   {
    "duration": 563,
    "start_time": "2021-07-07T12:38:46.493Z"
   },
   {
    "duration": 265,
    "start_time": "2021-07-07T12:38:47.058Z"
   },
   {
    "duration": 94,
    "start_time": "2021-07-07T12:38:47.325Z"
   },
   {
    "duration": 3,
    "start_time": "2021-07-07T12:38:47.422Z"
   },
   {
    "duration": 30,
    "start_time": "2021-07-07T12:38:47.427Z"
   },
   {
    "duration": 16,
    "start_time": "2021-07-07T12:38:53.305Z"
   },
   {
    "duration": 10,
    "start_time": "2021-07-07T12:38:53.499Z"
   },
   {
    "duration": 8,
    "start_time": "2021-07-07T12:39:48.161Z"
   },
   {
    "duration": 27,
    "start_time": "2021-07-07T12:41:17.629Z"
   },
   {
    "duration": 17,
    "start_time": "2021-07-07T12:41:17.867Z"
   },
   {
    "duration": 21,
    "start_time": "2021-07-07T12:41:19.310Z"
   },
   {
    "duration": 7,
    "start_time": "2021-07-07T12:41:19.544Z"
   },
   {
    "duration": 20,
    "start_time": "2021-07-07T12:41:20.504Z"
   },
   {
    "duration": 554,
    "start_time": "2021-07-07T12:56:23.696Z"
   },
   {
    "duration": 200,
    "start_time": "2021-07-07T12:56:25.234Z"
   },
   {
    "duration": 119,
    "start_time": "2021-07-07T12:56:25.480Z"
   },
   {
    "duration": 4,
    "start_time": "2021-07-07T12:56:25.762Z"
   },
   {
    "duration": 26,
    "start_time": "2021-07-07T12:56:27.172Z"
   },
   {
    "duration": 12,
    "start_time": "2021-07-07T12:56:29.051Z"
   },
   {
    "duration": 10,
    "start_time": "2021-07-07T12:56:29.291Z"
   },
   {
    "duration": 8,
    "start_time": "2021-07-07T12:56:29.623Z"
   },
   {
    "duration": 28,
    "start_time": "2021-07-07T12:56:32.137Z"
   },
   {
    "duration": 19,
    "start_time": "2021-07-07T12:56:39.785Z"
   },
   {
    "duration": 20,
    "start_time": "2021-07-07T12:56:44.297Z"
   },
   {
    "duration": 7,
    "start_time": "2021-07-07T12:56:45.392Z"
   },
   {
    "duration": 23,
    "start_time": "2021-07-07T12:56:46.615Z"
   },
   {
    "duration": 4,
    "start_time": "2021-07-07T12:57:06.625Z"
   },
   {
    "duration": 32,
    "start_time": "2021-07-07T12:57:36.690Z"
   },
   {
    "duration": 18,
    "start_time": "2021-07-07T12:58:00.149Z"
   },
   {
    "duration": 15,
    "start_time": "2021-07-07T12:59:16.793Z"
   },
   {
    "duration": 7,
    "start_time": "2021-07-07T13:19:22.624Z"
   },
   {
    "duration": 6,
    "start_time": "2021-07-07T14:17:33.527Z"
   },
   {
    "duration": 9,
    "start_time": "2021-07-07T14:17:48.409Z"
   },
   {
    "duration": 8,
    "start_time": "2021-07-07T14:20:13.060Z"
   },
   {
    "duration": 8,
    "start_time": "2021-07-07T14:20:37.957Z"
   },
   {
    "duration": 8,
    "start_time": "2021-07-07T14:20:47.470Z"
   },
   {
    "duration": 9,
    "start_time": "2021-07-07T14:20:54.503Z"
   },
   {
    "duration": 10,
    "start_time": "2021-07-07T14:28:57.763Z"
   },
   {
    "duration": 3,
    "start_time": "2021-07-07T14:30:23.377Z"
   },
   {
    "duration": 3,
    "start_time": "2021-07-07T14:30:36.489Z"
   },
   {
    "duration": 103,
    "start_time": "2021-07-07T14:30:52.351Z"
   },
   {
    "duration": 8,
    "start_time": "2021-07-07T14:30:54.763Z"
   },
   {
    "duration": 8,
    "start_time": "2021-07-07T14:31:29.301Z"
   },
   {
    "duration": 13,
    "start_time": "2021-07-07T14:31:44.516Z"
   },
   {
    "duration": 7,
    "start_time": "2021-07-07T14:33:10.972Z"
   },
   {
    "duration": 11,
    "start_time": "2021-07-07T14:33:27.780Z"
   },
   {
    "duration": 8,
    "start_time": "2021-07-07T14:34:44.588Z"
   },
   {
    "duration": 57,
    "start_time": "2021-07-07T14:35:59.042Z"
   },
   {
    "duration": 3,
    "start_time": "2021-07-07T14:36:28.168Z"
   },
   {
    "duration": 5,
    "start_time": "2021-07-07T14:36:46.254Z"
   },
   {
    "duration": 4,
    "start_time": "2021-07-07T14:36:52.714Z"
   },
   {
    "duration": 3,
    "start_time": "2021-07-07T14:36:56.612Z"
   },
   {
    "duration": 4,
    "start_time": "2021-07-07T14:36:57.049Z"
   },
   {
    "duration": 3,
    "start_time": "2021-07-07T14:39:21.214Z"
   },
   {
    "duration": 7,
    "start_time": "2021-07-07T14:39:52.406Z"
   },
   {
    "duration": 11,
    "start_time": "2021-07-07T14:39:58.576Z"
   },
   {
    "duration": 9,
    "start_time": "2021-07-07T14:40:26.301Z"
   },
   {
    "duration": 10,
    "start_time": "2021-07-07T14:40:31.704Z"
   },
   {
    "duration": 11,
    "start_time": "2021-07-07T14:40:36.249Z"
   },
   {
    "duration": 10,
    "start_time": "2021-07-07T14:40:39.783Z"
   },
   {
    "duration": 9,
    "start_time": "2021-07-07T14:40:48.558Z"
   },
   {
    "duration": 10,
    "start_time": "2021-07-07T14:40:57.143Z"
   },
   {
    "duration": 9,
    "start_time": "2021-07-07T14:41:06.074Z"
   },
   {
    "duration": 4324,
    "start_time": "2021-07-07T14:41:22.004Z"
   },
   {
    "duration": 11,
    "start_time": "2021-07-07T14:41:33.392Z"
   },
   {
    "duration": 9,
    "start_time": "2021-07-07T14:41:39.288Z"
   },
   {
    "duration": 569,
    "start_time": "2021-07-07T14:42:14.387Z"
   },
   {
    "duration": 197,
    "start_time": "2021-07-07T14:42:14.959Z"
   },
   {
    "duration": 84,
    "start_time": "2021-07-07T14:42:16.052Z"
   },
   {
    "duration": 4,
    "start_time": "2021-07-07T14:42:16.900Z"
   },
   {
    "duration": 27,
    "start_time": "2021-07-07T14:42:19.898Z"
   },
   {
    "duration": 12,
    "start_time": "2021-07-07T14:42:21.577Z"
   },
   {
    "duration": 9,
    "start_time": "2021-07-07T14:42:21.813Z"
   },
   {
    "duration": 9,
    "start_time": "2021-07-07T14:42:22.569Z"
   },
   {
    "duration": 29,
    "start_time": "2021-07-07T14:42:25.837Z"
   },
   {
    "duration": 20,
    "start_time": "2021-07-07T14:42:27.003Z"
   },
   {
    "duration": 21,
    "start_time": "2021-07-07T14:42:28.767Z"
   },
   {
    "duration": 7,
    "start_time": "2021-07-07T14:42:29.838Z"
   },
   {
    "duration": 4,
    "start_time": "2021-07-07T14:43:25.493Z"
   },
   {
    "duration": 7,
    "start_time": "2021-07-07T14:43:26.573Z"
   },
   {
    "duration": 10,
    "start_time": "2021-07-07T14:43:31.639Z"
   },
   {
    "duration": 9,
    "start_time": "2021-07-07T14:43:32.046Z"
   },
   {
    "duration": 10,
    "start_time": "2021-07-07T14:43:33.301Z"
   },
   {
    "duration": 12,
    "start_time": "2021-07-07T14:43:33.658Z"
   },
   {
    "duration": 8,
    "start_time": "2021-07-07T14:43:34.552Z"
   },
   {
    "duration": 9,
    "start_time": "2021-07-07T14:43:35.058Z"
   },
   {
    "duration": 12,
    "start_time": "2021-07-07T14:43:35.914Z"
   },
   {
    "duration": 17,
    "start_time": "2021-07-07T14:45:34.368Z"
   },
   {
    "duration": 512,
    "start_time": "2021-07-07T14:51:58.236Z"
   },
   {
    "duration": 223,
    "start_time": "2021-07-07T14:51:58.750Z"
   },
   {
    "duration": 93,
    "start_time": "2021-07-07T14:51:58.977Z"
   },
   {
    "duration": 4,
    "start_time": "2021-07-07T14:51:59.071Z"
   },
   {
    "duration": 37,
    "start_time": "2021-07-07T14:51:59.077Z"
   },
   {
    "duration": 18,
    "start_time": "2021-07-07T14:51:59.116Z"
   },
   {
    "duration": 10,
    "start_time": "2021-07-07T14:51:59.137Z"
   },
   {
    "duration": 8,
    "start_time": "2021-07-07T14:51:59.149Z"
   },
   {
    "duration": 54,
    "start_time": "2021-07-07T14:51:59.158Z"
   },
   {
    "duration": 18,
    "start_time": "2021-07-07T14:51:59.213Z"
   },
   {
    "duration": 22,
    "start_time": "2021-07-07T14:51:59.232Z"
   },
   {
    "duration": 36,
    "start_time": "2021-07-07T14:51:59.255Z"
   },
   {
    "duration": 7,
    "start_time": "2021-07-07T14:51:59.293Z"
   },
   {
    "duration": 10,
    "start_time": "2021-07-07T14:51:59.302Z"
   },
   {
    "duration": 9,
    "start_time": "2021-07-07T14:51:59.313Z"
   },
   {
    "duration": 11,
    "start_time": "2021-07-07T14:51:59.324Z"
   },
   {
    "duration": 8,
    "start_time": "2021-07-07T14:51:59.337Z"
   },
   {
    "duration": 46,
    "start_time": "2021-07-07T14:51:59.347Z"
   },
   {
    "duration": 22,
    "start_time": "2021-07-07T14:51:59.395Z"
   },
   {
    "duration": 24,
    "start_time": "2021-07-07T14:57:32.911Z"
   },
   {
    "duration": 7,
    "start_time": "2021-07-07T14:58:22.070Z"
   },
   {
    "duration": 4,
    "start_time": "2021-07-07T14:59:11.239Z"
   },
   {
    "duration": 25,
    "start_time": "2021-07-07T15:07:22.208Z"
   },
   {
    "duration": 16,
    "start_time": "2021-07-07T15:08:25.560Z"
   },
   {
    "duration": 15,
    "start_time": "2021-07-07T15:08:40.647Z"
   },
   {
    "duration": 14,
    "start_time": "2021-07-07T15:08:46.669Z"
   },
   {
    "duration": 533,
    "start_time": "2021-07-07T15:18:07.440Z"
   },
   {
    "duration": 173,
    "start_time": "2021-07-07T15:18:07.974Z"
   },
   {
    "duration": 84,
    "start_time": "2021-07-07T15:18:08.149Z"
   },
   {
    "duration": 3,
    "start_time": "2021-07-07T15:18:08.235Z"
   },
   {
    "duration": 30,
    "start_time": "2021-07-07T15:18:08.240Z"
   },
   {
    "duration": 22,
    "start_time": "2021-07-07T15:18:08.272Z"
   },
   {
    "duration": 11,
    "start_time": "2021-07-07T15:18:08.295Z"
   },
   {
    "duration": 11,
    "start_time": "2021-07-07T15:18:08.309Z"
   },
   {
    "duration": 40,
    "start_time": "2021-07-07T15:18:08.322Z"
   },
   {
    "duration": 42,
    "start_time": "2021-07-07T15:18:08.364Z"
   },
   {
    "duration": 22,
    "start_time": "2021-07-07T15:18:08.408Z"
   },
   {
    "duration": 5,
    "start_time": "2021-07-07T15:18:08.432Z"
   },
   {
    "duration": 13,
    "start_time": "2021-07-07T15:18:08.439Z"
   },
   {
    "duration": 9,
    "start_time": "2021-07-07T15:18:08.454Z"
   },
   {
    "duration": 32,
    "start_time": "2021-07-07T15:18:08.465Z"
   },
   {
    "duration": 10,
    "start_time": "2021-07-07T15:18:08.501Z"
   },
   {
    "duration": 7,
    "start_time": "2021-07-07T15:18:08.513Z"
   },
   {
    "duration": 11,
    "start_time": "2021-07-07T15:18:08.521Z"
   },
   {
    "duration": 17,
    "start_time": "2021-07-07T15:18:08.534Z"
   },
   {
    "duration": 44,
    "start_time": "2021-07-07T15:18:08.553Z"
   },
   {
    "duration": 22,
    "start_time": "2021-07-07T15:18:08.599Z"
   },
   {
    "duration": 61,
    "start_time": "2021-07-07T15:18:08.622Z"
   },
   {
    "duration": 7,
    "start_time": "2021-07-07T15:18:39.457Z"
   },
   {
    "duration": 5,
    "start_time": "2021-07-07T16:05:17.020Z"
   },
   {
    "duration": 5,
    "start_time": "2021-07-07T16:51:28.794Z"
   },
   {
    "duration": 546,
    "start_time": "2021-07-07T16:52:26.306Z"
   },
   {
    "duration": 203,
    "start_time": "2021-07-07T16:52:27.523Z"
   },
   {
    "duration": 85,
    "start_time": "2021-07-07T16:52:27.736Z"
   },
   {
    "duration": 4,
    "start_time": "2021-07-07T16:52:27.899Z"
   },
   {
    "duration": 25,
    "start_time": "2021-07-07T16:52:28.674Z"
   },
   {
    "duration": 8,
    "start_time": "2021-07-07T16:52:32.956Z"
   },
   {
    "duration": 18,
    "start_time": "2021-07-07T16:52:35.616Z"
   },
   {
    "duration": 6,
    "start_time": "2021-07-07T16:52:36.913Z"
   },
   {
    "duration": 11,
    "start_time": "2021-07-07T16:52:40.258Z"
   },
   {
    "duration": 10,
    "start_time": "2021-07-07T16:52:46.251Z"
   },
   {
    "duration": 8,
    "start_time": "2021-07-07T16:52:47.182Z"
   },
   {
    "duration": 27,
    "start_time": "2021-07-07T16:53:20.391Z"
   },
   {
    "duration": 20,
    "start_time": "2021-07-07T16:53:22.022Z"
   },
   {
    "duration": 23,
    "start_time": "2021-07-07T16:53:23.690Z"
   },
   {
    "duration": 8,
    "start_time": "2021-07-07T16:53:24.261Z"
   },
   {
    "duration": 4,
    "start_time": "2021-07-07T16:53:38.733Z"
   },
   {
    "duration": 7,
    "start_time": "2021-07-07T16:53:40.445Z"
   },
   {
    "duration": 11,
    "start_time": "2021-07-07T16:53:41.348Z"
   },
   {
    "duration": 13,
    "start_time": "2021-07-07T16:53:45.250Z"
   },
   {
    "duration": 12,
    "start_time": "2021-07-07T16:53:45.467Z"
   },
   {
    "duration": 4,
    "start_time": "2021-07-07T16:55:32.704Z"
   },
   {
    "duration": 12,
    "start_time": "2021-07-07T16:55:49.012Z"
   },
   {
    "duration": 18,
    "start_time": "2021-07-07T16:55:49.547Z"
   },
   {
    "duration": 611,
    "start_time": "2021-07-07T16:58:35.156Z"
   },
   {
    "duration": 200,
    "start_time": "2021-07-07T16:58:35.770Z"
   },
   {
    "duration": 86,
    "start_time": "2021-07-07T16:58:35.972Z"
   },
   {
    "duration": 3,
    "start_time": "2021-07-07T16:58:36.060Z"
   },
   {
    "duration": 27,
    "start_time": "2021-07-07T16:58:36.065Z"
   },
   {
    "duration": 8,
    "start_time": "2021-07-07T16:58:36.094Z"
   },
   {
    "duration": 17,
    "start_time": "2021-07-07T16:58:36.103Z"
   },
   {
    "duration": 5,
    "start_time": "2021-07-07T16:58:36.123Z"
   },
   {
    "duration": 11,
    "start_time": "2021-07-07T16:58:36.130Z"
   },
   {
    "duration": 7,
    "start_time": "2021-07-07T16:58:36.143Z"
   },
   {
    "duration": 37,
    "start_time": "2021-07-07T16:58:36.152Z"
   },
   {
    "duration": 27,
    "start_time": "2021-07-07T16:58:36.191Z"
   },
   {
    "duration": 19,
    "start_time": "2021-07-07T16:58:36.219Z"
   },
   {
    "duration": 49,
    "start_time": "2021-07-07T16:58:36.240Z"
   },
   {
    "duration": 6,
    "start_time": "2021-07-07T16:58:36.291Z"
   },
   {
    "duration": 3,
    "start_time": "2021-07-07T16:58:36.299Z"
   },
   {
    "duration": 13,
    "start_time": "2021-07-07T16:58:36.304Z"
   },
   {
    "duration": 10,
    "start_time": "2021-07-07T16:58:36.319Z"
   },
   {
    "duration": 10,
    "start_time": "2021-07-07T16:58:36.331Z"
   },
   {
    "duration": 44,
    "start_time": "2021-07-07T16:58:36.343Z"
   },
   {
    "duration": 4,
    "start_time": "2021-07-07T16:58:36.388Z"
   },
   {
    "duration": 13,
    "start_time": "2021-07-07T16:58:36.394Z"
   },
   {
    "duration": 16,
    "start_time": "2021-07-07T16:58:36.410Z"
   },
   {
    "duration": 8,
    "start_time": "2021-07-07T17:02:31.629Z"
   },
   {
    "duration": 8,
    "start_time": "2021-07-07T17:02:34.308Z"
   },
   {
    "duration": 6,
    "start_time": "2021-07-07T17:05:13.483Z"
   },
   {
    "duration": 17,
    "start_time": "2021-07-07T17:05:20.606Z"
   },
   {
    "duration": 7,
    "start_time": "2021-07-07T17:05:34.638Z"
   },
   {
    "duration": 3,
    "start_time": "2021-07-07T17:06:31.883Z"
   },
   {
    "duration": 570,
    "start_time": "2021-07-07T17:06:37.165Z"
   },
   {
    "duration": 174,
    "start_time": "2021-07-07T17:06:37.737Z"
   },
   {
    "duration": 47,
    "start_time": "2021-07-07T17:06:37.913Z"
   },
   {
    "duration": 3,
    "start_time": "2021-07-07T17:06:37.962Z"
   },
   {
    "duration": 27,
    "start_time": "2021-07-07T17:06:37.967Z"
   },
   {
    "duration": 7,
    "start_time": "2021-07-07T17:06:37.996Z"
   },
   {
    "duration": 16,
    "start_time": "2021-07-07T17:06:38.005Z"
   },
   {
    "duration": 6,
    "start_time": "2021-07-07T17:06:38.024Z"
   },
   {
    "duration": 12,
    "start_time": "2021-07-07T17:06:38.031Z"
   },
   {
    "duration": 41,
    "start_time": "2021-07-07T17:06:38.045Z"
   },
   {
    "duration": 8,
    "start_time": "2021-07-07T17:06:38.088Z"
   },
   {
    "duration": 26,
    "start_time": "2021-07-07T17:06:38.098Z"
   },
   {
    "duration": 17,
    "start_time": "2021-07-07T17:06:38.126Z"
   },
   {
    "duration": 43,
    "start_time": "2021-07-07T17:06:38.144Z"
   },
   {
    "duration": 6,
    "start_time": "2021-07-07T17:06:38.188Z"
   },
   {
    "duration": 5,
    "start_time": "2021-07-07T17:06:38.195Z"
   },
   {
    "duration": 9,
    "start_time": "2021-07-07T17:06:38.201Z"
   },
   {
    "duration": 12,
    "start_time": "2021-07-07T17:06:38.212Z"
   },
   {
    "duration": 11,
    "start_time": "2021-07-07T17:06:38.226Z"
   },
   {
    "duration": 47,
    "start_time": "2021-07-07T17:06:38.239Z"
   },
   {
    "duration": 4,
    "start_time": "2021-07-07T17:06:38.288Z"
   },
   {
    "duration": 13,
    "start_time": "2021-07-07T17:06:38.293Z"
   },
   {
    "duration": 5,
    "start_time": "2021-07-07T17:06:38.309Z"
   },
   {
    "duration": 18,
    "start_time": "2021-07-07T17:06:38.325Z"
   },
   {
    "duration": 20,
    "start_time": "2021-07-07T17:07:02.805Z"
   },
   {
    "duration": 19,
    "start_time": "2021-07-07T17:07:08.527Z"
   },
   {
    "duration": 19,
    "start_time": "2021-07-07T17:07:12.758Z"
   },
   {
    "duration": 22,
    "start_time": "2021-07-07T17:07:17.497Z"
   },
   {
    "duration": 19,
    "start_time": "2021-07-07T17:07:19.645Z"
   },
   {
    "duration": 10,
    "start_time": "2021-07-07T17:07:34.239Z"
   },
   {
    "duration": 17,
    "start_time": "2021-07-07T17:07:54.144Z"
   },
   {
    "duration": 14,
    "start_time": "2021-07-07T17:08:14.357Z"
   },
   {
    "duration": 616,
    "start_time": "2021-07-07T17:08:45.254Z"
   },
   {
    "duration": 178,
    "start_time": "2021-07-07T17:08:45.872Z"
   },
   {
    "duration": 60,
    "start_time": "2021-07-07T17:08:46.054Z"
   },
   {
    "duration": 3,
    "start_time": "2021-07-07T17:08:46.116Z"
   },
   {
    "duration": 26,
    "start_time": "2021-07-07T17:08:46.121Z"
   },
   {
    "duration": 7,
    "start_time": "2021-07-07T17:08:46.149Z"
   },
   {
    "duration": 17,
    "start_time": "2021-07-07T17:08:46.158Z"
   },
   {
    "duration": 14,
    "start_time": "2021-07-07T17:08:46.176Z"
   },
   {
    "duration": 17,
    "start_time": "2021-07-07T17:08:46.193Z"
   },
   {
    "duration": 9,
    "start_time": "2021-07-07T17:08:46.211Z"
   },
   {
    "duration": 21,
    "start_time": "2021-07-07T17:08:46.221Z"
   },
   {
    "duration": 49,
    "start_time": "2021-07-07T17:08:46.244Z"
   },
   {
    "duration": 24,
    "start_time": "2021-07-07T17:08:46.295Z"
   },
   {
    "duration": 22,
    "start_time": "2021-07-07T17:08:46.321Z"
   },
   {
    "duration": 6,
    "start_time": "2021-07-07T17:08:46.345Z"
   },
   {
    "duration": 5,
    "start_time": "2021-07-07T17:08:46.353Z"
   },
   {
    "duration": 13,
    "start_time": "2021-07-07T17:08:46.386Z"
   },
   {
    "duration": 12,
    "start_time": "2021-07-07T17:08:46.402Z"
   },
   {
    "duration": 10,
    "start_time": "2021-07-07T17:08:46.415Z"
   },
   {
    "duration": 7,
    "start_time": "2021-07-07T17:08:46.427Z"
   },
   {
    "duration": 8,
    "start_time": "2021-07-07T17:08:46.435Z"
   },
   {
    "duration": 68,
    "start_time": "2021-07-07T17:08:46.446Z"
   },
   {
    "duration": 13,
    "start_time": "2021-07-07T17:08:46.516Z"
   },
   {
    "duration": 78,
    "start_time": "2021-07-07T17:08:46.530Z"
   },
   {
    "duration": 40,
    "start_time": "2021-07-07T17:09:08.185Z"
   },
   {
    "duration": 16,
    "start_time": "2021-07-07T17:09:19.324Z"
   },
   {
    "duration": 21,
    "start_time": "2021-07-07T17:09:23.290Z"
   },
   {
    "duration": 13,
    "start_time": "2021-07-07T17:09:54.812Z"
   },
   {
    "duration": 13,
    "start_time": "2021-07-07T17:10:02.039Z"
   },
   {
    "duration": 10,
    "start_time": "2021-07-07T17:10:29.632Z"
   },
   {
    "duration": 13,
    "start_time": "2021-07-07T17:10:52.372Z"
   },
   {
    "duration": 13,
    "start_time": "2021-07-07T17:11:17.270Z"
   },
   {
    "duration": 13,
    "start_time": "2021-07-07T17:14:59.284Z"
   },
   {
    "duration": 547,
    "start_time": "2021-07-07T17:18:52.403Z"
   },
   {
    "duration": 163,
    "start_time": "2021-07-07T17:18:52.952Z"
   },
   {
    "duration": 44,
    "start_time": "2021-07-07T17:18:53.117Z"
   },
   {
    "duration": 3,
    "start_time": "2021-07-07T17:18:53.162Z"
   },
   {
    "duration": 26,
    "start_time": "2021-07-07T17:18:53.167Z"
   },
   {
    "duration": 6,
    "start_time": "2021-07-07T17:18:53.195Z"
   },
   {
    "duration": 15,
    "start_time": "2021-07-07T17:18:53.203Z"
   },
   {
    "duration": 5,
    "start_time": "2021-07-07T17:18:53.220Z"
   },
   {
    "duration": 11,
    "start_time": "2021-07-07T17:18:53.228Z"
   },
   {
    "duration": 9,
    "start_time": "2021-07-07T17:18:53.241Z"
   },
   {
    "duration": 41,
    "start_time": "2021-07-07T17:18:53.252Z"
   },
   {
    "duration": 33,
    "start_time": "2021-07-07T17:18:53.295Z"
   },
   {
    "duration": 19,
    "start_time": "2021-07-07T17:18:53.330Z"
   },
   {
    "duration": 49,
    "start_time": "2021-07-07T17:18:53.350Z"
   },
   {
    "duration": 5,
    "start_time": "2021-07-07T17:18:53.401Z"
   },
   {
    "duration": 5,
    "start_time": "2021-07-07T17:18:53.408Z"
   },
   {
    "duration": 11,
    "start_time": "2021-07-07T17:18:53.414Z"
   },
   {
    "duration": 9,
    "start_time": "2021-07-07T17:18:53.427Z"
   },
   {
    "duration": 10,
    "start_time": "2021-07-07T17:18:53.437Z"
   },
   {
    "duration": 39,
    "start_time": "2021-07-07T17:18:53.448Z"
   },
   {
    "duration": 26,
    "start_time": "2021-07-07T17:18:55.799Z"
   },
   {
    "duration": 598,
    "start_time": "2021-07-07T17:20:17.862Z"
   },
   {
    "duration": 161,
    "start_time": "2021-07-07T17:20:18.462Z"
   },
   {
    "duration": 45,
    "start_time": "2021-07-07T17:20:18.626Z"
   },
   {
    "duration": 4,
    "start_time": "2021-07-07T17:20:18.673Z"
   },
   {
    "duration": 38,
    "start_time": "2021-07-07T17:20:26.877Z"
   },
   {
    "duration": 7,
    "start_time": "2021-07-07T17:20:37.405Z"
   },
   {
    "duration": 19,
    "start_time": "2021-07-07T17:20:51.534Z"
   },
   {
    "duration": 5,
    "start_time": "2021-07-07T17:20:57.228Z"
   },
   {
    "duration": 7,
    "start_time": "2021-07-07T17:21:08.235Z"
   },
   {
    "duration": 19,
    "start_time": "2021-07-07T17:21:42.158Z"
   },
   {
    "duration": 14,
    "start_time": "2021-07-07T17:21:50.225Z"
   },
   {
    "duration": 22,
    "start_time": "2021-07-07T17:22:54.104Z"
   },
   {
    "duration": 5,
    "start_time": "2021-07-07T17:22:56.371Z"
   },
   {
    "duration": 14,
    "start_time": "2021-07-07T17:22:58.316Z"
   },
   {
    "duration": 5,
    "start_time": "2021-07-07T17:22:58.493Z"
   },
   {
    "duration": 35,
    "start_time": "2021-07-07T17:22:59.666Z"
   },
   {
    "duration": 6,
    "start_time": "2021-07-07T17:23:02.410Z"
   },
   {
    "duration": 611,
    "start_time": "2021-07-07T17:24:59.664Z"
   },
   {
    "duration": 178,
    "start_time": "2021-07-07T17:25:01.945Z"
   },
   {
    "duration": 47,
    "start_time": "2021-07-07T17:25:02.125Z"
   },
   {
    "duration": 2,
    "start_time": "2021-07-07T17:25:07.903Z"
   },
   {
    "duration": 254,
    "start_time": "2021-07-07T17:25:08.232Z"
   },
   {
    "duration": 182,
    "start_time": "2021-07-07T17:25:08.671Z"
   },
   {
    "duration": 6,
    "start_time": "2021-07-07T17:25:13.104Z"
   },
   {
    "duration": 36,
    "start_time": "2021-07-07T17:25:13.662Z"
   },
   {
    "duration": 7,
    "start_time": "2021-07-07T17:25:14.528Z"
   },
   {
    "duration": 24,
    "start_time": "2021-07-07T17:25:27.982Z"
   },
   {
    "duration": 3,
    "start_time": "2021-07-07T17:25:48.982Z"
   },
   {
    "duration": 165,
    "start_time": "2021-07-07T17:25:48.987Z"
   },
   {
    "duration": 50,
    "start_time": "2021-07-07T17:25:49.154Z"
   },
   {
    "duration": 4,
    "start_time": "2021-07-07T17:25:49.206Z"
   },
   {
    "duration": 26,
    "start_time": "2021-07-07T17:25:49.212Z"
   },
   {
    "duration": 7,
    "start_time": "2021-07-07T17:25:49.240Z"
   },
   {
    "duration": 16,
    "start_time": "2021-07-07T17:25:49.249Z"
   },
   {
    "duration": 22,
    "start_time": "2021-07-07T17:25:49.266Z"
   },
   {
    "duration": 16,
    "start_time": "2021-07-07T17:25:49.291Z"
   },
   {
    "duration": 9,
    "start_time": "2021-07-07T17:25:49.309Z"
   },
   {
    "duration": 7,
    "start_time": "2021-07-07T17:25:49.319Z"
   },
   {
    "duration": 28,
    "start_time": "2021-07-07T17:25:49.328Z"
   },
   {
    "duration": 44,
    "start_time": "2021-07-07T17:25:49.357Z"
   },
   {
    "duration": 22,
    "start_time": "2021-07-07T17:25:49.403Z"
   },
   {
    "duration": 7,
    "start_time": "2021-07-07T17:25:49.427Z"
   },
   {
    "duration": 3,
    "start_time": "2021-07-07T17:25:49.436Z"
   },
   {
    "duration": 44,
    "start_time": "2021-07-07T17:25:49.441Z"
   },
   {
    "duration": 12,
    "start_time": "2021-07-07T17:25:49.488Z"
   },
   {
    "duration": 13,
    "start_time": "2021-07-07T17:25:49.502Z"
   },
   {
    "duration": 10,
    "start_time": "2021-07-07T17:25:49.516Z"
   },
   {
    "duration": 62,
    "start_time": "2021-07-07T17:25:49.527Z"
   },
   {
    "duration": 26,
    "start_time": "2021-07-07T17:26:51.809Z"
   },
   {
    "duration": 26,
    "start_time": "2021-07-07T17:26:55.759Z"
   },
   {
    "duration": 26,
    "start_time": "2021-07-07T17:27:04.501Z"
   },
   {
    "duration": 25,
    "start_time": "2021-07-07T17:28:24.859Z"
   },
   {
    "duration": 21,
    "start_time": "2021-07-07T17:28:55.250Z"
   },
   {
    "duration": 21,
    "start_time": "2021-07-07T17:28:58.885Z"
   },
   {
    "duration": 7,
    "start_time": "2021-07-07T17:45:40.972Z"
   },
   {
    "duration": 13,
    "start_time": "2021-07-07T17:45:42.529Z"
   },
   {
    "duration": 27,
    "start_time": "2021-07-07T17:45:51.026Z"
   },
   {
    "duration": 518,
    "start_time": "2021-07-07T17:46:15.532Z"
   },
   {
    "duration": 235,
    "start_time": "2021-07-07T17:46:16.053Z"
   },
   {
    "duration": 80,
    "start_time": "2021-07-07T17:46:16.292Z"
   },
   {
    "duration": 5,
    "start_time": "2021-07-07T17:46:16.373Z"
   },
   {
    "duration": 26,
    "start_time": "2021-07-07T17:46:16.380Z"
   },
   {
    "duration": 7,
    "start_time": "2021-07-07T17:46:16.408Z"
   },
   {
    "duration": 16,
    "start_time": "2021-07-07T17:46:16.418Z"
   },
   {
    "duration": 5,
    "start_time": "2021-07-07T17:46:16.436Z"
   },
   {
    "duration": 13,
    "start_time": "2021-07-07T17:46:16.442Z"
   },
   {
    "duration": 35,
    "start_time": "2021-07-07T17:46:16.456Z"
   },
   {
    "duration": 8,
    "start_time": "2021-07-07T17:46:16.493Z"
   },
   {
    "duration": 28,
    "start_time": "2021-07-07T17:46:16.502Z"
   },
   {
    "duration": 17,
    "start_time": "2021-07-07T17:46:16.532Z"
   },
   {
    "duration": 44,
    "start_time": "2021-07-07T17:46:16.551Z"
   },
   {
    "duration": 6,
    "start_time": "2021-07-07T17:46:16.597Z"
   },
   {
    "duration": 4,
    "start_time": "2021-07-07T17:46:16.605Z"
   },
   {
    "duration": 9,
    "start_time": "2021-07-07T17:46:16.610Z"
   },
   {
    "duration": 9,
    "start_time": "2021-07-07T17:46:16.621Z"
   },
   {
    "duration": 10,
    "start_time": "2021-07-07T17:46:16.632Z"
   },
   {
    "duration": 43,
    "start_time": "2021-07-07T17:46:16.644Z"
   },
   {
    "duration": 26,
    "start_time": "2021-07-07T17:46:16.689Z"
   },
   {
    "duration": 19,
    "start_time": "2021-07-07T17:46:16.718Z"
   },
   {
    "duration": 8,
    "start_time": "2021-07-07T17:46:16.738Z"
   },
   {
    "duration": 43,
    "start_time": "2021-07-07T17:46:16.747Z"
   },
   {
    "duration": 19,
    "start_time": "2021-07-07T17:46:16.791Z"
   },
   {
    "duration": 9,
    "start_time": "2021-07-07T17:46:16.812Z"
   },
   {
    "duration": 60,
    "start_time": "2021-07-07T17:46:16.822Z"
   },
   {
    "duration": -8,
    "start_time": "2021-07-07T17:46:16.892Z"
   },
   {
    "duration": 12,
    "start_time": "2021-07-07T17:48:47.707Z"
   },
   {
    "duration": 553,
    "start_time": "2021-07-07T18:10:09.350Z"
   },
   {
    "duration": 230,
    "start_time": "2021-07-07T18:10:09.905Z"
   },
   {
    "duration": 97,
    "start_time": "2021-07-07T18:10:10.137Z"
   },
   {
    "duration": 5,
    "start_time": "2021-07-07T18:10:10.236Z"
   },
   {
    "duration": 29,
    "start_time": "2021-07-07T18:10:10.242Z"
   },
   {
    "duration": 7,
    "start_time": "2021-07-07T18:10:10.272Z"
   },
   {
    "duration": 15,
    "start_time": "2021-07-07T18:10:10.281Z"
   },
   {
    "duration": 4,
    "start_time": "2021-07-07T18:10:10.299Z"
   },
   {
    "duration": 14,
    "start_time": "2021-07-07T18:10:10.305Z"
   },
   {
    "duration": 8,
    "start_time": "2021-07-07T18:10:10.321Z"
   },
   {
    "duration": 8,
    "start_time": "2021-07-07T18:10:10.331Z"
   },
   {
    "duration": 56,
    "start_time": "2021-07-07T18:10:10.341Z"
   },
   {
    "duration": 19,
    "start_time": "2021-07-07T18:10:10.399Z"
   },
   {
    "duration": 23,
    "start_time": "2021-07-07T18:10:10.419Z"
   },
   {
    "duration": 6,
    "start_time": "2021-07-07T18:10:10.444Z"
   },
   {
    "duration": 9,
    "start_time": "2021-07-07T18:10:10.451Z"
   },
   {
    "duration": 30,
    "start_time": "2021-07-07T18:10:10.462Z"
   },
   {
    "duration": 9,
    "start_time": "2021-07-07T18:10:10.494Z"
   },
   {
    "duration": 14,
    "start_time": "2021-07-07T18:10:10.505Z"
   },
   {
    "duration": 7,
    "start_time": "2021-07-07T18:10:10.521Z"
   },
   {
    "duration": 26,
    "start_time": "2021-07-07T18:10:10.530Z"
   },
   {
    "duration": 44,
    "start_time": "2021-07-07T18:10:10.558Z"
   },
   {
    "duration": 7,
    "start_time": "2021-07-07T18:10:10.605Z"
   },
   {
    "duration": 11,
    "start_time": "2021-07-07T18:10:10.614Z"
   },
   {
    "duration": 19,
    "start_time": "2021-07-07T18:10:10.626Z"
   },
   {
    "duration": 44,
    "start_time": "2021-07-07T18:10:10.646Z"
   },
   {
    "duration": 516,
    "start_time": "2021-07-07T18:14:00.826Z"
   },
   {
    "duration": 230,
    "start_time": "2021-07-07T18:14:01.344Z"
   },
   {
    "duration": 105,
    "start_time": "2021-07-07T18:14:01.576Z"
   },
   {
    "duration": 5,
    "start_time": "2021-07-07T18:14:01.683Z"
   },
   {
    "duration": 46,
    "start_time": "2021-07-07T18:14:01.690Z"
   },
   {
    "duration": 7,
    "start_time": "2021-07-07T18:14:01.738Z"
   },
   {
    "duration": 20,
    "start_time": "2021-07-07T18:14:01.747Z"
   },
   {
    "duration": 16,
    "start_time": "2021-07-07T18:14:01.769Z"
   },
   {
    "duration": 14,
    "start_time": "2021-07-07T18:14:01.787Z"
   },
   {
    "duration": 15,
    "start_time": "2021-07-07T18:14:01.803Z"
   },
   {
    "duration": 12,
    "start_time": "2021-07-07T18:14:01.820Z"
   },
   {
    "duration": 35,
    "start_time": "2021-07-07T18:14:01.833Z"
   },
   {
    "duration": 31,
    "start_time": "2021-07-07T18:14:01.869Z"
   },
   {
    "duration": 37,
    "start_time": "2021-07-07T18:14:01.902Z"
   },
   {
    "duration": 8,
    "start_time": "2021-07-07T18:14:01.942Z"
   },
   {
    "duration": 16,
    "start_time": "2021-07-07T18:14:01.952Z"
   },
   {
    "duration": 13,
    "start_time": "2021-07-07T18:14:01.970Z"
   },
   {
    "duration": 32,
    "start_time": "2021-07-07T18:14:01.985Z"
   },
   {
    "duration": 11,
    "start_time": "2021-07-07T18:14:02.019Z"
   },
   {
    "duration": 22,
    "start_time": "2021-07-07T18:14:02.031Z"
   },
   {
    "duration": 27,
    "start_time": "2021-07-07T18:14:02.055Z"
   },
   {
    "duration": 18,
    "start_time": "2021-07-07T18:14:02.084Z"
   },
   {
    "duration": 18,
    "start_time": "2021-07-07T18:14:02.106Z"
   },
   {
    "duration": 11,
    "start_time": "2021-07-07T18:14:02.126Z"
   },
   {
    "duration": 21,
    "start_time": "2021-07-07T18:14:02.138Z"
   },
   {
    "duration": 32,
    "start_time": "2021-07-07T18:14:02.161Z"
   },
   {
    "duration": 28,
    "start_time": "2021-07-07T18:14:44.295Z"
   },
   {
    "duration": 6,
    "start_time": "2021-07-07T18:15:05.834Z"
   },
   {
    "duration": 511,
    "start_time": "2021-07-07T18:15:41.541Z"
   },
   {
    "duration": 183,
    "start_time": "2021-07-07T18:15:42.054Z"
   },
   {
    "duration": 50,
    "start_time": "2021-07-07T18:15:42.239Z"
   },
   {
    "duration": 5,
    "start_time": "2021-07-07T18:15:42.291Z"
   },
   {
    "duration": 48,
    "start_time": "2021-07-07T18:15:42.297Z"
   },
   {
    "duration": 8,
    "start_time": "2021-07-07T18:15:42.346Z"
   },
   {
    "duration": 17,
    "start_time": "2021-07-07T18:15:42.356Z"
   },
   {
    "duration": 15,
    "start_time": "2021-07-07T18:15:42.375Z"
   },
   {
    "duration": 12,
    "start_time": "2021-07-07T18:15:42.392Z"
   },
   {
    "duration": 7,
    "start_time": "2021-07-07T18:15:42.406Z"
   },
   {
    "duration": 7,
    "start_time": "2021-07-07T18:15:42.415Z"
   },
   {
    "duration": 29,
    "start_time": "2021-07-07T18:15:42.423Z"
   },
   {
    "duration": 43,
    "start_time": "2021-07-07T18:15:42.453Z"
   },
   {
    "duration": 18,
    "start_time": "2021-07-07T18:15:42.497Z"
   },
   {
    "duration": 6,
    "start_time": "2021-07-07T18:15:42.516Z"
   },
   {
    "duration": 3,
    "start_time": "2021-07-07T18:15:42.523Z"
   },
   {
    "duration": 18,
    "start_time": "2021-07-07T18:15:42.528Z"
   },
   {
    "duration": 10,
    "start_time": "2021-07-07T18:15:42.547Z"
   },
   {
    "duration": 36,
    "start_time": "2021-07-07T18:15:42.559Z"
   },
   {
    "duration": 8,
    "start_time": "2021-07-07T18:15:42.597Z"
   },
   {
    "duration": 28,
    "start_time": "2021-07-07T18:15:42.606Z"
   },
   {
    "duration": 52,
    "start_time": "2021-07-07T18:15:42.635Z"
   },
   {
    "duration": 7,
    "start_time": "2021-07-07T18:15:42.690Z"
   },
   {
    "duration": 10,
    "start_time": "2021-07-07T18:15:42.699Z"
   },
   {
    "duration": 19,
    "start_time": "2021-07-07T18:15:42.711Z"
   },
   {
    "duration": 9,
    "start_time": "2021-07-07T18:15:42.732Z"
   },
   {
    "duration": 5,
    "start_time": "2021-07-07T18:15:42.743Z"
   },
   {
    "duration": 1450,
    "start_time": "2021-07-07T18:15:51.984Z"
   },
   {
    "duration": 161,
    "start_time": "2021-07-07T18:15:53.435Z"
   },
   {
    "duration": 124,
    "start_time": "2021-07-07T18:15:53.598Z"
   },
   {
    "duration": 5,
    "start_time": "2021-07-07T18:15:53.724Z"
   },
   {
    "duration": 34,
    "start_time": "2021-07-07T18:15:53.730Z"
   },
   {
    "duration": 7,
    "start_time": "2021-07-07T18:15:53.765Z"
   },
   {
    "duration": 15,
    "start_time": "2021-07-07T18:15:53.773Z"
   },
   {
    "duration": 5,
    "start_time": "2021-07-07T18:15:53.791Z"
   },
   {
    "duration": 19,
    "start_time": "2021-07-07T18:15:53.798Z"
   },
   {
    "duration": 9,
    "start_time": "2021-07-07T18:15:53.818Z"
   },
   {
    "duration": 19,
    "start_time": "2021-07-07T18:15:53.828Z"
   },
   {
    "duration": 27,
    "start_time": "2021-07-07T18:15:53.848Z"
   },
   {
    "duration": 16,
    "start_time": "2021-07-07T18:15:53.884Z"
   },
   {
    "duration": 29,
    "start_time": "2021-07-07T18:15:53.901Z"
   },
   {
    "duration": 5,
    "start_time": "2021-07-07T18:15:53.932Z"
   },
   {
    "duration": 15,
    "start_time": "2021-07-07T18:15:53.939Z"
   },
   {
    "duration": 13,
    "start_time": "2021-07-07T18:15:53.956Z"
   },
   {
    "duration": 20,
    "start_time": "2021-07-07T18:15:53.971Z"
   },
   {
    "duration": 14,
    "start_time": "2021-07-07T18:15:53.992Z"
   },
   {
    "duration": 9,
    "start_time": "2021-07-07T18:15:54.009Z"
   },
   {
    "duration": 28,
    "start_time": "2021-07-07T18:15:54.020Z"
   },
   {
    "duration": 50,
    "start_time": "2021-07-07T18:15:54.051Z"
   },
   {
    "duration": 8,
    "start_time": "2021-07-07T18:15:54.105Z"
   },
   {
    "duration": 11,
    "start_time": "2021-07-07T18:15:54.115Z"
   },
   {
    "duration": 20,
    "start_time": "2021-07-07T18:15:54.128Z"
   },
   {
    "duration": 13,
    "start_time": "2021-07-07T18:15:54.184Z"
   },
   {
    "duration": 7,
    "start_time": "2021-07-07T18:15:54.199Z"
   },
   {
    "duration": 7,
    "start_time": "2021-07-07T18:17:08.042Z"
   },
   {
    "duration": 8,
    "start_time": "2021-07-07T18:17:21.008Z"
   },
   {
    "duration": 7,
    "start_time": "2021-07-07T18:17:29.003Z"
   },
   {
    "duration": 8,
    "start_time": "2021-07-07T18:17:32.492Z"
   },
   {
    "duration": 9,
    "start_time": "2021-07-07T18:17:41.758Z"
   },
   {
    "duration": 255,
    "start_time": "2021-07-07T18:20:20.897Z"
   },
   {
    "duration": 173,
    "start_time": "2021-07-07T18:20:26.636Z"
   },
   {
    "duration": 7,
    "start_time": "2021-07-07T18:21:47.164Z"
   },
   {
    "duration": 254,
    "start_time": "2021-07-07T18:23:08.703Z"
   },
   {
    "duration": 21,
    "start_time": "2021-07-07T18:23:22.506Z"
   },
   {
    "duration": 315,
    "start_time": "2021-07-07T18:25:54.801Z"
   },
   {
    "duration": 34,
    "start_time": "2021-07-07T18:26:51.817Z"
   },
   {
    "duration": 327,
    "start_time": "2021-07-07T18:26:56.147Z"
   },
   {
    "duration": 342,
    "start_time": "2021-07-07T18:27:15.887Z"
   },
   {
    "duration": 302,
    "start_time": "2021-07-07T18:28:18.569Z"
   },
   {
    "duration": 226,
    "start_time": "2021-07-07T18:29:20.879Z"
   },
   {
    "duration": 207,
    "start_time": "2021-07-07T18:29:58.114Z"
   },
   {
    "duration": 140,
    "start_time": "2021-07-07T18:32:04.372Z"
   },
   {
    "duration": 158,
    "start_time": "2021-07-07T18:32:32.508Z"
   },
   {
    "duration": 145,
    "start_time": "2021-07-07T18:32:41.365Z"
   },
   {
    "duration": 132,
    "start_time": "2021-07-07T18:32:45.199Z"
   },
   {
    "duration": 11,
    "start_time": "2021-07-07T18:35:24.679Z"
   },
   {
    "duration": 268,
    "start_time": "2021-07-07T18:36:16.145Z"
   },
   {
    "duration": 227,
    "start_time": "2021-07-07T18:37:04.918Z"
   },
   {
    "duration": 3,
    "start_time": "2021-07-07T18:37:33.012Z"
   },
   {
    "duration": 671,
    "start_time": "2021-07-07T18:37:38.295Z"
   },
   {
    "duration": 54,
    "start_time": "2021-07-07T18:37:53.406Z"
   },
   {
    "duration": 631,
    "start_time": "2021-07-07T18:37:56.463Z"
   },
   {
    "duration": 19,
    "start_time": "2021-07-07T18:39:40.535Z"
   },
   {
    "duration": 20,
    "start_time": "2021-07-07T18:40:12.236Z"
   },
   {
    "duration": 633,
    "start_time": "2021-07-07T18:42:00.398Z"
   },
   {
    "duration": 218,
    "start_time": "2021-07-07T18:42:01.033Z"
   },
   {
    "duration": 49,
    "start_time": "2021-07-07T18:42:01.253Z"
   },
   {
    "duration": 5,
    "start_time": "2021-07-07T18:42:01.303Z"
   },
   {
    "duration": 27,
    "start_time": "2021-07-07T18:42:01.310Z"
   },
   {
    "duration": 8,
    "start_time": "2021-07-07T18:42:01.339Z"
   },
   {
    "duration": 20,
    "start_time": "2021-07-07T18:42:01.348Z"
   },
   {
    "duration": 6,
    "start_time": "2021-07-07T18:42:01.386Z"
   },
   {
    "duration": 16,
    "start_time": "2021-07-07T18:42:01.394Z"
   },
   {
    "duration": 9,
    "start_time": "2021-07-07T18:42:01.411Z"
   },
   {
    "duration": 11,
    "start_time": "2021-07-07T18:42:01.421Z"
   },
   {
    "duration": 31,
    "start_time": "2021-07-07T18:42:01.434Z"
   },
   {
    "duration": 18,
    "start_time": "2021-07-07T18:42:01.485Z"
   },
   {
    "duration": 23,
    "start_time": "2021-07-07T18:42:01.505Z"
   },
   {
    "duration": 6,
    "start_time": "2021-07-07T18:42:01.530Z"
   },
   {
    "duration": 10,
    "start_time": "2021-07-07T18:42:01.538Z"
   },
   {
    "duration": 13,
    "start_time": "2021-07-07T18:42:01.550Z"
   },
   {
    "duration": 24,
    "start_time": "2021-07-07T18:42:01.564Z"
   },
   {
    "duration": 20,
    "start_time": "2021-07-07T18:42:01.590Z"
   },
   {
    "duration": 8,
    "start_time": "2021-07-07T18:42:01.611Z"
   },
   {
    "duration": 31,
    "start_time": "2021-07-07T18:42:01.620Z"
   },
   {
    "duration": 39,
    "start_time": "2021-07-07T18:42:01.653Z"
   },
   {
    "duration": 8,
    "start_time": "2021-07-07T18:42:01.696Z"
   },
   {
    "duration": 13,
    "start_time": "2021-07-07T18:42:01.705Z"
   },
   {
    "duration": 20,
    "start_time": "2021-07-07T18:42:01.720Z"
   },
   {
    "duration": 12,
    "start_time": "2021-07-07T18:42:01.741Z"
   },
   {
    "duration": 35,
    "start_time": "2021-07-07T18:42:01.755Z"
   },
   {
    "duration": 14,
    "start_time": "2021-07-07T18:42:01.792Z"
   },
   {
    "duration": 188,
    "start_time": "2021-07-07T18:42:01.808Z"
   },
   {
    "duration": 19,
    "start_time": "2021-07-07T18:42:01.998Z"
   },
   {
    "duration": 175,
    "start_time": "2021-07-07T18:42:02.019Z"
   },
   {
    "duration": 134,
    "start_time": "2021-07-07T18:42:02.196Z"
   },
   {
    "duration": 10,
    "start_time": "2021-07-07T18:42:02.331Z"
   },
   {
    "duration": 19,
    "start_time": "2021-07-07T18:42:02.343Z"
   },
   {
    "duration": 628,
    "start_time": "2021-07-07T18:46:30.701Z"
   },
   {
    "duration": 183,
    "start_time": "2021-07-07T18:46:31.331Z"
   },
   {
    "duration": 48,
    "start_time": "2021-07-07T18:46:31.516Z"
   },
   {
    "duration": 5,
    "start_time": "2021-07-07T18:46:31.566Z"
   },
   {
    "duration": 28,
    "start_time": "2021-07-07T18:46:31.572Z"
   },
   {
    "duration": 8,
    "start_time": "2021-07-07T18:46:31.602Z"
   },
   {
    "duration": 19,
    "start_time": "2021-07-07T18:46:31.611Z"
   },
   {
    "duration": 6,
    "start_time": "2021-07-07T18:46:31.633Z"
   },
   {
    "duration": 17,
    "start_time": "2021-07-07T18:46:31.642Z"
   },
   {
    "duration": 10,
    "start_time": "2021-07-07T18:46:31.684Z"
   },
   {
    "duration": 9,
    "start_time": "2021-07-07T18:46:31.695Z"
   },
   {
    "duration": 28,
    "start_time": "2021-07-07T18:46:31.705Z"
   },
   {
    "duration": 18,
    "start_time": "2021-07-07T18:46:31.735Z"
   },
   {
    "duration": 48,
    "start_time": "2021-07-07T18:46:31.755Z"
   },
   {
    "duration": 6,
    "start_time": "2021-07-07T18:46:31.804Z"
   },
   {
    "duration": 4,
    "start_time": "2021-07-07T18:46:31.812Z"
   },
   {
    "duration": 9,
    "start_time": "2021-07-07T18:46:31.817Z"
   },
   {
    "duration": 10,
    "start_time": "2021-07-07T18:46:31.827Z"
   },
   {
    "duration": 12,
    "start_time": "2021-07-07T18:46:31.838Z"
   },
   {
    "duration": 39,
    "start_time": "2021-07-07T18:46:31.851Z"
   },
   {
    "duration": 24,
    "start_time": "2021-07-07T18:46:31.892Z"
   },
   {
    "duration": 15,
    "start_time": "2021-07-07T18:46:31.918Z"
   },
   {
    "duration": 7,
    "start_time": "2021-07-07T18:46:31.936Z"
   },
   {
    "duration": 8,
    "start_time": "2021-07-07T18:46:31.944Z"
   },
   {
    "duration": 19,
    "start_time": "2021-07-07T18:46:31.984Z"
   },
   {
    "duration": 10,
    "start_time": "2021-07-07T18:46:32.004Z"
   },
   {
    "duration": 5,
    "start_time": "2021-07-07T18:46:32.016Z"
   },
   {
    "duration": 9,
    "start_time": "2021-07-07T18:46:32.023Z"
   },
   {
    "duration": 199,
    "start_time": "2021-07-07T18:46:32.033Z"
   },
   {
    "duration": 19,
    "start_time": "2021-07-07T18:46:32.234Z"
   },
   {
    "duration": 159,
    "start_time": "2021-07-07T18:46:32.255Z"
   },
   {
    "duration": 134,
    "start_time": "2021-07-07T18:46:32.416Z"
   },
   {
    "duration": 10,
    "start_time": "2021-07-07T18:46:32.552Z"
   },
   {
    "duration": 34,
    "start_time": "2021-07-07T18:46:32.563Z"
   },
   {
    "duration": 1039,
    "start_time": "2021-07-08T08:41:09.419Z"
   },
   {
    "duration": 333,
    "start_time": "2021-07-08T08:41:10.459Z"
   },
   {
    "duration": 173,
    "start_time": "2021-07-08T08:41:10.794Z"
   },
   {
    "duration": 5,
    "start_time": "2021-07-08T08:41:10.968Z"
   },
   {
    "duration": 25,
    "start_time": "2021-07-08T08:41:10.975Z"
   },
   {
    "duration": 9,
    "start_time": "2021-07-08T08:41:11.002Z"
   },
   {
    "duration": 18,
    "start_time": "2021-07-08T08:41:11.013Z"
   },
   {
    "duration": 6,
    "start_time": "2021-07-08T08:41:11.033Z"
   },
   {
    "duration": 44,
    "start_time": "2021-07-08T08:41:11.042Z"
   },
   {
    "duration": 10,
    "start_time": "2021-07-08T08:41:11.088Z"
   },
   {
    "duration": 9,
    "start_time": "2021-07-08T08:41:11.100Z"
   },
   {
    "duration": 27,
    "start_time": "2021-07-08T08:41:11.111Z"
   },
   {
    "duration": 46,
    "start_time": "2021-07-08T08:41:11.140Z"
   },
   {
    "duration": 17,
    "start_time": "2021-07-08T08:41:11.187Z"
   },
   {
    "duration": 6,
    "start_time": "2021-07-08T08:41:11.206Z"
   },
   {
    "duration": 5,
    "start_time": "2021-07-08T08:41:11.213Z"
   },
   {
    "duration": 10,
    "start_time": "2021-07-08T08:41:11.219Z"
   },
   {
    "duration": 9,
    "start_time": "2021-07-08T08:41:11.230Z"
   },
   {
    "duration": 45,
    "start_time": "2021-07-08T08:41:11.241Z"
   },
   {
    "duration": 7,
    "start_time": "2021-07-08T08:41:11.287Z"
   },
   {
    "duration": 24,
    "start_time": "2021-07-08T08:41:11.296Z"
   },
   {
    "duration": 16,
    "start_time": "2021-07-08T08:41:11.322Z"
   },
   {
    "duration": 7,
    "start_time": "2021-07-08T08:41:11.341Z"
   },
   {
    "duration": 41,
    "start_time": "2021-07-08T08:41:11.349Z"
   },
   {
    "duration": 17,
    "start_time": "2021-07-08T08:41:11.391Z"
   },
   {
    "duration": 9,
    "start_time": "2021-07-08T08:41:11.410Z"
   },
   {
    "duration": 5,
    "start_time": "2021-07-08T08:41:11.421Z"
   },
   {
    "duration": 6,
    "start_time": "2021-07-08T08:41:11.428Z"
   },
   {
    "duration": 198,
    "start_time": "2021-07-08T08:41:11.435Z"
   },
   {
    "duration": 18,
    "start_time": "2021-07-08T08:41:11.635Z"
   },
   {
    "duration": 155,
    "start_time": "2021-07-08T08:41:11.655Z"
   },
   {
    "duration": 138,
    "start_time": "2021-07-08T08:41:11.811Z"
   },
   {
    "duration": 10,
    "start_time": "2021-07-08T08:41:11.950Z"
   },
   {
    "duration": 29,
    "start_time": "2021-07-08T08:41:11.961Z"
   },
   {
    "duration": 171,
    "start_time": "2021-07-08T08:47:44.522Z"
   },
   {
    "duration": 124,
    "start_time": "2021-07-08T08:47:46.872Z"
   },
   {
    "duration": 191,
    "start_time": "2021-07-08T08:47:58.148Z"
   },
   {
    "duration": 191,
    "start_time": "2021-07-08T08:48:07.412Z"
   },
   {
    "duration": 261,
    "start_time": "2021-07-08T08:48:10.385Z"
   },
   {
    "duration": 255,
    "start_time": "2021-07-08T08:48:14.494Z"
   },
   {
    "duration": 219,
    "start_time": "2021-07-08T08:48:22.752Z"
   },
   {
    "duration": 173,
    "start_time": "2021-07-08T08:49:06.395Z"
   },
   {
    "duration": 180,
    "start_time": "2021-07-08T08:49:21.011Z"
   },
   {
    "duration": 6,
    "start_time": "2021-07-08T08:50:31.697Z"
   },
   {
    "duration": 10,
    "start_time": "2021-07-08T08:50:47.394Z"
   },
   {
    "duration": 11,
    "start_time": "2021-07-08T08:53:49.332Z"
   },
   {
    "duration": 171,
    "start_time": "2021-07-08T08:54:28.408Z"
   },
   {
    "duration": 636,
    "start_time": "2021-07-08T09:02:48.385Z"
   },
   {
    "duration": 227,
    "start_time": "2021-07-08T09:02:49.023Z"
   },
   {
    "duration": 104,
    "start_time": "2021-07-08T09:02:49.252Z"
   },
   {
    "duration": 5,
    "start_time": "2021-07-08T09:02:49.358Z"
   },
   {
    "duration": 27,
    "start_time": "2021-07-08T09:02:49.365Z"
   },
   {
    "duration": 8,
    "start_time": "2021-07-08T09:02:49.394Z"
   },
   {
    "duration": 18,
    "start_time": "2021-07-08T09:02:49.404Z"
   },
   {
    "duration": 6,
    "start_time": "2021-07-08T09:02:49.424Z"
   },
   {
    "duration": 11,
    "start_time": "2021-07-08T09:02:49.433Z"
   },
   {
    "duration": 13,
    "start_time": "2021-07-08T09:02:49.485Z"
   },
   {
    "duration": 9,
    "start_time": "2021-07-08T09:02:49.500Z"
   },
   {
    "duration": 38,
    "start_time": "2021-07-08T09:02:49.511Z"
   },
   {
    "duration": 42,
    "start_time": "2021-07-08T09:02:49.551Z"
   },
   {
    "duration": 21,
    "start_time": "2021-07-08T09:02:49.594Z"
   },
   {
    "duration": 6,
    "start_time": "2021-07-08T09:02:49.616Z"
   },
   {
    "duration": 3,
    "start_time": "2021-07-08T09:02:49.623Z"
   },
   {
    "duration": 9,
    "start_time": "2021-07-08T09:02:49.628Z"
   },
   {
    "duration": 52,
    "start_time": "2021-07-08T09:02:49.638Z"
   },
   {
    "duration": 11,
    "start_time": "2021-07-08T09:02:49.692Z"
   },
   {
    "duration": 8,
    "start_time": "2021-07-08T09:02:49.704Z"
   },
   {
    "duration": 27,
    "start_time": "2021-07-08T09:02:49.713Z"
   },
   {
    "duration": 59,
    "start_time": "2021-07-08T09:02:49.741Z"
   },
   {
    "duration": 8,
    "start_time": "2021-07-08T09:02:49.803Z"
   },
   {
    "duration": 14,
    "start_time": "2021-07-08T09:02:49.813Z"
   },
   {
    "duration": 20,
    "start_time": "2021-07-08T09:02:49.829Z"
   },
   {
    "duration": 44,
    "start_time": "2021-07-08T09:02:49.851Z"
   },
   {
    "duration": 14,
    "start_time": "2021-07-08T09:02:49.896Z"
   },
   {
    "duration": 221,
    "start_time": "2021-07-08T09:02:49.912Z"
   },
   {
    "duration": 6,
    "start_time": "2021-07-08T09:02:50.134Z"
   },
   {
    "duration": 206,
    "start_time": "2021-07-08T09:02:50.142Z"
   },
   {
    "duration": 19,
    "start_time": "2021-07-08T09:02:50.350Z"
   },
   {
    "duration": 21,
    "start_time": "2021-07-08T09:02:50.370Z"
   },
   {
    "duration": 20,
    "start_time": "2021-07-08T09:02:50.393Z"
   },
   {
    "duration": 5,
    "start_time": "2021-07-08T09:02:50.414Z"
   },
   {
    "duration": 5,
    "start_time": "2021-07-08T09:03:34.173Z"
   },
   {
    "duration": 6,
    "start_time": "2021-07-08T09:04:49.062Z"
   },
   {
    "duration": 9,
    "start_time": "2021-07-08T09:04:50.118Z"
   },
   {
    "duration": 14,
    "start_time": "2021-07-08T09:04:58.512Z"
   },
   {
    "duration": 9,
    "start_time": "2021-07-08T09:05:10.988Z"
   },
   {
    "duration": 11,
    "start_time": "2021-07-08T09:05:11.743Z"
   },
   {
    "duration": 7,
    "start_time": "2021-07-08T09:05:25.677Z"
   },
   {
    "duration": 13,
    "start_time": "2021-07-08T09:05:47.189Z"
   },
   {
    "duration": 13,
    "start_time": "2021-07-08T09:05:54.755Z"
   },
   {
    "duration": 4,
    "start_time": "2021-07-08T09:06:29.189Z"
   },
   {
    "duration": 244,
    "start_time": "2021-07-08T09:06:29.195Z"
   },
   {
    "duration": 91,
    "start_time": "2021-07-08T09:06:29.441Z"
   },
   {
    "duration": 4,
    "start_time": "2021-07-08T09:06:29.534Z"
   },
   {
    "duration": 28,
    "start_time": "2021-07-08T09:06:29.540Z"
   },
   {
    "duration": 6,
    "start_time": "2021-07-08T09:06:29.570Z"
   },
   {
    "duration": 18,
    "start_time": "2021-07-08T09:06:29.578Z"
   },
   {
    "duration": 5,
    "start_time": "2021-07-08T09:06:29.597Z"
   },
   {
    "duration": 13,
    "start_time": "2021-07-08T09:06:29.605Z"
   },
   {
    "duration": 8,
    "start_time": "2021-07-08T09:06:29.620Z"
   },
   {
    "duration": 7,
    "start_time": "2021-07-08T09:06:29.630Z"
   },
   {
    "duration": 63,
    "start_time": "2021-07-08T09:06:29.639Z"
   },
   {
    "duration": 17,
    "start_time": "2021-07-08T09:06:29.704Z"
   },
   {
    "duration": 20,
    "start_time": "2021-07-08T09:06:29.723Z"
   },
   {
    "duration": 6,
    "start_time": "2021-07-08T09:06:29.745Z"
   },
   {
    "duration": 3,
    "start_time": "2021-07-08T09:06:29.752Z"
   },
   {
    "duration": 7,
    "start_time": "2021-07-08T09:06:29.785Z"
   },
   {
    "duration": 11,
    "start_time": "2021-07-08T09:06:29.794Z"
   },
   {
    "duration": 15,
    "start_time": "2021-07-08T09:06:29.807Z"
   },
   {
    "duration": 8,
    "start_time": "2021-07-08T09:06:29.823Z"
   },
   {
    "duration": 70,
    "start_time": "2021-07-08T09:06:29.832Z"
   },
   {
    "duration": 17,
    "start_time": "2021-07-08T09:06:29.903Z"
   },
   {
    "duration": 9,
    "start_time": "2021-07-08T09:06:29.921Z"
   },
   {
    "duration": 9,
    "start_time": "2021-07-08T09:06:29.932Z"
   },
   {
    "duration": 57,
    "start_time": "2021-07-08T09:06:29.942Z"
   },
   {
    "duration": 11,
    "start_time": "2021-07-08T09:06:30.001Z"
   },
   {
    "duration": 19,
    "start_time": "2021-07-08T09:06:30.016Z"
   },
   {
    "duration": 217,
    "start_time": "2021-07-08T09:06:30.037Z"
   },
   {
    "duration": 6,
    "start_time": "2021-07-08T09:06:30.255Z"
   },
   {
    "duration": 205,
    "start_time": "2021-07-08T09:06:30.263Z"
   },
   {
    "duration": 27,
    "start_time": "2021-07-08T09:06:30.470Z"
   },
   {
    "duration": 11,
    "start_time": "2021-07-08T09:06:30.500Z"
   },
   {
    "duration": 31,
    "start_time": "2021-07-08T09:06:30.513Z"
   },
   {
    "duration": 18,
    "start_time": "2021-07-08T09:06:30.546Z"
   },
   {
    "duration": 11,
    "start_time": "2021-07-08T09:06:30.566Z"
   },
   {
    "duration": 19,
    "start_time": "2021-07-08T09:06:30.579Z"
   },
   {
    "duration": 20,
    "start_time": "2021-07-08T09:06:49.466Z"
   },
   {
    "duration": 9,
    "start_time": "2021-07-08T09:06:51.994Z"
   },
   {
    "duration": 20,
    "start_time": "2021-07-08T09:06:52.273Z"
   },
   {
    "duration": 246,
    "start_time": "2021-07-08T09:10:21.272Z"
   },
   {
    "duration": 84,
    "start_time": "2021-07-08T09:10:21.436Z"
   },
   {
    "duration": 7,
    "start_time": "2021-07-08T09:10:37.608Z"
   },
   {
    "duration": 189,
    "start_time": "2021-07-08T09:10:38.573Z"
   },
   {
    "duration": 185,
    "start_time": "2021-07-08T09:10:53.181Z"
   },
   {
    "duration": 11,
    "start_time": "2021-07-08T09:10:59.549Z"
   },
   {
    "duration": 42,
    "start_time": "2021-07-08T09:10:59.709Z"
   },
   {
    "duration": 12,
    "start_time": "2021-07-08T09:11:02.857Z"
   },
   {
    "duration": 28,
    "start_time": "2021-07-08T09:11:10.062Z"
   },
   {
    "duration": 249,
    "start_time": "2021-07-08T09:11:37.388Z"
   },
   {
    "duration": 232,
    "start_time": "2021-07-08T09:11:49.485Z"
   },
   {
    "duration": 453,
    "start_time": "2021-07-08T09:12:01.546Z"
   },
   {
    "duration": 440,
    "start_time": "2021-07-08T09:12:12.347Z"
   },
   {
    "duration": 213,
    "start_time": "2021-07-08T09:13:32.196Z"
   },
   {
    "duration": 172,
    "start_time": "2021-07-08T09:14:07.400Z"
   },
   {
    "duration": 185,
    "start_time": "2021-07-08T09:14:14.905Z"
   },
   {
    "duration": 209,
    "start_time": "2021-07-08T09:14:40.109Z"
   },
   {
    "duration": 201,
    "start_time": "2021-07-08T09:14:54.506Z"
   },
   {
    "duration": 622,
    "start_time": "2021-07-08T09:18:14.497Z"
   },
   {
    "duration": 220,
    "start_time": "2021-07-08T09:18:15.121Z"
   },
   {
    "duration": 79,
    "start_time": "2021-07-08T09:18:15.343Z"
   },
   {
    "duration": 4,
    "start_time": "2021-07-08T09:18:15.425Z"
   },
   {
    "duration": 24,
    "start_time": "2021-07-08T09:18:15.431Z"
   },
   {
    "duration": 8,
    "start_time": "2021-07-08T09:18:15.457Z"
   },
   {
    "duration": 16,
    "start_time": "2021-07-08T09:18:15.466Z"
   },
   {
    "duration": 5,
    "start_time": "2021-07-08T09:18:15.484Z"
   },
   {
    "duration": 10,
    "start_time": "2021-07-08T09:18:15.493Z"
   },
   {
    "duration": 8,
    "start_time": "2021-07-08T09:18:15.504Z"
   },
   {
    "duration": 7,
    "start_time": "2021-07-08T09:18:15.513Z"
   },
   {
    "duration": 26,
    "start_time": "2021-07-08T09:18:15.522Z"
   },
   {
    "duration": 49,
    "start_time": "2021-07-08T09:18:15.550Z"
   },
   {
    "duration": 21,
    "start_time": "2021-07-08T09:18:15.601Z"
   },
   {
    "duration": 8,
    "start_time": "2021-07-08T09:18:15.624Z"
   },
   {
    "duration": 3,
    "start_time": "2021-07-08T09:18:15.634Z"
   },
   {
    "duration": 8,
    "start_time": "2021-07-08T09:18:15.639Z"
   },
   {
    "duration": 45,
    "start_time": "2021-07-08T09:18:15.649Z"
   },
   {
    "duration": 13,
    "start_time": "2021-07-08T09:18:15.696Z"
   },
   {
    "duration": 10,
    "start_time": "2021-07-08T09:18:15.711Z"
   },
   {
    "duration": 64,
    "start_time": "2021-07-08T09:18:15.722Z"
   },
   {
    "duration": 19,
    "start_time": "2021-07-08T09:18:15.788Z"
   },
   {
    "duration": 9,
    "start_time": "2021-07-08T09:18:15.809Z"
   },
   {
    "duration": 9,
    "start_time": "2021-07-08T09:18:15.820Z"
   },
   {
    "duration": 18,
    "start_time": "2021-07-08T09:18:15.831Z"
   },
   {
    "duration": 43,
    "start_time": "2021-07-08T09:18:15.851Z"
   },
   {
    "duration": 12,
    "start_time": "2021-07-08T09:18:15.897Z"
   },
   {
    "duration": 219,
    "start_time": "2021-07-08T09:18:15.911Z"
   },
   {
    "duration": 8,
    "start_time": "2021-07-08T09:18:16.132Z"
   },
   {
    "duration": 199,
    "start_time": "2021-07-08T09:18:16.141Z"
   },
   {
    "duration": 18,
    "start_time": "2021-07-08T09:18:16.341Z"
   },
   {
    "duration": 24,
    "start_time": "2021-07-08T09:18:16.361Z"
   },
   {
    "duration": 24,
    "start_time": "2021-07-08T09:18:16.387Z"
   },
   {
    "duration": 211,
    "start_time": "2021-07-08T09:18:16.413Z"
   },
   {
    "duration": 18,
    "start_time": "2021-07-08T09:18:16.626Z"
   },
   {
    "duration": 596,
    "start_time": "2021-07-08T10:06:33.623Z"
   },
   {
    "duration": 181,
    "start_time": "2021-07-08T10:06:34.221Z"
   },
   {
    "duration": 176,
    "start_time": "2021-07-08T10:06:34.635Z"
   },
   {
    "duration": 239,
    "start_time": "2021-07-08T10:06:55.572Z"
   },
   {
    "duration": 6,
    "start_time": "2021-07-08T10:06:57.687Z"
   },
   {
    "duration": 4,
    "start_time": "2021-07-08T10:07:03.956Z"
   },
   {
    "duration": 4,
    "start_time": "2021-07-08T10:07:10.376Z"
   },
   {
    "duration": 4,
    "start_time": "2021-07-08T10:17:19.889Z"
   },
   {
    "duration": 3,
    "start_time": "2021-07-08T10:19:19.407Z"
   },
   {
    "duration": 197,
    "start_time": "2021-07-08T10:19:19.412Z"
   },
   {
    "duration": 127,
    "start_time": "2021-07-08T10:19:19.611Z"
   },
   {
    "duration": 4,
    "start_time": "2021-07-08T10:19:19.740Z"
   },
   {
    "duration": 27,
    "start_time": "2021-07-08T10:19:19.746Z"
   },
   {
    "duration": 7,
    "start_time": "2021-07-08T10:19:19.775Z"
   },
   {
    "duration": 30,
    "start_time": "2021-07-08T10:19:19.784Z"
   },
   {
    "duration": 7,
    "start_time": "2021-07-08T10:19:19.817Z"
   },
   {
    "duration": 26,
    "start_time": "2021-07-08T10:19:19.826Z"
   },
   {
    "duration": 18,
    "start_time": "2021-07-08T10:19:19.854Z"
   },
   {
    "duration": 14,
    "start_time": "2021-07-08T10:19:19.874Z"
   },
   {
    "duration": 48,
    "start_time": "2021-07-08T10:19:19.890Z"
   },
   {
    "duration": 17,
    "start_time": "2021-07-08T10:19:19.940Z"
   },
   {
    "duration": 38,
    "start_time": "2021-07-08T10:19:19.959Z"
   },
   {
    "duration": 8,
    "start_time": "2021-07-08T10:19:19.999Z"
   },
   {
    "duration": 15,
    "start_time": "2021-07-08T10:19:20.009Z"
   },
   {
    "duration": 22,
    "start_time": "2021-07-08T10:19:20.026Z"
   },
   {
    "duration": 10,
    "start_time": "2021-07-08T10:19:20.050Z"
   },
   {
    "duration": 10,
    "start_time": "2021-07-08T10:19:20.062Z"
   },
   {
    "duration": 20,
    "start_time": "2021-07-08T10:19:20.073Z"
   },
   {
    "duration": 29,
    "start_time": "2021-07-08T10:19:20.095Z"
   },
   {
    "duration": 17,
    "start_time": "2021-07-08T10:19:20.126Z"
   },
   {
    "duration": 40,
    "start_time": "2021-07-08T10:19:20.146Z"
   },
   {
    "duration": 15,
    "start_time": "2021-07-08T10:19:20.189Z"
   },
   {
    "duration": 19,
    "start_time": "2021-07-08T10:19:20.206Z"
   },
   {
    "duration": 10,
    "start_time": "2021-07-08T10:19:20.226Z"
   },
   {
    "duration": 11,
    "start_time": "2021-07-08T10:19:20.238Z"
   },
   {
    "duration": 297,
    "start_time": "2021-07-08T10:19:20.250Z"
   },
   {
    "duration": 6,
    "start_time": "2021-07-08T10:19:20.549Z"
   },
   {
    "duration": 191,
    "start_time": "2021-07-08T10:19:20.557Z"
   },
   {
    "duration": 19,
    "start_time": "2021-07-08T10:19:20.750Z"
   },
   {
    "duration": 20,
    "start_time": "2021-07-08T10:19:20.771Z"
   },
   {
    "duration": 15,
    "start_time": "2021-07-08T10:19:20.793Z"
   },
   {
    "duration": 222,
    "start_time": "2021-07-08T10:19:20.809Z"
   },
   {
    "duration": 20,
    "start_time": "2021-07-08T10:19:21.033Z"
   },
   {
    "duration": 27,
    "start_time": "2021-07-08T10:45:04.055Z"
   },
   {
    "duration": 8,
    "start_time": "2021-07-08T10:45:08.478Z"
   },
   {
    "duration": 8,
    "start_time": "2021-07-08T10:45:31.982Z"
   },
   {
    "duration": 10,
    "start_time": "2021-07-08T10:46:01.221Z"
   },
   {
    "duration": 17,
    "start_time": "2021-07-08T10:46:40.011Z"
   },
   {
    "duration": 193,
    "start_time": "2021-07-08T10:48:19.471Z"
   },
   {
    "duration": 225,
    "start_time": "2021-07-08T10:49:26.480Z"
   },
   {
    "duration": 204,
    "start_time": "2021-07-08T10:49:59.992Z"
   },
   {
    "duration": 435,
    "start_time": "2021-07-08T10:50:06.779Z"
   },
   {
    "duration": 199,
    "start_time": "2021-07-08T10:50:14.891Z"
   },
   {
    "duration": 204,
    "start_time": "2021-07-08T10:50:18.501Z"
   },
   {
    "duration": 244,
    "start_time": "2021-07-08T10:50:23.359Z"
   },
   {
    "duration": 192,
    "start_time": "2021-07-08T10:50:29.135Z"
   },
   {
    "duration": 218,
    "start_time": "2021-07-08T10:50:33.092Z"
   },
   {
    "duration": 207,
    "start_time": "2021-07-08T10:52:45.381Z"
   },
   {
    "duration": 5,
    "start_time": "2021-07-08T10:53:34.641Z"
   },
   {
    "duration": 196,
    "start_time": "2021-07-08T10:53:41.478Z"
   },
   {
    "duration": 43,
    "start_time": "2021-07-08T10:53:50.335Z"
   },
   {
    "duration": 32,
    "start_time": "2021-07-08T10:53:55.294Z"
   },
   {
    "duration": 55,
    "start_time": "2021-07-08T10:54:09.675Z"
   },
   {
    "duration": 16,
    "start_time": "2021-07-08T10:54:12.260Z"
   },
   {
    "duration": 15,
    "start_time": "2021-07-08T10:54:49.150Z"
   },
   {
    "duration": 20,
    "start_time": "2021-07-08T10:56:07.596Z"
   },
   {
    "duration": 16,
    "start_time": "2021-07-08T10:58:26.276Z"
   },
   {
    "duration": 22,
    "start_time": "2021-07-08T10:59:00.486Z"
   },
   {
    "duration": 18,
    "start_time": "2021-07-08T11:02:09.653Z"
   },
   {
    "duration": 10,
    "start_time": "2021-07-08T11:03:44.331Z"
   },
   {
    "duration": 10,
    "start_time": "2021-07-08T11:03:54.055Z"
   },
   {
    "duration": 12,
    "start_time": "2021-07-08T11:04:41.967Z"
   },
   {
    "duration": 24,
    "start_time": "2021-07-08T11:07:30.732Z"
   },
   {
    "duration": 6,
    "start_time": "2021-07-08T11:07:37.364Z"
   },
   {
    "duration": 16,
    "start_time": "2021-07-08T11:08:01.819Z"
   },
   {
    "duration": 17,
    "start_time": "2021-07-08T11:09:47.488Z"
   },
   {
    "duration": 246,
    "start_time": "2021-07-08T11:10:00.830Z"
   },
   {
    "duration": 18,
    "start_time": "2021-07-08T11:13:55.195Z"
   },
   {
    "duration": 204,
    "start_time": "2021-07-08T11:14:04.951Z"
   },
   {
    "duration": 19,
    "start_time": "2021-07-08T11:15:10.613Z"
   },
   {
    "duration": 680,
    "start_time": "2021-07-08T11:16:25.793Z"
   },
   {
    "duration": 451,
    "start_time": "2021-07-08T11:16:40.313Z"
   },
   {
    "duration": 469,
    "start_time": "2021-07-08T11:17:21.286Z"
   },
   {
    "duration": 20,
    "start_time": "2021-07-08T11:19:12.554Z"
   },
   {
    "duration": 35,
    "start_time": "2021-07-08T11:20:05.484Z"
   },
   {
    "duration": 53,
    "start_time": "2021-07-08T11:21:40.050Z"
   },
   {
    "duration": 13,
    "start_time": "2021-07-08T11:22:26.059Z"
   },
   {
    "duration": 19,
    "start_time": "2021-07-08T11:22:47.419Z"
   },
   {
    "duration": 25,
    "start_time": "2021-07-08T11:23:19.958Z"
   },
   {
    "duration": 29,
    "start_time": "2021-07-08T11:23:25.415Z"
   },
   {
    "duration": 10,
    "start_time": "2021-07-08T11:24:45.138Z"
   },
   {
    "duration": 19,
    "start_time": "2021-07-08T11:24:54.498Z"
   },
   {
    "duration": 12,
    "start_time": "2021-07-08T11:25:32.225Z"
   },
   {
    "duration": 19,
    "start_time": "2021-07-08T11:25:37.092Z"
   },
   {
    "duration": 17,
    "start_time": "2021-07-08T11:25:58.116Z"
   },
   {
    "duration": 15,
    "start_time": "2021-07-08T11:26:02.258Z"
   },
   {
    "duration": 8,
    "start_time": "2021-07-08T11:26:59.682Z"
   },
   {
    "duration": 184,
    "start_time": "2021-07-08T11:27:21.894Z"
   },
   {
    "duration": 8,
    "start_time": "2021-07-08T11:27:23.824Z"
   },
   {
    "duration": 202,
    "start_time": "2021-07-08T11:27:23.962Z"
   },
   {
    "duration": 360,
    "start_time": "2021-07-08T11:28:33.215Z"
   },
   {
    "duration": 231,
    "start_time": "2021-07-08T11:32:05.542Z"
   },
   {
    "duration": 607,
    "start_time": "2021-07-08T11:36:27.854Z"
   },
   {
    "duration": 241,
    "start_time": "2021-07-08T11:36:28.463Z"
   },
   {
    "duration": 67,
    "start_time": "2021-07-08T11:36:28.709Z"
   },
   {
    "duration": 5,
    "start_time": "2021-07-08T11:36:28.778Z"
   },
   {
    "duration": 32,
    "start_time": "2021-07-08T11:36:28.784Z"
   },
   {
    "duration": 11,
    "start_time": "2021-07-08T11:36:28.819Z"
   },
   {
    "duration": 20,
    "start_time": "2021-07-08T11:36:28.834Z"
   },
   {
    "duration": 36,
    "start_time": "2021-07-08T11:36:28.857Z"
   },
   {
    "duration": 16,
    "start_time": "2021-07-08T11:36:28.895Z"
   },
   {
    "duration": 14,
    "start_time": "2021-07-08T11:36:28.913Z"
   },
   {
    "duration": 9,
    "start_time": "2021-07-08T11:36:28.930Z"
   },
   {
    "duration": 55,
    "start_time": "2021-07-08T11:36:28.941Z"
   },
   {
    "duration": 27,
    "start_time": "2021-07-08T11:36:28.999Z"
   },
   {
    "duration": 30,
    "start_time": "2021-07-08T11:36:29.028Z"
   },
   {
    "duration": 31,
    "start_time": "2021-07-08T11:36:29.060Z"
   },
   {
    "duration": 3,
    "start_time": "2021-07-08T11:36:29.093Z"
   },
   {
    "duration": 12,
    "start_time": "2021-07-08T11:36:29.099Z"
   },
   {
    "duration": 11,
    "start_time": "2021-07-08T11:36:29.112Z"
   },
   {
    "duration": 12,
    "start_time": "2021-07-08T11:36:29.125Z"
   },
   {
    "duration": 9,
    "start_time": "2021-07-08T11:36:29.139Z"
   },
   {
    "duration": 31,
    "start_time": "2021-07-08T11:36:29.191Z"
   },
   {
    "duration": 17,
    "start_time": "2021-07-08T11:36:29.226Z"
   },
   {
    "duration": 7,
    "start_time": "2021-07-08T11:36:29.245Z"
   },
   {
    "duration": 10,
    "start_time": "2021-07-08T11:36:29.254Z"
   },
   {
    "duration": 30,
    "start_time": "2021-07-08T11:36:29.292Z"
   },
   {
    "duration": 11,
    "start_time": "2021-07-08T11:36:29.324Z"
   },
   {
    "duration": 11,
    "start_time": "2021-07-08T11:36:29.337Z"
   },
   {
    "duration": 230,
    "start_time": "2021-07-08T11:36:29.349Z"
   },
   {
    "duration": 13,
    "start_time": "2021-07-08T11:36:29.588Z"
   },
   {
    "duration": 205,
    "start_time": "2021-07-08T11:36:29.603Z"
   },
   {
    "duration": 20,
    "start_time": "2021-07-08T11:36:29.810Z"
   },
   {
    "duration": 9,
    "start_time": "2021-07-08T11:36:29.832Z"
   },
   {
    "duration": 16,
    "start_time": "2021-07-08T11:36:29.843Z"
   },
   {
    "duration": 283,
    "start_time": "2021-07-08T11:36:29.861Z"
   },
   {
    "duration": 50,
    "start_time": "2021-07-08T11:36:30.146Z"
   },
   {
    "duration": 14,
    "start_time": "2021-07-08T11:36:30.198Z"
   },
   {
    "duration": 11,
    "start_time": "2021-07-08T11:36:30.214Z"
   },
   {
    "duration": 245,
    "start_time": "2021-07-08T11:36:30.227Z"
   },
   {
    "duration": 439,
    "start_time": "2021-07-08T11:36:30.474Z"
   },
   {
    "duration": 210,
    "start_time": "2021-07-08T11:36:30.915Z"
   },
   {
    "duration": 15,
    "start_time": "2021-07-08T11:36:31.127Z"
   },
   {
    "duration": 17,
    "start_time": "2021-07-08T11:38:20.451Z"
   },
   {
    "duration": 642,
    "start_time": "2021-07-08T11:46:17.881Z"
   },
   {
    "duration": 210,
    "start_time": "2021-07-08T11:46:18.525Z"
   },
   {
    "duration": 104,
    "start_time": "2021-07-08T11:46:18.741Z"
   },
   {
    "duration": 8,
    "start_time": "2021-07-08T11:46:18.847Z"
   },
   {
    "duration": 25,
    "start_time": "2021-07-08T11:46:18.857Z"
   },
   {
    "duration": 14,
    "start_time": "2021-07-08T11:46:18.884Z"
   },
   {
    "duration": 22,
    "start_time": "2021-07-08T11:46:18.900Z"
   },
   {
    "duration": 5,
    "start_time": "2021-07-08T11:46:18.924Z"
   },
   {
    "duration": 13,
    "start_time": "2021-07-08T11:46:18.931Z"
   },
   {
    "duration": 45,
    "start_time": "2021-07-08T11:46:18.946Z"
   },
   {
    "duration": 12,
    "start_time": "2021-07-08T11:46:18.993Z"
   },
   {
    "duration": 38,
    "start_time": "2021-07-08T11:46:19.006Z"
   },
   {
    "duration": 50,
    "start_time": "2021-07-08T11:46:19.046Z"
   },
   {
    "duration": 29,
    "start_time": "2021-07-08T11:46:19.099Z"
   },
   {
    "duration": 7,
    "start_time": "2021-07-08T11:46:19.130Z"
   },
   {
    "duration": 3,
    "start_time": "2021-07-08T11:46:19.139Z"
   },
   {
    "duration": 11,
    "start_time": "2021-07-08T11:46:19.144Z"
   },
   {
    "duration": 40,
    "start_time": "2021-07-08T11:46:19.157Z"
   },
   {
    "duration": 15,
    "start_time": "2021-07-08T11:46:19.199Z"
   },
   {
    "duration": 10,
    "start_time": "2021-07-08T11:46:19.217Z"
   },
   {
    "duration": 68,
    "start_time": "2021-07-08T11:46:19.230Z"
   },
   {
    "duration": 17,
    "start_time": "2021-07-08T11:46:19.301Z"
   },
   {
    "duration": 7,
    "start_time": "2021-07-08T11:46:19.321Z"
   },
   {
    "duration": 11,
    "start_time": "2021-07-08T11:46:19.330Z"
   },
   {
    "duration": 59,
    "start_time": "2021-07-08T11:46:19.343Z"
   },
   {
    "duration": 17,
    "start_time": "2021-07-08T11:46:19.405Z"
   },
   {
    "duration": 16,
    "start_time": "2021-07-08T11:46:19.424Z"
   },
   {
    "duration": 252,
    "start_time": "2021-07-08T11:46:19.443Z"
   },
   {
    "duration": 9,
    "start_time": "2021-07-08T11:46:19.697Z"
   },
   {
    "duration": 224,
    "start_time": "2021-07-08T11:46:19.708Z"
   },
   {
    "duration": 21,
    "start_time": "2021-07-08T11:46:19.934Z"
   },
   {
    "duration": 9,
    "start_time": "2021-07-08T11:46:19.956Z"
   },
   {
    "duration": 32,
    "start_time": "2021-07-08T11:46:19.967Z"
   },
   {
    "duration": 288,
    "start_time": "2021-07-08T11:46:20.004Z"
   },
   {
    "duration": 23,
    "start_time": "2021-07-08T11:46:20.300Z"
   },
   {
    "duration": 11,
    "start_time": "2021-07-08T11:46:20.325Z"
   },
   {
    "duration": 11,
    "start_time": "2021-07-08T11:46:20.339Z"
   },
   {
    "duration": 259,
    "start_time": "2021-07-08T11:46:20.352Z"
   },
   {
    "duration": 438,
    "start_time": "2021-07-08T11:46:20.613Z"
   },
   {
    "duration": 207,
    "start_time": "2021-07-08T11:46:21.054Z"
   },
   {
    "duration": 27,
    "start_time": "2021-07-08T11:46:21.262Z"
   },
   {
    "duration": 19,
    "start_time": "2021-07-08T11:46:21.291Z"
   },
   {
    "duration": 820,
    "start_time": "2021-07-08T11:49:01.655Z"
   },
   {
    "duration": 372,
    "start_time": "2021-07-08T11:49:02.478Z"
   },
   {
    "duration": 98,
    "start_time": "2021-07-08T11:49:02.853Z"
   },
   {
    "duration": 6,
    "start_time": "2021-07-08T11:49:02.953Z"
   },
   {
    "duration": 39,
    "start_time": "2021-07-08T11:49:02.960Z"
   },
   {
    "duration": 9,
    "start_time": "2021-07-08T11:49:03.003Z"
   },
   {
    "duration": 23,
    "start_time": "2021-07-08T11:49:03.014Z"
   },
   {
    "duration": 6,
    "start_time": "2021-07-08T11:49:03.041Z"
   },
   {
    "duration": 20,
    "start_time": "2021-07-08T11:49:03.049Z"
   },
   {
    "duration": 18,
    "start_time": "2021-07-08T11:49:03.084Z"
   },
   {
    "duration": 14,
    "start_time": "2021-07-08T11:49:03.104Z"
   },
   {
    "duration": 39,
    "start_time": "2021-07-08T11:49:03.119Z"
   },
   {
    "duration": 38,
    "start_time": "2021-07-08T11:49:03.160Z"
   },
   {
    "duration": 26,
    "start_time": "2021-07-08T11:49:03.200Z"
   },
   {
    "duration": 7,
    "start_time": "2021-07-08T11:49:03.227Z"
   },
   {
    "duration": 4,
    "start_time": "2021-07-08T11:49:03.236Z"
   },
   {
    "duration": 15,
    "start_time": "2021-07-08T11:49:03.243Z"
   },
   {
    "duration": 21,
    "start_time": "2021-07-08T11:49:03.285Z"
   },
   {
    "duration": 17,
    "start_time": "2021-07-08T11:49:03.309Z"
   },
   {
    "duration": 10,
    "start_time": "2021-07-08T11:49:03.328Z"
   },
   {
    "duration": 65,
    "start_time": "2021-07-08T11:49:03.340Z"
   },
   {
    "duration": 18,
    "start_time": "2021-07-08T11:49:03.407Z"
   },
   {
    "duration": 8,
    "start_time": "2021-07-08T11:49:03.428Z"
   },
   {
    "duration": 15,
    "start_time": "2021-07-08T11:49:03.438Z"
   },
   {
    "duration": 40,
    "start_time": "2021-07-08T11:49:03.455Z"
   },
   {
    "duration": 12,
    "start_time": "2021-07-08T11:49:03.497Z"
   },
   {
    "duration": 29,
    "start_time": "2021-07-08T11:49:03.511Z"
   },
   {
    "duration": 285,
    "start_time": "2021-07-08T11:49:03.542Z"
   },
   {
    "duration": 8,
    "start_time": "2021-07-08T11:49:03.829Z"
   },
   {
    "duration": 227,
    "start_time": "2021-07-08T11:49:03.838Z"
   },
   {
    "duration": 40,
    "start_time": "2021-07-08T11:49:04.066Z"
   },
   {
    "duration": 10,
    "start_time": "2021-07-08T11:49:04.108Z"
   },
   {
    "duration": 26,
    "start_time": "2021-07-08T11:49:04.121Z"
   },
   {
    "duration": 290,
    "start_time": "2021-07-08T11:49:04.149Z"
   },
   {
    "duration": 26,
    "start_time": "2021-07-08T11:49:04.441Z"
   },
   {
    "duration": 31,
    "start_time": "2021-07-08T11:49:04.470Z"
   },
   {
    "duration": 14,
    "start_time": "2021-07-08T11:49:04.503Z"
   },
   {
    "duration": 259,
    "start_time": "2021-07-08T11:49:04.521Z"
   },
   {
    "duration": 480,
    "start_time": "2021-07-08T11:49:04.782Z"
   },
   {
    "duration": 225,
    "start_time": "2021-07-08T11:49:05.264Z"
   },
   {
    "duration": 22,
    "start_time": "2021-07-08T11:49:05.491Z"
   },
   {
    "duration": 24,
    "start_time": "2021-07-08T11:49:05.515Z"
   },
   {
    "duration": 634,
    "start_time": "2021-07-08T11:52:24.960Z"
   },
   {
    "duration": 199,
    "start_time": "2021-07-08T11:52:25.599Z"
   },
   {
    "duration": 106,
    "start_time": "2021-07-08T11:52:25.803Z"
   },
   {
    "duration": 7,
    "start_time": "2021-07-08T11:52:25.911Z"
   },
   {
    "duration": 29,
    "start_time": "2021-07-08T11:52:25.920Z"
   },
   {
    "duration": 7,
    "start_time": "2021-07-08T11:52:25.951Z"
   },
   {
    "duration": 26,
    "start_time": "2021-07-08T11:52:25.961Z"
   },
   {
    "duration": 11,
    "start_time": "2021-07-08T11:52:25.990Z"
   },
   {
    "duration": 29,
    "start_time": "2021-07-08T11:52:26.005Z"
   },
   {
    "duration": 9,
    "start_time": "2021-07-08T11:52:26.036Z"
   },
   {
    "duration": 8,
    "start_time": "2021-07-08T11:52:26.047Z"
   },
   {
    "duration": 63,
    "start_time": "2021-07-08T11:52:26.057Z"
   },
   {
    "duration": 17,
    "start_time": "2021-07-08T11:52:26.122Z"
   },
   {
    "duration": 43,
    "start_time": "2021-07-08T11:52:26.142Z"
   },
   {
    "duration": 17,
    "start_time": "2021-07-08T11:52:26.187Z"
   },
   {
    "duration": 5,
    "start_time": "2021-07-08T11:52:26.206Z"
   },
   {
    "duration": 12,
    "start_time": "2021-07-08T11:52:26.212Z"
   },
   {
    "duration": 11,
    "start_time": "2021-07-08T11:52:26.226Z"
   },
   {
    "duration": 12,
    "start_time": "2021-07-08T11:52:26.238Z"
   },
   {
    "duration": 38,
    "start_time": "2021-07-08T11:52:26.252Z"
   },
   {
    "duration": 40,
    "start_time": "2021-07-08T11:52:26.292Z"
   },
   {
    "duration": 17,
    "start_time": "2021-07-08T11:52:26.336Z"
   },
   {
    "duration": 39,
    "start_time": "2021-07-08T11:52:26.355Z"
   },
   {
    "duration": 11,
    "start_time": "2021-07-08T11:52:26.395Z"
   },
   {
    "duration": 23,
    "start_time": "2021-07-08T11:52:26.408Z"
   },
   {
    "duration": 12,
    "start_time": "2021-07-08T11:52:26.432Z"
   },
   {
    "duration": 41,
    "start_time": "2021-07-08T11:52:26.446Z"
   },
   {
    "duration": 215,
    "start_time": "2021-07-08T11:52:26.493Z"
   },
   {
    "duration": 8,
    "start_time": "2021-07-08T11:52:26.710Z"
   },
   {
    "duration": 228,
    "start_time": "2021-07-08T11:52:26.720Z"
   },
   {
    "duration": 18,
    "start_time": "2021-07-08T11:52:26.950Z"
   },
   {
    "duration": 35,
    "start_time": "2021-07-08T11:52:26.969Z"
   },
   {
    "duration": 23,
    "start_time": "2021-07-08T11:52:27.006Z"
   },
   {
    "duration": 258,
    "start_time": "2021-07-08T11:52:27.030Z"
   },
   {
    "duration": 24,
    "start_time": "2021-07-08T11:52:27.290Z"
   },
   {
    "duration": 12,
    "start_time": "2021-07-08T11:52:27.316Z"
   },
   {
    "duration": 10,
    "start_time": "2021-07-08T11:52:27.329Z"
   },
   {
    "duration": 298,
    "start_time": "2021-07-08T11:52:27.341Z"
   },
   {
    "duration": 436,
    "start_time": "2021-07-08T11:52:27.641Z"
   },
   {
    "duration": 216,
    "start_time": "2021-07-08T11:52:28.079Z"
   },
   {
    "duration": 20,
    "start_time": "2021-07-08T11:52:28.297Z"
   },
   {
    "duration": 17,
    "start_time": "2021-07-08T11:52:28.319Z"
   },
   {
    "duration": 666,
    "start_time": "2024-02-13T17:46:50.914Z"
   },
   {
    "duration": 101,
    "start_time": "2024-02-13T17:48:40.489Z"
   },
   {
    "duration": 115,
    "start_time": "2024-02-13T17:49:19.272Z"
   },
   {
    "duration": 61,
    "start_time": "2024-02-13T17:49:26.138Z"
   },
   {
    "duration": 388,
    "start_time": "2024-02-13T18:02:33.873Z"
   },
   {
    "duration": 7,
    "start_time": "2024-02-13T18:03:20.787Z"
   },
   {
    "duration": 5,
    "start_time": "2024-02-13T18:03:26.050Z"
   },
   {
    "duration": 5,
    "start_time": "2024-02-13T18:03:39.722Z"
   },
   {
    "duration": 5,
    "start_time": "2024-02-13T18:04:05.419Z"
   },
   {
    "duration": 10,
    "start_time": "2024-02-13T18:10:01.563Z"
   },
   {
    "duration": 5,
    "start_time": "2024-02-13T18:11:20.164Z"
   },
   {
    "duration": 12,
    "start_time": "2024-02-13T18:19:02.036Z"
   },
   {
    "duration": 14,
    "start_time": "2024-02-13T18:19:22.212Z"
   },
   {
    "duration": 105,
    "start_time": "2024-02-13T18:19:54.365Z"
   },
   {
    "duration": 54,
    "start_time": "2024-02-13T18:20:04.140Z"
   },
   {
    "duration": 102,
    "start_time": "2024-02-13T18:25:06.838Z"
   },
   {
    "duration": 117,
    "start_time": "2024-02-13T18:26:05.550Z"
   },
   {
    "duration": 14,
    "start_time": "2024-02-13T18:26:51.980Z"
   },
   {
    "duration": 105,
    "start_time": "2024-02-13T18:27:15.741Z"
   },
   {
    "duration": 530,
    "start_time": "2024-02-13T18:28:05.440Z"
   },
   {
    "duration": 51,
    "start_time": "2024-02-13T18:28:05.973Z"
   },
   {
    "duration": 13,
    "start_time": "2024-02-13T18:28:06.025Z"
   },
   {
    "duration": 21,
    "start_time": "2024-02-13T18:28:06.040Z"
   },
   {
    "duration": 28,
    "start_time": "2024-02-13T18:28:28.372Z"
   },
   {
    "duration": 3,
    "start_time": "2024-02-13T18:33:55.406Z"
   },
   {
    "duration": 18,
    "start_time": "2024-02-13T18:34:06.405Z"
   },
   {
    "duration": 104,
    "start_time": "2024-02-13T18:34:48.446Z"
   },
   {
    "duration": 16,
    "start_time": "2024-02-13T18:36:05.228Z"
   },
   {
    "duration": 461,
    "start_time": "2024-02-13T19:07:45.588Z"
   },
   {
    "duration": 6,
    "start_time": "2024-02-13T19:08:21.429Z"
   },
   {
    "duration": 14,
    "start_time": "2024-02-13T19:09:09.477Z"
   },
   {
    "duration": 418,
    "start_time": "2024-02-13T19:11:22.916Z"
   },
   {
    "duration": 14,
    "start_time": "2024-02-13T19:13:27.373Z"
   },
   {
    "duration": 8,
    "start_time": "2024-02-13T19:13:56.748Z"
   },
   {
    "duration": 573,
    "start_time": "2024-02-13T19:14:21.285Z"
   },
   {
    "duration": 45,
    "start_time": "2024-02-13T19:14:21.860Z"
   },
   {
    "duration": 13,
    "start_time": "2024-02-13T19:14:21.907Z"
   },
   {
    "duration": 35,
    "start_time": "2024-02-13T19:14:21.922Z"
   },
   {
    "duration": 3,
    "start_time": "2024-02-13T19:14:21.959Z"
   },
   {
    "duration": 20,
    "start_time": "2024-02-13T19:14:21.963Z"
   },
   {
    "duration": 18,
    "start_time": "2024-02-13T19:14:21.985Z"
   },
   {
    "duration": 3,
    "start_time": "2024-02-13T19:14:22.004Z"
   },
   {
    "duration": 100,
    "start_time": "2024-02-13T19:14:22.008Z"
   },
   {
    "duration": 10,
    "start_time": "2024-02-13T19:14:32.341Z"
   },
   {
    "duration": 15,
    "start_time": "2024-02-13T19:14:41.478Z"
   },
   {
    "duration": 15,
    "start_time": "2024-02-13T19:14:54.886Z"
   },
   {
    "duration": 13,
    "start_time": "2024-02-13T19:15:17.133Z"
   },
   {
    "duration": 11,
    "start_time": "2024-02-13T19:16:08.789Z"
   },
   {
    "duration": 347,
    "start_time": "2024-02-13T19:16:28.628Z"
   },
   {
    "duration": 21,
    "start_time": "2024-02-13T19:16:36.558Z"
   },
   {
    "duration": 19,
    "start_time": "2024-02-13T19:18:55.053Z"
   },
   {
    "duration": 21,
    "start_time": "2024-02-13T19:19:10.853Z"
   },
   {
    "duration": 15,
    "start_time": "2024-02-13T19:19:25.354Z"
   },
   {
    "duration": 15,
    "start_time": "2024-02-13T19:19:40.198Z"
   },
   {
    "duration": 18,
    "start_time": "2024-02-13T19:19:51.886Z"
   },
   {
    "duration": 79,
    "start_time": "2024-02-13T19:20:00.663Z"
   },
   {
    "duration": 558,
    "start_time": "2024-02-13T19:21:55.383Z"
   },
   {
    "duration": 52,
    "start_time": "2024-02-13T19:21:55.943Z"
   },
   {
    "duration": 12,
    "start_time": "2024-02-13T19:21:55.997Z"
   },
   {
    "duration": 38,
    "start_time": "2024-02-13T19:21:56.011Z"
   },
   {
    "duration": 3,
    "start_time": "2024-02-13T19:21:56.052Z"
   },
   {
    "duration": 40,
    "start_time": "2024-02-13T19:21:56.057Z"
   },
   {
    "duration": 22,
    "start_time": "2024-02-13T19:21:56.099Z"
   },
   {
    "duration": 7,
    "start_time": "2024-02-13T19:21:56.123Z"
   },
   {
    "duration": 73,
    "start_time": "2024-02-13T19:21:56.132Z"
   },
   {
    "duration": 407,
    "start_time": "2024-02-13T19:22:23.470Z"
   },
   {
    "duration": 25,
    "start_time": "2024-02-13T19:22:33.935Z"
   },
   {
    "duration": 8,
    "start_time": "2024-02-13T19:22:44.919Z"
   },
   {
    "duration": 5,
    "start_time": "2024-02-13T19:22:50.078Z"
   },
   {
    "duration": 23,
    "start_time": "2024-02-13T19:22:54.582Z"
   },
   {
    "duration": 4,
    "start_time": "2024-02-13T19:28:57.304Z"
   },
   {
    "duration": 1453,
    "start_time": "2024-02-13T19:29:14.488Z"
   },
   {
    "duration": 607,
    "start_time": "2024-02-14T13:23:10.933Z"
   },
   {
    "duration": 90,
    "start_time": "2024-02-14T13:23:11.541Z"
   },
   {
    "duration": 11,
    "start_time": "2024-02-14T13:23:11.632Z"
   },
   {
    "duration": 32,
    "start_time": "2024-02-14T13:23:11.645Z"
   },
   {
    "duration": 3,
    "start_time": "2024-02-14T13:23:11.678Z"
   },
   {
    "duration": 29,
    "start_time": "2024-02-14T13:23:11.683Z"
   },
   {
    "duration": 14,
    "start_time": "2024-02-14T13:23:11.713Z"
   },
   {
    "duration": 16,
    "start_time": "2024-02-14T13:23:11.729Z"
   },
   {
    "duration": 1356,
    "start_time": "2024-02-14T13:23:11.746Z"
   },
   {
    "duration": 5,
    "start_time": "2024-02-14T13:28:39.038Z"
   },
   {
    "duration": 1380,
    "start_time": "2024-02-14T13:29:53.564Z"
   },
   {
    "duration": 17,
    "start_time": "2024-02-14T13:30:11.612Z"
   },
   {
    "duration": 530,
    "start_time": "2024-02-14T13:30:57.247Z"
   },
   {
    "duration": 43,
    "start_time": "2024-02-14T13:30:57.779Z"
   },
   {
    "duration": 11,
    "start_time": "2024-02-14T13:30:57.823Z"
   },
   {
    "duration": 55,
    "start_time": "2024-02-14T13:30:57.836Z"
   },
   {
    "duration": 2,
    "start_time": "2024-02-14T13:30:57.893Z"
   },
   {
    "duration": 31,
    "start_time": "2024-02-14T13:30:57.897Z"
   },
   {
    "duration": 39,
    "start_time": "2024-02-14T13:30:57.929Z"
   },
   {
    "duration": 36,
    "start_time": "2024-02-14T13:30:57.969Z"
   },
   {
    "duration": 34,
    "start_time": "2024-02-14T13:30:58.007Z"
   },
   {
    "duration": 458,
    "start_time": "2024-02-14T13:31:18.594Z"
   },
   {
    "duration": 45,
    "start_time": "2024-02-14T13:31:19.053Z"
   },
   {
    "duration": 12,
    "start_time": "2024-02-14T13:31:19.099Z"
   },
   {
    "duration": 46,
    "start_time": "2024-02-14T13:31:19.113Z"
   },
   {
    "duration": 28,
    "start_time": "2024-02-14T13:31:19.160Z"
   },
   {
    "duration": 35,
    "start_time": "2024-02-14T13:31:19.190Z"
   },
   {
    "duration": 43,
    "start_time": "2024-02-14T13:31:19.226Z"
   },
   {
    "duration": 19,
    "start_time": "2024-02-14T13:31:19.270Z"
   },
   {
    "duration": 28,
    "start_time": "2024-02-14T13:31:19.291Z"
   },
   {
    "duration": 497,
    "start_time": "2024-02-14T13:31:52.740Z"
   },
   {
    "duration": 45,
    "start_time": "2024-02-14T13:31:53.238Z"
   },
   {
    "duration": 11,
    "start_time": "2024-02-14T13:31:53.285Z"
   },
   {
    "duration": 45,
    "start_time": "2024-02-14T13:31:53.299Z"
   },
   {
    "duration": 3,
    "start_time": "2024-02-14T13:31:53.346Z"
   },
   {
    "duration": 15,
    "start_time": "2024-02-14T13:31:53.351Z"
   },
   {
    "duration": 15,
    "start_time": "2024-02-14T13:31:53.368Z"
   },
   {
    "duration": 3,
    "start_time": "2024-02-14T13:31:53.385Z"
   },
   {
    "duration": 7,
    "start_time": "2024-02-14T13:31:53.389Z"
   },
   {
    "duration": 65,
    "start_time": "2024-02-14T13:34:33.535Z"
   },
   {
    "duration": 6,
    "start_time": "2024-02-14T13:35:38.761Z"
   },
   {
    "duration": 6,
    "start_time": "2024-02-14T13:35:59.978Z"
   },
   {
    "duration": 15,
    "start_time": "2024-02-14T13:36:30.264Z"
   },
   {
    "duration": 18,
    "start_time": "2024-02-14T14:00:39.684Z"
   },
   {
    "duration": 13,
    "start_time": "2024-02-14T14:00:52.771Z"
   },
   {
    "duration": 44,
    "start_time": "2024-02-14T14:02:14.864Z"
   },
   {
    "duration": 503,
    "start_time": "2024-02-14T14:03:06.326Z"
   },
   {
    "duration": 45,
    "start_time": "2024-02-14T14:03:06.831Z"
   },
   {
    "duration": 11,
    "start_time": "2024-02-14T14:03:06.878Z"
   },
   {
    "duration": 36,
    "start_time": "2024-02-14T14:03:06.890Z"
   },
   {
    "duration": 3,
    "start_time": "2024-02-14T14:03:06.927Z"
   },
   {
    "duration": 36,
    "start_time": "2024-02-14T14:03:06.931Z"
   },
   {
    "duration": 17,
    "start_time": "2024-02-14T14:03:06.969Z"
   },
   {
    "duration": 101,
    "start_time": "2024-02-14T14:03:06.987Z"
   },
   {
    "duration": 0,
    "start_time": "2024-02-14T14:03:07.089Z"
   },
   {
    "duration": 0,
    "start_time": "2024-02-14T14:03:07.090Z"
   },
   {
    "duration": 2,
    "start_time": "2024-02-14T14:03:58.350Z"
   },
   {
    "duration": 25,
    "start_time": "2024-02-14T14:03:59.942Z"
   },
   {
    "duration": 18,
    "start_time": "2024-02-14T14:04:08.949Z"
   },
   {
    "duration": 67,
    "start_time": "2024-02-14T14:05:14.222Z"
   },
   {
    "duration": 4,
    "start_time": "2024-02-14T14:05:48.894Z"
   },
   {
    "duration": 7,
    "start_time": "2024-02-14T14:06:00.823Z"
   },
   {
    "duration": 8,
    "start_time": "2024-02-14T14:06:23.671Z"
   },
   {
    "duration": 16,
    "start_time": "2024-02-14T14:14:27.716Z"
   },
   {
    "duration": 10,
    "start_time": "2024-02-14T14:14:50.868Z"
   },
   {
    "duration": 11,
    "start_time": "2024-02-14T14:15:48.939Z"
   },
   {
    "duration": 10,
    "start_time": "2024-02-14T14:15:53.181Z"
   },
   {
    "duration": 10,
    "start_time": "2024-02-14T14:16:01.708Z"
   },
   {
    "duration": 486,
    "start_time": "2024-02-14T14:16:13.449Z"
   },
   {
    "duration": 44,
    "start_time": "2024-02-14T14:16:13.937Z"
   },
   {
    "duration": 11,
    "start_time": "2024-02-14T14:16:13.982Z"
   },
   {
    "duration": 35,
    "start_time": "2024-02-14T14:16:13.995Z"
   },
   {
    "duration": 2,
    "start_time": "2024-02-14T14:16:14.031Z"
   },
   {
    "duration": 27,
    "start_time": "2024-02-14T14:16:14.034Z"
   },
   {
    "duration": 14,
    "start_time": "2024-02-14T14:16:14.062Z"
   },
   {
    "duration": 3,
    "start_time": "2024-02-14T14:16:14.078Z"
   },
   {
    "duration": 22,
    "start_time": "2024-02-14T14:16:14.082Z"
   },
   {
    "duration": 17,
    "start_time": "2024-02-14T14:16:14.106Z"
   },
   {
    "duration": 21,
    "start_time": "2024-02-14T14:16:14.125Z"
   },
   {
    "duration": 61,
    "start_time": "2024-02-14T14:16:14.148Z"
   },
   {
    "duration": 9,
    "start_time": "2024-02-14T14:16:24.852Z"
   },
   {
    "duration": 4,
    "start_time": "2024-02-14T14:18:45.910Z"
   },
   {
    "duration": 9,
    "start_time": "2024-02-14T14:18:55.223Z"
   },
   {
    "duration": 12,
    "start_time": "2024-02-14T14:19:20.422Z"
   },
   {
    "duration": 444,
    "start_time": "2024-02-14T14:19:57.281Z"
   },
   {
    "duration": 43,
    "start_time": "2024-02-14T14:19:57.728Z"
   },
   {
    "duration": 15,
    "start_time": "2024-02-14T14:19:57.773Z"
   },
   {
    "duration": 38,
    "start_time": "2024-02-14T14:19:57.790Z"
   },
   {
    "duration": 3,
    "start_time": "2024-02-14T14:19:57.829Z"
   },
   {
    "duration": 40,
    "start_time": "2024-02-14T14:19:57.833Z"
   },
   {
    "duration": 24,
    "start_time": "2024-02-14T14:19:57.875Z"
   },
   {
    "duration": 36,
    "start_time": "2024-02-14T14:19:57.900Z"
   },
   {
    "duration": 41,
    "start_time": "2024-02-14T14:19:57.938Z"
   },
   {
    "duration": 69,
    "start_time": "2024-02-14T14:19:57.981Z"
   },
   {
    "duration": 30,
    "start_time": "2024-02-14T14:19:58.051Z"
   },
   {
    "duration": 16,
    "start_time": "2024-02-14T14:19:58.082Z"
   },
   {
    "duration": 74,
    "start_time": "2024-02-14T14:19:58.099Z"
   },
   {
    "duration": 7,
    "start_time": "2024-02-14T14:21:05.375Z"
   },
   {
    "duration": 10,
    "start_time": "2024-02-14T14:21:17.671Z"
   },
   {
    "duration": 14,
    "start_time": "2024-02-14T14:21:40.751Z"
   },
   {
    "duration": 6,
    "start_time": "2024-02-14T14:22:29.199Z"
   },
   {
    "duration": 5,
    "start_time": "2024-02-14T14:22:39.023Z"
   },
   {
    "duration": 77,
    "start_time": "2024-02-14T14:25:19.472Z"
   },
   {
    "duration": 3,
    "start_time": "2024-02-14T14:26:16.971Z"
   },
   {
    "duration": 8,
    "start_time": "2024-02-14T14:27:22.442Z"
   },
   {
    "duration": 7,
    "start_time": "2024-02-14T14:27:51.321Z"
   },
   {
    "duration": 8,
    "start_time": "2024-02-14T14:28:02.922Z"
   },
   {
    "duration": 594,
    "start_time": "2024-02-14T14:28:25.771Z"
   },
   {
    "duration": 14,
    "start_time": "2024-02-14T14:29:42.728Z"
   },
   {
    "duration": 9,
    "start_time": "2024-02-14T14:29:53.800Z"
   },
   {
    "duration": 505,
    "start_time": "2024-02-14T14:38:31.327Z"
   },
   {
    "duration": 44,
    "start_time": "2024-02-14T14:38:31.834Z"
   },
   {
    "duration": 11,
    "start_time": "2024-02-14T14:38:31.879Z"
   },
   {
    "duration": 77,
    "start_time": "2024-02-14T14:38:31.891Z"
   },
   {
    "duration": 57,
    "start_time": "2024-02-14T14:38:31.969Z"
   },
   {
    "duration": 70,
    "start_time": "2024-02-14T14:38:32.027Z"
   },
   {
    "duration": 19,
    "start_time": "2024-02-14T14:38:32.099Z"
   },
   {
    "duration": 19,
    "start_time": "2024-02-14T14:38:32.120Z"
   },
   {
    "duration": 49,
    "start_time": "2024-02-14T14:38:32.140Z"
   },
   {
    "duration": 30,
    "start_time": "2024-02-14T14:38:32.190Z"
   },
   {
    "duration": 7,
    "start_time": "2024-02-14T14:38:32.221Z"
   },
   {
    "duration": 40,
    "start_time": "2024-02-14T14:38:32.230Z"
   },
   {
    "duration": 18,
    "start_time": "2024-02-14T14:38:32.271Z"
   },
   {
    "duration": 16,
    "start_time": "2024-02-14T14:40:53.400Z"
   },
   {
    "duration": 55,
    "start_time": "2024-02-14T17:44:48.250Z"
   },
   {
    "duration": 49,
    "start_time": "2024-02-14T17:45:05.636Z"
   },
   {
    "duration": 661,
    "start_time": "2024-02-14T17:45:17.017Z"
   },
   {
    "duration": 94,
    "start_time": "2024-02-14T17:45:17.680Z"
   },
   {
    "duration": 12,
    "start_time": "2024-02-14T17:45:17.776Z"
   },
   {
    "duration": 34,
    "start_time": "2024-02-14T17:45:17.790Z"
   },
   {
    "duration": 3,
    "start_time": "2024-02-14T17:45:17.825Z"
   },
   {
    "duration": 21,
    "start_time": "2024-02-14T17:45:17.830Z"
   },
   {
    "duration": 37,
    "start_time": "2024-02-14T17:45:17.852Z"
   },
   {
    "duration": 18,
    "start_time": "2024-02-14T17:45:17.890Z"
   },
   {
    "duration": 19,
    "start_time": "2024-02-14T17:45:17.910Z"
   },
   {
    "duration": 9,
    "start_time": "2024-02-14T17:45:17.931Z"
   },
   {
    "duration": 11,
    "start_time": "2024-02-14T17:45:17.941Z"
   },
   {
    "duration": 15,
    "start_time": "2024-02-14T17:45:17.981Z"
   },
   {
    "duration": 9,
    "start_time": "2024-02-14T17:45:17.997Z"
   },
   {
    "duration": 70,
    "start_time": "2024-02-14T17:51:03.532Z"
   },
   {
    "duration": 15,
    "start_time": "2024-02-14T19:00:26.390Z"
   },
   {
    "duration": 17,
    "start_time": "2024-02-14T19:06:53.124Z"
   },
   {
    "duration": 29,
    "start_time": "2024-02-14T19:08:07.939Z"
   },
   {
    "duration": 10,
    "start_time": "2024-02-14T19:08:21.852Z"
   },
   {
    "duration": 6,
    "start_time": "2024-02-14T19:11:23.212Z"
   },
   {
    "duration": 7,
    "start_time": "2024-02-14T19:11:28.044Z"
   },
   {
    "duration": 5,
    "start_time": "2024-02-14T19:11:34.196Z"
   },
   {
    "duration": 16,
    "start_time": "2024-02-14T19:12:43.437Z"
   },
   {
    "duration": 6,
    "start_time": "2024-02-14T19:14:00.301Z"
   },
   {
    "duration": 6,
    "start_time": "2024-02-14T19:14:21.285Z"
   },
   {
    "duration": 20,
    "start_time": "2024-02-14T19:20:39.950Z"
   },
   {
    "duration": 7,
    "start_time": "2024-02-14T19:38:07.799Z"
   },
   {
    "duration": 51,
    "start_time": "2024-02-15T17:11:51.090Z"
   },
   {
    "duration": 675,
    "start_time": "2024-02-15T17:11:59.245Z"
   },
   {
    "duration": 100,
    "start_time": "2024-02-15T17:11:59.922Z"
   },
   {
    "duration": 17,
    "start_time": "2024-02-15T17:12:00.024Z"
   },
   {
    "duration": 116,
    "start_time": "2024-02-15T17:12:00.043Z"
   },
   {
    "duration": 30,
    "start_time": "2024-02-15T17:12:00.161Z"
   },
   {
    "duration": 98,
    "start_time": "2024-02-15T17:12:00.193Z"
   },
   {
    "duration": 156,
    "start_time": "2024-02-15T17:12:00.293Z"
   },
   {
    "duration": 291,
    "start_time": "2024-02-15T17:12:00.452Z"
   },
   {
    "duration": 50,
    "start_time": "2024-02-15T17:12:00.745Z"
   },
   {
    "duration": 71,
    "start_time": "2024-02-15T17:12:00.797Z"
   },
   {
    "duration": 69,
    "start_time": "2024-02-15T17:12:00.870Z"
   },
   {
    "duration": 63,
    "start_time": "2024-02-15T17:12:00.941Z"
   },
   {
    "duration": 37,
    "start_time": "2024-02-15T17:12:01.006Z"
   },
   {
    "duration": 51,
    "start_time": "2024-02-15T17:12:01.047Z"
   },
   {
    "duration": 110,
    "start_time": "2024-02-15T17:12:01.099Z"
   },
   {
    "duration": 70,
    "start_time": "2024-02-15T17:12:01.213Z"
   },
   {
    "duration": 62,
    "start_time": "2024-02-15T17:12:01.286Z"
   },
   {
    "duration": 181,
    "start_time": "2024-02-15T17:12:01.349Z"
   },
   {
    "duration": 29,
    "start_time": "2024-02-15T17:12:10.924Z"
   },
   {
    "duration": 26,
    "start_time": "2024-02-15T17:13:32.583Z"
   },
   {
    "duration": 1316,
    "start_time": "2024-02-15T17:35:15.816Z"
   },
   {
    "duration": 29,
    "start_time": "2024-02-15T17:35:18.322Z"
   },
   {
    "duration": 22,
    "start_time": "2024-02-15T17:49:10.490Z"
   },
   {
    "duration": 22,
    "start_time": "2024-02-15T17:49:16.232Z"
   },
   {
    "duration": 24,
    "start_time": "2024-02-15T17:50:00.730Z"
   },
   {
    "duration": 21,
    "start_time": "2024-02-15T17:50:37.098Z"
   },
   {
    "duration": 5,
    "start_time": "2024-02-15T17:53:07.666Z"
   },
   {
    "duration": 6,
    "start_time": "2024-02-15T17:53:13.859Z"
   },
   {
    "duration": 18,
    "start_time": "2024-02-15T17:53:30.131Z"
   },
   {
    "duration": 30,
    "start_time": "2024-02-15T17:54:40.450Z"
   },
   {
    "duration": 15,
    "start_time": "2024-02-15T17:54:54.187Z"
   },
   {
    "duration": 6,
    "start_time": "2024-02-15T17:55:04.970Z"
   },
   {
    "duration": 7,
    "start_time": "2024-02-15T17:55:43.618Z"
   },
   {
    "duration": 28,
    "start_time": "2024-02-15T17:55:45.194Z"
   },
   {
    "duration": 31,
    "start_time": "2024-02-15T18:27:07.700Z"
   },
   {
    "duration": 506,
    "start_time": "2024-02-15T18:27:12.133Z"
   },
   {
    "duration": 44,
    "start_time": "2024-02-15T18:27:12.641Z"
   },
   {
    "duration": 13,
    "start_time": "2024-02-15T18:27:12.687Z"
   },
   {
    "duration": 46,
    "start_time": "2024-02-15T18:27:12.702Z"
   },
   {
    "duration": 4,
    "start_time": "2024-02-15T18:27:12.749Z"
   },
   {
    "duration": 20,
    "start_time": "2024-02-15T18:27:12.754Z"
   },
   {
    "duration": 29,
    "start_time": "2024-02-15T18:27:12.776Z"
   },
   {
    "duration": 20,
    "start_time": "2024-02-15T18:27:12.806Z"
   },
   {
    "duration": 20,
    "start_time": "2024-02-15T18:27:12.827Z"
   },
   {
    "duration": 9,
    "start_time": "2024-02-15T18:27:12.850Z"
   },
   {
    "duration": 41,
    "start_time": "2024-02-15T18:27:12.861Z"
   },
   {
    "duration": 15,
    "start_time": "2024-02-15T18:27:12.904Z"
   },
   {
    "duration": 10,
    "start_time": "2024-02-15T18:27:12.921Z"
   },
   {
    "duration": 20,
    "start_time": "2024-02-15T18:27:12.933Z"
   },
   {
    "duration": 42,
    "start_time": "2024-02-15T18:27:12.954Z"
   },
   {
    "duration": 37,
    "start_time": "2024-02-15T18:27:12.997Z"
   },
   {
    "duration": 14,
    "start_time": "2024-02-15T18:27:13.035Z"
   },
   {
    "duration": 39,
    "start_time": "2024-02-15T18:27:13.051Z"
   },
   {
    "duration": 24,
    "start_time": "2024-02-15T18:27:13.092Z"
   },
   {
    "duration": 25,
    "start_time": "2024-02-15T18:27:13.117Z"
   },
   {
    "duration": 16,
    "start_time": "2024-02-15T18:27:13.144Z"
   },
   {
    "duration": 45,
    "start_time": "2024-02-15T18:27:13.161Z"
   },
   {
    "duration": 6,
    "start_time": "2024-02-15T18:27:13.208Z"
   },
   {
    "duration": 30,
    "start_time": "2024-02-15T18:27:13.215Z"
   },
   {
    "duration": 32,
    "start_time": "2024-02-15T18:27:32.677Z"
   },
   {
    "duration": 543,
    "start_time": "2024-02-15T18:27:49.196Z"
   },
   {
    "duration": 44,
    "start_time": "2024-02-15T18:27:49.741Z"
   },
   {
    "duration": 16,
    "start_time": "2024-02-15T18:27:49.787Z"
   },
   {
    "duration": 57,
    "start_time": "2024-02-15T18:27:49.806Z"
   },
   {
    "duration": 4,
    "start_time": "2024-02-15T18:27:49.865Z"
   },
   {
    "duration": 36,
    "start_time": "2024-02-15T18:27:49.871Z"
   },
   {
    "duration": 56,
    "start_time": "2024-02-15T18:27:49.909Z"
   },
   {
    "duration": 24,
    "start_time": "2024-02-15T18:27:49.967Z"
   },
   {
    "duration": 36,
    "start_time": "2024-02-15T18:27:49.993Z"
   },
   {
    "duration": 16,
    "start_time": "2024-02-15T18:27:50.032Z"
   },
   {
    "duration": 20,
    "start_time": "2024-02-15T18:27:50.050Z"
   },
   {
    "duration": 28,
    "start_time": "2024-02-15T18:27:50.072Z"
   },
   {
    "duration": 11,
    "start_time": "2024-02-15T18:27:50.101Z"
   },
   {
    "duration": 54,
    "start_time": "2024-02-15T18:27:50.114Z"
   },
   {
    "duration": 19,
    "start_time": "2024-02-15T18:27:50.170Z"
   },
   {
    "duration": 30,
    "start_time": "2024-02-15T18:27:50.191Z"
   },
   {
    "duration": 16,
    "start_time": "2024-02-15T18:27:50.222Z"
   },
   {
    "duration": 38,
    "start_time": "2024-02-15T18:27:50.239Z"
   },
   {
    "duration": 27,
    "start_time": "2024-02-15T18:27:50.279Z"
   },
   {
    "duration": 54,
    "start_time": "2024-02-15T18:27:50.308Z"
   },
   {
    "duration": 18,
    "start_time": "2024-02-15T18:27:50.364Z"
   },
   {
    "duration": 90,
    "start_time": "2024-02-15T18:27:50.383Z"
   },
   {
    "duration": 0,
    "start_time": "2024-02-15T18:27:50.476Z"
   },
   {
    "duration": 0,
    "start_time": "2024-02-15T18:27:50.477Z"
   },
   {
    "duration": 7,
    "start_time": "2024-02-15T18:28:04.930Z"
   },
   {
    "duration": 7,
    "start_time": "2024-02-15T18:28:08.891Z"
   },
   {
    "duration": 500,
    "start_time": "2024-02-15T18:28:20.239Z"
   },
   {
    "duration": 48,
    "start_time": "2024-02-15T18:28:20.741Z"
   },
   {
    "duration": 18,
    "start_time": "2024-02-15T18:28:20.791Z"
   },
   {
    "duration": 45,
    "start_time": "2024-02-15T18:28:20.811Z"
   },
   {
    "duration": 3,
    "start_time": "2024-02-15T18:28:20.859Z"
   },
   {
    "duration": 45,
    "start_time": "2024-02-15T18:28:20.863Z"
   },
   {
    "duration": 24,
    "start_time": "2024-02-15T18:28:20.910Z"
   },
   {
    "duration": 31,
    "start_time": "2024-02-15T18:28:20.937Z"
   },
   {
    "duration": 46,
    "start_time": "2024-02-15T18:28:20.970Z"
   },
   {
    "duration": 11,
    "start_time": "2024-02-15T18:28:21.018Z"
   },
   {
    "duration": 17,
    "start_time": "2024-02-15T18:28:21.031Z"
   },
   {
    "duration": 56,
    "start_time": "2024-02-15T18:28:21.049Z"
   },
   {
    "duration": 12,
    "start_time": "2024-02-15T18:28:21.107Z"
   },
   {
    "duration": 19,
    "start_time": "2024-02-15T18:28:21.122Z"
   },
   {
    "duration": 22,
    "start_time": "2024-02-15T18:28:21.143Z"
   },
   {
    "duration": 42,
    "start_time": "2024-02-15T18:28:21.166Z"
   },
   {
    "duration": 12,
    "start_time": "2024-02-15T18:28:21.210Z"
   },
   {
    "duration": 38,
    "start_time": "2024-02-15T18:28:21.224Z"
   },
   {
    "duration": 51,
    "start_time": "2024-02-15T18:28:21.264Z"
   },
   {
    "duration": 28,
    "start_time": "2024-02-15T18:28:21.317Z"
   },
   {
    "duration": 23,
    "start_time": "2024-02-15T18:28:21.347Z"
   },
   {
    "duration": 36,
    "start_time": "2024-02-15T18:28:21.395Z"
   },
   {
    "duration": 7,
    "start_time": "2024-02-15T18:28:21.433Z"
   },
   {
    "duration": 34,
    "start_time": "2024-02-15T18:28:21.442Z"
   },
   {
    "duration": 544,
    "start_time": "2024-02-15T18:30:43.859Z"
   },
   {
    "duration": 43,
    "start_time": "2024-02-15T18:30:44.406Z"
   },
   {
    "duration": 16,
    "start_time": "2024-02-15T18:30:44.451Z"
   },
   {
    "duration": 58,
    "start_time": "2024-02-15T18:30:44.468Z"
   },
   {
    "duration": 3,
    "start_time": "2024-02-15T18:30:44.528Z"
   },
   {
    "duration": 25,
    "start_time": "2024-02-15T18:30:44.533Z"
   },
   {
    "duration": 17,
    "start_time": "2024-02-15T18:30:44.560Z"
   },
   {
    "duration": 41,
    "start_time": "2024-02-15T18:30:44.579Z"
   },
   {
    "duration": 27,
    "start_time": "2024-02-15T18:30:44.621Z"
   },
   {
    "duration": 9,
    "start_time": "2024-02-15T18:30:44.650Z"
   },
   {
    "duration": 12,
    "start_time": "2024-02-15T18:30:44.661Z"
   },
   {
    "duration": 42,
    "start_time": "2024-02-15T18:30:44.675Z"
   },
   {
    "duration": 10,
    "start_time": "2024-02-15T18:30:44.719Z"
   },
   {
    "duration": 18,
    "start_time": "2024-02-15T18:30:44.732Z"
   },
   {
    "duration": 6,
    "start_time": "2024-02-15T18:30:44.752Z"
   },
   {
    "duration": 56,
    "start_time": "2024-02-15T18:30:44.760Z"
   },
   {
    "duration": 6,
    "start_time": "2024-02-15T18:30:44.818Z"
   },
   {
    "duration": 27,
    "start_time": "2024-02-15T18:30:44.826Z"
   },
   {
    "duration": 25,
    "start_time": "2024-02-15T18:30:44.855Z"
   },
   {
    "duration": 22,
    "start_time": "2024-02-15T18:30:44.892Z"
   },
   {
    "duration": 106,
    "start_time": "2024-02-15T18:30:44.916Z"
   },
   {
    "duration": 0,
    "start_time": "2024-02-15T18:30:45.024Z"
   },
   {
    "duration": 0,
    "start_time": "2024-02-15T18:30:45.026Z"
   },
   {
    "duration": 537,
    "start_time": "2024-02-15T18:31:17.488Z"
   },
   {
    "duration": 44,
    "start_time": "2024-02-15T18:31:18.026Z"
   },
   {
    "duration": 13,
    "start_time": "2024-02-15T18:31:18.072Z"
   },
   {
    "duration": 37,
    "start_time": "2024-02-15T18:31:18.087Z"
   },
   {
    "duration": 3,
    "start_time": "2024-02-15T18:31:18.126Z"
   },
   {
    "duration": 31,
    "start_time": "2024-02-15T18:31:18.130Z"
   },
   {
    "duration": 17,
    "start_time": "2024-02-15T18:31:18.163Z"
   },
   {
    "duration": 40,
    "start_time": "2024-02-15T18:31:18.182Z"
   },
   {
    "duration": 19,
    "start_time": "2024-02-15T18:31:18.224Z"
   },
   {
    "duration": 9,
    "start_time": "2024-02-15T18:31:18.246Z"
   },
   {
    "duration": 11,
    "start_time": "2024-02-15T18:31:18.256Z"
   },
   {
    "duration": 36,
    "start_time": "2024-02-15T18:31:18.268Z"
   },
   {
    "duration": 10,
    "start_time": "2024-02-15T18:31:18.305Z"
   },
   {
    "duration": 17,
    "start_time": "2024-02-15T18:31:18.316Z"
   },
   {
    "duration": 26,
    "start_time": "2024-02-15T18:31:18.335Z"
   },
   {
    "duration": 29,
    "start_time": "2024-02-15T18:31:18.363Z"
   },
   {
    "duration": 7,
    "start_time": "2024-02-15T18:31:18.393Z"
   },
   {
    "duration": 32,
    "start_time": "2024-02-15T18:31:18.402Z"
   },
   {
    "duration": 24,
    "start_time": "2024-02-15T18:31:18.436Z"
   },
   {
    "duration": 37,
    "start_time": "2024-02-15T18:31:18.462Z"
   },
   {
    "duration": 95,
    "start_time": "2024-02-15T18:31:18.501Z"
   },
   {
    "duration": 0,
    "start_time": "2024-02-15T18:31:18.597Z"
   },
   {
    "duration": 0,
    "start_time": "2024-02-15T18:31:18.599Z"
   },
   {
    "duration": 566,
    "start_time": "2024-02-15T18:31:37.873Z"
   },
   {
    "duration": 43,
    "start_time": "2024-02-15T18:31:38.441Z"
   },
   {
    "duration": 18,
    "start_time": "2024-02-15T18:31:38.486Z"
   },
   {
    "duration": 37,
    "start_time": "2024-02-15T18:31:38.506Z"
   },
   {
    "duration": 2,
    "start_time": "2024-02-15T18:31:38.545Z"
   },
   {
    "duration": 18,
    "start_time": "2024-02-15T18:31:38.549Z"
   },
   {
    "duration": 38,
    "start_time": "2024-02-15T18:31:38.569Z"
   },
   {
    "duration": 20,
    "start_time": "2024-02-15T18:31:38.609Z"
   },
   {
    "duration": 20,
    "start_time": "2024-02-15T18:31:38.630Z"
   },
   {
    "duration": 9,
    "start_time": "2024-02-15T18:31:38.651Z"
   },
   {
    "duration": 42,
    "start_time": "2024-02-15T18:31:38.661Z"
   },
   {
    "duration": 16,
    "start_time": "2024-02-15T18:31:38.705Z"
   },
   {
    "duration": 10,
    "start_time": "2024-02-15T18:31:38.722Z"
   },
   {
    "duration": 17,
    "start_time": "2024-02-15T18:31:38.735Z"
   },
   {
    "duration": 6,
    "start_time": "2024-02-15T18:31:38.754Z"
   },
   {
    "duration": 52,
    "start_time": "2024-02-15T18:31:38.762Z"
   },
   {
    "duration": 9,
    "start_time": "2024-02-15T18:31:38.816Z"
   },
   {
    "duration": 37,
    "start_time": "2024-02-15T18:31:38.827Z"
   },
   {
    "duration": 60,
    "start_time": "2024-02-15T18:31:38.866Z"
   },
   {
    "duration": 17,
    "start_time": "2024-02-15T18:31:38.928Z"
   },
   {
    "duration": 52,
    "start_time": "2024-02-15T18:31:38.946Z"
   },
   {
    "duration": 11,
    "start_time": "2024-02-15T18:31:38.999Z"
   },
   {
    "duration": 31,
    "start_time": "2024-02-15T18:31:39.013Z"
   },
   {
    "duration": 19,
    "start_time": "2024-02-15T18:34:38.229Z"
   },
   {
    "duration": 19,
    "start_time": "2024-02-15T18:34:45.461Z"
   },
   {
    "duration": 27,
    "start_time": "2024-02-15T18:35:18.079Z"
   },
   {
    "duration": 22,
    "start_time": "2024-02-15T19:00:43.554Z"
   },
   {
    "duration": 75,
    "start_time": "2024-02-15T19:01:10.425Z"
   },
   {
    "duration": 26,
    "start_time": "2024-02-15T19:01:25.049Z"
   },
   {
    "duration": 8,
    "start_time": "2024-02-15T19:02:00.218Z"
   },
   {
    "duration": 5,
    "start_time": "2024-02-15T19:02:17.072Z"
   },
   {
    "duration": 15,
    "start_time": "2024-02-15T19:02:20.393Z"
   },
   {
    "duration": 21,
    "start_time": "2024-02-15T19:02:29.769Z"
   },
   {
    "duration": 18,
    "start_time": "2024-02-15T19:03:07.281Z"
   },
   {
    "duration": 510,
    "start_time": "2024-02-15T19:03:14.134Z"
   },
   {
    "duration": 44,
    "start_time": "2024-02-15T19:03:14.647Z"
   },
   {
    "duration": 16,
    "start_time": "2024-02-15T19:03:14.693Z"
   },
   {
    "duration": 35,
    "start_time": "2024-02-15T19:03:14.712Z"
   },
   {
    "duration": 3,
    "start_time": "2024-02-15T19:03:14.749Z"
   },
   {
    "duration": 48,
    "start_time": "2024-02-15T19:03:14.753Z"
   },
   {
    "duration": 20,
    "start_time": "2024-02-15T19:03:14.803Z"
   },
   {
    "duration": 21,
    "start_time": "2024-02-15T19:03:14.824Z"
   },
   {
    "duration": 19,
    "start_time": "2024-02-15T19:03:14.847Z"
   },
   {
    "duration": 14,
    "start_time": "2024-02-15T19:03:14.891Z"
   },
   {
    "duration": 14,
    "start_time": "2024-02-15T19:03:14.908Z"
   },
   {
    "duration": 26,
    "start_time": "2024-02-15T19:03:14.924Z"
   },
   {
    "duration": 10,
    "start_time": "2024-02-15T19:03:14.952Z"
   },
   {
    "duration": 39,
    "start_time": "2024-02-15T19:03:14.964Z"
   },
   {
    "duration": 53,
    "start_time": "2024-02-15T19:03:15.006Z"
   },
   {
    "duration": 34,
    "start_time": "2024-02-15T19:03:15.060Z"
   },
   {
    "duration": 23,
    "start_time": "2024-02-15T19:03:15.096Z"
   },
   {
    "duration": 33,
    "start_time": "2024-02-15T19:03:15.121Z"
   },
   {
    "duration": 56,
    "start_time": "2024-02-15T19:03:15.156Z"
   },
   {
    "duration": 19,
    "start_time": "2024-02-15T19:03:15.214Z"
   },
   {
    "duration": 53,
    "start_time": "2024-02-15T19:03:15.235Z"
   },
   {
    "duration": 24,
    "start_time": "2024-02-15T19:03:15.290Z"
   },
   {
    "duration": 14,
    "start_time": "2024-02-15T19:03:15.316Z"
   },
   {
    "duration": 39,
    "start_time": "2024-02-15T19:03:15.332Z"
   },
   {
    "duration": 17,
    "start_time": "2024-02-15T19:08:23.856Z"
   },
   {
    "duration": 84,
    "start_time": "2024-02-15T19:09:45.752Z"
   },
   {
    "duration": 503,
    "start_time": "2024-02-15T19:13:38.052Z"
   },
   {
    "duration": 44,
    "start_time": "2024-02-15T19:13:38.557Z"
   },
   {
    "duration": 14,
    "start_time": "2024-02-15T19:13:38.603Z"
   },
   {
    "duration": 39,
    "start_time": "2024-02-15T19:13:38.619Z"
   },
   {
    "duration": 3,
    "start_time": "2024-02-15T19:13:38.660Z"
   },
   {
    "duration": 39,
    "start_time": "2024-02-15T19:13:38.664Z"
   },
   {
    "duration": 17,
    "start_time": "2024-02-15T19:13:38.705Z"
   },
   {
    "duration": 21,
    "start_time": "2024-02-15T19:13:38.723Z"
   },
   {
    "duration": 22,
    "start_time": "2024-02-15T19:13:38.745Z"
   },
   {
    "duration": 9,
    "start_time": "2024-02-15T19:13:38.793Z"
   },
   {
    "duration": 14,
    "start_time": "2024-02-15T19:13:38.804Z"
   },
   {
    "duration": 16,
    "start_time": "2024-02-15T19:13:38.819Z"
   },
   {
    "duration": 11,
    "start_time": "2024-02-15T19:13:38.836Z"
   },
   {
    "duration": 44,
    "start_time": "2024-02-15T19:13:38.848Z"
   },
   {
    "duration": 9,
    "start_time": "2024-02-15T19:13:38.894Z"
   },
   {
    "duration": 23,
    "start_time": "2024-02-15T19:13:38.905Z"
   },
   {
    "duration": 12,
    "start_time": "2024-02-15T19:13:38.929Z"
   },
   {
    "duration": 30,
    "start_time": "2024-02-15T19:13:38.942Z"
   },
   {
    "duration": 25,
    "start_time": "2024-02-15T19:13:38.991Z"
   },
   {
    "duration": 16,
    "start_time": "2024-02-15T19:13:39.018Z"
   },
   {
    "duration": 18,
    "start_time": "2024-02-15T19:13:39.036Z"
   },
   {
    "duration": 6,
    "start_time": "2024-02-15T19:13:39.056Z"
   },
   {
    "duration": 31,
    "start_time": "2024-02-15T19:13:39.063Z"
   },
   {
    "duration": 39,
    "start_time": "2024-02-15T19:13:39.096Z"
   },
   {
    "duration": 23,
    "start_time": "2024-02-15T19:13:39.137Z"
   },
   {
    "duration": 13,
    "start_time": "2024-02-15T19:28:44.807Z"
   },
   {
    "duration": 14,
    "start_time": "2024-02-15T19:29:03.486Z"
   },
   {
    "duration": 575,
    "start_time": "2024-02-16T12:57:19.793Z"
   },
   {
    "duration": 84,
    "start_time": "2024-02-16T12:57:20.370Z"
   },
   {
    "duration": 12,
    "start_time": "2024-02-16T12:57:20.455Z"
   },
   {
    "duration": 47,
    "start_time": "2024-02-16T12:57:20.469Z"
   },
   {
    "duration": 3,
    "start_time": "2024-02-16T12:57:20.517Z"
   },
   {
    "duration": 23,
    "start_time": "2024-02-16T12:57:20.521Z"
   },
   {
    "duration": 19,
    "start_time": "2024-02-16T12:57:20.545Z"
   },
   {
    "duration": 24,
    "start_time": "2024-02-16T12:57:20.565Z"
   },
   {
    "duration": 17,
    "start_time": "2024-02-16T12:57:20.590Z"
   },
   {
    "duration": 8,
    "start_time": "2024-02-16T12:57:20.610Z"
   },
   {
    "duration": 10,
    "start_time": "2024-02-16T12:57:20.619Z"
   },
   {
    "duration": 35,
    "start_time": "2024-02-16T12:57:20.630Z"
   },
   {
    "duration": 9,
    "start_time": "2024-02-16T12:57:20.667Z"
   },
   {
    "duration": 19,
    "start_time": "2024-02-16T12:57:20.677Z"
   },
   {
    "duration": 19,
    "start_time": "2024-02-16T12:57:20.697Z"
   },
   {
    "duration": 18,
    "start_time": "2024-02-16T12:57:20.718Z"
   },
   {
    "duration": 18,
    "start_time": "2024-02-16T12:57:20.738Z"
   },
   {
    "duration": 37,
    "start_time": "2024-02-16T12:57:20.758Z"
   },
   {
    "duration": 23,
    "start_time": "2024-02-16T12:57:20.797Z"
   },
   {
    "duration": 14,
    "start_time": "2024-02-16T12:57:20.821Z"
   },
   {
    "duration": 16,
    "start_time": "2024-02-16T12:57:20.836Z"
   },
   {
    "duration": 29,
    "start_time": "2024-02-16T12:57:20.853Z"
   },
   {
    "duration": 15,
    "start_time": "2024-02-16T12:57:20.884Z"
   },
   {
    "duration": 28,
    "start_time": "2024-02-16T12:57:20.901Z"
   },
   {
    "duration": 3,
    "start_time": "2024-02-16T12:57:20.930Z"
   },
   {
    "duration": 77,
    "start_time": "2024-02-16T12:57:20.934Z"
   },
   {
    "duration": 28,
    "start_time": "2024-02-16T12:57:47.496Z"
   },
   {
    "duration": 573,
    "start_time": "2024-02-16T12:58:08.751Z"
   },
   {
    "duration": 42,
    "start_time": "2024-02-16T12:58:09.326Z"
   },
   {
    "duration": 12,
    "start_time": "2024-02-16T12:58:09.370Z"
   },
   {
    "duration": 37,
    "start_time": "2024-02-16T12:58:09.384Z"
   },
   {
    "duration": 2,
    "start_time": "2024-02-16T12:58:09.423Z"
   },
   {
    "duration": 18,
    "start_time": "2024-02-16T12:58:09.427Z"
   },
   {
    "duration": 31,
    "start_time": "2024-02-16T12:58:09.447Z"
   },
   {
    "duration": 31,
    "start_time": "2024-02-16T12:58:09.479Z"
   },
   {
    "duration": 18,
    "start_time": "2024-02-16T12:58:09.512Z"
   },
   {
    "duration": 8,
    "start_time": "2024-02-16T12:58:09.533Z"
   },
   {
    "duration": 30,
    "start_time": "2024-02-16T12:58:09.542Z"
   },
   {
    "duration": 13,
    "start_time": "2024-02-16T12:58:09.573Z"
   },
   {
    "duration": 8,
    "start_time": "2024-02-16T12:58:09.588Z"
   },
   {
    "duration": 23,
    "start_time": "2024-02-16T12:58:09.597Z"
   },
   {
    "duration": 23,
    "start_time": "2024-02-16T12:58:09.621Z"
   },
   {
    "duration": 21,
    "start_time": "2024-02-16T12:58:09.645Z"
   },
   {
    "duration": 9,
    "start_time": "2024-02-16T12:58:09.667Z"
   },
   {
    "duration": 26,
    "start_time": "2024-02-16T12:58:09.677Z"
   },
   {
    "duration": 24,
    "start_time": "2024-02-16T12:58:09.704Z"
   },
   {
    "duration": 47,
    "start_time": "2024-02-16T12:58:09.730Z"
   },
   {
    "duration": 2,
    "start_time": "2024-02-16T12:58:09.779Z"
   },
   {
    "duration": 7,
    "start_time": "2024-02-16T12:58:09.783Z"
   },
   {
    "duration": 7,
    "start_time": "2024-02-16T12:58:09.792Z"
   },
   {
    "duration": 25,
    "start_time": "2024-02-16T12:58:09.801Z"
   },
   {
    "duration": 2,
    "start_time": "2024-02-16T12:58:09.827Z"
   },
   {
    "duration": 32,
    "start_time": "2024-02-16T13:13:20.064Z"
   },
   {
    "duration": 26,
    "start_time": "2024-02-16T13:14:59.265Z"
   },
   {
    "duration": 11,
    "start_time": "2024-02-16T13:15:29.258Z"
   },
   {
    "duration": 28,
    "start_time": "2024-02-16T13:15:33.257Z"
   },
   {
    "duration": 4,
    "start_time": "2024-02-16T13:16:24.089Z"
   },
   {
    "duration": 526,
    "start_time": "2024-02-16T13:16:58.343Z"
   },
   {
    "duration": 47,
    "start_time": "2024-02-16T13:16:58.871Z"
   },
   {
    "duration": 17,
    "start_time": "2024-02-16T13:16:58.920Z"
   },
   {
    "duration": 38,
    "start_time": "2024-02-16T13:16:58.939Z"
   },
   {
    "duration": 2,
    "start_time": "2024-02-16T13:16:58.979Z"
   },
   {
    "duration": 20,
    "start_time": "2024-02-16T13:16:58.983Z"
   },
   {
    "duration": 13,
    "start_time": "2024-02-16T13:16:59.005Z"
   },
   {
    "duration": 20,
    "start_time": "2024-02-16T13:16:59.020Z"
   },
   {
    "duration": 40,
    "start_time": "2024-02-16T13:16:59.042Z"
   },
   {
    "duration": 7,
    "start_time": "2024-02-16T13:16:59.085Z"
   },
   {
    "duration": 9,
    "start_time": "2024-02-16T13:16:59.094Z"
   },
   {
    "duration": 14,
    "start_time": "2024-02-16T13:16:59.105Z"
   },
   {
    "duration": 9,
    "start_time": "2024-02-16T13:16:59.120Z"
   },
   {
    "duration": 47,
    "start_time": "2024-02-16T13:16:59.130Z"
   },
   {
    "duration": 8,
    "start_time": "2024-02-16T13:16:59.179Z"
   },
   {
    "duration": 19,
    "start_time": "2024-02-16T13:16:59.189Z"
   },
   {
    "duration": 8,
    "start_time": "2024-02-16T13:16:59.209Z"
   },
   {
    "duration": 28,
    "start_time": "2024-02-16T13:16:59.218Z"
   },
   {
    "duration": 23,
    "start_time": "2024-02-16T13:16:59.265Z"
   },
   {
    "duration": 2,
    "start_time": "2024-02-16T13:16:59.290Z"
   },
   {
    "duration": 11,
    "start_time": "2024-02-16T13:16:59.293Z"
   },
   {
    "duration": 7,
    "start_time": "2024-02-16T13:16:59.305Z"
   },
   {
    "duration": 11,
    "start_time": "2024-02-16T13:16:59.313Z"
   },
   {
    "duration": 6,
    "start_time": "2024-02-16T13:16:59.325Z"
   },
   {
    "duration": 4,
    "start_time": "2024-02-16T13:16:59.332Z"
   },
   {
    "duration": 14,
    "start_time": "2024-02-16T13:16:59.338Z"
   },
   {
    "duration": 35,
    "start_time": "2024-02-16T13:16:59.353Z"
   },
   {
    "duration": 3,
    "start_time": "2024-02-16T13:16:59.391Z"
   },
   {
    "duration": 4,
    "start_time": "2024-02-16T13:18:54.761Z"
   },
   {
    "duration": 10,
    "start_time": "2024-02-16T13:19:57.529Z"
   },
   {
    "duration": 25,
    "start_time": "2024-02-16T13:20:07.554Z"
   },
   {
    "duration": 23,
    "start_time": "2024-02-16T13:20:30.229Z"
   },
   {
    "duration": 12,
    "start_time": "2024-02-16T13:23:15.317Z"
   },
   {
    "duration": 12,
    "start_time": "2024-02-16T13:23:22.371Z"
   },
   {
    "duration": 450,
    "start_time": "2024-02-16T13:24:45.212Z"
   },
   {
    "duration": 42,
    "start_time": "2024-02-16T13:24:45.664Z"
   },
   {
    "duration": 13,
    "start_time": "2024-02-16T13:24:45.707Z"
   },
   {
    "duration": 48,
    "start_time": "2024-02-16T13:24:45.723Z"
   },
   {
    "duration": 3,
    "start_time": "2024-02-16T13:24:45.773Z"
   },
   {
    "duration": 34,
    "start_time": "2024-02-16T13:24:45.778Z"
   },
   {
    "duration": 24,
    "start_time": "2024-02-16T13:24:45.814Z"
   },
   {
    "duration": 20,
    "start_time": "2024-02-16T13:24:45.839Z"
   },
   {
    "duration": 20,
    "start_time": "2024-02-16T13:24:45.860Z"
   },
   {
    "duration": 9,
    "start_time": "2024-02-16T13:24:45.883Z"
   },
   {
    "duration": 14,
    "start_time": "2024-02-16T13:24:45.894Z"
   },
   {
    "duration": 15,
    "start_time": "2024-02-16T13:24:45.910Z"
   },
   {
    "duration": 42,
    "start_time": "2024-02-16T13:24:45.927Z"
   },
   {
    "duration": 20,
    "start_time": "2024-02-16T13:24:45.971Z"
   },
   {
    "duration": 7,
    "start_time": "2024-02-16T13:24:45.993Z"
   },
   {
    "duration": 18,
    "start_time": "2024-02-16T13:24:46.001Z"
   },
   {
    "duration": 9,
    "start_time": "2024-02-16T13:24:46.020Z"
   },
   {
    "duration": 48,
    "start_time": "2024-02-16T13:24:46.030Z"
   },
   {
    "duration": 23,
    "start_time": "2024-02-16T13:24:46.080Z"
   },
   {
    "duration": 2,
    "start_time": "2024-02-16T13:24:46.104Z"
   },
   {
    "duration": 7,
    "start_time": "2024-02-16T13:24:46.108Z"
   },
   {
    "duration": 10,
    "start_time": "2024-02-16T13:24:46.116Z"
   },
   {
    "duration": 11,
    "start_time": "2024-02-16T13:24:46.127Z"
   },
   {
    "duration": 6,
    "start_time": "2024-02-16T13:24:46.139Z"
   },
   {
    "duration": 5,
    "start_time": "2024-02-16T13:24:46.147Z"
   },
   {
    "duration": 18,
    "start_time": "2024-02-16T13:24:46.153Z"
   },
   {
    "duration": 9,
    "start_time": "2024-02-16T13:24:46.173Z"
   },
   {
    "duration": 9,
    "start_time": "2024-02-16T13:24:46.185Z"
   },
   {
    "duration": 3,
    "start_time": "2024-02-16T13:24:46.196Z"
   },
   {
    "duration": 617,
    "start_time": "2024-02-17T07:29:24.887Z"
   },
   {
    "duration": 73,
    "start_time": "2024-02-17T07:29:25.506Z"
   },
   {
    "duration": 11,
    "start_time": "2024-02-17T07:29:25.580Z"
   },
   {
    "duration": 32,
    "start_time": "2024-02-17T07:29:25.593Z"
   },
   {
    "duration": 2,
    "start_time": "2024-02-17T07:29:25.627Z"
   },
   {
    "duration": 17,
    "start_time": "2024-02-17T07:29:25.630Z"
   },
   {
    "duration": 14,
    "start_time": "2024-02-17T07:29:25.649Z"
   },
   {
    "duration": 17,
    "start_time": "2024-02-17T07:29:25.665Z"
   },
   {
    "duration": 47,
    "start_time": "2024-02-17T07:29:25.684Z"
   },
   {
    "duration": 9,
    "start_time": "2024-02-17T07:29:25.734Z"
   },
   {
    "duration": 11,
    "start_time": "2024-02-17T07:29:25.745Z"
   },
   {
    "duration": 13,
    "start_time": "2024-02-17T07:29:25.757Z"
   },
   {
    "duration": 9,
    "start_time": "2024-02-17T07:29:25.771Z"
   },
   {
    "duration": 43,
    "start_time": "2024-02-17T07:29:25.781Z"
   },
   {
    "duration": 6,
    "start_time": "2024-02-17T07:29:25.826Z"
   },
   {
    "duration": 16,
    "start_time": "2024-02-17T07:29:25.833Z"
   },
   {
    "duration": 5,
    "start_time": "2024-02-17T07:29:25.850Z"
   },
   {
    "duration": 23,
    "start_time": "2024-02-17T07:29:25.856Z"
   },
   {
    "duration": 52,
    "start_time": "2024-02-17T07:29:25.880Z"
   },
   {
    "duration": 11,
    "start_time": "2024-02-17T07:29:25.933Z"
   },
   {
    "duration": 10,
    "start_time": "2024-02-17T07:29:25.945Z"
   },
   {
    "duration": 9,
    "start_time": "2024-02-17T07:29:25.956Z"
   },
   {
    "duration": 3,
    "start_time": "2024-02-17T07:29:25.967Z"
   },
   {
    "duration": 47,
    "start_time": "2024-02-17T07:29:25.972Z"
   },
   {
    "duration": 16,
    "start_time": "2024-02-17T07:30:48.361Z"
   },
   {
    "duration": 64,
    "start_time": "2024-02-17T07:50:18.743Z"
   },
   {
    "duration": 17,
    "start_time": "2024-02-17T07:50:24.413Z"
   },
   {
    "duration": 12,
    "start_time": "2024-02-17T07:57:07.862Z"
   },
   {
    "duration": 12,
    "start_time": "2024-02-17T07:58:08.935Z"
   },
   {
    "duration": 5,
    "start_time": "2024-02-17T07:59:52.213Z"
   },
   {
    "duration": 8,
    "start_time": "2024-02-17T08:00:06.215Z"
   },
   {
    "duration": 11,
    "start_time": "2024-02-17T08:00:52.118Z"
   },
   {
    "duration": 7,
    "start_time": "2024-02-17T08:01:26.256Z"
   },
   {
    "duration": 9,
    "start_time": "2024-02-17T08:02:58.367Z"
   },
   {
    "duration": 47,
    "start_time": "2024-02-17T08:04:29.599Z"
   },
   {
    "duration": 1108,
    "start_time": "2024-02-17T08:53:03.455Z"
   },
   {
    "duration": 593,
    "start_time": "2024-02-17T08:53:12.519Z"
   },
   {
    "duration": 767,
    "start_time": "2024-02-17T08:53:33.608Z"
   },
   {
    "duration": 867,
    "start_time": "2024-02-17T08:53:39.360Z"
   },
   {
    "duration": 10,
    "start_time": "2024-02-17T08:55:57.824Z"
   },
   {
    "duration": 252,
    "start_time": "2024-02-17T08:56:18.944Z"
   },
   {
    "duration": 269,
    "start_time": "2024-02-17T08:57:08.344Z"
   },
   {
    "duration": 320,
    "start_time": "2024-02-17T08:57:54.727Z"
   },
   {
    "duration": 244,
    "start_time": "2024-02-17T08:58:05.015Z"
   },
   {
    "duration": 352,
    "start_time": "2024-02-17T08:58:08.519Z"
   },
   {
    "duration": 311,
    "start_time": "2024-02-17T08:58:14.551Z"
   },
   {
    "duration": 239,
    "start_time": "2024-02-17T08:58:26.639Z"
   },
   {
    "duration": 296,
    "start_time": "2024-02-17T08:58:45.527Z"
   },
   {
    "duration": 5,
    "start_time": "2024-02-17T09:06:32.471Z"
   },
   {
    "duration": 19,
    "start_time": "2024-02-17T10:40:26.819Z"
   },
   {
    "duration": 37,
    "start_time": "2024-02-17T10:40:58.830Z"
   },
   {
    "duration": 16,
    "start_time": "2024-02-17T11:26:35.732Z"
   },
   {
    "duration": 29,
    "start_time": "2024-02-17T11:26:51.877Z"
   },
   {
    "duration": 374,
    "start_time": "2024-02-17T11:32:13.903Z"
   },
   {
    "duration": 382,
    "start_time": "2024-02-17T11:32:41.446Z"
   },
   {
    "duration": 497,
    "start_time": "2024-02-17T11:37:37.150Z"
   },
   {
    "duration": 387,
    "start_time": "2024-02-17T11:37:42.614Z"
   },
   {
    "duration": 396,
    "start_time": "2024-02-17T11:37:48.365Z"
   },
   {
    "duration": 484,
    "start_time": "2024-02-17T11:39:17.614Z"
   },
   {
    "duration": 41,
    "start_time": "2024-02-17T11:39:18.100Z"
   },
   {
    "duration": 11,
    "start_time": "2024-02-17T11:39:18.142Z"
   },
   {
    "duration": 31,
    "start_time": "2024-02-17T11:39:18.155Z"
   },
   {
    "duration": 3,
    "start_time": "2024-02-17T11:39:18.187Z"
   },
   {
    "duration": 15,
    "start_time": "2024-02-17T11:39:18.191Z"
   },
   {
    "duration": 20,
    "start_time": "2024-02-17T11:39:18.207Z"
   },
   {
    "duration": 17,
    "start_time": "2024-02-17T11:39:18.228Z"
   },
   {
    "duration": 17,
    "start_time": "2024-02-17T11:39:18.246Z"
   },
   {
    "duration": 8,
    "start_time": "2024-02-17T11:39:18.265Z"
   },
   {
    "duration": 10,
    "start_time": "2024-02-17T11:39:18.274Z"
   },
   {
    "duration": 45,
    "start_time": "2024-02-17T11:39:18.285Z"
   },
   {
    "duration": 8,
    "start_time": "2024-02-17T11:39:18.331Z"
   },
   {
    "duration": 14,
    "start_time": "2024-02-17T11:39:18.341Z"
   },
   {
    "duration": 6,
    "start_time": "2024-02-17T11:39:18.357Z"
   },
   {
    "duration": 21,
    "start_time": "2024-02-17T11:39:18.364Z"
   },
   {
    "duration": 35,
    "start_time": "2024-02-17T11:39:18.386Z"
   },
   {
    "duration": 26,
    "start_time": "2024-02-17T11:39:18.423Z"
   },
   {
    "duration": 24,
    "start_time": "2024-02-17T11:39:18.450Z"
   },
   {
    "duration": 12,
    "start_time": "2024-02-17T11:39:18.476Z"
   },
   {
    "duration": 37,
    "start_time": "2024-02-17T11:39:18.490Z"
   },
   {
    "duration": 11,
    "start_time": "2024-02-17T11:39:18.529Z"
   },
   {
    "duration": 6,
    "start_time": "2024-02-17T11:39:18.541Z"
   },
   {
    "duration": 14,
    "start_time": "2024-02-17T11:39:18.550Z"
   },
   {
    "duration": 66,
    "start_time": "2024-02-17T11:39:18.566Z"
   },
   {
    "duration": 679,
    "start_time": "2024-02-17T11:39:18.633Z"
   },
   {
    "duration": 372,
    "start_time": "2024-02-17T11:42:55.469Z"
   },
   {
    "duration": 323,
    "start_time": "2024-02-17T11:43:13.166Z"
   },
   {
    "duration": 407,
    "start_time": "2024-02-17T11:43:35.327Z"
   },
   {
    "duration": 548,
    "start_time": "2024-02-17T11:43:47.654Z"
   },
   {
    "duration": 648,
    "start_time": "2024-02-17T11:43:53.390Z"
   },
   {
    "duration": 774,
    "start_time": "2024-02-17T11:44:01.214Z"
   },
   {
    "duration": 640,
    "start_time": "2024-02-17T11:44:12.821Z"
   },
   {
    "duration": 711,
    "start_time": "2024-02-17T11:44:18.454Z"
   },
   {
    "duration": 773,
    "start_time": "2024-02-17T11:44:25.798Z"
   },
   {
    "duration": 686,
    "start_time": "2024-02-17T11:44:35.237Z"
   },
   {
    "duration": 740,
    "start_time": "2024-02-17T11:44:47.094Z"
   },
   {
    "duration": 630,
    "start_time": "2024-02-17T11:44:54.334Z"
   },
   {
    "duration": 402,
    "start_time": "2024-02-17T11:45:00.341Z"
   },
   {
    "duration": 352,
    "start_time": "2024-02-17T11:45:03.871Z"
   },
   {
    "duration": 631,
    "start_time": "2024-02-17T11:45:10.606Z"
   },
   {
    "duration": 679,
    "start_time": "2024-02-17T11:45:14.518Z"
   },
   {
    "duration": 770,
    "start_time": "2024-02-17T11:45:28.007Z"
   },
   {
    "duration": 667,
    "start_time": "2024-02-17T11:45:35.206Z"
   },
   {
    "duration": 681,
    "start_time": "2024-02-17T11:45:39.198Z"
   },
   {
    "duration": 662,
    "start_time": "2024-02-17T11:45:51.022Z"
   },
   {
    "duration": 804,
    "start_time": "2024-02-17T11:45:56.718Z"
   },
   {
    "duration": 421,
    "start_time": "2024-02-17T11:46:42.118Z"
   },
   {
    "duration": 356,
    "start_time": "2024-02-17T11:47:21.782Z"
   },
   {
    "duration": 456,
    "start_time": "2024-02-17T11:47:29.927Z"
   },
   {
    "duration": 412,
    "start_time": "2024-02-17T11:47:49.486Z"
   },
   {
    "duration": 462,
    "start_time": "2024-02-17T11:48:25.230Z"
   },
   {
    "duration": 261,
    "start_time": "2024-02-17T11:49:37.647Z"
   },
   {
    "duration": 262,
    "start_time": "2024-02-17T11:51:58.103Z"
   },
   {
    "duration": 388,
    "start_time": "2024-02-17T13:17:09.784Z"
   },
   {
    "duration": 283,
    "start_time": "2024-02-17T13:17:11.726Z"
   },
   {
    "duration": 476,
    "start_time": "2024-02-17T13:18:13.351Z"
   },
   {
    "duration": 255,
    "start_time": "2024-02-17T13:18:16.382Z"
   },
   {
    "duration": 254,
    "start_time": "2024-02-17T17:41:07.400Z"
   },
   {
    "duration": 22,
    "start_time": "2024-02-17T17:48:16.176Z"
   },
   {
    "duration": 10,
    "start_time": "2024-02-17T18:30:13.852Z"
   },
   {
    "duration": 6,
    "start_time": "2024-02-17T18:32:49.607Z"
   },
   {
    "duration": 6,
    "start_time": "2024-02-17T18:33:05.763Z"
   },
   {
    "duration": 18,
    "start_time": "2024-02-17T18:55:51.238Z"
   },
   {
    "duration": 34,
    "start_time": "2024-02-17T19:05:59.135Z"
   },
   {
    "duration": 7,
    "start_time": "2024-02-17T19:18:21.320Z"
   },
   {
    "duration": 5,
    "start_time": "2024-02-17T19:18:26.952Z"
   },
   {
    "duration": 9,
    "start_time": "2024-02-17T19:31:41.794Z"
   },
   {
    "duration": 20,
    "start_time": "2024-02-17T19:32:04.481Z"
   },
   {
    "duration": 8,
    "start_time": "2024-02-17T19:33:00.849Z"
   },
   {
    "duration": 5,
    "start_time": "2024-02-17T19:37:00.313Z"
   },
   {
    "duration": 4,
    "start_time": "2024-02-17T19:37:21.355Z"
   },
   {
    "duration": 21,
    "start_time": "2024-02-17T19:37:56.658Z"
   },
   {
    "duration": 4,
    "start_time": "2024-02-17T19:38:38.939Z"
   },
   {
    "duration": 4,
    "start_time": "2024-02-17T19:42:56.370Z"
   },
   {
    "duration": 5,
    "start_time": "2024-02-17T19:43:49.562Z"
   },
   {
    "duration": 6,
    "start_time": "2024-02-17T19:44:16.306Z"
   },
   {
    "duration": 4,
    "start_time": "2024-02-17T19:44:22.386Z"
   },
   {
    "duration": 5,
    "start_time": "2024-02-17T19:45:48.146Z"
   },
   {
    "duration": 660,
    "start_time": "2024-02-18T14:38:57.685Z"
   },
   {
    "duration": 89,
    "start_time": "2024-02-18T14:38:58.347Z"
   },
   {
    "duration": 12,
    "start_time": "2024-02-18T14:38:58.438Z"
   },
   {
    "duration": 34,
    "start_time": "2024-02-18T14:38:58.451Z"
   },
   {
    "duration": 3,
    "start_time": "2024-02-18T14:38:58.487Z"
   },
   {
    "duration": 18,
    "start_time": "2024-02-18T14:38:58.491Z"
   },
   {
    "duration": 19,
    "start_time": "2024-02-18T14:38:58.510Z"
   },
   {
    "duration": 18,
    "start_time": "2024-02-18T14:38:58.531Z"
   },
   {
    "duration": 20,
    "start_time": "2024-02-18T14:38:58.573Z"
   },
   {
    "duration": 8,
    "start_time": "2024-02-18T14:38:58.595Z"
   },
   {
    "duration": 24,
    "start_time": "2024-02-18T14:38:58.604Z"
   },
   {
    "duration": 14,
    "start_time": "2024-02-18T14:38:58.629Z"
   },
   {
    "duration": 13,
    "start_time": "2024-02-18T14:38:58.645Z"
   },
   {
    "duration": 16,
    "start_time": "2024-02-18T14:38:58.674Z"
   },
   {
    "duration": 8,
    "start_time": "2024-02-18T14:38:58.692Z"
   },
   {
    "duration": 18,
    "start_time": "2024-02-18T14:38:58.701Z"
   },
   {
    "duration": 7,
    "start_time": "2024-02-18T14:38:58.720Z"
   },
   {
    "duration": 48,
    "start_time": "2024-02-18T14:38:58.728Z"
   },
   {
    "duration": 25,
    "start_time": "2024-02-18T14:38:58.777Z"
   },
   {
    "duration": 11,
    "start_time": "2024-02-18T14:38:58.803Z"
   },
   {
    "duration": 16,
    "start_time": "2024-02-18T14:38:58.816Z"
   },
   {
    "duration": 16,
    "start_time": "2024-02-18T14:38:58.833Z"
   },
   {
    "duration": 22,
    "start_time": "2024-02-18T14:38:58.851Z"
   },
   {
    "duration": 18,
    "start_time": "2024-02-18T14:38:58.875Z"
   },
   {
    "duration": 39,
    "start_time": "2024-02-18T14:38:58.895Z"
   },
   {
    "duration": 1024,
    "start_time": "2024-02-18T14:38:58.936Z"
   },
   {
    "duration": 322,
    "start_time": "2024-02-18T14:38:59.962Z"
   },
   {
    "duration": 24,
    "start_time": "2024-02-18T14:39:00.287Z"
   },
   {
    "duration": 19,
    "start_time": "2024-02-18T14:39:00.313Z"
   },
   {
    "duration": 111,
    "start_time": "2024-02-18T14:39:00.333Z"
   },
   {
    "duration": 64,
    "start_time": "2024-02-18T14:39:00.445Z"
   },
   {
    "duration": 31,
    "start_time": "2024-02-18T14:39:00.511Z"
   },
   {
    "duration": 75,
    "start_time": "2024-02-18T14:39:00.544Z"
   },
   {
    "duration": 35,
    "start_time": "2024-02-18T14:39:00.621Z"
   },
   {
    "duration": 21251,
    "start_time": "2024-02-18T14:39:00.657Z"
   },
   {
    "duration": 44182,
    "start_time": "2024-02-18T14:41:34.479Z"
   },
   {
    "duration": 4,
    "start_time": "2024-02-18T14:43:19.488Z"
   },
   {
    "duration": 4,
    "start_time": "2024-02-18T14:43:30.881Z"
   },
   {
    "duration": 4,
    "start_time": "2024-02-18T14:43:42.713Z"
   },
   {
    "duration": 13,
    "start_time": "2024-02-18T14:43:55.530Z"
   },
   {
    "duration": 9,
    "start_time": "2024-02-18T14:44:35.793Z"
   },
   {
    "duration": 10,
    "start_time": "2024-02-18T14:44:46.419Z"
   },
   {
    "duration": 5,
    "start_time": "2024-02-18T14:45:34.226Z"
   },
   {
    "duration": 518,
    "start_time": "2024-02-18T14:45:44.266Z"
   },
   {
    "duration": 45,
    "start_time": "2024-02-18T14:45:44.786Z"
   },
   {
    "duration": 13,
    "start_time": "2024-02-18T14:45:44.832Z"
   },
   {
    "duration": 63,
    "start_time": "2024-02-18T14:45:44.846Z"
   },
   {
    "duration": 3,
    "start_time": "2024-02-18T14:45:44.910Z"
   },
   {
    "duration": 43,
    "start_time": "2024-02-18T14:45:44.915Z"
   },
   {
    "duration": 36,
    "start_time": "2024-02-18T14:45:44.960Z"
   },
   {
    "duration": 73,
    "start_time": "2024-02-18T14:45:44.997Z"
   },
   {
    "duration": 48,
    "start_time": "2024-02-18T14:45:45.072Z"
   },
   {
    "duration": 52,
    "start_time": "2024-02-18T14:45:45.123Z"
   },
   {
    "duration": 39,
    "start_time": "2024-02-18T14:45:45.176Z"
   },
   {
    "duration": 48,
    "start_time": "2024-02-18T14:45:45.216Z"
   },
   {
    "duration": 33,
    "start_time": "2024-02-18T14:45:45.266Z"
   },
   {
    "duration": 33,
    "start_time": "2024-02-18T14:45:45.301Z"
   },
   {
    "duration": 29,
    "start_time": "2024-02-18T14:45:45.336Z"
   },
   {
    "duration": 38,
    "start_time": "2024-02-18T14:45:45.366Z"
   },
   {
    "duration": 29,
    "start_time": "2024-02-18T14:45:45.406Z"
   },
   {
    "duration": 61,
    "start_time": "2024-02-18T14:45:45.436Z"
   },
   {
    "duration": 35,
    "start_time": "2024-02-18T14:45:45.498Z"
   },
   {
    "duration": 12,
    "start_time": "2024-02-18T14:45:45.534Z"
   },
   {
    "duration": 35,
    "start_time": "2024-02-18T14:45:45.547Z"
   },
   {
    "duration": 25,
    "start_time": "2024-02-18T14:45:45.584Z"
   },
   {
    "duration": 49,
    "start_time": "2024-02-18T14:45:45.610Z"
   },
   {
    "duration": 28,
    "start_time": "2024-02-18T14:45:45.661Z"
   },
   {
    "duration": 63,
    "start_time": "2024-02-18T14:45:45.691Z"
   },
   {
    "duration": 797,
    "start_time": "2024-02-18T14:45:45.755Z"
   },
   {
    "duration": 286,
    "start_time": "2024-02-18T14:45:46.554Z"
   },
   {
    "duration": 32,
    "start_time": "2024-02-18T14:45:46.842Z"
   },
   {
    "duration": 9,
    "start_time": "2024-02-18T14:45:46.876Z"
   },
   {
    "duration": 81,
    "start_time": "2024-02-18T14:45:46.886Z"
   },
   {
    "duration": 40,
    "start_time": "2024-02-18T14:45:46.969Z"
   },
   {
    "duration": 24,
    "start_time": "2024-02-18T14:45:47.010Z"
   },
   {
    "duration": 6,
    "start_time": "2024-02-18T14:45:47.035Z"
   },
   {
    "duration": 33,
    "start_time": "2024-02-18T14:45:47.043Z"
   },
   {
    "duration": 22,
    "start_time": "2024-02-18T14:45:47.078Z"
   },
   {
    "duration": 4007,
    "start_time": "2024-02-18T14:46:00.241Z"
   },
   {
    "duration": 257,
    "start_time": "2024-02-18T14:46:22.858Z"
   },
   {
    "duration": 283,
    "start_time": "2024-02-18T14:46:49.673Z"
   },
   {
    "duration": 36877,
    "start_time": "2024-02-18T14:47:06.289Z"
   },
   {
    "duration": 98,
    "start_time": "2024-02-18T14:48:26.297Z"
   },
   {
    "duration": 4,
    "start_time": "2024-02-18T14:48:32.866Z"
   },
   {
    "duration": 50,
    "start_time": "2024-02-18T14:56:47.371Z"
   },
   {
    "duration": 648,
    "start_time": "2024-02-18T14:56:53.325Z"
   },
   {
    "duration": 90,
    "start_time": "2024-02-18T14:56:53.975Z"
   },
   {
    "duration": 12,
    "start_time": "2024-02-18T14:56:54.067Z"
   },
   {
    "duration": 39,
    "start_time": "2024-02-18T14:56:54.081Z"
   },
   {
    "duration": 2,
    "start_time": "2024-02-18T14:56:54.122Z"
   },
   {
    "duration": 17,
    "start_time": "2024-02-18T14:56:54.126Z"
   },
   {
    "duration": 40,
    "start_time": "2024-02-18T14:56:54.145Z"
   },
   {
    "duration": 20,
    "start_time": "2024-02-18T14:56:54.187Z"
   },
   {
    "duration": 18,
    "start_time": "2024-02-18T14:56:54.209Z"
   },
   {
    "duration": 9,
    "start_time": "2024-02-18T14:56:54.229Z"
   },
   {
    "duration": 35,
    "start_time": "2024-02-18T14:56:54.239Z"
   },
   {
    "duration": 15,
    "start_time": "2024-02-18T14:56:54.275Z"
   },
   {
    "duration": 9,
    "start_time": "2024-02-18T14:56:54.291Z"
   },
   {
    "duration": 24,
    "start_time": "2024-02-18T14:56:54.303Z"
   },
   {
    "duration": 24,
    "start_time": "2024-02-18T14:56:54.328Z"
   },
   {
    "duration": 27,
    "start_time": "2024-02-18T14:56:54.353Z"
   },
   {
    "duration": 9,
    "start_time": "2024-02-18T14:56:54.382Z"
   },
   {
    "duration": 37,
    "start_time": "2024-02-18T14:56:54.393Z"
   },
   {
    "duration": 42,
    "start_time": "2024-02-18T14:56:54.432Z"
   },
   {
    "duration": 12,
    "start_time": "2024-02-18T14:56:54.476Z"
   },
   {
    "duration": 11,
    "start_time": "2024-02-18T14:56:54.489Z"
   },
   {
    "duration": 14,
    "start_time": "2024-02-18T14:56:54.501Z"
   },
   {
    "duration": 12,
    "start_time": "2024-02-18T14:56:54.516Z"
   },
   {
    "duration": 29,
    "start_time": "2024-02-18T14:56:54.529Z"
   },
   {
    "duration": 46,
    "start_time": "2024-02-18T14:56:54.572Z"
   },
   {
    "duration": 801,
    "start_time": "2024-02-18T14:56:54.619Z"
   },
   {
    "duration": 294,
    "start_time": "2024-02-18T14:56:55.422Z"
   },
   {
    "duration": 23,
    "start_time": "2024-02-18T14:56:55.718Z"
   },
   {
    "duration": 8,
    "start_time": "2024-02-18T14:56:55.743Z"
   },
   {
    "duration": 76,
    "start_time": "2024-02-18T14:56:55.774Z"
   },
   {
    "duration": 47,
    "start_time": "2024-02-18T14:56:55.851Z"
   },
   {
    "duration": 23,
    "start_time": "2024-02-18T14:56:55.900Z"
   },
   {
    "duration": 7,
    "start_time": "2024-02-18T14:56:55.925Z"
   },
   {
    "duration": 4,
    "start_time": "2024-02-18T14:56:55.934Z"
   },
   {
    "duration": 19,
    "start_time": "2024-02-18T14:56:55.940Z"
   },
   {
    "duration": 78,
    "start_time": "2024-02-18T14:57:13.480Z"
   },
   {
    "duration": 10,
    "start_time": "2024-02-18T14:57:32.385Z"
   },
   {
    "duration": 9,
    "start_time": "2024-02-18T14:57:49.633Z"
   },
   {
    "duration": 3,
    "start_time": "2024-02-18T14:58:04.041Z"
   },
   {
    "duration": 4,
    "start_time": "2024-02-18T14:58:09.177Z"
   },
   {
    "duration": 10,
    "start_time": "2024-02-18T14:59:33.098Z"
   },
   {
    "duration": 10,
    "start_time": "2024-02-18T14:59:46.089Z"
   },
   {
    "duration": 8,
    "start_time": "2024-02-18T15:00:00.985Z"
   },
   {
    "duration": 31,
    "start_time": "2024-02-18T15:00:05.313Z"
   },
   {
    "duration": 20,
    "start_time": "2024-02-18T15:00:22.570Z"
   },
   {
    "duration": 13,
    "start_time": "2024-02-18T15:00:40.257Z"
   },
   {
    "duration": 11,
    "start_time": "2024-02-18T15:00:53.322Z"
   },
   {
    "duration": 8,
    "start_time": "2024-02-18T15:00:59.865Z"
   },
   {
    "duration": 8,
    "start_time": "2024-02-18T15:01:08.498Z"
   },
   {
    "duration": 9,
    "start_time": "2024-02-18T15:01:18.217Z"
   },
   {
    "duration": 11,
    "start_time": "2024-02-18T15:01:23.489Z"
   },
   {
    "duration": 7,
    "start_time": "2024-02-18T15:01:34.017Z"
   },
   {
    "duration": 8,
    "start_time": "2024-02-18T15:02:04.625Z"
   },
   {
    "duration": 54,
    "start_time": "2024-02-18T15:02:10.441Z"
   },
   {
    "duration": 8,
    "start_time": "2024-02-18T15:02:37.506Z"
   },
   {
    "duration": 40,
    "start_time": "2024-02-18T15:02:46.130Z"
   },
   {
    "duration": 7,
    "start_time": "2024-02-18T15:07:02.092Z"
   },
   {
    "duration": 126,
    "start_time": "2024-02-18T15:08:23.793Z"
   },
   {
    "duration": 111,
    "start_time": "2024-02-18T15:08:49.626Z"
   },
   {
    "duration": 112,
    "start_time": "2024-02-18T15:09:01.459Z"
   },
   {
    "duration": 132,
    "start_time": "2024-02-18T15:10:16.002Z"
   },
   {
    "duration": 121,
    "start_time": "2024-02-18T15:10:39.370Z"
   },
   {
    "duration": 124,
    "start_time": "2024-02-18T15:11:12.106Z"
   },
   {
    "duration": 118,
    "start_time": "2024-02-18T15:11:37.538Z"
   },
   {
    "duration": 117,
    "start_time": "2024-02-18T15:11:43.593Z"
   },
   {
    "duration": 119,
    "start_time": "2024-02-18T15:11:47.354Z"
   },
   {
    "duration": 7,
    "start_time": "2024-02-18T15:12:54.562Z"
   },
   {
    "duration": 137,
    "start_time": "2024-02-18T15:13:46.393Z"
   },
   {
    "duration": 7,
    "start_time": "2024-02-18T15:16:31.170Z"
   },
   {
    "duration": 23,
    "start_time": "2024-02-18T15:26:01.329Z"
   },
   {
    "duration": 25,
    "start_time": "2024-02-18T15:26:13.504Z"
   },
   {
    "duration": 23,
    "start_time": "2024-02-18T15:51:00.585Z"
   },
   {
    "duration": 27,
    "start_time": "2024-02-18T15:52:56.988Z"
   },
   {
    "duration": 91,
    "start_time": "2024-02-18T15:53:12.133Z"
   },
   {
    "duration": 19,
    "start_time": "2024-02-18T15:53:27.445Z"
   },
   {
    "duration": 20,
    "start_time": "2024-02-18T15:53:38.461Z"
   },
   {
    "duration": 21,
    "start_time": "2024-02-18T15:53:50.805Z"
   },
   {
    "duration": 21,
    "start_time": "2024-02-18T15:53:53.907Z"
   },
   {
    "duration": 23,
    "start_time": "2024-02-18T15:54:03.044Z"
   },
   {
    "duration": 22,
    "start_time": "2024-02-18T15:54:10.653Z"
   },
   {
    "duration": 24,
    "start_time": "2024-02-18T15:54:20.892Z"
   },
   {
    "duration": 34,
    "start_time": "2024-02-18T15:54:26.981Z"
   },
   {
    "duration": 28,
    "start_time": "2024-02-18T15:54:30.821Z"
   },
   {
    "duration": 33,
    "start_time": "2024-02-18T15:54:36.967Z"
   },
   {
    "duration": 20,
    "start_time": "2024-02-18T15:54:53.172Z"
   },
   {
    "duration": 582,
    "start_time": "2024-02-18T15:57:01.143Z"
   },
   {
    "duration": 50,
    "start_time": "2024-02-18T15:57:01.727Z"
   },
   {
    "duration": 12,
    "start_time": "2024-02-18T15:57:01.779Z"
   },
   {
    "duration": 82,
    "start_time": "2024-02-18T15:57:01.793Z"
   },
   {
    "duration": 3,
    "start_time": "2024-02-18T15:57:01.877Z"
   },
   {
    "duration": 66,
    "start_time": "2024-02-18T15:57:01.881Z"
   },
   {
    "duration": 20,
    "start_time": "2024-02-18T15:57:01.949Z"
   },
   {
    "duration": 69,
    "start_time": "2024-02-18T15:57:01.971Z"
   },
   {
    "duration": 26,
    "start_time": "2024-02-18T15:57:02.041Z"
   },
   {
    "duration": 9,
    "start_time": "2024-02-18T15:57:02.069Z"
   },
   {
    "duration": 22,
    "start_time": "2024-02-18T15:57:02.079Z"
   },
   {
    "duration": 17,
    "start_time": "2024-02-18T15:57:02.103Z"
   },
   {
    "duration": 14,
    "start_time": "2024-02-18T15:57:02.121Z"
   },
   {
    "duration": 16,
    "start_time": "2024-02-18T15:57:02.138Z"
   },
   {
    "duration": 8,
    "start_time": "2024-02-18T15:57:02.173Z"
   },
   {
    "duration": 27,
    "start_time": "2024-02-18T15:57:02.182Z"
   },
   {
    "duration": 13,
    "start_time": "2024-02-18T15:57:02.210Z"
   },
   {
    "duration": 48,
    "start_time": "2024-02-18T15:57:02.225Z"
   },
   {
    "duration": 23,
    "start_time": "2024-02-18T15:57:02.275Z"
   },
   {
    "duration": 16,
    "start_time": "2024-02-18T15:57:02.299Z"
   },
   {
    "duration": 27,
    "start_time": "2024-02-18T15:57:02.317Z"
   },
   {
    "duration": 17,
    "start_time": "2024-02-18T15:57:02.346Z"
   },
   {
    "duration": 9,
    "start_time": "2024-02-18T15:57:02.365Z"
   },
   {
    "duration": 15,
    "start_time": "2024-02-18T15:57:02.375Z"
   },
   {
    "duration": 44,
    "start_time": "2024-02-18T15:57:02.392Z"
   },
   {
    "duration": 809,
    "start_time": "2024-02-18T15:57:02.438Z"
   },
   {
    "duration": 325,
    "start_time": "2024-02-18T15:57:03.248Z"
   },
   {
    "duration": 23,
    "start_time": "2024-02-18T15:57:03.575Z"
   },
   {
    "duration": 9,
    "start_time": "2024-02-18T15:57:03.599Z"
   },
   {
    "duration": 87,
    "start_time": "2024-02-18T15:57:03.609Z"
   },
   {
    "duration": 35,
    "start_time": "2024-02-18T15:57:03.698Z"
   },
   {
    "duration": 40,
    "start_time": "2024-02-18T15:57:03.734Z"
   },
   {
    "duration": 7,
    "start_time": "2024-02-18T15:57:03.776Z"
   },
   {
    "duration": 11,
    "start_time": "2024-02-18T15:57:03.785Z"
   },
   {
    "duration": 149,
    "start_time": "2024-02-18T15:57:03.799Z"
   },
   {
    "duration": 161,
    "start_time": "2024-02-18T15:57:03.950Z"
   },
   {
    "duration": 8,
    "start_time": "2024-02-18T15:57:04.113Z"
   },
   {
    "duration": 34,
    "start_time": "2024-02-18T15:57:04.124Z"
   },
   {
    "duration": 567,
    "start_time": "2024-02-18T15:57:23.800Z"
   },
   {
    "duration": 45,
    "start_time": "2024-02-18T15:57:24.369Z"
   },
   {
    "duration": 13,
    "start_time": "2024-02-18T15:57:24.415Z"
   },
   {
    "duration": 46,
    "start_time": "2024-02-18T15:57:24.430Z"
   },
   {
    "duration": 3,
    "start_time": "2024-02-18T15:57:24.478Z"
   },
   {
    "duration": 47,
    "start_time": "2024-02-18T15:57:24.483Z"
   },
   {
    "duration": 31,
    "start_time": "2024-02-18T15:57:24.531Z"
   },
   {
    "duration": 32,
    "start_time": "2024-02-18T15:57:24.564Z"
   },
   {
    "duration": 23,
    "start_time": "2024-02-18T15:57:24.598Z"
   },
   {
    "duration": 20,
    "start_time": "2024-02-18T15:57:24.622Z"
   },
   {
    "duration": 50,
    "start_time": "2024-02-18T15:57:24.643Z"
   },
   {
    "duration": 42,
    "start_time": "2024-02-18T15:57:24.695Z"
   },
   {
    "duration": 21,
    "start_time": "2024-02-18T15:57:24.739Z"
   },
   {
    "duration": 35,
    "start_time": "2024-02-18T15:57:24.764Z"
   },
   {
    "duration": 30,
    "start_time": "2024-02-18T15:57:24.801Z"
   },
   {
    "duration": 30,
    "start_time": "2024-02-18T15:57:24.833Z"
   },
   {
    "duration": 26,
    "start_time": "2024-02-18T15:57:24.865Z"
   },
   {
    "duration": 42,
    "start_time": "2024-02-18T15:57:24.892Z"
   },
   {
    "duration": 26,
    "start_time": "2024-02-18T15:57:24.935Z"
   },
   {
    "duration": 20,
    "start_time": "2024-02-18T15:57:24.962Z"
   },
   {
    "duration": 30,
    "start_time": "2024-02-18T15:57:24.983Z"
   },
   {
    "duration": 28,
    "start_time": "2024-02-18T15:57:25.015Z"
   },
   {
    "duration": 35,
    "start_time": "2024-02-18T15:57:25.044Z"
   },
   {
    "duration": 23,
    "start_time": "2024-02-18T15:57:25.080Z"
   },
   {
    "duration": 67,
    "start_time": "2024-02-18T15:57:25.104Z"
   },
   {
    "duration": 830,
    "start_time": "2024-02-18T15:57:25.173Z"
   },
   {
    "duration": 331,
    "start_time": "2024-02-18T15:57:26.005Z"
   },
   {
    "duration": 35,
    "start_time": "2024-02-18T15:57:26.338Z"
   },
   {
    "duration": 10,
    "start_time": "2024-02-18T15:57:26.374Z"
   },
   {
    "duration": 83,
    "start_time": "2024-02-18T15:57:26.386Z"
   },
   {
    "duration": 49,
    "start_time": "2024-02-18T15:57:26.472Z"
   },
   {
    "duration": 24,
    "start_time": "2024-02-18T15:57:26.522Z"
   },
   {
    "duration": 18,
    "start_time": "2024-02-18T15:57:26.547Z"
   },
   {
    "duration": 17,
    "start_time": "2024-02-18T15:57:26.567Z"
   },
   {
    "duration": 144,
    "start_time": "2024-02-18T15:57:26.586Z"
   },
   {
    "duration": 131,
    "start_time": "2024-02-18T15:57:26.732Z"
   },
   {
    "duration": 14,
    "start_time": "2024-02-18T15:57:26.864Z"
   },
   {
    "duration": 121,
    "start_time": "2024-02-18T15:57:26.879Z"
   },
   {
    "duration": 533,
    "start_time": "2024-02-18T15:57:36.792Z"
   },
   {
    "duration": 46,
    "start_time": "2024-02-18T15:57:37.327Z"
   },
   {
    "duration": 14,
    "start_time": "2024-02-18T15:57:37.374Z"
   },
   {
    "duration": 38,
    "start_time": "2024-02-18T15:57:37.390Z"
   },
   {
    "duration": 3,
    "start_time": "2024-02-18T15:57:37.430Z"
   },
   {
    "duration": 21,
    "start_time": "2024-02-18T15:57:37.434Z"
   },
   {
    "duration": 20,
    "start_time": "2024-02-18T15:57:37.472Z"
   },
   {
    "duration": 27,
    "start_time": "2024-02-18T15:57:37.494Z"
   },
   {
    "duration": 18,
    "start_time": "2024-02-18T15:57:37.523Z"
   },
   {
    "duration": 34,
    "start_time": "2024-02-18T15:57:37.542Z"
   },
   {
    "duration": 10,
    "start_time": "2024-02-18T15:57:37.577Z"
   },
   {
    "duration": 17,
    "start_time": "2024-02-18T15:57:37.589Z"
   },
   {
    "duration": 9,
    "start_time": "2024-02-18T15:57:37.607Z"
   },
   {
    "duration": 15,
    "start_time": "2024-02-18T15:57:37.619Z"
   },
   {
    "duration": 39,
    "start_time": "2024-02-18T15:57:37.636Z"
   },
   {
    "duration": 20,
    "start_time": "2024-02-18T15:57:37.677Z"
   },
   {
    "duration": 7,
    "start_time": "2024-02-18T15:57:37.699Z"
   },
   {
    "duration": 36,
    "start_time": "2024-02-18T15:57:37.708Z"
   },
   {
    "duration": 26,
    "start_time": "2024-02-18T15:57:37.772Z"
   },
   {
    "duration": 12,
    "start_time": "2024-02-18T15:57:37.800Z"
   },
   {
    "duration": 26,
    "start_time": "2024-02-18T15:57:37.814Z"
   },
   {
    "duration": 40,
    "start_time": "2024-02-18T15:57:37.841Z"
   },
   {
    "duration": 20,
    "start_time": "2024-02-18T15:57:37.882Z"
   },
   {
    "duration": 20,
    "start_time": "2024-02-18T15:57:37.904Z"
   },
   {
    "duration": 73,
    "start_time": "2024-02-18T15:57:37.927Z"
   },
   {
    "duration": 824,
    "start_time": "2024-02-18T15:57:38.002Z"
   },
   {
    "duration": 317,
    "start_time": "2024-02-18T15:57:38.828Z"
   },
   {
    "duration": 35,
    "start_time": "2024-02-18T15:57:39.147Z"
   },
   {
    "duration": 9,
    "start_time": "2024-02-18T15:57:39.184Z"
   },
   {
    "duration": 91,
    "start_time": "2024-02-18T15:57:39.194Z"
   },
   {
    "duration": 37,
    "start_time": "2024-02-18T15:57:39.286Z"
   },
   {
    "duration": 24,
    "start_time": "2024-02-18T15:57:39.324Z"
   },
   {
    "duration": 29,
    "start_time": "2024-02-18T15:57:39.349Z"
   },
   {
    "duration": 5,
    "start_time": "2024-02-18T15:57:39.380Z"
   },
   {
    "duration": 157,
    "start_time": "2024-02-18T15:57:39.387Z"
   },
   {
    "duration": 157,
    "start_time": "2024-02-18T15:57:39.546Z"
   },
   {
    "duration": 8,
    "start_time": "2024-02-18T15:57:39.705Z"
   },
   {
    "duration": 49,
    "start_time": "2024-02-18T15:57:39.715Z"
   },
   {
    "duration": 556,
    "start_time": "2024-02-18T15:59:35.556Z"
   },
   {
    "duration": 50,
    "start_time": "2024-02-18T15:59:36.115Z"
   },
   {
    "duration": 18,
    "start_time": "2024-02-18T15:59:36.167Z"
   },
   {
    "duration": 53,
    "start_time": "2024-02-18T15:59:36.187Z"
   },
   {
    "duration": 4,
    "start_time": "2024-02-18T15:59:36.243Z"
   },
   {
    "duration": 49,
    "start_time": "2024-02-18T15:59:36.248Z"
   },
   {
    "duration": 21,
    "start_time": "2024-02-18T15:59:36.299Z"
   },
   {
    "duration": 27,
    "start_time": "2024-02-18T15:59:36.322Z"
   },
   {
    "duration": 40,
    "start_time": "2024-02-18T15:59:36.351Z"
   },
   {
    "duration": 9,
    "start_time": "2024-02-18T15:59:36.393Z"
   },
   {
    "duration": 10,
    "start_time": "2024-02-18T15:59:36.404Z"
   },
   {
    "duration": 15,
    "start_time": "2024-02-18T15:59:36.416Z"
   },
   {
    "duration": 41,
    "start_time": "2024-02-18T15:59:36.433Z"
   },
   {
    "duration": 17,
    "start_time": "2024-02-18T15:59:36.479Z"
   },
   {
    "duration": 7,
    "start_time": "2024-02-18T15:59:36.498Z"
   },
   {
    "duration": 22,
    "start_time": "2024-02-18T15:59:36.506Z"
   },
   {
    "duration": 14,
    "start_time": "2024-02-18T15:59:36.530Z"
   },
   {
    "duration": 63,
    "start_time": "2024-02-18T15:59:36.546Z"
   },
   {
    "duration": 41,
    "start_time": "2024-02-18T15:59:36.611Z"
   },
   {
    "duration": 31,
    "start_time": "2024-02-18T15:59:36.654Z"
   },
   {
    "duration": 21,
    "start_time": "2024-02-18T15:59:36.686Z"
   },
   {
    "duration": 11,
    "start_time": "2024-02-18T15:59:36.709Z"
   },
   {
    "duration": 4,
    "start_time": "2024-02-18T15:59:36.722Z"
   },
   {
    "duration": 15,
    "start_time": "2024-02-18T15:59:36.727Z"
   },
   {
    "duration": 85,
    "start_time": "2024-02-18T15:59:36.744Z"
   },
   {
    "duration": 828,
    "start_time": "2024-02-18T15:59:36.831Z"
   },
   {
    "duration": 314,
    "start_time": "2024-02-18T15:59:37.661Z"
   },
   {
    "duration": 23,
    "start_time": "2024-02-18T15:59:37.976Z"
   },
   {
    "duration": 9,
    "start_time": "2024-02-18T15:59:38.001Z"
   },
   {
    "duration": 102,
    "start_time": "2024-02-18T15:59:38.012Z"
   },
   {
    "duration": 43,
    "start_time": "2024-02-18T15:59:38.116Z"
   },
   {
    "duration": 34,
    "start_time": "2024-02-18T15:59:38.174Z"
   },
   {
    "duration": 10,
    "start_time": "2024-02-18T15:59:38.210Z"
   },
   {
    "duration": 12,
    "start_time": "2024-02-18T15:59:38.222Z"
   },
   {
    "duration": 144,
    "start_time": "2024-02-18T15:59:38.236Z"
   },
   {
    "duration": 141,
    "start_time": "2024-02-18T15:59:38.381Z"
   },
   {
    "duration": 8,
    "start_time": "2024-02-18T15:59:38.523Z"
   },
   {
    "duration": 109,
    "start_time": "2024-02-18T15:59:38.533Z"
   },
   {
    "duration": 500,
    "start_time": "2024-02-18T15:59:58.997Z"
   },
   {
    "duration": 46,
    "start_time": "2024-02-18T15:59:59.500Z"
   },
   {
    "duration": 14,
    "start_time": "2024-02-18T15:59:59.547Z"
   },
   {
    "duration": 35,
    "start_time": "2024-02-18T15:59:59.563Z"
   },
   {
    "duration": 3,
    "start_time": "2024-02-18T15:59:59.601Z"
   },
   {
    "duration": 17,
    "start_time": "2024-02-18T15:59:59.606Z"
   },
   {
    "duration": 34,
    "start_time": "2024-02-18T15:59:59.625Z"
   },
   {
    "duration": 21,
    "start_time": "2024-02-18T15:59:59.672Z"
   },
   {
    "duration": 19,
    "start_time": "2024-02-18T15:59:59.695Z"
   },
   {
    "duration": 14,
    "start_time": "2024-02-18T15:59:59.716Z"
   },
   {
    "duration": 42,
    "start_time": "2024-02-18T15:59:59.732Z"
   },
   {
    "duration": 17,
    "start_time": "2024-02-18T15:59:59.776Z"
   },
   {
    "duration": 15,
    "start_time": "2024-02-18T15:59:59.795Z"
   },
   {
    "duration": 16,
    "start_time": "2024-02-18T15:59:59.813Z"
   },
   {
    "duration": 11,
    "start_time": "2024-02-18T15:59:59.830Z"
   },
   {
    "duration": 21,
    "start_time": "2024-02-18T15:59:59.873Z"
   },
   {
    "duration": 8,
    "start_time": "2024-02-18T15:59:59.896Z"
   },
   {
    "duration": 29,
    "start_time": "2024-02-18T15:59:59.906Z"
   },
   {
    "duration": 43,
    "start_time": "2024-02-18T15:59:59.937Z"
   },
   {
    "duration": 12,
    "start_time": "2024-02-18T15:59:59.982Z"
   },
   {
    "duration": 12,
    "start_time": "2024-02-18T15:59:59.996Z"
   },
   {
    "duration": 79,
    "start_time": "2024-02-18T16:00:00.010Z"
   },
   {
    "duration": 74,
    "start_time": "2024-02-18T16:00:00.091Z"
   },
   {
    "duration": 142,
    "start_time": "2024-02-18T16:00:00.167Z"
   },
   {
    "duration": 112,
    "start_time": "2024-02-18T16:00:00.311Z"
   },
   {
    "duration": 940,
    "start_time": "2024-02-18T16:00:00.425Z"
   },
   {
    "duration": 312,
    "start_time": "2024-02-18T16:00:01.368Z"
   },
   {
    "duration": 24,
    "start_time": "2024-02-18T16:00:01.682Z"
   },
   {
    "duration": 103,
    "start_time": "2024-02-18T16:00:01.708Z"
   },
   {
    "duration": 194,
    "start_time": "2024-02-18T16:00:01.813Z"
   },
   {
    "duration": 99,
    "start_time": "2024-02-18T16:00:02.009Z"
   },
   {
    "duration": 30,
    "start_time": "2024-02-18T16:00:02.110Z"
   },
   {
    "duration": 49,
    "start_time": "2024-02-18T16:00:02.143Z"
   },
   {
    "duration": 23,
    "start_time": "2024-02-18T16:00:02.194Z"
   },
   {
    "duration": 186,
    "start_time": "2024-02-18T16:00:02.219Z"
   },
   {
    "duration": 149,
    "start_time": "2024-02-18T16:00:02.407Z"
   },
   {
    "duration": 16,
    "start_time": "2024-02-18T16:00:02.557Z"
   },
   {
    "duration": 105,
    "start_time": "2024-02-18T16:00:02.574Z"
   },
   {
    "duration": 533,
    "start_time": "2024-02-18T16:00:27.741Z"
   },
   {
    "duration": 45,
    "start_time": "2024-02-18T16:00:28.276Z"
   },
   {
    "duration": 20,
    "start_time": "2024-02-18T16:00:28.323Z"
   },
   {
    "duration": 36,
    "start_time": "2024-02-18T16:00:28.344Z"
   },
   {
    "duration": 3,
    "start_time": "2024-02-18T16:00:28.382Z"
   },
   {
    "duration": 36,
    "start_time": "2024-02-18T16:00:28.387Z"
   },
   {
    "duration": 21,
    "start_time": "2024-02-18T16:00:28.424Z"
   },
   {
    "duration": 42,
    "start_time": "2024-02-18T16:00:28.448Z"
   },
   {
    "duration": 22,
    "start_time": "2024-02-18T16:00:28.493Z"
   },
   {
    "duration": 9,
    "start_time": "2024-02-18T16:00:28.517Z"
   },
   {
    "duration": 18,
    "start_time": "2024-02-18T16:00:28.527Z"
   },
   {
    "duration": 40,
    "start_time": "2024-02-18T16:00:28.546Z"
   },
   {
    "duration": 10,
    "start_time": "2024-02-18T16:00:28.588Z"
   },
   {
    "duration": 35,
    "start_time": "2024-02-18T16:00:28.601Z"
   },
   {
    "duration": 14,
    "start_time": "2024-02-18T16:00:28.638Z"
   },
   {
    "duration": 25,
    "start_time": "2024-02-18T16:00:28.654Z"
   },
   {
    "duration": 17,
    "start_time": "2024-02-18T16:00:28.681Z"
   },
   {
    "duration": 48,
    "start_time": "2024-02-18T16:00:28.700Z"
   },
   {
    "duration": 30,
    "start_time": "2024-02-18T16:00:28.750Z"
   },
   {
    "duration": 14,
    "start_time": "2024-02-18T16:00:28.782Z"
   },
   {
    "duration": 12,
    "start_time": "2024-02-18T16:00:28.797Z"
   },
   {
    "duration": 10,
    "start_time": "2024-02-18T16:00:28.811Z"
   },
   {
    "duration": 18,
    "start_time": "2024-02-18T16:00:28.823Z"
   },
   {
    "duration": 36,
    "start_time": "2024-02-18T16:00:28.843Z"
   },
   {
    "duration": 80,
    "start_time": "2024-02-18T16:00:28.881Z"
   },
   {
    "duration": 874,
    "start_time": "2024-02-18T16:00:28.964Z"
   },
   {
    "duration": 350,
    "start_time": "2024-02-18T16:00:29.841Z"
   },
   {
    "duration": 22,
    "start_time": "2024-02-18T16:00:30.193Z"
   },
   {
    "duration": 52,
    "start_time": "2024-02-18T16:00:30.217Z"
   },
   {
    "duration": 134,
    "start_time": "2024-02-18T16:00:30.271Z"
   },
   {
    "duration": 55,
    "start_time": "2024-02-18T16:00:30.407Z"
   },
   {
    "duration": 48,
    "start_time": "2024-02-18T16:00:30.464Z"
   },
   {
    "duration": 40,
    "start_time": "2024-02-18T16:00:30.514Z"
   },
   {
    "duration": 40,
    "start_time": "2024-02-18T16:00:30.556Z"
   },
   {
    "duration": 162,
    "start_time": "2024-02-18T16:00:30.598Z"
   },
   {
    "duration": 145,
    "start_time": "2024-02-18T16:00:30.762Z"
   },
   {
    "duration": 7,
    "start_time": "2024-02-18T16:00:30.909Z"
   },
   {
    "duration": 137,
    "start_time": "2024-02-18T16:00:30.917Z"
   },
   {
    "duration": 544,
    "start_time": "2024-02-18T16:00:44.268Z"
   },
   {
    "duration": 50,
    "start_time": "2024-02-18T16:00:44.814Z"
   },
   {
    "duration": 18,
    "start_time": "2024-02-18T16:00:44.866Z"
   },
   {
    "duration": 60,
    "start_time": "2024-02-18T16:00:44.886Z"
   },
   {
    "duration": 10,
    "start_time": "2024-02-18T16:00:44.948Z"
   },
   {
    "duration": 33,
    "start_time": "2024-02-18T16:00:44.960Z"
   },
   {
    "duration": 63,
    "start_time": "2024-02-18T16:00:44.995Z"
   },
   {
    "duration": 26,
    "start_time": "2024-02-18T16:00:45.060Z"
   },
   {
    "duration": 46,
    "start_time": "2024-02-18T16:00:45.088Z"
   },
   {
    "duration": 29,
    "start_time": "2024-02-18T16:00:45.136Z"
   },
   {
    "duration": 58,
    "start_time": "2024-02-18T16:00:45.166Z"
   },
   {
    "duration": 28,
    "start_time": "2024-02-18T16:00:45.226Z"
   },
   {
    "duration": 26,
    "start_time": "2024-02-18T16:00:45.256Z"
   },
   {
    "duration": 33,
    "start_time": "2024-02-18T16:00:45.285Z"
   },
   {
    "duration": 29,
    "start_time": "2024-02-18T16:00:45.320Z"
   },
   {
    "duration": 55,
    "start_time": "2024-02-18T16:00:45.351Z"
   },
   {
    "duration": 34,
    "start_time": "2024-02-18T16:00:45.407Z"
   },
   {
    "duration": 34,
    "start_time": "2024-02-18T16:00:45.443Z"
   },
   {
    "duration": 55,
    "start_time": "2024-02-18T16:00:45.478Z"
   },
   {
    "duration": 12,
    "start_time": "2024-02-18T16:00:45.535Z"
   },
   {
    "duration": 25,
    "start_time": "2024-02-18T16:00:45.549Z"
   },
   {
    "duration": 16,
    "start_time": "2024-02-18T16:00:45.576Z"
   },
   {
    "duration": 37,
    "start_time": "2024-02-18T16:00:45.594Z"
   },
   {
    "duration": 47,
    "start_time": "2024-02-18T16:00:45.633Z"
   },
   {
    "duration": 55,
    "start_time": "2024-02-18T16:00:45.682Z"
   },
   {
    "duration": 817,
    "start_time": "2024-02-18T16:00:45.738Z"
   },
   {
    "duration": 295,
    "start_time": "2024-02-18T16:00:46.557Z"
   },
   {
    "duration": 36,
    "start_time": "2024-02-18T16:00:46.853Z"
   },
   {
    "duration": 9,
    "start_time": "2024-02-18T16:00:46.890Z"
   },
   {
    "duration": 86,
    "start_time": "2024-02-18T16:00:46.901Z"
   },
   {
    "duration": 80,
    "start_time": "2024-02-18T16:00:46.989Z"
   },
   {
    "duration": 44,
    "start_time": "2024-02-18T16:00:47.071Z"
   },
   {
    "duration": 26,
    "start_time": "2024-02-18T16:00:47.116Z"
   },
   {
    "duration": 31,
    "start_time": "2024-02-18T16:00:47.143Z"
   },
   {
    "duration": 168,
    "start_time": "2024-02-18T16:00:47.176Z"
   },
   {
    "duration": 142,
    "start_time": "2024-02-18T16:00:47.346Z"
   },
   {
    "duration": 7,
    "start_time": "2024-02-18T16:00:47.489Z"
   },
   {
    "duration": 119,
    "start_time": "2024-02-18T16:00:47.497Z"
   },
   {
    "duration": 566,
    "start_time": "2024-02-18T16:01:02.988Z"
   },
   {
    "duration": 46,
    "start_time": "2024-02-18T16:01:03.557Z"
   },
   {
    "duration": 18,
    "start_time": "2024-02-18T16:01:03.605Z"
   },
   {
    "duration": 41,
    "start_time": "2024-02-18T16:01:03.625Z"
   },
   {
    "duration": 2,
    "start_time": "2024-02-18T16:01:03.668Z"
   },
   {
    "duration": 22,
    "start_time": "2024-02-18T16:01:03.672Z"
   },
   {
    "duration": 25,
    "start_time": "2024-02-18T16:01:03.696Z"
   },
   {
    "duration": 30,
    "start_time": "2024-02-18T16:01:03.722Z"
   },
   {
    "duration": 28,
    "start_time": "2024-02-18T16:01:03.754Z"
   },
   {
    "duration": 10,
    "start_time": "2024-02-18T16:01:03.785Z"
   },
   {
    "duration": 17,
    "start_time": "2024-02-18T16:01:03.797Z"
   },
   {
    "duration": 16,
    "start_time": "2024-02-18T16:01:03.815Z"
   },
   {
    "duration": 45,
    "start_time": "2024-02-18T16:01:03.832Z"
   },
   {
    "duration": 25,
    "start_time": "2024-02-18T16:01:03.879Z"
   },
   {
    "duration": 16,
    "start_time": "2024-02-18T16:01:03.905Z"
   },
   {
    "duration": 32,
    "start_time": "2024-02-18T16:01:03.922Z"
   },
   {
    "duration": 19,
    "start_time": "2024-02-18T16:01:03.956Z"
   },
   {
    "duration": 34,
    "start_time": "2024-02-18T16:01:03.977Z"
   },
   {
    "duration": 26,
    "start_time": "2024-02-18T16:01:04.013Z"
   },
   {
    "duration": 31,
    "start_time": "2024-02-18T16:01:04.041Z"
   },
   {
    "duration": 14,
    "start_time": "2024-02-18T16:01:04.074Z"
   },
   {
    "duration": 12,
    "start_time": "2024-02-18T16:01:04.090Z"
   },
   {
    "duration": 25,
    "start_time": "2024-02-18T16:01:04.104Z"
   },
   {
    "duration": 16,
    "start_time": "2024-02-18T16:01:04.134Z"
   },
   {
    "duration": 56,
    "start_time": "2024-02-18T16:01:04.152Z"
   },
   {
    "duration": 834,
    "start_time": "2024-02-18T16:01:04.210Z"
   },
   {
    "duration": 315,
    "start_time": "2024-02-18T16:01:05.045Z"
   },
   {
    "duration": 28,
    "start_time": "2024-02-18T16:01:05.364Z"
   },
   {
    "duration": 14,
    "start_time": "2024-02-18T16:01:05.394Z"
   },
   {
    "duration": 100,
    "start_time": "2024-02-18T16:01:05.410Z"
   },
   {
    "duration": 37,
    "start_time": "2024-02-18T16:01:05.512Z"
   },
   {
    "duration": 57,
    "start_time": "2024-02-18T16:01:05.551Z"
   },
   {
    "duration": 10,
    "start_time": "2024-02-18T16:01:05.610Z"
   },
   {
    "duration": 5,
    "start_time": "2024-02-18T16:01:05.622Z"
   },
   {
    "duration": 171,
    "start_time": "2024-02-18T16:01:05.629Z"
   },
   {
    "duration": 140,
    "start_time": "2024-02-18T16:01:05.802Z"
   },
   {
    "duration": 7,
    "start_time": "2024-02-18T16:01:05.943Z"
   },
   {
    "duration": 38,
    "start_time": "2024-02-18T16:01:05.953Z"
   },
   {
    "duration": 20,
    "start_time": "2024-02-18T16:02:00.341Z"
   },
   {
    "duration": 554,
    "start_time": "2024-02-18T16:02:15.792Z"
   },
   {
    "duration": 47,
    "start_time": "2024-02-18T16:02:16.348Z"
   },
   {
    "duration": 15,
    "start_time": "2024-02-18T16:02:16.396Z"
   },
   {
    "duration": 54,
    "start_time": "2024-02-18T16:02:16.412Z"
   },
   {
    "duration": 3,
    "start_time": "2024-02-18T16:02:16.468Z"
   },
   {
    "duration": 21,
    "start_time": "2024-02-18T16:02:16.472Z"
   },
   {
    "duration": 20,
    "start_time": "2024-02-18T16:02:16.494Z"
   },
   {
    "duration": 19,
    "start_time": "2024-02-18T16:02:16.516Z"
   },
   {
    "duration": 46,
    "start_time": "2024-02-18T16:02:16.537Z"
   },
   {
    "duration": 9,
    "start_time": "2024-02-18T16:02:16.585Z"
   },
   {
    "duration": 11,
    "start_time": "2024-02-18T16:02:16.595Z"
   },
   {
    "duration": 15,
    "start_time": "2024-02-18T16:02:16.607Z"
   },
   {
    "duration": 9,
    "start_time": "2024-02-18T16:02:16.624Z"
   },
   {
    "duration": 50,
    "start_time": "2024-02-18T16:02:16.636Z"
   },
   {
    "duration": 8,
    "start_time": "2024-02-18T16:02:16.688Z"
   },
   {
    "duration": 20,
    "start_time": "2024-02-18T16:02:16.698Z"
   },
   {
    "duration": 16,
    "start_time": "2024-02-18T16:02:16.720Z"
   },
   {
    "duration": 44,
    "start_time": "2024-02-18T16:02:16.738Z"
   },
   {
    "duration": 25,
    "start_time": "2024-02-18T16:02:16.784Z"
   },
   {
    "duration": 18,
    "start_time": "2024-02-18T16:02:16.811Z"
   },
   {
    "duration": 42,
    "start_time": "2024-02-18T16:02:16.831Z"
   },
   {
    "duration": 11,
    "start_time": "2024-02-18T16:02:16.874Z"
   },
   {
    "duration": 9,
    "start_time": "2024-02-18T16:02:16.887Z"
   },
   {
    "duration": 19,
    "start_time": "2024-02-18T16:02:16.897Z"
   },
   {
    "duration": 40,
    "start_time": "2024-02-18T16:02:16.918Z"
   },
   {
    "duration": 846,
    "start_time": "2024-02-18T16:02:16.973Z"
   },
   {
    "duration": 355,
    "start_time": "2024-02-18T16:02:17.820Z"
   },
   {
    "duration": 26,
    "start_time": "2024-02-18T16:02:18.176Z"
   },
   {
    "duration": 12,
    "start_time": "2024-02-18T16:02:18.204Z"
   },
   {
    "duration": 109,
    "start_time": "2024-02-18T16:02:18.218Z"
   },
   {
    "duration": 50,
    "start_time": "2024-02-18T16:02:18.329Z"
   },
   {
    "duration": 52,
    "start_time": "2024-02-18T16:02:18.381Z"
   },
   {
    "duration": 28,
    "start_time": "2024-02-18T16:02:18.435Z"
   },
   {
    "duration": 5,
    "start_time": "2024-02-18T16:02:18.465Z"
   },
   {
    "duration": 149,
    "start_time": "2024-02-18T16:02:18.472Z"
   },
   {
    "duration": 168,
    "start_time": "2024-02-18T16:02:18.626Z"
   },
   {
    "duration": 7,
    "start_time": "2024-02-18T16:02:18.796Z"
   },
   {
    "duration": 28,
    "start_time": "2024-02-18T16:02:18.805Z"
   },
   {
    "duration": 21,
    "start_time": "2024-02-18T16:03:53.772Z"
   },
   {
    "duration": 506,
    "start_time": "2024-02-18T16:04:18.807Z"
   },
   {
    "duration": 45,
    "start_time": "2024-02-18T16:04:19.315Z"
   },
   {
    "duration": 12,
    "start_time": "2024-02-18T16:04:19.361Z"
   },
   {
    "duration": 56,
    "start_time": "2024-02-18T16:04:19.375Z"
   },
   {
    "duration": 2,
    "start_time": "2024-02-18T16:04:19.433Z"
   },
   {
    "duration": 29,
    "start_time": "2024-02-18T16:04:19.437Z"
   },
   {
    "duration": 35,
    "start_time": "2024-02-18T16:04:19.468Z"
   },
   {
    "duration": 46,
    "start_time": "2024-02-18T16:04:19.505Z"
   },
   {
    "duration": 38,
    "start_time": "2024-02-18T16:04:19.553Z"
   },
   {
    "duration": 9,
    "start_time": "2024-02-18T16:04:19.593Z"
   },
   {
    "duration": 26,
    "start_time": "2024-02-18T16:04:19.603Z"
   },
   {
    "duration": 19,
    "start_time": "2024-02-18T16:04:19.631Z"
   },
   {
    "duration": 15,
    "start_time": "2024-02-18T16:04:19.652Z"
   },
   {
    "duration": 24,
    "start_time": "2024-02-18T16:04:19.672Z"
   },
   {
    "duration": 20,
    "start_time": "2024-02-18T16:04:19.698Z"
   },
   {
    "duration": 29,
    "start_time": "2024-02-18T16:04:19.719Z"
   },
   {
    "duration": 31,
    "start_time": "2024-02-18T16:04:19.750Z"
   },
   {
    "duration": 31,
    "start_time": "2024-02-18T16:04:19.782Z"
   },
   {
    "duration": 34,
    "start_time": "2024-02-18T16:04:19.815Z"
   },
   {
    "duration": 22,
    "start_time": "2024-02-18T16:04:19.852Z"
   },
   {
    "duration": 21,
    "start_time": "2024-02-18T16:04:19.876Z"
   },
   {
    "duration": 15,
    "start_time": "2024-02-18T16:04:19.898Z"
   },
   {
    "duration": 6,
    "start_time": "2024-02-18T16:04:19.915Z"
   },
   {
    "duration": 28,
    "start_time": "2024-02-18T16:04:19.923Z"
   },
   {
    "duration": 42,
    "start_time": "2024-02-18T16:04:19.973Z"
   },
   {
    "duration": 807,
    "start_time": "2024-02-18T16:04:20.017Z"
   },
   {
    "duration": 353,
    "start_time": "2024-02-18T16:04:20.826Z"
   },
   {
    "duration": 26,
    "start_time": "2024-02-18T16:04:21.181Z"
   },
   {
    "duration": 10,
    "start_time": "2024-02-18T16:04:21.208Z"
   },
   {
    "duration": 97,
    "start_time": "2024-02-18T16:04:21.220Z"
   },
   {
    "duration": 54,
    "start_time": "2024-02-18T16:04:21.319Z"
   },
   {
    "duration": 25,
    "start_time": "2024-02-18T16:04:21.375Z"
   },
   {
    "duration": 21,
    "start_time": "2024-02-18T16:04:21.402Z"
   },
   {
    "duration": 13,
    "start_time": "2024-02-18T16:04:21.425Z"
   },
   {
    "duration": 134,
    "start_time": "2024-02-18T16:04:21.440Z"
   },
   {
    "duration": 138,
    "start_time": "2024-02-18T16:04:21.575Z"
   },
   {
    "duration": 7,
    "start_time": "2024-02-18T16:04:21.715Z"
   },
   {
    "duration": 24,
    "start_time": "2024-02-18T16:04:21.723Z"
   },
   {
    "duration": 75,
    "start_time": "2024-02-18T16:11:16.795Z"
   },
   {
    "duration": 4,
    "start_time": "2024-02-18T16:11:21.499Z"
   },
   {
    "duration": 12,
    "start_time": "2024-02-18T16:11:24.106Z"
   },
   {
    "duration": 5,
    "start_time": "2024-02-18T16:11:48.058Z"
   },
   {
    "duration": 5,
    "start_time": "2024-02-18T16:11:59.058Z"
   },
   {
    "duration": 6,
    "start_time": "2024-02-18T18:02:44.615Z"
   },
   {
    "duration": 113,
    "start_time": "2024-02-18T18:12:28.962Z"
   },
   {
    "duration": 11,
    "start_time": "2024-02-18T18:12:36.589Z"
   },
   {
    "duration": 3,
    "start_time": "2024-02-18T18:13:15.982Z"
   },
   {
    "duration": 6,
    "start_time": "2024-02-18T18:22:54.582Z"
   },
   {
    "duration": 4,
    "start_time": "2024-02-18T18:23:06.710Z"
   },
   {
    "duration": 6,
    "start_time": "2024-02-18T18:23:22.796Z"
   },
   {
    "duration": 6,
    "start_time": "2024-02-18T18:23:40.918Z"
   },
   {
    "duration": 5,
    "start_time": "2024-02-18T18:24:20.589Z"
   },
   {
    "duration": 7,
    "start_time": "2024-02-18T18:25:21.173Z"
   },
   {
    "duration": 32,
    "start_time": "2024-02-18T18:27:03.718Z"
   },
   {
    "duration": 53,
    "start_time": "2024-02-19T06:05:08.880Z"
   },
   {
    "duration": 552,
    "start_time": "2024-02-19T06:05:15.723Z"
   },
   {
    "duration": 74,
    "start_time": "2024-02-19T06:05:16.277Z"
   },
   {
    "duration": 11,
    "start_time": "2024-02-19T06:05:16.353Z"
   },
   {
    "duration": 29,
    "start_time": "2024-02-19T06:05:16.365Z"
   },
   {
    "duration": 2,
    "start_time": "2024-02-19T06:05:16.396Z"
   },
   {
    "duration": 22,
    "start_time": "2024-02-19T06:05:16.399Z"
   },
   {
    "duration": 17,
    "start_time": "2024-02-19T06:05:16.423Z"
   },
   {
    "duration": 36,
    "start_time": "2024-02-19T06:05:16.441Z"
   },
   {
    "duration": 16,
    "start_time": "2024-02-19T06:05:16.479Z"
   },
   {
    "duration": 8,
    "start_time": "2024-02-19T06:05:16.497Z"
   },
   {
    "duration": 20,
    "start_time": "2024-02-19T06:05:16.506Z"
   },
   {
    "duration": 14,
    "start_time": "2024-02-19T06:05:16.527Z"
   },
   {
    "duration": 25,
    "start_time": "2024-02-19T06:05:16.542Z"
   },
   {
    "duration": 24,
    "start_time": "2024-02-19T06:05:16.568Z"
   },
   {
    "duration": 6,
    "start_time": "2024-02-19T06:05:16.594Z"
   },
   {
    "duration": 16,
    "start_time": "2024-02-19T06:05:16.601Z"
   },
   {
    "duration": 9,
    "start_time": "2024-02-19T06:05:16.619Z"
   },
   {
    "duration": 43,
    "start_time": "2024-02-19T06:05:16.629Z"
   },
   {
    "duration": 23,
    "start_time": "2024-02-19T06:05:16.673Z"
   },
   {
    "duration": 11,
    "start_time": "2024-02-19T06:05:16.697Z"
   },
   {
    "duration": 11,
    "start_time": "2024-02-19T06:05:16.709Z"
   },
   {
    "duration": 9,
    "start_time": "2024-02-19T06:05:16.721Z"
   },
   {
    "duration": 34,
    "start_time": "2024-02-19T06:05:16.731Z"
   },
   {
    "duration": 12,
    "start_time": "2024-02-19T06:05:16.766Z"
   },
   {
    "duration": 37,
    "start_time": "2024-02-19T06:05:16.779Z"
   },
   {
    "duration": 867,
    "start_time": "2024-02-19T06:05:16.817Z"
   },
   {
    "duration": 269,
    "start_time": "2024-02-19T06:05:17.685Z"
   },
   {
    "duration": 26,
    "start_time": "2024-02-19T06:05:17.957Z"
   },
   {
    "duration": 8,
    "start_time": "2024-02-19T06:05:17.985Z"
   },
   {
    "duration": 78,
    "start_time": "2024-02-19T06:05:17.994Z"
   },
   {
    "duration": 32,
    "start_time": "2024-02-19T06:05:18.073Z"
   },
   {
    "duration": 20,
    "start_time": "2024-02-19T06:05:18.106Z"
   },
   {
    "duration": 6,
    "start_time": "2024-02-19T06:05:18.127Z"
   },
   {
    "duration": 5,
    "start_time": "2024-02-19T06:05:18.134Z"
   },
   {
    "duration": 9,
    "start_time": "2024-02-19T06:05:18.165Z"
   },
   {
    "duration": 121,
    "start_time": "2024-02-19T06:05:18.175Z"
   },
   {
    "duration": 120,
    "start_time": "2024-02-19T06:05:18.298Z"
   },
   {
    "duration": 6,
    "start_time": "2024-02-19T06:05:18.420Z"
   },
   {
    "duration": 22,
    "start_time": "2024-02-19T06:05:18.427Z"
   },
   {
    "duration": 77,
    "start_time": "2024-02-19T06:07:26.181Z"
   },
   {
    "duration": 66,
    "start_time": "2024-02-19T07:17:50.061Z"
   },
   {
    "duration": 120,
    "start_time": "2024-02-19T07:18:08.283Z"
   },
   {
    "duration": 105,
    "start_time": "2024-02-19T07:18:22.179Z"
   },
   {
    "duration": 18,
    "start_time": "2024-02-19T07:19:29.340Z"
   },
   {
    "duration": 12,
    "start_time": "2024-02-19T07:22:31.701Z"
   },
   {
    "duration": 13,
    "start_time": "2024-02-19T07:23:17.653Z"
   },
   {
    "duration": 12,
    "start_time": "2024-02-19T07:23:49.534Z"
   },
   {
    "duration": 13,
    "start_time": "2024-02-19T07:24:08.494Z"
   },
   {
    "duration": 12,
    "start_time": "2024-02-19T07:24:10.415Z"
   },
   {
    "duration": 17,
    "start_time": "2024-02-19T07:24:46.372Z"
   },
   {
    "duration": 14,
    "start_time": "2024-02-19T07:24:57.006Z"
   },
   {
    "duration": 18,
    "start_time": "2024-02-19T07:25:07.568Z"
   },
   {
    "duration": 14,
    "start_time": "2024-02-19T07:25:20.391Z"
   },
   {
    "duration": 13,
    "start_time": "2024-02-19T07:25:44.271Z"
   },
   {
    "duration": 14,
    "start_time": "2024-02-19T07:30:15.778Z"
   },
   {
    "duration": 342,
    "start_time": "2024-02-19T07:31:58.130Z"
   },
   {
    "duration": 16,
    "start_time": "2024-02-19T07:32:13.916Z"
   },
   {
    "duration": 380,
    "start_time": "2024-02-19T07:32:20.107Z"
   },
   {
    "duration": 354,
    "start_time": "2024-02-19T07:32:25.852Z"
   },
   {
    "duration": 13,
    "start_time": "2024-02-19T07:32:34.324Z"
   },
   {
    "duration": 13,
    "start_time": "2024-02-19T07:33:49.180Z"
   },
   {
    "duration": 13,
    "start_time": "2024-02-19T07:35:34.318Z"
   },
   {
    "duration": 8,
    "start_time": "2024-02-19T07:51:51.247Z"
   },
   {
    "duration": 1310,
    "start_time": "2024-02-19T08:06:05.048Z"
   },
   {
    "duration": 10,
    "start_time": "2024-02-19T08:06:13.479Z"
   },
   {
    "duration": 10,
    "start_time": "2024-02-19T08:06:29.510Z"
   },
   {
    "duration": 9,
    "start_time": "2024-02-19T08:06:56.575Z"
   },
   {
    "duration": 10,
    "start_time": "2024-02-19T08:07:03.903Z"
   },
   {
    "duration": 8,
    "start_time": "2024-02-19T08:07:16.263Z"
   },
   {
    "duration": 47,
    "start_time": "2024-02-19T08:17:10.935Z"
   },
   {
    "duration": 27,
    "start_time": "2024-02-19T08:17:39.511Z"
   },
   {
    "duration": 33,
    "start_time": "2024-02-19T08:18:59.999Z"
   },
   {
    "duration": 36,
    "start_time": "2024-02-19T08:19:30.047Z"
   },
   {
    "duration": 32,
    "start_time": "2024-02-19T08:19:41.096Z"
   },
   {
    "duration": 34,
    "start_time": "2024-02-19T08:19:57.007Z"
   },
   {
    "duration": 37,
    "start_time": "2024-02-19T08:21:50.377Z"
   },
   {
    "duration": 33,
    "start_time": "2024-02-19T08:22:05.561Z"
   },
   {
    "duration": 41,
    "start_time": "2024-02-19T08:22:39.698Z"
   },
   {
    "duration": 33,
    "start_time": "2024-02-19T08:22:56.258Z"
   },
   {
    "duration": 13,
    "start_time": "2024-02-19T08:24:44.538Z"
   },
   {
    "duration": 28,
    "start_time": "2024-02-19T08:28:13.317Z"
   },
   {
    "duration": 23,
    "start_time": "2024-02-19T08:31:34.511Z"
   },
   {
    "duration": 25,
    "start_time": "2024-02-19T08:35:13.435Z"
   },
   {
    "duration": 24,
    "start_time": "2024-02-19T08:35:21.219Z"
   },
   {
    "duration": 26,
    "start_time": "2024-02-19T08:35:45.730Z"
   },
   {
    "duration": 24,
    "start_time": "2024-02-19T08:37:44.124Z"
   },
   {
    "duration": 21,
    "start_time": "2024-02-19T08:37:52.132Z"
   },
   {
    "duration": 22,
    "start_time": "2024-02-19T08:38:02.483Z"
   },
   {
    "duration": 23,
    "start_time": "2024-02-19T08:38:24.681Z"
   },
   {
    "duration": 23,
    "start_time": "2024-02-19T08:39:34.340Z"
   },
   {
    "duration": 18,
    "start_time": "2024-02-19T08:39:42.576Z"
   },
   {
    "duration": 1342,
    "start_time": "2024-02-19T08:40:31.739Z"
   },
   {
    "duration": 1199,
    "start_time": "2024-02-19T08:40:47.198Z"
   },
   {
    "duration": 1212,
    "start_time": "2024-02-19T08:41:03.118Z"
   },
   {
    "duration": 720,
    "start_time": "2024-02-19T08:41:29.190Z"
   },
   {
    "duration": 24,
    "start_time": "2024-02-19T08:42:32.158Z"
   },
   {
    "duration": 24,
    "start_time": "2024-02-19T08:44:27.361Z"
   },
   {
    "duration": 22,
    "start_time": "2024-02-19T08:45:07.223Z"
   },
   {
    "duration": 24,
    "start_time": "2024-02-19T08:45:24.944Z"
   },
   {
    "duration": 13,
    "start_time": "2024-02-19T09:43:50.549Z"
   },
   {
    "duration": 6,
    "start_time": "2024-02-19T09:44:56.252Z"
   },
   {
    "duration": 8,
    "start_time": "2024-02-19T09:44:59.379Z"
   },
   {
    "duration": 11,
    "start_time": "2024-02-19T09:52:00.016Z"
   },
   {
    "duration": 9,
    "start_time": "2024-02-19T09:52:28.824Z"
   },
   {
    "duration": 1198,
    "start_time": "2024-02-19T09:53:37.633Z"
   },
   {
    "duration": 1489,
    "start_time": "2024-02-19T09:54:01.444Z"
   },
   {
    "duration": 9,
    "start_time": "2024-02-19T09:54:10.434Z"
   },
   {
    "duration": 8,
    "start_time": "2024-02-19T09:55:13.675Z"
   },
   {
    "duration": 11,
    "start_time": "2024-02-19T09:55:27.771Z"
   },
   {
    "duration": 8,
    "start_time": "2024-02-19T09:56:30.163Z"
   },
   {
    "duration": 9,
    "start_time": "2024-02-19T09:56:40.850Z"
   },
   {
    "duration": 8,
    "start_time": "2024-02-19T09:57:12.492Z"
   },
   {
    "duration": 9,
    "start_time": "2024-02-19T10:01:46.471Z"
   },
   {
    "duration": 20,
    "start_time": "2024-02-19T12:20:53.880Z"
   },
   {
    "duration": 8,
    "start_time": "2024-02-19T12:21:34.511Z"
   },
   {
    "duration": 12,
    "start_time": "2024-02-19T12:21:43.443Z"
   },
   {
    "duration": 20,
    "start_time": "2024-02-19T12:25:12.762Z"
   },
   {
    "duration": 9,
    "start_time": "2024-02-19T12:30:56.758Z"
   },
   {
    "duration": 17,
    "start_time": "2024-02-19T12:32:41.927Z"
   },
   {
    "duration": 1246,
    "start_time": "2024-02-19T12:34:24.835Z"
   },
   {
    "duration": 1262,
    "start_time": "2024-02-19T12:34:42.844Z"
   },
   {
    "duration": 16,
    "start_time": "2024-02-19T12:35:07.016Z"
   },
   {
    "duration": 159,
    "start_time": "2024-02-19T12:35:32.069Z"
   },
   {
    "duration": 141,
    "start_time": "2024-02-19T12:36:09.073Z"
   },
   {
    "duration": 148,
    "start_time": "2024-02-19T13:33:12.664Z"
   },
   {
    "duration": 136,
    "start_time": "2024-02-19T13:33:56.955Z"
   },
   {
    "duration": 200,
    "start_time": "2024-02-19T13:34:13.968Z"
   },
   {
    "duration": 134,
    "start_time": "2024-02-19T13:34:40.768Z"
   },
   {
    "duration": 12,
    "start_time": "2024-02-19T13:34:46.320Z"
   },
   {
    "duration": 12,
    "start_time": "2024-02-19T13:38:40.603Z"
   },
   {
    "duration": 469,
    "start_time": "2024-02-19T13:38:49.297Z"
   },
   {
    "duration": 42,
    "start_time": "2024-02-19T13:38:49.768Z"
   },
   {
    "duration": 11,
    "start_time": "2024-02-19T13:38:49.812Z"
   },
   {
    "duration": 31,
    "start_time": "2024-02-19T13:38:49.825Z"
   },
   {
    "duration": 2,
    "start_time": "2024-02-19T13:38:49.858Z"
   },
   {
    "duration": 23,
    "start_time": "2024-02-19T13:38:49.861Z"
   },
   {
    "duration": 16,
    "start_time": "2024-02-19T13:38:49.886Z"
   },
   {
    "duration": 17,
    "start_time": "2024-02-19T13:38:49.904Z"
   },
   {
    "duration": 18,
    "start_time": "2024-02-19T13:38:49.922Z"
   },
   {
    "duration": 8,
    "start_time": "2024-02-19T13:38:49.942Z"
   },
   {
    "duration": 21,
    "start_time": "2024-02-19T13:38:49.951Z"
   },
   {
    "duration": 13,
    "start_time": "2024-02-19T13:38:49.973Z"
   },
   {
    "duration": 8,
    "start_time": "2024-02-19T13:38:49.988Z"
   },
   {
    "duration": 15,
    "start_time": "2024-02-19T13:38:49.997Z"
   },
   {
    "duration": 7,
    "start_time": "2024-02-19T13:38:50.014Z"
   },
   {
    "duration": 47,
    "start_time": "2024-02-19T13:38:50.024Z"
   },
   {
    "duration": 6,
    "start_time": "2024-02-19T13:38:50.073Z"
   },
   {
    "duration": 28,
    "start_time": "2024-02-19T13:38:50.080Z"
   },
   {
    "duration": 23,
    "start_time": "2024-02-19T13:38:50.110Z"
   },
   {
    "duration": 39,
    "start_time": "2024-02-19T13:38:50.135Z"
   },
   {
    "duration": 10,
    "start_time": "2024-02-19T13:38:50.175Z"
   },
   {
    "duration": 16,
    "start_time": "2024-02-19T13:38:50.187Z"
   },
   {
    "duration": 4,
    "start_time": "2024-02-19T13:38:50.204Z"
   },
   {
    "duration": 25,
    "start_time": "2024-02-19T13:38:50.209Z"
   },
   {
    "duration": 53,
    "start_time": "2024-02-19T13:38:50.236Z"
   },
   {
    "duration": 882,
    "start_time": "2024-02-19T13:38:50.291Z"
   },
   {
    "duration": 264,
    "start_time": "2024-02-19T13:38:51.175Z"
   },
   {
    "duration": 34,
    "start_time": "2024-02-19T13:38:51.442Z"
   },
   {
    "duration": 9,
    "start_time": "2024-02-19T13:38:51.477Z"
   },
   {
    "duration": 78,
    "start_time": "2024-02-19T13:38:51.488Z"
   },
   {
    "duration": 32,
    "start_time": "2024-02-19T13:38:51.568Z"
   },
   {
    "duration": 35,
    "start_time": "2024-02-19T13:38:51.602Z"
   },
   {
    "duration": 10,
    "start_time": "2024-02-19T13:38:51.638Z"
   },
   {
    "duration": 5,
    "start_time": "2024-02-19T13:38:51.649Z"
   },
   {
    "duration": 30,
    "start_time": "2024-02-19T13:38:51.655Z"
   },
   {
    "duration": 118,
    "start_time": "2024-02-19T13:38:51.687Z"
   },
   {
    "duration": 119,
    "start_time": "2024-02-19T13:38:51.806Z"
   },
   {
    "duration": 5,
    "start_time": "2024-02-19T13:38:51.927Z"
   },
   {
    "duration": 32,
    "start_time": "2024-02-19T13:38:51.934Z"
   },
   {
    "duration": 23,
    "start_time": "2024-02-19T13:38:51.967Z"
   },
   {
    "duration": 9,
    "start_time": "2024-02-19T13:38:51.991Z"
   },
   {
    "duration": 18,
    "start_time": "2024-02-19T13:38:52.001Z"
   },
   {
    "duration": 3,
    "start_time": "2024-02-19T13:38:52.020Z"
   },
   {
    "duration": 126,
    "start_time": "2024-02-19T13:39:09.978Z"
   },
   {
    "duration": 11,
    "start_time": "2024-02-19T13:40:30.987Z"
   },
   {
    "duration": 12,
    "start_time": "2024-02-19T13:40:35.972Z"
   },
   {
    "duration": 18,
    "start_time": "2024-02-19T13:40:55.788Z"
   },
   {
    "duration": 5,
    "start_time": "2024-02-19T13:42:20.475Z"
   },
   {
    "duration": 6,
    "start_time": "2024-02-19T13:48:09.369Z"
   },
   {
    "duration": 6,
    "start_time": "2024-02-19T13:48:49.272Z"
   },
   {
    "duration": 71,
    "start_time": "2024-02-19T13:50:15.257Z"
   },
   {
    "duration": 1397,
    "start_time": "2024-02-19T13:50:21.681Z"
   },
   {
    "duration": 1164,
    "start_time": "2024-02-19T13:50:56.210Z"
   },
   {
    "duration": 36,
    "start_time": "2024-02-19T13:51:04.899Z"
   },
   {
    "duration": 8,
    "start_time": "2024-02-19T13:51:36.725Z"
   },
   {
    "duration": 8,
    "start_time": "2024-02-19T13:52:00.244Z"
   },
   {
    "duration": 135,
    "start_time": "2024-02-19T14:15:44.939Z"
   },
   {
    "duration": 134,
    "start_time": "2024-02-19T14:18:08.516Z"
   },
   {
    "duration": 127,
    "start_time": "2024-02-19T14:18:42.060Z"
   },
   {
    "duration": 94,
    "start_time": "2024-02-19T14:18:47.236Z"
   },
   {
    "duration": 90,
    "start_time": "2024-02-19T14:19:00.500Z"
   },
   {
    "duration": 12,
    "start_time": "2024-02-19T14:19:09.916Z"
   },
   {
    "duration": 129,
    "start_time": "2024-02-19T14:19:15.447Z"
   },
   {
    "duration": 202,
    "start_time": "2024-02-19T14:19:33.268Z"
   },
   {
    "duration": 116,
    "start_time": "2024-02-19T14:19:37.756Z"
   },
   {
    "duration": 11,
    "start_time": "2024-02-19T14:19:56.013Z"
   },
   {
    "duration": 60,
    "start_time": "2024-02-19T17:26:16.082Z"
   },
   {
    "duration": 692,
    "start_time": "2024-02-19T17:26:22.389Z"
   },
   {
    "duration": 91,
    "start_time": "2024-02-19T17:26:23.083Z"
   },
   {
    "duration": 12,
    "start_time": "2024-02-19T17:26:23.175Z"
   },
   {
    "duration": 44,
    "start_time": "2024-02-19T17:26:23.188Z"
   },
   {
    "duration": 3,
    "start_time": "2024-02-19T17:26:23.234Z"
   },
   {
    "duration": 29,
    "start_time": "2024-02-19T17:26:23.239Z"
   },
   {
    "duration": 19,
    "start_time": "2024-02-19T17:26:23.270Z"
   },
   {
    "duration": 73,
    "start_time": "2024-02-19T17:26:23.291Z"
   },
   {
    "duration": 19,
    "start_time": "2024-02-19T17:26:23.366Z"
   },
   {
    "duration": 11,
    "start_time": "2024-02-19T17:26:23.387Z"
   },
   {
    "duration": 37,
    "start_time": "2024-02-19T17:26:23.399Z"
   },
   {
    "duration": 20,
    "start_time": "2024-02-19T17:26:23.438Z"
   },
   {
    "duration": 10,
    "start_time": "2024-02-19T17:26:23.460Z"
   },
   {
    "duration": 22,
    "start_time": "2024-02-19T17:26:23.473Z"
   },
   {
    "duration": 8,
    "start_time": "2024-02-19T17:26:23.497Z"
   },
   {
    "duration": 20,
    "start_time": "2024-02-19T17:26:23.507Z"
   },
   {
    "duration": 14,
    "start_time": "2024-02-19T17:26:23.529Z"
   },
   {
    "duration": 40,
    "start_time": "2024-02-19T17:26:23.545Z"
   },
   {
    "duration": 24,
    "start_time": "2024-02-19T17:26:23.586Z"
   },
   {
    "duration": 11,
    "start_time": "2024-02-19T17:26:23.612Z"
   },
   {
    "duration": 12,
    "start_time": "2024-02-19T17:26:23.625Z"
   },
   {
    "duration": 40,
    "start_time": "2024-02-19T17:26:23.638Z"
   },
   {
    "duration": 4,
    "start_time": "2024-02-19T17:26:23.680Z"
   },
   {
    "duration": 23,
    "start_time": "2024-02-19T17:26:23.686Z"
   },
   {
    "duration": 38,
    "start_time": "2024-02-19T17:26:23.711Z"
   },
   {
    "duration": 992,
    "start_time": "2024-02-19T17:26:23.772Z"
   },
   {
    "duration": 297,
    "start_time": "2024-02-19T17:26:24.766Z"
   },
   {
    "duration": 29,
    "start_time": "2024-02-19T17:26:25.064Z"
   },
   {
    "duration": 9,
    "start_time": "2024-02-19T17:26:25.094Z"
   },
   {
    "duration": 89,
    "start_time": "2024-02-19T17:26:25.105Z"
   },
   {
    "duration": 36,
    "start_time": "2024-02-19T17:26:25.196Z"
   },
   {
    "duration": 47,
    "start_time": "2024-02-19T17:26:25.234Z"
   },
   {
    "duration": 7,
    "start_time": "2024-02-19T17:26:25.282Z"
   },
   {
    "duration": 7,
    "start_time": "2024-02-19T17:26:25.290Z"
   },
   {
    "duration": 17,
    "start_time": "2024-02-19T17:26:25.298Z"
   },
   {
    "duration": 141,
    "start_time": "2024-02-19T17:26:25.317Z"
   },
   {
    "duration": 139,
    "start_time": "2024-02-19T17:26:25.460Z"
   },
   {
    "duration": 8,
    "start_time": "2024-02-19T17:26:25.601Z"
   },
   {
    "duration": 21,
    "start_time": "2024-02-19T17:26:25.610Z"
   },
   {
    "duration": 50,
    "start_time": "2024-02-19T17:26:25.633Z"
   },
   {
    "duration": 9,
    "start_time": "2024-02-19T17:26:25.686Z"
   },
   {
    "duration": 19,
    "start_time": "2024-02-19T17:26:25.696Z"
   },
   {
    "duration": 161,
    "start_time": "2024-02-19T17:26:25.716Z"
   },
   {
    "duration": 10,
    "start_time": "2024-02-19T17:26:25.879Z"
   },
   {
    "duration": 136,
    "start_time": "2024-02-19T17:26:25.891Z"
   },
   {
    "duration": 123,
    "start_time": "2024-02-19T17:27:02.332Z"
   },
   {
    "duration": 9,
    "start_time": "2024-02-19T17:28:58.171Z"
   },
   {
    "duration": 11,
    "start_time": "2024-02-19T17:29:04.595Z"
   },
   {
    "duration": 131,
    "start_time": "2024-02-19T17:33:10.228Z"
   },
   {
    "duration": 140,
    "start_time": "2024-02-19T17:33:23.341Z"
   },
   {
    "duration": 162,
    "start_time": "2024-02-19T17:34:30.100Z"
   },
   {
    "duration": 75,
    "start_time": "2024-02-19T17:39:19.214Z"
   },
   {
    "duration": 159,
    "start_time": "2024-02-19T17:39:24.068Z"
   },
   {
    "duration": 215,
    "start_time": "2024-02-19T17:39:44.372Z"
   },
   {
    "duration": 151,
    "start_time": "2024-02-19T17:40:10.509Z"
   },
   {
    "duration": 148,
    "start_time": "2024-02-19T17:42:49.285Z"
   },
   {
    "duration": 152,
    "start_time": "2024-02-19T17:43:11.613Z"
   },
   {
    "duration": 13,
    "start_time": "2024-02-19T17:44:42.094Z"
   },
   {
    "duration": 169,
    "start_time": "2024-02-19T17:45:05.909Z"
   },
   {
    "duration": 128,
    "start_time": "2024-02-19T17:45:18.294Z"
   },
   {
    "duration": 154,
    "start_time": "2024-02-19T17:45:30.691Z"
   },
   {
    "duration": 4039,
    "start_time": "2024-02-19T17:48:12.862Z"
   },
   {
    "duration": 148,
    "start_time": "2024-02-19T17:48:29.357Z"
   },
   {
    "duration": 175,
    "start_time": "2024-02-19T17:48:36.949Z"
   },
   {
    "duration": 144,
    "start_time": "2024-02-19T17:48:41.438Z"
   },
   {
    "duration": 148,
    "start_time": "2024-02-19T17:48:45.510Z"
   },
   {
    "duration": 142,
    "start_time": "2024-02-19T17:51:18.574Z"
   },
   {
    "duration": 144,
    "start_time": "2024-02-19T17:51:34.022Z"
   },
   {
    "duration": 214,
    "start_time": "2024-02-19T17:51:49.334Z"
   },
   {
    "duration": 112,
    "start_time": "2024-02-19T17:52:17.919Z"
   },
   {
    "duration": 134,
    "start_time": "2024-02-19T17:52:29.733Z"
   },
   {
    "duration": 198,
    "start_time": "2024-02-19T17:52:55.023Z"
   },
   {
    "duration": 161,
    "start_time": "2024-02-19T17:53:02.767Z"
   },
   {
    "duration": 133,
    "start_time": "2024-02-19T17:53:08.406Z"
   },
   {
    "duration": 145,
    "start_time": "2024-02-19T17:54:29.286Z"
   },
   {
    "duration": 538,
    "start_time": "2024-02-19T17:58:49.074Z"
   },
   {
    "duration": 45,
    "start_time": "2024-02-19T17:58:49.614Z"
   },
   {
    "duration": 13,
    "start_time": "2024-02-19T17:58:49.661Z"
   },
   {
    "duration": 51,
    "start_time": "2024-02-19T17:58:49.676Z"
   },
   {
    "duration": 3,
    "start_time": "2024-02-19T17:58:49.729Z"
   },
   {
    "duration": 20,
    "start_time": "2024-02-19T17:58:49.734Z"
   },
   {
    "duration": 19,
    "start_time": "2024-02-19T17:58:49.755Z"
   },
   {
    "duration": 19,
    "start_time": "2024-02-19T17:58:49.775Z"
   },
   {
    "duration": 18,
    "start_time": "2024-02-19T17:58:49.796Z"
   },
   {
    "duration": 9,
    "start_time": "2024-02-19T17:58:49.815Z"
   },
   {
    "duration": 10,
    "start_time": "2024-02-19T17:58:49.825Z"
   },
   {
    "duration": 43,
    "start_time": "2024-02-19T17:58:49.837Z"
   },
   {
    "duration": 10,
    "start_time": "2024-02-19T17:58:49.881Z"
   },
   {
    "duration": 14,
    "start_time": "2024-02-19T17:58:49.894Z"
   },
   {
    "duration": 6,
    "start_time": "2024-02-19T17:58:49.910Z"
   },
   {
    "duration": 30,
    "start_time": "2024-02-19T17:58:49.917Z"
   },
   {
    "duration": 27,
    "start_time": "2024-02-19T17:58:49.949Z"
   },
   {
    "duration": 27,
    "start_time": "2024-02-19T17:58:49.977Z"
   },
   {
    "duration": 24,
    "start_time": "2024-02-19T17:58:50.005Z"
   },
   {
    "duration": 11,
    "start_time": "2024-02-19T17:58:50.031Z"
   },
   {
    "duration": 39,
    "start_time": "2024-02-19T17:58:50.044Z"
   },
   {
    "duration": 11,
    "start_time": "2024-02-19T17:58:50.085Z"
   },
   {
    "duration": 13,
    "start_time": "2024-02-19T17:58:50.097Z"
   },
   {
    "duration": 29,
    "start_time": "2024-02-19T17:58:50.111Z"
   },
   {
    "duration": 60,
    "start_time": "2024-02-19T17:58:50.141Z"
   },
   {
    "duration": 785,
    "start_time": "2024-02-19T17:58:50.203Z"
   },
   {
    "duration": 295,
    "start_time": "2024-02-19T17:58:50.989Z"
   },
   {
    "duration": 22,
    "start_time": "2024-02-19T17:58:51.285Z"
   },
   {
    "duration": 18,
    "start_time": "2024-02-19T17:58:51.308Z"
   },
   {
    "duration": 82,
    "start_time": "2024-02-19T17:58:51.327Z"
   },
   {
    "duration": 35,
    "start_time": "2024-02-19T17:58:51.410Z"
   },
   {
    "duration": 42,
    "start_time": "2024-02-19T17:58:51.447Z"
   },
   {
    "duration": 6,
    "start_time": "2024-02-19T17:58:51.491Z"
   },
   {
    "duration": 20,
    "start_time": "2024-02-19T17:58:51.498Z"
   },
   {
    "duration": 16,
    "start_time": "2024-02-19T17:58:51.519Z"
   },
   {
    "duration": 128,
    "start_time": "2024-02-19T17:58:51.536Z"
   },
   {
    "duration": 134,
    "start_time": "2024-02-19T17:58:51.665Z"
   },
   {
    "duration": 6,
    "start_time": "2024-02-19T17:58:51.800Z"
   },
   {
    "duration": 28,
    "start_time": "2024-02-19T17:58:51.808Z"
   },
   {
    "duration": 36,
    "start_time": "2024-02-19T17:58:51.838Z"
   },
   {
    "duration": 9,
    "start_time": "2024-02-19T17:58:51.879Z"
   },
   {
    "duration": 21,
    "start_time": "2024-02-19T17:58:51.890Z"
   },
   {
    "duration": 175,
    "start_time": "2024-02-19T17:58:51.913Z"
   },
   {
    "duration": 11,
    "start_time": "2024-02-19T17:58:52.089Z"
   },
   {
    "duration": 153,
    "start_time": "2024-02-19T17:58:52.102Z"
   },
   {
    "duration": 130,
    "start_time": "2024-02-19T17:59:14.598Z"
   },
   {
    "duration": 130,
    "start_time": "2024-02-19T17:59:25.695Z"
   },
   {
    "duration": 121,
    "start_time": "2024-02-19T17:59:39.214Z"
   },
   {
    "duration": 151,
    "start_time": "2024-02-19T17:59:44.366Z"
   },
   {
    "duration": 149,
    "start_time": "2024-02-19T18:05:01.967Z"
   },
   {
    "duration": 188,
    "start_time": "2024-02-19T18:05:07.879Z"
   },
   {
    "duration": 130,
    "start_time": "2024-02-19T18:05:21.583Z"
   },
   {
    "duration": 133,
    "start_time": "2024-02-19T18:05:28.134Z"
   },
   {
    "duration": 137,
    "start_time": "2024-02-19T18:05:54.270Z"
   },
   {
    "duration": 69,
    "start_time": "2024-02-19T18:06:09.582Z"
   },
   {
    "duration": 4073,
    "start_time": "2024-02-19T18:06:28.318Z"
   },
   {
    "duration": 126,
    "start_time": "2024-02-19T18:06:46.699Z"
   },
   {
    "duration": 148,
    "start_time": "2024-02-19T18:06:55.518Z"
   },
   {
    "duration": 131,
    "start_time": "2024-02-19T18:08:27.558Z"
   },
   {
    "duration": 1706,
    "start_time": "2024-02-19T18:09:41.190Z"
   },
   {
    "duration": 5,
    "start_time": "2024-02-19T18:09:47.462Z"
   },
   {
    "duration": 8,
    "start_time": "2024-02-19T18:10:45.975Z"
   },
   {
    "duration": 150,
    "start_time": "2024-02-19T18:11:05.558Z"
   },
   {
    "duration": 6,
    "start_time": "2024-02-19T18:11:11.318Z"
   },
   {
    "duration": 9,
    "start_time": "2024-02-19T18:11:34.711Z"
   },
   {
    "duration": 5,
    "start_time": "2024-02-19T18:17:51.255Z"
   },
   {
    "duration": 8,
    "start_time": "2024-02-19T18:29:46.110Z"
   },
   {
    "duration": 5,
    "start_time": "2024-02-19T18:30:34.517Z"
   },
   {
    "duration": 6,
    "start_time": "2024-02-19T18:30:36.301Z"
   },
   {
    "duration": 6,
    "start_time": "2024-02-19T18:36:34.781Z"
   },
   {
    "duration": 513,
    "start_time": "2024-02-19T19:16:42.306Z"
   },
   {
    "duration": 45,
    "start_time": "2024-02-19T19:16:42.821Z"
   },
   {
    "duration": 13,
    "start_time": "2024-02-19T19:16:42.868Z"
   },
   {
    "duration": 53,
    "start_time": "2024-02-19T19:16:42.883Z"
   },
   {
    "duration": 3,
    "start_time": "2024-02-19T19:16:42.939Z"
   },
   {
    "duration": 26,
    "start_time": "2024-02-19T19:16:42.944Z"
   },
   {
    "duration": 43,
    "start_time": "2024-02-19T19:16:42.972Z"
   },
   {
    "duration": 19,
    "start_time": "2024-02-19T19:16:43.017Z"
   },
   {
    "duration": 20,
    "start_time": "2024-02-19T19:16:43.038Z"
   },
   {
    "duration": 14,
    "start_time": "2024-02-19T19:16:43.060Z"
   },
   {
    "duration": 10,
    "start_time": "2024-02-19T19:16:43.075Z"
   },
   {
    "duration": 14,
    "start_time": "2024-02-19T19:16:43.086Z"
   },
   {
    "duration": 9,
    "start_time": "2024-02-19T19:16:43.102Z"
   },
   {
    "duration": 28,
    "start_time": "2024-02-19T19:16:43.114Z"
   },
   {
    "duration": 9,
    "start_time": "2024-02-19T19:16:43.144Z"
   },
   {
    "duration": 32,
    "start_time": "2024-02-19T19:16:43.154Z"
   },
   {
    "duration": 7,
    "start_time": "2024-02-19T19:16:43.188Z"
   },
   {
    "duration": 23,
    "start_time": "2024-02-19T19:16:43.197Z"
   },
   {
    "duration": 22,
    "start_time": "2024-02-19T19:16:43.222Z"
   },
   {
    "duration": 11,
    "start_time": "2024-02-19T19:16:43.273Z"
   },
   {
    "duration": 16,
    "start_time": "2024-02-19T19:16:43.285Z"
   },
   {
    "duration": 9,
    "start_time": "2024-02-19T19:16:43.303Z"
   },
   {
    "duration": 3,
    "start_time": "2024-02-19T19:16:43.314Z"
   },
   {
    "duration": 20,
    "start_time": "2024-02-19T19:16:43.318Z"
   },
   {
    "duration": 54,
    "start_time": "2024-02-19T19:16:43.340Z"
   },
   {
    "duration": 829,
    "start_time": "2024-02-19T19:16:43.395Z"
   },
   {
    "duration": 304,
    "start_time": "2024-02-19T19:16:44.226Z"
   },
   {
    "duration": 24,
    "start_time": "2024-02-19T19:16:44.532Z"
   },
   {
    "duration": 24,
    "start_time": "2024-02-19T19:16:44.557Z"
   },
   {
    "duration": 68,
    "start_time": "2024-02-19T19:16:44.583Z"
   },
   {
    "duration": 52,
    "start_time": "2024-02-19T19:16:44.653Z"
   },
   {
    "duration": 25,
    "start_time": "2024-02-19T19:16:44.707Z"
   },
   {
    "duration": 8,
    "start_time": "2024-02-19T19:16:44.734Z"
   },
   {
    "duration": 32,
    "start_time": "2024-02-19T19:16:44.744Z"
   },
   {
    "duration": 5,
    "start_time": "2024-02-19T19:16:44.777Z"
   },
   {
    "duration": 16,
    "start_time": "2024-02-19T19:16:44.784Z"
   },
   {
    "duration": 173,
    "start_time": "2024-02-19T19:16:44.801Z"
   },
   {
    "duration": 141,
    "start_time": "2024-02-19T19:16:44.976Z"
   },
   {
    "duration": 6,
    "start_time": "2024-02-19T19:16:45.119Z"
   },
   {
    "duration": 50,
    "start_time": "2024-02-19T19:16:45.127Z"
   },
   {
    "duration": 24,
    "start_time": "2024-02-19T19:16:45.181Z"
   },
   {
    "duration": 9,
    "start_time": "2024-02-19T19:16:45.207Z"
   },
   {
    "duration": 29,
    "start_time": "2024-02-19T19:16:45.218Z"
   },
   {
    "duration": 26,
    "start_time": "2024-02-19T19:16:45.249Z"
   },
   {
    "duration": 148,
    "start_time": "2024-02-19T19:16:45.276Z"
   },
   {
    "duration": 12,
    "start_time": "2024-02-19T19:16:45.426Z"
   },
   {
    "duration": 165,
    "start_time": "2024-02-19T19:16:45.440Z"
   },
   {
    "duration": 9,
    "start_time": "2024-02-19T19:16:45.607Z"
   },
   {
    "duration": 595,
    "start_time": "2024-02-19T19:31:25.982Z"
   },
   {
    "duration": 84,
    "start_time": "2024-02-19T19:31:26.579Z"
   },
   {
    "duration": 12,
    "start_time": "2024-02-19T19:31:26.665Z"
   },
   {
    "duration": 31,
    "start_time": "2024-02-19T19:31:26.680Z"
   },
   {
    "duration": 2,
    "start_time": "2024-02-19T19:31:26.713Z"
   },
   {
    "duration": 15,
    "start_time": "2024-02-19T19:31:26.717Z"
   },
   {
    "duration": 47,
    "start_time": "2024-02-19T19:31:26.734Z"
   },
   {
    "duration": 20,
    "start_time": "2024-02-19T19:31:26.783Z"
   },
   {
    "duration": 17,
    "start_time": "2024-02-19T19:31:26.805Z"
   },
   {
    "duration": 8,
    "start_time": "2024-02-19T19:31:26.826Z"
   },
   {
    "duration": 36,
    "start_time": "2024-02-19T19:31:26.835Z"
   },
   {
    "duration": 14,
    "start_time": "2024-02-19T19:31:26.873Z"
   },
   {
    "duration": 9,
    "start_time": "2024-02-19T19:31:26.889Z"
   },
   {
    "duration": 16,
    "start_time": "2024-02-19T19:31:26.899Z"
   },
   {
    "duration": 16,
    "start_time": "2024-02-19T19:31:26.916Z"
   },
   {
    "duration": 38,
    "start_time": "2024-02-19T19:31:26.933Z"
   },
   {
    "duration": 8,
    "start_time": "2024-02-19T19:31:26.973Z"
   },
   {
    "duration": 22,
    "start_time": "2024-02-19T19:31:26.983Z"
   },
   {
    "duration": 22,
    "start_time": "2024-02-19T19:31:27.006Z"
   },
   {
    "duration": 40,
    "start_time": "2024-02-19T19:31:27.030Z"
   },
   {
    "duration": 10,
    "start_time": "2024-02-19T19:31:27.071Z"
   },
   {
    "duration": 9,
    "start_time": "2024-02-19T19:31:27.083Z"
   },
   {
    "duration": 4,
    "start_time": "2024-02-19T19:31:27.093Z"
   },
   {
    "duration": 12,
    "start_time": "2024-02-19T19:31:27.098Z"
   },
   {
    "duration": 66,
    "start_time": "2024-02-19T19:31:27.112Z"
   },
   {
    "duration": 736,
    "start_time": "2024-02-19T19:31:27.179Z"
   },
   {
    "duration": 269,
    "start_time": "2024-02-19T19:31:27.917Z"
   },
   {
    "duration": 78,
    "start_time": "2024-02-19T19:31:28.190Z"
   },
   {
    "duration": 8,
    "start_time": "2024-02-19T19:31:28.270Z"
   },
   {
    "duration": 16,
    "start_time": "2024-02-19T19:31:28.280Z"
   },
   {
    "duration": 35,
    "start_time": "2024-02-19T19:31:28.297Z"
   },
   {
    "duration": 45,
    "start_time": "2024-02-19T19:31:28.334Z"
   },
   {
    "duration": 18,
    "start_time": "2024-02-19T19:31:28.380Z"
   },
   {
    "duration": 5,
    "start_time": "2024-02-19T19:31:28.399Z"
   },
   {
    "duration": 4,
    "start_time": "2024-02-19T19:31:28.405Z"
   },
   {
    "duration": 16,
    "start_time": "2024-02-19T19:31:28.410Z"
   },
   {
    "duration": 137,
    "start_time": "2024-02-19T19:31:28.428Z"
   },
   {
    "duration": 124,
    "start_time": "2024-02-19T19:31:28.566Z"
   },
   {
    "duration": 6,
    "start_time": "2024-02-19T19:31:28.691Z"
   },
   {
    "duration": 20,
    "start_time": "2024-02-19T19:31:28.698Z"
   },
   {
    "duration": 21,
    "start_time": "2024-02-19T19:31:28.720Z"
   },
   {
    "duration": 9,
    "start_time": "2024-02-19T19:31:28.764Z"
   },
   {
    "duration": 16,
    "start_time": "2024-02-19T19:31:28.775Z"
   },
   {
    "duration": 3,
    "start_time": "2024-02-19T19:31:28.793Z"
   },
   {
    "duration": 172,
    "start_time": "2024-02-19T19:31:28.798Z"
   },
   {
    "duration": 13,
    "start_time": "2024-02-19T19:31:28.971Z"
   },
   {
    "duration": 146,
    "start_time": "2024-02-19T19:31:28.986Z"
   },
   {
    "duration": 8,
    "start_time": "2024-02-19T19:31:29.134Z"
   },
   {
    "duration": 6,
    "start_time": "2024-02-19T20:02:07.229Z"
   },
   {
    "duration": 459,
    "start_time": "2024-02-19T20:02:16.508Z"
   },
   {
    "duration": 46,
    "start_time": "2024-02-19T20:02:16.969Z"
   },
   {
    "duration": 12,
    "start_time": "2024-02-19T20:02:17.017Z"
   },
   {
    "duration": 33,
    "start_time": "2024-02-19T20:02:17.031Z"
   },
   {
    "duration": 3,
    "start_time": "2024-02-19T20:02:17.065Z"
   },
   {
    "duration": 19,
    "start_time": "2024-02-19T20:02:17.069Z"
   },
   {
    "duration": 18,
    "start_time": "2024-02-19T20:02:17.089Z"
   },
   {
    "duration": 17,
    "start_time": "2024-02-19T20:02:17.108Z"
   },
   {
    "duration": 39,
    "start_time": "2024-02-19T20:02:17.126Z"
   },
   {
    "duration": 9,
    "start_time": "2024-02-19T20:02:17.167Z"
   },
   {
    "duration": 9,
    "start_time": "2024-02-19T20:02:17.177Z"
   },
   {
    "duration": 16,
    "start_time": "2024-02-19T20:02:17.187Z"
   },
   {
    "duration": 5,
    "start_time": "2024-02-19T20:02:17.204Z"
   },
   {
    "duration": 17,
    "start_time": "2024-02-19T20:02:17.211Z"
   },
   {
    "duration": 43,
    "start_time": "2024-02-19T20:02:17.230Z"
   },
   {
    "duration": 6,
    "start_time": "2024-02-19T20:02:17.275Z"
   },
   {
    "duration": 19,
    "start_time": "2024-02-19T20:02:17.282Z"
   },
   {
    "duration": 6,
    "start_time": "2024-02-19T20:02:17.302Z"
   },
   {
    "duration": 23,
    "start_time": "2024-02-19T20:02:17.310Z"
   },
   {
    "duration": 50,
    "start_time": "2024-02-19T20:02:17.335Z"
   },
   {
    "duration": 12,
    "start_time": "2024-02-19T20:02:17.387Z"
   },
   {
    "duration": 10,
    "start_time": "2024-02-19T20:02:17.400Z"
   },
   {
    "duration": 13,
    "start_time": "2024-02-19T20:02:17.412Z"
   },
   {
    "duration": 20,
    "start_time": "2024-02-19T20:02:17.426Z"
   },
   {
    "duration": 28,
    "start_time": "2024-02-19T20:02:17.447Z"
   },
   {
    "duration": 48,
    "start_time": "2024-02-19T20:02:17.476Z"
   },
   {
    "duration": 714,
    "start_time": "2024-02-19T20:02:17.526Z"
   },
   {
    "duration": 296,
    "start_time": "2024-02-19T20:02:18.244Z"
   },
   {
    "duration": 29,
    "start_time": "2024-02-19T20:02:18.541Z"
   },
   {
    "duration": 13,
    "start_time": "2024-02-19T20:02:18.571Z"
   },
   {
    "duration": 87,
    "start_time": "2024-02-19T20:02:18.587Z"
   },
   {
    "duration": 32,
    "start_time": "2024-02-19T20:02:18.675Z"
   },
   {
    "duration": 21,
    "start_time": "2024-02-19T20:02:18.709Z"
   },
   {
    "duration": 5,
    "start_time": "2024-02-19T20:02:18.732Z"
   },
   {
    "duration": 30,
    "start_time": "2024-02-19T20:02:18.738Z"
   },
   {
    "duration": 8,
    "start_time": "2024-02-19T20:02:18.770Z"
   },
   {
    "duration": 27,
    "start_time": "2024-02-19T20:02:18.780Z"
   },
   {
    "duration": 140,
    "start_time": "2024-02-19T20:02:18.808Z"
   },
   {
    "duration": 135,
    "start_time": "2024-02-19T20:02:18.951Z"
   },
   {
    "duration": 6,
    "start_time": "2024-02-19T20:02:19.087Z"
   },
   {
    "duration": 20,
    "start_time": "2024-02-19T20:02:19.095Z"
   },
   {
    "duration": 21,
    "start_time": "2024-02-19T20:02:19.117Z"
   },
   {
    "duration": 30,
    "start_time": "2024-02-19T20:02:19.139Z"
   },
   {
    "duration": 20,
    "start_time": "2024-02-19T20:02:19.170Z"
   },
   {
    "duration": 4,
    "start_time": "2024-02-19T20:02:19.192Z"
   },
   {
    "duration": 144,
    "start_time": "2024-02-19T20:02:19.197Z"
   },
   {
    "duration": 12,
    "start_time": "2024-02-19T20:02:19.343Z"
   },
   {
    "duration": 136,
    "start_time": "2024-02-19T20:02:19.365Z"
   },
   {
    "duration": 9,
    "start_time": "2024-02-19T20:02:19.502Z"
   },
   {
    "duration": 3,
    "start_time": "2024-02-19T20:03:14.209Z"
   },
   {
    "duration": 509,
    "start_time": "2024-02-19T20:03:21.956Z"
   },
   {
    "duration": 43,
    "start_time": "2024-02-19T20:03:22.468Z"
   },
   {
    "duration": 12,
    "start_time": "2024-02-19T20:03:22.513Z"
   },
   {
    "duration": 33,
    "start_time": "2024-02-19T20:03:22.527Z"
   },
   {
    "duration": 2,
    "start_time": "2024-02-19T20:03:22.562Z"
   },
   {
    "duration": 17,
    "start_time": "2024-02-19T20:03:22.565Z"
   },
   {
    "duration": 18,
    "start_time": "2024-02-19T20:03:22.584Z"
   },
   {
    "duration": 17,
    "start_time": "2024-02-19T20:03:22.604Z"
   },
   {
    "duration": 44,
    "start_time": "2024-02-19T20:03:22.622Z"
   },
   {
    "duration": 8,
    "start_time": "2024-02-19T20:03:22.669Z"
   },
   {
    "duration": 10,
    "start_time": "2024-02-19T20:03:22.679Z"
   },
   {
    "duration": 12,
    "start_time": "2024-02-19T20:03:22.691Z"
   },
   {
    "duration": 4,
    "start_time": "2024-02-19T20:03:22.705Z"
   },
   {
    "duration": 8,
    "start_time": "2024-02-19T20:03:22.711Z"
   },
   {
    "duration": 46,
    "start_time": "2024-02-19T20:03:22.720Z"
   },
   {
    "duration": 8,
    "start_time": "2024-02-19T20:03:22.768Z"
   },
   {
    "duration": 19,
    "start_time": "2024-02-19T20:03:22.777Z"
   },
   {
    "duration": 6,
    "start_time": "2024-02-19T20:03:22.797Z"
   },
   {
    "duration": 23,
    "start_time": "2024-02-19T20:03:22.804Z"
   },
   {
    "duration": 57,
    "start_time": "2024-02-19T20:03:22.829Z"
   },
   {
    "duration": 11,
    "start_time": "2024-02-19T20:03:22.887Z"
   },
   {
    "duration": 9,
    "start_time": "2024-02-19T20:03:22.900Z"
   },
   {
    "duration": 9,
    "start_time": "2024-02-19T20:03:22.911Z"
   },
   {
    "duration": 3,
    "start_time": "2024-02-19T20:03:22.921Z"
   },
   {
    "duration": 41,
    "start_time": "2024-02-19T20:03:22.925Z"
   },
   {
    "duration": 13,
    "start_time": "2024-02-19T20:03:22.967Z"
   },
   {
    "duration": 39,
    "start_time": "2024-02-19T20:03:22.981Z"
   },
   {
    "duration": 726,
    "start_time": "2024-02-19T20:03:23.023Z"
   },
   {
    "duration": 287,
    "start_time": "2024-02-19T20:03:23.750Z"
   },
   {
    "duration": 28,
    "start_time": "2024-02-19T20:03:24.038Z"
   },
   {
    "duration": 12,
    "start_time": "2024-02-19T20:03:24.067Z"
   },
   {
    "duration": 124,
    "start_time": "2024-02-19T20:03:24.081Z"
   },
   {
    "duration": 88,
    "start_time": "2024-02-19T20:03:24.206Z"
   },
   {
    "duration": 78,
    "start_time": "2024-02-19T20:03:24.295Z"
   },
   {
    "duration": 24,
    "start_time": "2024-02-19T20:03:24.374Z"
   },
   {
    "duration": 27,
    "start_time": "2024-02-19T20:03:24.399Z"
   },
   {
    "duration": 40,
    "start_time": "2024-02-19T20:03:24.427Z"
   },
   {
    "duration": 21,
    "start_time": "2024-02-19T20:03:24.468Z"
   },
   {
    "duration": 274,
    "start_time": "2024-02-19T20:03:24.491Z"
   },
   {
    "duration": 219,
    "start_time": "2024-02-19T20:03:24.766Z"
   },
   {
    "duration": 6,
    "start_time": "2024-02-19T20:03:24.986Z"
   },
   {
    "duration": 75,
    "start_time": "2024-02-19T20:03:24.994Z"
   },
   {
    "duration": 23,
    "start_time": "2024-02-19T20:03:25.071Z"
   },
   {
    "duration": 8,
    "start_time": "2024-02-19T20:03:25.095Z"
   },
   {
    "duration": 71,
    "start_time": "2024-02-19T20:03:25.105Z"
   },
   {
    "duration": 7,
    "start_time": "2024-02-19T20:03:25.177Z"
   },
   {
    "duration": 283,
    "start_time": "2024-02-19T20:03:25.186Z"
   },
   {
    "duration": 10,
    "start_time": "2024-02-19T20:03:25.471Z"
   },
   {
    "duration": 150,
    "start_time": "2024-02-19T20:03:25.483Z"
   },
   {
    "duration": 9,
    "start_time": "2024-02-19T20:03:25.635Z"
   },
   {
    "duration": 6,
    "start_time": "2024-02-19T20:08:43.216Z"
   },
   {
    "duration": 74,
    "start_time": "2024-02-20T05:58:50.685Z"
   },
   {
    "duration": 385,
    "start_time": "2024-02-20T05:59:19.966Z"
   },
   {
    "duration": 198,
    "start_time": "2024-02-20T05:59:20.353Z"
   },
   {
    "duration": 19,
    "start_time": "2024-02-20T05:59:20.553Z"
   },
   {
    "duration": 84,
    "start_time": "2024-02-20T05:59:20.574Z"
   },
   {
    "duration": 12,
    "start_time": "2024-02-20T05:59:20.660Z"
   },
   {
    "duration": 7,
    "start_time": "2024-02-20T05:59:20.673Z"
   },
   {
    "duration": 31,
    "start_time": "2024-02-20T05:59:20.681Z"
   },
   {
    "duration": 3,
    "start_time": "2024-02-20T05:59:20.713Z"
   },
   {
    "duration": 17,
    "start_time": "2024-02-20T05:59:20.717Z"
   },
   {
    "duration": 16,
    "start_time": "2024-02-20T05:59:20.736Z"
   },
   {
    "duration": 16,
    "start_time": "2024-02-20T05:59:20.754Z"
   },
   {
    "duration": 16,
    "start_time": "2024-02-20T05:59:20.772Z"
   },
   {
    "duration": 8,
    "start_time": "2024-02-20T05:59:20.817Z"
   },
   {
    "duration": 10,
    "start_time": "2024-02-20T05:59:20.826Z"
   },
   {
    "duration": 14,
    "start_time": "2024-02-20T05:59:20.838Z"
   },
   {
    "duration": 5,
    "start_time": "2024-02-20T05:59:20.854Z"
   },
   {
    "duration": 9,
    "start_time": "2024-02-20T05:59:20.860Z"
   },
   {
    "duration": 49,
    "start_time": "2024-02-20T05:59:20.870Z"
   },
   {
    "duration": 6,
    "start_time": "2024-02-20T05:59:20.920Z"
   },
   {
    "duration": 17,
    "start_time": "2024-02-20T05:59:20.928Z"
   },
   {
    "duration": 6,
    "start_time": "2024-02-20T05:59:20.946Z"
   },
   {
    "duration": 23,
    "start_time": "2024-02-20T05:59:20.954Z"
   },
   {
    "duration": 55,
    "start_time": "2024-02-20T05:59:20.978Z"
   },
   {
    "duration": 10,
    "start_time": "2024-02-20T05:59:21.035Z"
   },
   {
    "duration": 10,
    "start_time": "2024-02-20T05:59:21.046Z"
   },
   {
    "duration": 8,
    "start_time": "2024-02-20T05:59:21.058Z"
   },
   {
    "duration": 3,
    "start_time": "2024-02-20T05:59:21.067Z"
   },
   {
    "duration": 3,
    "start_time": "2024-02-20T05:59:21.073Z"
   },
   {
    "duration": 42,
    "start_time": "2024-02-20T05:59:21.077Z"
   },
   {
    "duration": 33,
    "start_time": "2024-02-20T05:59:21.121Z"
   },
   {
    "duration": 874,
    "start_time": "2024-02-20T05:59:21.155Z"
   },
   {
    "duration": 267,
    "start_time": "2024-02-20T05:59:22.031Z"
   },
   {
    "duration": 29,
    "start_time": "2024-02-20T05:59:22.299Z"
   },
   {
    "duration": 7,
    "start_time": "2024-02-20T05:59:22.330Z"
   },
   {
    "duration": 68,
    "start_time": "2024-02-20T05:59:22.338Z"
   },
   {
    "duration": 30,
    "start_time": "2024-02-20T05:59:22.418Z"
   },
   {
    "duration": 27,
    "start_time": "2024-02-20T05:59:22.450Z"
   },
   {
    "duration": 5,
    "start_time": "2024-02-20T05:59:22.478Z"
   },
   {
    "duration": 5,
    "start_time": "2024-02-20T05:59:22.484Z"
   },
   {
    "duration": 28,
    "start_time": "2024-02-20T05:59:22.490Z"
   },
   {
    "duration": 15,
    "start_time": "2024-02-20T05:59:22.519Z"
   },
   {
    "duration": 121,
    "start_time": "2024-02-20T05:59:22.535Z"
   },
   {
    "duration": 127,
    "start_time": "2024-02-20T05:59:22.658Z"
   },
   {
    "duration": 6,
    "start_time": "2024-02-20T05:59:22.787Z"
   },
   {
    "duration": 31,
    "start_time": "2024-02-20T05:59:22.794Z"
   },
   {
    "duration": 21,
    "start_time": "2024-02-20T05:59:22.827Z"
   },
   {
    "duration": 8,
    "start_time": "2024-02-20T05:59:22.849Z"
   },
   {
    "duration": 16,
    "start_time": "2024-02-20T05:59:22.858Z"
   },
   {
    "duration": 4,
    "start_time": "2024-02-20T05:59:22.876Z"
   },
   {
    "duration": 160,
    "start_time": "2024-02-20T05:59:22.881Z"
   },
   {
    "duration": 10,
    "start_time": "2024-02-20T05:59:23.043Z"
   },
   {
    "duration": 131,
    "start_time": "2024-02-20T05:59:23.055Z"
   },
   {
    "duration": 9,
    "start_time": "2024-02-20T05:59:23.188Z"
   },
   {
    "duration": 2,
    "start_time": "2024-02-20T06:21:11.167Z"
   },
   {
    "duration": 7,
    "start_time": "2024-02-20T06:21:15.469Z"
   },
   {
    "duration": 4,
    "start_time": "2024-02-20T06:31:47.668Z"
   },
   {
    "duration": 5,
    "start_time": "2024-02-20T06:31:57.412Z"
   },
   {
    "duration": 5,
    "start_time": "2024-02-20T06:32:16.532Z"
   },
   {
    "duration": 27,
    "start_time": "2024-02-20T06:52:55.817Z"
   },
   {
    "duration": 6,
    "start_time": "2024-02-20T06:53:00.744Z"
   },
   {
    "duration": 364,
    "start_time": "2024-02-20T07:00:58.069Z"
   },
   {
    "duration": 101,
    "start_time": "2024-02-20T07:00:58.435Z"
   },
   {
    "duration": 21,
    "start_time": "2024-02-20T07:00:58.537Z"
   },
   {
    "duration": 41,
    "start_time": "2024-02-20T07:00:58.560Z"
   },
   {
    "duration": 26,
    "start_time": "2024-02-20T07:00:58.603Z"
   },
   {
    "duration": 10,
    "start_time": "2024-02-20T07:00:58.631Z"
   },
   {
    "duration": 4,
    "start_time": "2024-02-20T07:00:58.642Z"
   },
   {
    "duration": 32,
    "start_time": "2024-02-20T07:00:58.647Z"
   },
   {
    "duration": 8,
    "start_time": "2024-02-20T07:00:58.680Z"
   },
   {
    "duration": 2,
    "start_time": "2024-02-20T07:00:58.690Z"
   },
   {
    "duration": 37,
    "start_time": "2024-02-20T07:00:58.694Z"
   },
   {
    "duration": 16,
    "start_time": "2024-02-20T07:00:58.733Z"
   },
   {
    "duration": 24,
    "start_time": "2024-02-20T07:00:58.751Z"
   },
   {
    "duration": 17,
    "start_time": "2024-02-20T07:00:58.776Z"
   },
   {
    "duration": 25,
    "start_time": "2024-02-20T07:00:58.795Z"
   },
   {
    "duration": 14,
    "start_time": "2024-02-20T07:00:58.822Z"
   },
   {
    "duration": 14,
    "start_time": "2024-02-20T07:00:58.837Z"
   },
   {
    "duration": 4,
    "start_time": "2024-02-20T07:00:58.853Z"
   },
   {
    "duration": 13,
    "start_time": "2024-02-20T07:00:58.858Z"
   },
   {
    "duration": 14,
    "start_time": "2024-02-20T07:00:58.872Z"
   },
   {
    "duration": 35,
    "start_time": "2024-02-20T07:00:58.887Z"
   },
   {
    "duration": 17,
    "start_time": "2024-02-20T07:00:58.923Z"
   },
   {
    "duration": 15,
    "start_time": "2024-02-20T07:00:58.942Z"
   },
   {
    "duration": 21,
    "start_time": "2024-02-20T07:00:58.959Z"
   },
   {
    "duration": 41,
    "start_time": "2024-02-20T07:00:58.982Z"
   },
   {
    "duration": 11,
    "start_time": "2024-02-20T07:00:59.025Z"
   },
   {
    "duration": 17,
    "start_time": "2024-02-20T07:00:59.037Z"
   },
   {
    "duration": 9,
    "start_time": "2024-02-20T07:00:59.057Z"
   },
   {
    "duration": 3,
    "start_time": "2024-02-20T07:00:59.068Z"
   },
   {
    "duration": 11,
    "start_time": "2024-02-20T07:00:59.073Z"
   },
   {
    "duration": 33,
    "start_time": "2024-02-20T07:00:59.085Z"
   },
   {
    "duration": 35,
    "start_time": "2024-02-20T07:00:59.119Z"
   },
   {
    "duration": 732,
    "start_time": "2024-02-20T07:00:59.156Z"
   },
   {
    "duration": 287,
    "start_time": "2024-02-20T07:00:59.889Z"
   },
   {
    "duration": 20,
    "start_time": "2024-02-20T07:01:00.178Z"
   },
   {
    "duration": 25,
    "start_time": "2024-02-20T07:01:00.200Z"
   },
   {
    "duration": 80,
    "start_time": "2024-02-20T07:01:00.226Z"
   },
   {
    "duration": 48,
    "start_time": "2024-02-20T07:01:00.308Z"
   },
   {
    "duration": 18,
    "start_time": "2024-02-20T07:01:00.357Z"
   },
   {
    "duration": 51,
    "start_time": "2024-02-20T07:01:00.376Z"
   },
   {
    "duration": 37,
    "start_time": "2024-02-20T07:01:00.428Z"
   },
   {
    "duration": 29,
    "start_time": "2024-02-20T07:01:00.467Z"
   },
   {
    "duration": 52,
    "start_time": "2024-02-20T07:01:00.497Z"
   },
   {
    "duration": 137,
    "start_time": "2024-02-20T07:01:00.550Z"
   },
   {
    "duration": 118,
    "start_time": "2024-02-20T07:01:00.688Z"
   },
   {
    "duration": 13,
    "start_time": "2024-02-20T07:01:00.808Z"
   },
   {
    "duration": 53,
    "start_time": "2024-02-20T07:01:00.823Z"
   },
   {
    "duration": 52,
    "start_time": "2024-02-20T07:01:00.877Z"
   },
   {
    "duration": 12,
    "start_time": "2024-02-20T07:01:00.930Z"
   },
   {
    "duration": 48,
    "start_time": "2024-02-20T07:01:00.943Z"
   },
   {
    "duration": 21,
    "start_time": "2024-02-20T07:01:00.993Z"
   },
   {
    "duration": 163,
    "start_time": "2024-02-20T07:01:01.016Z"
   },
   {
    "duration": 10,
    "start_time": "2024-02-20T07:01:01.180Z"
   },
   {
    "duration": 171,
    "start_time": "2024-02-20T07:01:01.192Z"
   },
   {
    "duration": 10,
    "start_time": "2024-02-20T07:01:01.365Z"
   },
   {
    "duration": 408,
    "start_time": "2024-02-20T08:26:20.513Z"
   },
   {
    "duration": 95,
    "start_time": "2024-02-20T08:26:20.923Z"
   },
   {
    "duration": 20,
    "start_time": "2024-02-20T08:26:21.019Z"
   },
   {
    "duration": 41,
    "start_time": "2024-02-20T08:26:21.040Z"
   },
   {
    "duration": 11,
    "start_time": "2024-02-20T08:26:21.083Z"
   },
   {
    "duration": 9,
    "start_time": "2024-02-20T08:26:21.096Z"
   },
   {
    "duration": 12,
    "start_time": "2024-02-20T08:26:21.106Z"
   },
   {
    "duration": 25,
    "start_time": "2024-02-20T08:26:21.120Z"
   },
   {
    "duration": 7,
    "start_time": "2024-02-20T08:26:21.147Z"
   },
   {
    "duration": 4,
    "start_time": "2024-02-20T08:26:21.156Z"
   },
   {
    "duration": 15,
    "start_time": "2024-02-20T08:26:21.161Z"
   },
   {
    "duration": 15,
    "start_time": "2024-02-20T08:26:21.178Z"
   },
   {
    "duration": 38,
    "start_time": "2024-02-20T08:26:21.194Z"
   },
   {
    "duration": 34,
    "start_time": "2024-02-20T08:26:21.233Z"
   },
   {
    "duration": 8,
    "start_time": "2024-02-20T08:26:21.268Z"
   },
   {
    "duration": 16,
    "start_time": "2024-02-20T08:26:21.277Z"
   },
   {
    "duration": 13,
    "start_time": "2024-02-20T08:26:21.294Z"
   },
   {
    "duration": 9,
    "start_time": "2024-02-20T08:26:21.309Z"
   },
   {
    "duration": 12,
    "start_time": "2024-02-20T08:26:21.320Z"
   },
   {
    "duration": 16,
    "start_time": "2024-02-20T08:26:21.334Z"
   },
   {
    "duration": 11,
    "start_time": "2024-02-20T08:26:21.351Z"
   },
   {
    "duration": 17,
    "start_time": "2024-02-20T08:26:21.363Z"
   },
   {
    "duration": 20,
    "start_time": "2024-02-20T08:26:21.381Z"
   },
   {
    "duration": 28,
    "start_time": "2024-02-20T08:26:21.403Z"
   },
   {
    "duration": 21,
    "start_time": "2024-02-20T08:26:21.433Z"
   },
   {
    "duration": 11,
    "start_time": "2024-02-20T08:26:21.456Z"
   },
   {
    "duration": 24,
    "start_time": "2024-02-20T08:26:21.469Z"
   },
   {
    "duration": 25,
    "start_time": "2024-02-20T08:26:21.497Z"
   },
   {
    "duration": 4,
    "start_time": "2024-02-20T08:26:21.523Z"
   },
   {
    "duration": 7,
    "start_time": "2024-02-20T08:26:21.528Z"
   },
   {
    "duration": 14,
    "start_time": "2024-02-20T08:26:21.537Z"
   },
   {
    "duration": 53,
    "start_time": "2024-02-20T08:26:21.552Z"
   },
   {
    "duration": 767,
    "start_time": "2024-02-20T08:26:21.607Z"
   },
   {
    "duration": 280,
    "start_time": "2024-02-20T08:26:22.376Z"
   },
   {
    "duration": 19,
    "start_time": "2024-02-20T08:26:22.658Z"
   },
   {
    "duration": 7,
    "start_time": "2024-02-20T08:26:22.678Z"
   },
   {
    "duration": 79,
    "start_time": "2024-02-20T08:26:22.687Z"
   },
   {
    "duration": 30,
    "start_time": "2024-02-20T08:26:22.768Z"
   },
   {
    "duration": 29,
    "start_time": "2024-02-20T08:26:22.799Z"
   },
   {
    "duration": 5,
    "start_time": "2024-02-20T08:26:22.830Z"
   },
   {
    "duration": 8,
    "start_time": "2024-02-20T08:26:22.836Z"
   },
   {
    "duration": 7,
    "start_time": "2024-02-20T08:26:22.845Z"
   },
   {
    "duration": 16,
    "start_time": "2024-02-20T08:26:22.853Z"
   },
   {
    "duration": 138,
    "start_time": "2024-02-20T08:26:22.871Z"
   },
   {
    "duration": 133,
    "start_time": "2024-02-20T08:26:23.011Z"
   },
   {
    "duration": 6,
    "start_time": "2024-02-20T08:26:23.146Z"
   },
   {
    "duration": 25,
    "start_time": "2024-02-20T08:26:23.153Z"
   },
   {
    "duration": 44,
    "start_time": "2024-02-20T08:26:23.180Z"
   },
   {
    "duration": 8,
    "start_time": "2024-02-20T08:26:23.226Z"
   },
   {
    "duration": 20,
    "start_time": "2024-02-20T08:26:23.236Z"
   },
   {
    "duration": 4,
    "start_time": "2024-02-20T08:26:23.258Z"
   },
   {
    "duration": 144,
    "start_time": "2024-02-20T08:26:23.263Z"
   },
   {
    "duration": 14,
    "start_time": "2024-02-20T08:26:23.409Z"
   },
   {
    "duration": 131,
    "start_time": "2024-02-20T08:26:23.425Z"
   },
   {
    "duration": 9,
    "start_time": "2024-02-20T08:26:23.557Z"
   },
   {
    "duration": 25,
    "start_time": "2024-02-20T09:02:29.948Z"
   },
   {
    "duration": 410,
    "start_time": "2024-02-20T09:02:35.903Z"
   },
   {
    "duration": 97,
    "start_time": "2024-02-20T09:02:36.318Z"
   },
   {
    "duration": 19,
    "start_time": "2024-02-20T09:02:36.416Z"
   },
   {
    "duration": 42,
    "start_time": "2024-02-20T09:02:36.436Z"
   },
   {
    "duration": 12,
    "start_time": "2024-02-20T09:02:36.481Z"
   },
   {
    "duration": 24,
    "start_time": "2024-02-20T09:02:36.494Z"
   },
   {
    "duration": 23,
    "start_time": "2024-02-20T09:02:36.519Z"
   },
   {
    "duration": 38,
    "start_time": "2024-02-20T09:02:36.544Z"
   },
   {
    "duration": 5,
    "start_time": "2024-02-20T09:02:36.584Z"
   },
   {
    "duration": 10,
    "start_time": "2024-02-20T09:02:36.591Z"
   },
   {
    "duration": 20,
    "start_time": "2024-02-20T09:02:36.602Z"
   },
   {
    "duration": 15,
    "start_time": "2024-02-20T09:02:36.623Z"
   },
   {
    "duration": 15,
    "start_time": "2024-02-20T09:02:36.640Z"
   },
   {
    "duration": 15,
    "start_time": "2024-02-20T09:02:36.658Z"
   },
   {
    "duration": 6,
    "start_time": "2024-02-20T09:02:36.675Z"
   },
   {
    "duration": 41,
    "start_time": "2024-02-20T09:02:36.682Z"
   },
   {
    "duration": 17,
    "start_time": "2024-02-20T09:02:36.725Z"
   },
   {
    "duration": 9,
    "start_time": "2024-02-20T09:02:36.744Z"
   },
   {
    "duration": 12,
    "start_time": "2024-02-20T09:02:36.754Z"
   },
   {
    "duration": 14,
    "start_time": "2024-02-20T09:02:36.767Z"
   },
   {
    "duration": 6,
    "start_time": "2024-02-20T09:02:36.782Z"
   },
   {
    "duration": 34,
    "start_time": "2024-02-20T09:02:36.789Z"
   },
   {
    "duration": 8,
    "start_time": "2024-02-20T09:02:36.824Z"
   },
   {
    "duration": 27,
    "start_time": "2024-02-20T09:02:36.833Z"
   },
   {
    "duration": 19,
    "start_time": "2024-02-20T09:02:36.861Z"
   },
   {
    "duration": 8,
    "start_time": "2024-02-20T09:02:36.881Z"
   },
   {
    "duration": 29,
    "start_time": "2024-02-20T09:02:36.890Z"
   },
   {
    "duration": 8,
    "start_time": "2024-02-20T09:02:36.920Z"
   },
   {
    "duration": 3,
    "start_time": "2024-02-20T09:02:36.930Z"
   },
   {
    "duration": 11,
    "start_time": "2024-02-20T09:02:36.935Z"
   },
   {
    "duration": 20,
    "start_time": "2024-02-20T09:02:36.948Z"
   },
   {
    "duration": 28,
    "start_time": "2024-02-20T09:02:36.970Z"
   },
   {
    "duration": 758,
    "start_time": "2024-02-20T09:02:37.000Z"
   },
   {
    "duration": 258,
    "start_time": "2024-02-20T09:02:37.760Z"
   },
   {
    "duration": 27,
    "start_time": "2024-02-20T09:02:38.019Z"
   },
   {
    "duration": 10,
    "start_time": "2024-02-20T09:02:38.048Z"
   },
   {
    "duration": 83,
    "start_time": "2024-02-20T09:02:38.060Z"
   },
   {
    "duration": 26,
    "start_time": "2024-02-20T09:02:38.145Z"
   },
   {
    "duration": 17,
    "start_time": "2024-02-20T09:02:38.172Z"
   },
   {
    "duration": 7,
    "start_time": "2024-02-20T09:02:38.190Z"
   },
   {
    "duration": 4,
    "start_time": "2024-02-20T09:02:38.217Z"
   },
   {
    "duration": 7,
    "start_time": "2024-02-20T09:02:38.223Z"
   },
   {
    "duration": 19,
    "start_time": "2024-02-20T09:02:38.232Z"
   },
   {
    "duration": 122,
    "start_time": "2024-02-20T09:02:38.252Z"
   },
   {
    "duration": 126,
    "start_time": "2024-02-20T09:02:38.375Z"
   },
   {
    "duration": 5,
    "start_time": "2024-02-20T09:02:38.503Z"
   },
   {
    "duration": 23,
    "start_time": "2024-02-20T09:02:38.510Z"
   },
   {
    "duration": 22,
    "start_time": "2024-02-20T09:02:38.534Z"
   },
   {
    "duration": 8,
    "start_time": "2024-02-20T09:02:38.558Z"
   },
   {
    "duration": 25,
    "start_time": "2024-02-20T09:02:38.567Z"
   },
   {
    "duration": 24,
    "start_time": "2024-02-20T09:02:38.594Z"
   },
   {
    "duration": 126,
    "start_time": "2024-02-20T09:02:38.620Z"
   },
   {
    "duration": 9,
    "start_time": "2024-02-20T09:02:38.748Z"
   },
   {
    "duration": 135,
    "start_time": "2024-02-20T09:02:38.758Z"
   },
   {
    "duration": 7,
    "start_time": "2024-02-20T09:02:38.895Z"
   },
   {
    "duration": 418,
    "start_time": "2024-02-20T09:03:19.502Z"
   },
   {
    "duration": 97,
    "start_time": "2024-02-20T09:03:19.922Z"
   },
   {
    "duration": 25,
    "start_time": "2024-02-20T09:03:20.021Z"
   },
   {
    "duration": 50,
    "start_time": "2024-02-20T09:03:20.048Z"
   },
   {
    "duration": 11,
    "start_time": "2024-02-20T09:03:20.100Z"
   },
   {
    "duration": 7,
    "start_time": "2024-02-20T09:03:20.112Z"
   },
   {
    "duration": 4,
    "start_time": "2024-02-20T09:03:20.121Z"
   },
   {
    "duration": 32,
    "start_time": "2024-02-20T09:03:20.126Z"
   },
   {
    "duration": 6,
    "start_time": "2024-02-20T09:03:20.160Z"
   },
   {
    "duration": 2,
    "start_time": "2024-02-20T09:03:20.169Z"
   },
   {
    "duration": 15,
    "start_time": "2024-02-20T09:03:20.172Z"
   },
   {
    "duration": 38,
    "start_time": "2024-02-20T09:03:20.189Z"
   },
   {
    "duration": 23,
    "start_time": "2024-02-20T09:03:20.229Z"
   },
   {
    "duration": 15,
    "start_time": "2024-02-20T09:03:20.254Z"
   },
   {
    "duration": 7,
    "start_time": "2024-02-20T09:03:20.271Z"
   },
   {
    "duration": 10,
    "start_time": "2024-02-20T09:03:20.279Z"
   },
   {
    "duration": 33,
    "start_time": "2024-02-20T09:03:20.290Z"
   },
   {
    "duration": 5,
    "start_time": "2024-02-20T09:03:20.324Z"
   },
   {
    "duration": 12,
    "start_time": "2024-02-20T09:03:20.330Z"
   },
   {
    "duration": 14,
    "start_time": "2024-02-20T09:03:20.343Z"
   },
   {
    "duration": 7,
    "start_time": "2024-02-20T09:03:20.359Z"
   },
   {
    "duration": 18,
    "start_time": "2024-02-20T09:03:20.367Z"
   },
   {
    "duration": 5,
    "start_time": "2024-02-20T09:03:20.387Z"
   },
   {
    "duration": 28,
    "start_time": "2024-02-20T09:03:20.417Z"
   },
   {
    "duration": 20,
    "start_time": "2024-02-20T09:03:20.446Z"
   },
   {
    "duration": 10,
    "start_time": "2024-02-20T09:03:20.468Z"
   },
   {
    "duration": 14,
    "start_time": "2024-02-20T09:03:20.479Z"
   },
   {
    "duration": 24,
    "start_time": "2024-02-20T09:03:20.497Z"
   },
   {
    "duration": 3,
    "start_time": "2024-02-20T09:03:20.523Z"
   },
   {
    "duration": 4,
    "start_time": "2024-02-20T09:03:20.527Z"
   },
   {
    "duration": 13,
    "start_time": "2024-02-20T09:03:20.532Z"
   },
   {
    "duration": 33,
    "start_time": "2024-02-20T09:03:20.546Z"
   },
   {
    "duration": 742,
    "start_time": "2024-02-20T09:03:20.581Z"
   },
   {
    "duration": 283,
    "start_time": "2024-02-20T09:03:21.324Z"
   },
   {
    "duration": 27,
    "start_time": "2024-02-20T09:03:21.608Z"
   },
   {
    "duration": 9,
    "start_time": "2024-02-20T09:03:21.637Z"
   },
   {
    "duration": 79,
    "start_time": "2024-02-20T09:03:21.648Z"
   },
   {
    "duration": 30,
    "start_time": "2024-02-20T09:03:21.728Z"
   },
   {
    "duration": 23,
    "start_time": "2024-02-20T09:03:21.760Z"
   },
   {
    "duration": 7,
    "start_time": "2024-02-20T09:03:21.784Z"
   },
   {
    "duration": 28,
    "start_time": "2024-02-20T09:03:21.793Z"
   },
   {
    "duration": 28,
    "start_time": "2024-02-20T09:03:21.822Z"
   },
   {
    "duration": 15,
    "start_time": "2024-02-20T09:03:21.852Z"
   },
   {
    "duration": 112,
    "start_time": "2024-02-20T09:03:21.868Z"
   },
   {
    "duration": 136,
    "start_time": "2024-02-20T09:03:21.982Z"
   },
   {
    "duration": 5,
    "start_time": "2024-02-20T09:03:22.119Z"
   },
   {
    "duration": 18,
    "start_time": "2024-02-20T09:03:22.125Z"
   },
   {
    "duration": 21,
    "start_time": "2024-02-20T09:03:22.144Z"
   },
   {
    "duration": 8,
    "start_time": "2024-02-20T09:03:22.166Z"
   },
   {
    "duration": 44,
    "start_time": "2024-02-20T09:03:22.175Z"
   },
   {
    "duration": 4,
    "start_time": "2024-02-20T09:03:22.220Z"
   },
   {
    "duration": 139,
    "start_time": "2024-02-20T09:03:22.226Z"
   },
   {
    "duration": 11,
    "start_time": "2024-02-20T09:03:22.367Z"
   },
   {
    "duration": 142,
    "start_time": "2024-02-20T09:03:22.379Z"
   },
   {
    "duration": 9,
    "start_time": "2024-02-20T09:03:22.523Z"
   },
   {
    "duration": 392,
    "start_time": "2024-03-04T18:10:33.183Z"
   },
   {
    "duration": 193,
    "start_time": "2024-03-04T18:10:35.669Z"
   },
   {
    "duration": 21,
    "start_time": "2024-03-04T18:10:44.242Z"
   },
   {
    "duration": 92,
    "start_time": "2024-03-04T18:10:49.786Z"
   },
   {
    "duration": 50,
    "start_time": "2024-03-04T18:11:20.055Z"
   },
   {
    "duration": 12,
    "start_time": "2024-03-04T18:11:30.089Z"
   },
   {
    "duration": 8,
    "start_time": "2024-03-04T18:11:33.889Z"
   },
   {
    "duration": 3,
    "start_time": "2024-03-04T18:11:36.896Z"
   },
   {
    "duration": 58,
    "start_time": "2024-03-04T18:12:50.169Z"
   },
   {
    "duration": 398,
    "start_time": "2024-03-04T18:13:03.369Z"
   },
   {
    "duration": 88,
    "start_time": "2024-03-04T18:13:03.768Z"
   },
   {
    "duration": 18,
    "start_time": "2024-03-04T18:13:03.857Z"
   },
   {
    "duration": 40,
    "start_time": "2024-03-04T18:13:03.876Z"
   },
   {
    "duration": 11,
    "start_time": "2024-03-04T18:13:03.917Z"
   },
   {
    "duration": 17,
    "start_time": "2024-03-04T18:13:03.929Z"
   },
   {
    "duration": 9,
    "start_time": "2024-03-04T18:13:03.948Z"
   },
   {
    "duration": 39,
    "start_time": "2024-03-04T18:13:03.958Z"
   },
   {
    "duration": 5,
    "start_time": "2024-03-04T18:13:03.998Z"
   },
   {
    "duration": 14,
    "start_time": "2024-03-04T18:13:04.004Z"
   },
   {
    "duration": 4,
    "start_time": "2024-03-04T18:13:04.019Z"
   },
   {
    "duration": 21,
    "start_time": "2024-03-04T18:13:04.024Z"
   },
   {
    "duration": 12,
    "start_time": "2024-03-04T18:13:04.046Z"
   },
   {
    "duration": 20,
    "start_time": "2024-03-04T18:13:04.060Z"
   },
   {
    "duration": 25,
    "start_time": "2024-03-04T18:13:04.081Z"
   },
   {
    "duration": 7,
    "start_time": "2024-03-04T18:13:04.107Z"
   },
   {
    "duration": 9,
    "start_time": "2024-03-04T18:13:04.115Z"
   },
   {
    "duration": 19,
    "start_time": "2024-03-04T18:13:04.125Z"
   },
   {
    "duration": 5,
    "start_time": "2024-03-04T18:13:04.145Z"
   },
   {
    "duration": 14,
    "start_time": "2024-03-04T18:13:04.151Z"
   },
   {
    "duration": 12,
    "start_time": "2024-03-04T18:13:04.166Z"
   },
   {
    "duration": 26,
    "start_time": "2024-03-04T18:13:04.179Z"
   },
   {
    "duration": 16,
    "start_time": "2024-03-04T18:13:04.206Z"
   },
   {
    "duration": 9,
    "start_time": "2024-03-04T18:13:04.223Z"
   },
   {
    "duration": 19,
    "start_time": "2024-03-04T18:13:04.233Z"
   },
   {
    "duration": 18,
    "start_time": "2024-03-04T18:13:04.254Z"
   },
   {
    "duration": 33,
    "start_time": "2024-03-04T18:13:04.274Z"
   },
   {
    "duration": 10,
    "start_time": "2024-03-04T18:13:04.309Z"
   },
   {
    "duration": 10,
    "start_time": "2024-03-04T18:13:04.321Z"
   },
   {
    "duration": 4,
    "start_time": "2024-03-04T18:13:04.332Z"
   },
   {
    "duration": 10,
    "start_time": "2024-03-04T18:13:04.337Z"
   },
   {
    "duration": 29,
    "start_time": "2024-03-04T18:13:04.348Z"
   },
   {
    "duration": 61,
    "start_time": "2024-03-04T18:13:04.379Z"
   },
   {
    "duration": 812,
    "start_time": "2024-03-04T18:13:04.442Z"
   },
   {
    "duration": 243,
    "start_time": "2024-03-04T18:13:05.256Z"
   },
   {
    "duration": 18,
    "start_time": "2024-03-04T18:13:05.501Z"
   },
   {
    "duration": 7,
    "start_time": "2024-03-04T18:13:05.521Z"
   },
   {
    "duration": 75,
    "start_time": "2024-03-04T18:13:05.530Z"
   },
   {
    "duration": 26,
    "start_time": "2024-03-04T18:13:05.607Z"
   },
   {
    "duration": 17,
    "start_time": "2024-03-04T18:13:05.635Z"
   },
   {
    "duration": 6,
    "start_time": "2024-03-04T18:13:05.655Z"
   },
   {
    "duration": 14,
    "start_time": "2024-03-04T18:13:05.662Z"
   },
   {
    "duration": 28,
    "start_time": "2024-03-04T18:13:05.677Z"
   },
   {
    "duration": 18,
    "start_time": "2024-03-04T18:13:05.707Z"
   },
   {
    "duration": 140,
    "start_time": "2024-03-04T18:13:05.727Z"
   },
   {
    "duration": 104,
    "start_time": "2024-03-04T18:13:05.869Z"
   },
   {
    "duration": 6,
    "start_time": "2024-03-04T18:13:05.974Z"
   },
   {
    "duration": 28,
    "start_time": "2024-03-04T18:13:05.981Z"
   },
   {
    "duration": 18,
    "start_time": "2024-03-04T18:13:06.010Z"
   },
   {
    "duration": 6,
    "start_time": "2024-03-04T18:13:06.030Z"
   },
   {
    "duration": 15,
    "start_time": "2024-03-04T18:13:06.038Z"
   },
   {
    "duration": 4,
    "start_time": "2024-03-04T18:13:06.054Z"
   },
   {
    "duration": 130,
    "start_time": "2024-03-04T18:13:06.059Z"
   },
   {
    "duration": 15,
    "start_time": "2024-03-04T18:13:06.191Z"
   },
   {
    "duration": 120,
    "start_time": "2024-03-04T18:13:06.207Z"
   },
   {
    "duration": 7,
    "start_time": "2024-03-04T18:13:06.329Z"
   },
   {
    "duration": 23,
    "start_time": "2024-03-04T18:13:52.448Z"
   },
   {
    "duration": 329,
    "start_time": "2024-03-04T18:14:40.544Z"
   },
   {
    "duration": 89,
    "start_time": "2024-03-04T18:14:42.105Z"
   },
   {
    "duration": 26,
    "start_time": "2024-03-04T18:14:44.187Z"
   },
   {
    "duration": 50,
    "start_time": "2024-03-04T18:14:46.913Z"
   },
   {
    "duration": 12,
    "start_time": "2024-03-04T18:14:48.545Z"
   },
   {
    "duration": 9,
    "start_time": "2024-03-04T18:14:49.848Z"
   },
   {
    "duration": 3,
    "start_time": "2024-03-04T18:14:51.616Z"
   },
   {
    "duration": 22,
    "start_time": "2024-03-04T18:14:54.993Z"
   },
   {
    "duration": 13,
    "start_time": "2024-03-04T18:14:59.145Z"
   },
   {
    "duration": 4,
    "start_time": "2024-03-04T18:32:42.992Z"
   },
   {
    "duration": 18,
    "start_time": "2024-03-04T19:24:15.417Z"
   },
   {
    "duration": 392,
    "start_time": "2024-03-05T14:04:56.320Z"
   },
   {
    "duration": 266,
    "start_time": "2024-03-05T14:04:56.714Z"
   },
   {
    "duration": 20,
    "start_time": "2024-03-05T14:04:56.981Z"
   },
   {
    "duration": 116,
    "start_time": "2024-03-05T14:04:57.003Z"
   },
   {
    "duration": 12,
    "start_time": "2024-03-05T14:04:57.120Z"
   },
   {
    "duration": 12,
    "start_time": "2024-03-05T14:04:57.133Z"
   },
   {
    "duration": 4,
    "start_time": "2024-03-05T14:04:57.146Z"
   },
   {
    "duration": 31,
    "start_time": "2024-03-05T14:04:57.151Z"
   },
   {
    "duration": 13,
    "start_time": "2024-03-05T14:04:57.184Z"
   },
   {
    "duration": 4,
    "start_time": "2024-03-05T14:04:57.199Z"
   },
   {
    "duration": 29,
    "start_time": "2024-03-05T14:04:57.205Z"
   },
   {
    "duration": 20,
    "start_time": "2024-03-05T14:04:57.235Z"
   },
   {
    "duration": 38,
    "start_time": "2024-03-05T14:04:57.258Z"
   },
   {
    "duration": 32,
    "start_time": "2024-03-05T14:04:57.298Z"
   },
   {
    "duration": 8,
    "start_time": "2024-03-05T14:04:57.332Z"
   },
   {
    "duration": 14,
    "start_time": "2024-03-05T14:04:57.342Z"
   },
   {
    "duration": 52,
    "start_time": "2024-03-05T14:04:57.357Z"
   },
   {
    "duration": 5,
    "start_time": "2024-03-05T14:04:57.411Z"
   },
   {
    "duration": 19,
    "start_time": "2024-03-05T14:04:57.417Z"
   },
   {
    "duration": 34,
    "start_time": "2024-03-05T14:04:57.438Z"
   },
   {
    "duration": 30,
    "start_time": "2024-03-05T14:04:57.474Z"
   },
   {
    "duration": 15,
    "start_time": "2024-03-05T14:04:57.506Z"
   },
   {
    "duration": 24,
    "start_time": "2024-03-05T14:04:57.522Z"
   },
   {
    "duration": 32,
    "start_time": "2024-03-05T14:04:57.548Z"
   },
   {
    "duration": 32,
    "start_time": "2024-03-05T14:04:57.582Z"
   },
   {
    "duration": 24,
    "start_time": "2024-03-05T14:04:57.615Z"
   },
   {
    "duration": 21,
    "start_time": "2024-03-05T14:04:57.640Z"
   },
   {
    "duration": 2,
    "start_time": "2024-03-05T14:04:57.664Z"
   },
   {
    "duration": 25,
    "start_time": "2024-03-05T14:04:57.667Z"
   },
   {
    "duration": 15,
    "start_time": "2024-03-05T14:04:57.693Z"
   },
   {
    "duration": 7,
    "start_time": "2024-03-05T14:04:57.709Z"
   },
   {
    "duration": 64,
    "start_time": "2024-03-05T14:05:01.802Z"
   },
   {
    "duration": 4,
    "start_time": "2024-03-05T14:05:21.394Z"
   },
   {
    "duration": 5,
    "start_time": "2024-03-05T14:05:51.299Z"
   },
   {
    "duration": 5,
    "start_time": "2024-03-05T14:05:58.458Z"
   },
   {
    "duration": 10,
    "start_time": "2024-03-05T14:07:49.445Z"
   },
   {
    "duration": 8,
    "start_time": "2024-03-05T14:07:55.572Z"
   },
   {
    "duration": 4,
    "start_time": "2024-03-05T14:08:17.868Z"
   },
   {
    "duration": 1649,
    "start_time": "2024-03-05T14:09:12.733Z"
   },
   {
    "duration": 13,
    "start_time": "2024-03-05T14:09:21.573Z"
   },
   {
    "duration": 5,
    "start_time": "2024-03-05T14:20:06.030Z"
   },
   {
    "duration": 5,
    "start_time": "2024-03-05T14:20:19.827Z"
   },
   {
    "duration": 468,
    "start_time": "2024-03-05T14:20:54.056Z"
   },
   {
    "duration": 101,
    "start_time": "2024-03-05T14:20:54.526Z"
   },
   {
    "duration": 22,
    "start_time": "2024-03-05T14:20:54.629Z"
   },
   {
    "duration": 45,
    "start_time": "2024-03-05T14:20:54.654Z"
   },
   {
    "duration": 13,
    "start_time": "2024-03-05T14:20:54.701Z"
   },
   {
    "duration": 42,
    "start_time": "2024-03-05T14:20:54.715Z"
   },
   {
    "duration": 22,
    "start_time": "2024-03-05T14:20:54.759Z"
   },
   {
    "duration": 41,
    "start_time": "2024-03-05T14:20:54.782Z"
   },
   {
    "duration": 15,
    "start_time": "2024-03-05T14:20:54.825Z"
   },
   {
    "duration": 22,
    "start_time": "2024-03-05T14:20:54.842Z"
   },
   {
    "duration": 21,
    "start_time": "2024-03-05T14:20:54.866Z"
   },
   {
    "duration": 22,
    "start_time": "2024-03-05T14:20:54.889Z"
   },
   {
    "duration": 28,
    "start_time": "2024-03-05T14:20:54.913Z"
   },
   {
    "duration": 18,
    "start_time": "2024-03-05T14:20:54.943Z"
   },
   {
    "duration": 8,
    "start_time": "2024-03-05T14:20:54.963Z"
   },
   {
    "duration": 21,
    "start_time": "2024-03-05T14:20:54.972Z"
   },
   {
    "duration": 16,
    "start_time": "2024-03-05T14:20:54.995Z"
   },
   {
    "duration": 4,
    "start_time": "2024-03-05T14:20:55.013Z"
   },
   {
    "duration": 7,
    "start_time": "2024-03-05T14:20:55.018Z"
   },
   {
    "duration": 11,
    "start_time": "2024-03-05T14:20:55.026Z"
   },
   {
    "duration": 15,
    "start_time": "2024-03-05T14:20:55.038Z"
   },
   {
    "duration": 38,
    "start_time": "2024-03-05T14:20:55.054Z"
   },
   {
    "duration": 28,
    "start_time": "2024-03-05T14:20:55.094Z"
   },
   {
    "duration": 10,
    "start_time": "2024-03-05T14:20:55.123Z"
   },
   {
    "duration": 28,
    "start_time": "2024-03-05T14:20:55.135Z"
   },
   {
    "duration": 26,
    "start_time": "2024-03-05T14:20:55.165Z"
   },
   {
    "duration": 19,
    "start_time": "2024-03-05T14:20:55.193Z"
   },
   {
    "duration": 2,
    "start_time": "2024-03-05T14:20:55.216Z"
   },
   {
    "duration": 20,
    "start_time": "2024-03-05T14:20:55.219Z"
   },
   {
    "duration": 36,
    "start_time": "2024-03-05T14:20:55.240Z"
   },
   {
    "duration": 3,
    "start_time": "2024-03-05T14:20:55.278Z"
   },
   {
    "duration": 24,
    "start_time": "2024-03-05T14:20:55.283Z"
   },
   {
    "duration": 28,
    "start_time": "2024-03-05T14:20:55.309Z"
   },
   {
    "duration": 5,
    "start_time": "2024-03-05T14:20:55.339Z"
   },
   {
    "duration": 21,
    "start_time": "2024-03-05T14:20:55.345Z"
   },
   {
    "duration": 35,
    "start_time": "2024-03-05T14:20:55.367Z"
   },
   {
    "duration": 39,
    "start_time": "2024-03-05T14:20:55.403Z"
   },
   {
    "duration": 919,
    "start_time": "2024-03-05T14:20:55.443Z"
   },
   {
    "duration": 277,
    "start_time": "2024-03-05T14:20:56.364Z"
   },
   {
    "duration": 21,
    "start_time": "2024-03-05T14:20:56.643Z"
   },
   {
    "duration": 27,
    "start_time": "2024-03-05T14:20:56.666Z"
   },
   {
    "duration": 71,
    "start_time": "2024-03-05T14:20:56.695Z"
   },
   {
    "duration": 48,
    "start_time": "2024-03-05T14:20:56.767Z"
   },
   {
    "duration": 19,
    "start_time": "2024-03-05T14:20:56.817Z"
   },
   {
    "duration": 5,
    "start_time": "2024-03-05T14:20:56.838Z"
   },
   {
    "duration": 5,
    "start_time": "2024-03-05T14:20:56.845Z"
   },
   {
    "duration": 6,
    "start_time": "2024-03-05T14:20:56.851Z"
   },
   {
    "duration": 17,
    "start_time": "2024-03-05T14:20:56.888Z"
   },
   {
    "duration": 136,
    "start_time": "2024-03-05T14:20:56.906Z"
   },
   {
    "duration": 118,
    "start_time": "2024-03-05T14:20:57.044Z"
   },
   {
    "duration": 6,
    "start_time": "2024-03-05T14:20:57.163Z"
   },
   {
    "duration": 32,
    "start_time": "2024-03-05T14:20:57.170Z"
   },
   {
    "duration": 22,
    "start_time": "2024-03-05T14:20:57.204Z"
   },
   {
    "duration": 9,
    "start_time": "2024-03-05T14:20:57.227Z"
   },
   {
    "duration": 30,
    "start_time": "2024-03-05T14:20:57.237Z"
   },
   {
    "duration": 20,
    "start_time": "2024-03-05T14:20:57.268Z"
   },
   {
    "duration": 138,
    "start_time": "2024-03-05T14:20:57.290Z"
   },
   {
    "duration": 10,
    "start_time": "2024-03-05T14:20:57.430Z"
   },
   {
    "duration": 150,
    "start_time": "2024-03-05T14:20:57.441Z"
   },
   {
    "duration": 9,
    "start_time": "2024-03-05T14:20:57.593Z"
   },
   {
    "duration": 6,
    "start_time": "2024-03-05T14:22:30.518Z"
   },
   {
    "duration": 7,
    "start_time": "2024-03-05T14:37:59.832Z"
   },
   {
    "duration": 428,
    "start_time": "2024-03-05T14:38:15.276Z"
   },
   {
    "duration": 118,
    "start_time": "2024-03-05T14:38:15.706Z"
   },
   {
    "duration": 20,
    "start_time": "2024-03-05T14:38:15.826Z"
   },
   {
    "duration": 52,
    "start_time": "2024-03-05T14:38:15.848Z"
   },
   {
    "duration": 12,
    "start_time": "2024-03-05T14:38:15.902Z"
   },
   {
    "duration": 9,
    "start_time": "2024-03-05T14:38:15.916Z"
   },
   {
    "duration": 6,
    "start_time": "2024-03-05T14:38:15.926Z"
   },
   {
    "duration": 30,
    "start_time": "2024-03-05T14:38:15.933Z"
   },
   {
    "duration": 34,
    "start_time": "2024-03-05T14:38:15.964Z"
   },
   {
    "duration": 2,
    "start_time": "2024-03-05T14:38:16.004Z"
   },
   {
    "duration": 34,
    "start_time": "2024-03-05T14:38:16.008Z"
   },
   {
    "duration": 18,
    "start_time": "2024-03-05T14:38:16.044Z"
   },
   {
    "duration": 22,
    "start_time": "2024-03-05T14:38:16.064Z"
   },
   {
    "duration": 24,
    "start_time": "2024-03-05T14:38:16.088Z"
   },
   {
    "duration": 28,
    "start_time": "2024-03-05T14:38:16.113Z"
   },
   {
    "duration": 16,
    "start_time": "2024-03-05T14:38:16.142Z"
   },
   {
    "duration": 41,
    "start_time": "2024-03-05T14:38:16.159Z"
   },
   {
    "duration": 5,
    "start_time": "2024-03-05T14:38:16.201Z"
   },
   {
    "duration": 25,
    "start_time": "2024-03-05T14:38:16.207Z"
   },
   {
    "duration": 37,
    "start_time": "2024-03-05T14:38:16.233Z"
   },
   {
    "duration": 15,
    "start_time": "2024-03-05T14:38:16.272Z"
   },
   {
    "duration": 19,
    "start_time": "2024-03-05T14:38:16.288Z"
   },
   {
    "duration": 17,
    "start_time": "2024-03-05T14:38:16.309Z"
   },
   {
    "duration": 10,
    "start_time": "2024-03-05T14:38:16.327Z"
   },
   {
    "duration": 22,
    "start_time": "2024-03-05T14:38:16.339Z"
   },
   {
    "duration": 36,
    "start_time": "2024-03-05T14:38:16.362Z"
   },
   {
    "duration": 20,
    "start_time": "2024-03-05T14:38:16.400Z"
   },
   {
    "duration": 3,
    "start_time": "2024-03-05T14:38:16.423Z"
   },
   {
    "duration": 7,
    "start_time": "2024-03-05T14:38:16.427Z"
   },
   {
    "duration": 9,
    "start_time": "2024-03-05T14:38:16.436Z"
   },
   {
    "duration": 26,
    "start_time": "2024-03-05T14:38:16.447Z"
   },
   {
    "duration": 23,
    "start_time": "2024-03-05T14:38:16.475Z"
   },
   {
    "duration": 14,
    "start_time": "2024-03-05T14:38:16.500Z"
   },
   {
    "duration": 6,
    "start_time": "2024-03-05T14:38:16.516Z"
   },
   {
    "duration": 15,
    "start_time": "2024-03-05T14:38:16.523Z"
   },
   {
    "duration": 25,
    "start_time": "2024-03-05T14:38:16.539Z"
   },
   {
    "duration": 54,
    "start_time": "2024-03-05T14:38:16.565Z"
   },
   {
    "duration": 811,
    "start_time": "2024-03-05T14:38:16.620Z"
   },
   {
    "duration": 296,
    "start_time": "2024-03-05T14:38:17.433Z"
   },
   {
    "duration": 22,
    "start_time": "2024-03-05T14:38:17.730Z"
   },
   {
    "duration": 15,
    "start_time": "2024-03-05T14:38:17.754Z"
   },
   {
    "duration": 80,
    "start_time": "2024-03-05T14:38:17.771Z"
   },
   {
    "duration": 50,
    "start_time": "2024-03-05T14:38:17.852Z"
   },
   {
    "duration": 19,
    "start_time": "2024-03-05T14:38:17.903Z"
   },
   {
    "duration": 19,
    "start_time": "2024-03-05T14:38:17.924Z"
   },
   {
    "duration": 28,
    "start_time": "2024-03-05T14:38:17.945Z"
   },
   {
    "duration": 27,
    "start_time": "2024-03-05T14:38:17.975Z"
   },
   {
    "duration": 50,
    "start_time": "2024-03-05T14:38:18.004Z"
   },
   {
    "duration": 134,
    "start_time": "2024-03-05T14:38:18.056Z"
   },
   {
    "duration": 133,
    "start_time": "2024-03-05T14:38:18.192Z"
   },
   {
    "duration": 6,
    "start_time": "2024-03-05T14:38:18.327Z"
   },
   {
    "duration": 42,
    "start_time": "2024-03-05T14:38:18.334Z"
   },
   {
    "duration": 30,
    "start_time": "2024-03-05T14:38:18.378Z"
   },
   {
    "duration": 8,
    "start_time": "2024-03-05T14:38:18.410Z"
   },
   {
    "duration": 29,
    "start_time": "2024-03-05T14:38:18.419Z"
   },
   {
    "duration": 3,
    "start_time": "2024-03-05T14:38:18.450Z"
   },
   {
    "duration": 159,
    "start_time": "2024-03-05T14:38:18.455Z"
   },
   {
    "duration": 11,
    "start_time": "2024-03-05T14:38:18.616Z"
   },
   {
    "duration": 151,
    "start_time": "2024-03-05T14:38:18.628Z"
   },
   {
    "duration": 21,
    "start_time": "2024-03-05T14:38:18.780Z"
   },
   {
    "duration": 6,
    "start_time": "2024-03-05T14:40:11.721Z"
   },
   {
    "duration": 7,
    "start_time": "2024-03-05T14:40:38.298Z"
   },
   {
    "duration": 9,
    "start_time": "2024-03-05T14:41:04.803Z"
   },
   {
    "duration": 8,
    "start_time": "2024-03-05T14:46:13.093Z"
   },
   {
    "duration": 9,
    "start_time": "2024-03-05T14:46:16.813Z"
   },
   {
    "duration": 470,
    "start_time": "2024-03-05T17:08:38.301Z"
   },
   {
    "duration": 218,
    "start_time": "2024-03-05T17:08:38.773Z"
   },
   {
    "duration": 21,
    "start_time": "2024-03-05T17:08:38.993Z"
   },
   {
    "duration": 81,
    "start_time": "2024-03-05T17:08:39.016Z"
   },
   {
    "duration": 13,
    "start_time": "2024-03-05T17:08:39.099Z"
   },
   {
    "duration": 8,
    "start_time": "2024-03-05T17:08:39.114Z"
   },
   {
    "duration": 3,
    "start_time": "2024-03-05T17:08:39.123Z"
   },
   {
    "duration": 27,
    "start_time": "2024-03-05T17:08:39.127Z"
   },
   {
    "duration": 15,
    "start_time": "2024-03-05T17:08:39.156Z"
   },
   {
    "duration": 3,
    "start_time": "2024-03-05T17:08:39.172Z"
   },
   {
    "duration": 46,
    "start_time": "2024-03-05T17:08:39.176Z"
   },
   {
    "duration": 16,
    "start_time": "2024-03-05T17:08:39.224Z"
   },
   {
    "duration": 19,
    "start_time": "2024-03-05T17:08:39.241Z"
   },
   {
    "duration": 18,
    "start_time": "2024-03-05T17:08:39.263Z"
   },
   {
    "duration": 35,
    "start_time": "2024-03-05T17:08:39.283Z"
   },
   {
    "duration": 10,
    "start_time": "2024-03-05T17:08:39.320Z"
   },
   {
    "duration": 15,
    "start_time": "2024-03-05T17:08:39.332Z"
   },
   {
    "duration": 5,
    "start_time": "2024-03-05T17:08:39.348Z"
   },
   {
    "duration": 19,
    "start_time": "2024-03-05T17:08:39.354Z"
   },
   {
    "duration": 10,
    "start_time": "2024-03-05T17:08:39.374Z"
   },
   {
    "duration": 41,
    "start_time": "2024-03-05T17:08:39.386Z"
   },
   {
    "duration": 6,
    "start_time": "2024-03-05T17:08:39.429Z"
   },
   {
    "duration": 19,
    "start_time": "2024-03-05T17:08:39.436Z"
   },
   {
    "duration": 7,
    "start_time": "2024-03-05T17:08:39.457Z"
   },
   {
    "duration": 52,
    "start_time": "2024-03-05T17:08:39.465Z"
   },
   {
    "duration": 23,
    "start_time": "2024-03-05T17:08:39.519Z"
   },
   {
    "duration": 20,
    "start_time": "2024-03-05T17:08:39.544Z"
   },
   {
    "duration": 2,
    "start_time": "2024-03-05T17:08:39.566Z"
   },
   {
    "duration": 5,
    "start_time": "2024-03-05T17:08:39.570Z"
   },
   {
    "duration": 4,
    "start_time": "2024-03-05T17:08:39.576Z"
   },
   {
    "duration": 4,
    "start_time": "2024-03-05T17:08:39.582Z"
   },
   {
    "duration": 5,
    "start_time": "2024-03-05T17:08:39.615Z"
   },
   {
    "duration": 15,
    "start_time": "2024-03-05T17:08:39.621Z"
   },
   {
    "duration": 9,
    "start_time": "2024-03-05T17:08:39.638Z"
   },
   {
    "duration": 4,
    "start_time": "2024-03-05T17:08:39.649Z"
   },
   {
    "duration": 14,
    "start_time": "2024-03-05T17:08:39.654Z"
   },
   {
    "duration": 68,
    "start_time": "2024-03-05T17:08:39.670Z"
   },
   {
    "duration": 975,
    "start_time": "2024-03-05T17:08:39.740Z"
   },
   {
    "duration": 310,
    "start_time": "2024-03-05T17:08:40.717Z"
   },
   {
    "duration": 32,
    "start_time": "2024-03-05T17:08:41.029Z"
   },
   {
    "duration": 9,
    "start_time": "2024-03-05T17:08:41.065Z"
   },
   {
    "duration": 42,
    "start_time": "2024-03-05T17:08:41.076Z"
   },
   {
    "duration": 114,
    "start_time": "2024-03-05T17:08:41.120Z"
   },
   {
    "duration": 22,
    "start_time": "2024-03-05T17:08:41.235Z"
   },
   {
    "duration": 9,
    "start_time": "2024-03-05T17:08:41.259Z"
   },
   {
    "duration": 6,
    "start_time": "2024-03-05T17:08:41.270Z"
   },
   {
    "duration": 13,
    "start_time": "2024-03-05T17:08:41.277Z"
   },
   {
    "duration": 18,
    "start_time": "2024-03-05T17:08:41.315Z"
   },
   {
    "duration": 148,
    "start_time": "2024-03-05T17:08:41.334Z"
   },
   {
    "duration": 142,
    "start_time": "2024-03-05T17:08:41.484Z"
   },
   {
    "duration": 7,
    "start_time": "2024-03-05T17:08:41.628Z"
   },
   {
    "duration": 22,
    "start_time": "2024-03-05T17:08:41.636Z"
   },
   {
    "duration": 26,
    "start_time": "2024-03-05T17:08:41.660Z"
   },
   {
    "duration": 10,
    "start_time": "2024-03-05T17:08:41.714Z"
   },
   {
    "duration": 18,
    "start_time": "2024-03-05T17:08:41.726Z"
   },
   {
    "duration": 5,
    "start_time": "2024-03-05T17:08:41.746Z"
   },
   {
    "duration": 175,
    "start_time": "2024-03-05T17:08:41.752Z"
   },
   {
    "duration": 12,
    "start_time": "2024-03-05T17:08:41.929Z"
   },
   {
    "duration": 156,
    "start_time": "2024-03-05T17:08:41.943Z"
   },
   {
    "duration": 14,
    "start_time": "2024-03-05T17:08:42.101Z"
   },
   {
    "duration": 5,
    "start_time": "2024-03-05T17:14:29.318Z"
   },
   {
    "duration": 19,
    "start_time": "2024-03-05T17:24:53.844Z"
   },
   {
    "duration": 9,
    "start_time": "2024-03-05T17:25:05.477Z"
   },
   {
    "duration": 80,
    "start_time": "2024-03-05T17:25:38.220Z"
   },
   {
    "duration": 8,
    "start_time": "2024-03-05T17:25:47.981Z"
   },
   {
    "duration": 417,
    "start_time": "2024-03-05T17:26:02.756Z"
   },
   {
    "duration": 102,
    "start_time": "2024-03-05T17:26:03.175Z"
   },
   {
    "duration": 21,
    "start_time": "2024-03-05T17:26:03.279Z"
   },
   {
    "duration": 45,
    "start_time": "2024-03-05T17:26:03.302Z"
   },
   {
    "duration": 12,
    "start_time": "2024-03-05T17:26:03.348Z"
   },
   {
    "duration": 15,
    "start_time": "2024-03-05T17:26:03.361Z"
   },
   {
    "duration": 4,
    "start_time": "2024-03-05T17:26:03.377Z"
   },
   {
    "duration": 42,
    "start_time": "2024-03-05T17:26:03.383Z"
   },
   {
    "duration": 16,
    "start_time": "2024-03-05T17:26:03.426Z"
   },
   {
    "duration": 2,
    "start_time": "2024-03-05T17:26:03.444Z"
   },
   {
    "duration": 18,
    "start_time": "2024-03-05T17:26:03.448Z"
   },
   {
    "duration": 17,
    "start_time": "2024-03-05T17:26:03.468Z"
   },
   {
    "duration": 19,
    "start_time": "2024-03-05T17:26:03.514Z"
   },
   {
    "duration": 20,
    "start_time": "2024-03-05T17:26:03.534Z"
   },
   {
    "duration": 9,
    "start_time": "2024-03-05T17:26:03.556Z"
   },
   {
    "duration": 10,
    "start_time": "2024-03-05T17:26:03.567Z"
   },
   {
    "duration": 44,
    "start_time": "2024-03-05T17:26:03.579Z"
   },
   {
    "duration": 6,
    "start_time": "2024-03-05T17:26:03.625Z"
   },
   {
    "duration": 5,
    "start_time": "2024-03-05T17:26:03.632Z"
   },
   {
    "duration": 9,
    "start_time": "2024-03-05T17:26:03.639Z"
   },
   {
    "duration": 17,
    "start_time": "2024-03-05T17:26:03.650Z"
   },
   {
    "duration": 48,
    "start_time": "2024-03-05T17:26:03.669Z"
   },
   {
    "duration": 17,
    "start_time": "2024-03-05T17:26:03.718Z"
   },
   {
    "duration": 6,
    "start_time": "2024-03-05T17:26:03.736Z"
   },
   {
    "duration": 30,
    "start_time": "2024-03-05T17:26:03.743Z"
   },
   {
    "duration": 41,
    "start_time": "2024-03-05T17:26:03.775Z"
   },
   {
    "duration": 21,
    "start_time": "2024-03-05T17:26:03.818Z"
   },
   {
    "duration": 3,
    "start_time": "2024-03-05T17:26:03.842Z"
   },
   {
    "duration": 3,
    "start_time": "2024-03-05T17:26:03.846Z"
   },
   {
    "duration": 3,
    "start_time": "2024-03-05T17:26:03.851Z"
   },
   {
    "duration": 5,
    "start_time": "2024-03-05T17:26:03.855Z"
   },
   {
    "duration": 4,
    "start_time": "2024-03-05T17:26:03.861Z"
   },
   {
    "duration": 15,
    "start_time": "2024-03-05T17:26:03.866Z"
   },
   {
    "duration": 9,
    "start_time": "2024-03-05T17:26:03.915Z"
   },
   {
    "duration": 4,
    "start_time": "2024-03-05T17:26:03.925Z"
   },
   {
    "duration": 12,
    "start_time": "2024-03-05T17:26:03.931Z"
   },
   {
    "duration": 40,
    "start_time": "2024-03-05T17:26:03.944Z"
   },
   {
    "duration": 818,
    "start_time": "2024-03-05T17:26:04.014Z"
   },
   {
    "duration": 281,
    "start_time": "2024-03-05T17:26:04.834Z"
   },
   {
    "duration": 22,
    "start_time": "2024-03-05T17:26:05.116Z"
   },
   {
    "duration": 8,
    "start_time": "2024-03-05T17:26:05.140Z"
   },
   {
    "duration": 87,
    "start_time": "2024-03-05T17:26:05.149Z"
   },
   {
    "duration": 35,
    "start_time": "2024-03-05T17:26:05.237Z"
   },
   {
    "duration": 42,
    "start_time": "2024-03-05T17:26:05.273Z"
   },
   {
    "duration": 10,
    "start_time": "2024-03-05T17:26:05.316Z"
   },
   {
    "duration": 6,
    "start_time": "2024-03-05T17:26:05.328Z"
   },
   {
    "duration": 5,
    "start_time": "2024-03-05T17:26:05.336Z"
   },
   {
    "duration": 25,
    "start_time": "2024-03-05T17:26:05.342Z"
   },
   {
    "duration": 160,
    "start_time": "2024-03-05T17:26:05.369Z"
   },
   {
    "duration": 133,
    "start_time": "2024-03-05T17:26:05.531Z"
   },
   {
    "duration": 5,
    "start_time": "2024-03-05T17:26:05.666Z"
   },
   {
    "duration": 22,
    "start_time": "2024-03-05T17:26:05.673Z"
   },
   {
    "duration": 37,
    "start_time": "2024-03-05T17:26:05.697Z"
   },
   {
    "duration": 9,
    "start_time": "2024-03-05T17:26:05.735Z"
   },
   {
    "duration": 22,
    "start_time": "2024-03-05T17:26:05.746Z"
   },
   {
    "duration": 5,
    "start_time": "2024-03-05T17:26:05.770Z"
   },
   {
    "duration": 174,
    "start_time": "2024-03-05T17:26:05.777Z"
   },
   {
    "duration": 10,
    "start_time": "2024-03-05T17:26:05.953Z"
   },
   {
    "duration": 152,
    "start_time": "2024-03-05T17:26:05.964Z"
   },
   {
    "duration": 8,
    "start_time": "2024-03-05T17:26:06.118Z"
   },
   {
    "duration": 7,
    "start_time": "2024-03-05T17:30:29.005Z"
   },
   {
    "duration": 367,
    "start_time": "2024-03-10T18:42:57.091Z"
   },
   {
    "duration": 195,
    "start_time": "2024-03-10T18:42:57.460Z"
   },
   {
    "duration": 18,
    "start_time": "2024-03-10T18:42:57.656Z"
   },
   {
    "duration": 77,
    "start_time": "2024-03-10T18:42:57.676Z"
   },
   {
    "duration": 11,
    "start_time": "2024-03-10T18:42:57.755Z"
   },
   {
    "duration": 26,
    "start_time": "2024-03-10T18:42:57.767Z"
   },
   {
    "duration": 18,
    "start_time": "2024-03-10T18:42:57.794Z"
   },
   {
    "duration": 34,
    "start_time": "2024-03-10T18:42:57.814Z"
   },
   {
    "duration": 12,
    "start_time": "2024-03-10T18:42:57.849Z"
   },
   {
    "duration": 14,
    "start_time": "2024-03-10T18:42:57.862Z"
   },
   {
    "duration": 29,
    "start_time": "2024-03-10T18:42:57.878Z"
   },
   {
    "duration": 30,
    "start_time": "2024-03-10T18:42:57.909Z"
   },
   {
    "duration": 29,
    "start_time": "2024-03-10T18:42:57.941Z"
   },
   {
    "duration": 34,
    "start_time": "2024-03-10T18:42:57.973Z"
   },
   {
    "duration": 32,
    "start_time": "2024-03-10T18:42:58.008Z"
   },
   {
    "duration": 38,
    "start_time": "2024-03-10T18:42:58.041Z"
   },
   {
    "duration": 41,
    "start_time": "2024-03-10T18:42:58.081Z"
   },
   {
    "duration": 24,
    "start_time": "2024-03-10T18:42:58.124Z"
   },
   {
    "duration": 17,
    "start_time": "2024-03-10T18:42:58.149Z"
   },
   {
    "duration": 19,
    "start_time": "2024-03-10T18:42:58.167Z"
   },
   {
    "duration": 26,
    "start_time": "2024-03-10T18:42:58.188Z"
   },
   {
    "duration": 20,
    "start_time": "2024-03-10T18:42:58.215Z"
   },
   {
    "duration": 48,
    "start_time": "2024-03-10T18:42:58.237Z"
   },
   {
    "duration": 34,
    "start_time": "2024-03-10T18:42:58.287Z"
   },
   {
    "duration": 67,
    "start_time": "2024-03-10T18:42:58.323Z"
   },
   {
    "duration": 27,
    "start_time": "2024-03-10T18:42:58.392Z"
   },
   {
    "duration": 27,
    "start_time": "2024-03-10T18:42:58.421Z"
   },
   {
    "duration": 2,
    "start_time": "2024-03-10T18:42:58.450Z"
   },
   {
    "duration": 18,
    "start_time": "2024-03-10T18:42:58.453Z"
   },
   {
    "duration": 38,
    "start_time": "2024-03-10T18:42:58.472Z"
   },
   {
    "duration": 14,
    "start_time": "2024-03-10T18:42:58.512Z"
   },
   {
    "duration": 24,
    "start_time": "2024-03-10T18:42:58.527Z"
   },
   {
    "duration": 29,
    "start_time": "2024-03-10T18:42:58.552Z"
   },
   {
    "duration": 11,
    "start_time": "2024-03-10T18:43:02.687Z"
   },
   {
    "duration": 15,
    "start_time": "2024-03-10T18:43:26.680Z"
   },
   {
    "duration": 6,
    "start_time": "2024-03-10T18:43:48.231Z"
   },
   {
    "duration": 8,
    "start_time": "2024-03-10T18:43:56.839Z"
   },
   {
    "duration": 7,
    "start_time": "2024-03-10T18:50:04.728Z"
   },
   {
    "duration": 7,
    "start_time": "2024-03-10T18:52:27.072Z"
   },
   {
    "duration": 8,
    "start_time": "2024-03-10T18:55:17.593Z"
   },
   {
    "duration": 21,
    "start_time": "2024-03-10T18:55:26.769Z"
   },
   {
    "duration": 8,
    "start_time": "2024-03-10T18:57:39.282Z"
   },
   {
    "duration": 405,
    "start_time": "2024-03-10T18:58:02.347Z"
   },
   {
    "duration": 104,
    "start_time": "2024-03-10T18:58:02.755Z"
   },
   {
    "duration": 25,
    "start_time": "2024-03-10T18:58:02.861Z"
   },
   {
    "duration": 55,
    "start_time": "2024-03-10T18:58:02.888Z"
   },
   {
    "duration": 11,
    "start_time": "2024-03-10T18:58:02.945Z"
   },
   {
    "duration": 29,
    "start_time": "2024-03-10T18:58:02.957Z"
   },
   {
    "duration": 31,
    "start_time": "2024-03-10T18:58:02.987Z"
   },
   {
    "duration": 47,
    "start_time": "2024-03-10T18:58:03.019Z"
   },
   {
    "duration": 28,
    "start_time": "2024-03-10T18:58:03.068Z"
   },
   {
    "duration": 12,
    "start_time": "2024-03-10T18:58:03.097Z"
   },
   {
    "duration": 48,
    "start_time": "2024-03-10T18:58:03.111Z"
   },
   {
    "duration": 27,
    "start_time": "2024-03-10T18:58:03.160Z"
   },
   {
    "duration": 40,
    "start_time": "2024-03-10T18:58:03.189Z"
   },
   {
    "duration": 29,
    "start_time": "2024-03-10T18:58:03.232Z"
   },
   {
    "duration": 27,
    "start_time": "2024-03-10T18:58:03.263Z"
   },
   {
    "duration": 52,
    "start_time": "2024-03-10T18:58:03.292Z"
   },
   {
    "duration": 54,
    "start_time": "2024-03-10T18:58:03.345Z"
   },
   {
    "duration": 49,
    "start_time": "2024-03-10T18:58:03.400Z"
   },
   {
    "duration": 204,
    "start_time": "2024-03-10T18:58:03.450Z"
   },
   {
    "duration": 512,
    "start_time": "2024-03-10T18:58:03.655Z"
   },
   {
    "duration": 27,
    "start_time": "2024-03-10T18:58:04.169Z"
   },
   {
    "duration": 33,
    "start_time": "2024-03-10T18:58:04.197Z"
   },
   {
    "duration": 26,
    "start_time": "2024-03-10T18:58:04.232Z"
   },
   {
    "duration": 30,
    "start_time": "2024-03-10T18:58:04.259Z"
   },
   {
    "duration": 41,
    "start_time": "2024-03-10T18:58:04.290Z"
   },
   {
    "duration": 24,
    "start_time": "2024-03-10T18:58:04.332Z"
   },
   {
    "duration": 17,
    "start_time": "2024-03-10T18:58:04.358Z"
   },
   {
    "duration": 4,
    "start_time": "2024-03-10T18:58:04.377Z"
   },
   {
    "duration": 25,
    "start_time": "2024-03-10T18:58:04.383Z"
   },
   {
    "duration": 14,
    "start_time": "2024-03-10T18:58:04.409Z"
   },
   {
    "duration": 23,
    "start_time": "2024-03-10T18:58:04.424Z"
   },
   {
    "duration": 21,
    "start_time": "2024-03-10T18:58:04.449Z"
   },
   {
    "duration": 24,
    "start_time": "2024-03-10T18:58:04.472Z"
   },
   {
    "duration": 32,
    "start_time": "2024-03-10T18:58:04.498Z"
   },
   {
    "duration": 18,
    "start_time": "2024-03-10T18:58:04.532Z"
   },
   {
    "duration": 35,
    "start_time": "2024-03-10T18:58:04.552Z"
   },
   {
    "duration": 72,
    "start_time": "2024-03-10T18:58:04.588Z"
   },
   {
    "duration": 836,
    "start_time": "2024-03-10T18:58:04.661Z"
   },
   {
    "duration": 243,
    "start_time": "2024-03-10T18:58:05.499Z"
   },
   {
    "duration": 18,
    "start_time": "2024-03-10T18:58:05.744Z"
   },
   {
    "duration": 26,
    "start_time": "2024-03-10T18:58:05.766Z"
   },
   {
    "duration": 24,
    "start_time": "2024-03-10T18:58:05.794Z"
   },
   {
    "duration": 89,
    "start_time": "2024-03-10T18:58:05.820Z"
   },
   {
    "duration": 19,
    "start_time": "2024-03-10T18:58:05.910Z"
   },
   {
    "duration": 21,
    "start_time": "2024-03-10T18:58:05.930Z"
   },
   {
    "duration": 34,
    "start_time": "2024-03-10T18:58:05.952Z"
   },
   {
    "duration": 27,
    "start_time": "2024-03-10T18:58:05.988Z"
   },
   {
    "duration": 39,
    "start_time": "2024-03-10T18:58:06.017Z"
   },
   {
    "duration": 105,
    "start_time": "2024-03-10T18:58:06.058Z"
   },
   {
    "duration": 119,
    "start_time": "2024-03-10T18:58:06.165Z"
   },
   {
    "duration": 5,
    "start_time": "2024-03-10T18:58:06.285Z"
   },
   {
    "duration": 34,
    "start_time": "2024-03-10T18:58:06.291Z"
   },
   {
    "duration": 23,
    "start_time": "2024-03-10T18:58:06.326Z"
   },
   {
    "duration": 7,
    "start_time": "2024-03-10T18:58:06.350Z"
   },
   {
    "duration": 33,
    "start_time": "2024-03-10T18:58:06.358Z"
   },
   {
    "duration": 26,
    "start_time": "2024-03-10T18:58:06.392Z"
   },
   {
    "duration": 126,
    "start_time": "2024-03-10T18:58:06.420Z"
   },
   {
    "duration": 9,
    "start_time": "2024-03-10T18:58:06.548Z"
   },
   {
    "duration": 128,
    "start_time": "2024-03-10T18:58:06.558Z"
   },
   {
    "duration": 8,
    "start_time": "2024-03-10T18:58:06.687Z"
   },
   {
    "duration": 8,
    "start_time": "2024-03-10T19:01:24.985Z"
   },
   {
    "duration": 7,
    "start_time": "2024-03-10T19:01:37.816Z"
   },
   {
    "duration": 10,
    "start_time": "2024-03-10T19:01:59.137Z"
   },
   {
    "duration": 14,
    "start_time": "2024-03-10T19:02:03.665Z"
   },
   {
    "duration": 7,
    "start_time": "2024-03-10T19:02:08.560Z"
   },
   {
    "duration": 8,
    "start_time": "2024-03-10T19:09:32.706Z"
   },
   {
    "duration": 5,
    "start_time": "2024-03-10T19:09:43.179Z"
   },
   {
    "duration": 6,
    "start_time": "2024-03-10T19:09:48.134Z"
   },
   {
    "duration": 6,
    "start_time": "2024-03-10T19:10:05.786Z"
   },
   {
    "duration": 4,
    "start_time": "2024-03-10T19:11:17.603Z"
   },
   {
    "duration": 5,
    "start_time": "2024-03-10T19:11:31.939Z"
   },
   {
    "duration": 24,
    "start_time": "2024-03-10T19:11:45.883Z"
   },
   {
    "duration": 10,
    "start_time": "2024-03-10T19:13:32.340Z"
   },
   {
    "duration": 11,
    "start_time": "2024-03-10T19:13:37.586Z"
   },
   {
    "duration": 18,
    "start_time": "2024-03-10T19:13:44.946Z"
   },
   {
    "duration": 70,
    "start_time": "2024-03-10T19:13:57.283Z"
   },
   {
    "duration": 75,
    "start_time": "2024-03-10T19:14:00.084Z"
   },
   {
    "duration": 24,
    "start_time": "2024-03-10T19:14:14.627Z"
   },
   {
    "duration": 9,
    "start_time": "2024-03-10T19:17:55.587Z"
   },
   {
    "duration": 9,
    "start_time": "2024-03-10T19:18:07.364Z"
   },
   {
    "duration": 84,
    "start_time": "2024-03-10T19:18:12.404Z"
   },
   {
    "duration": 10,
    "start_time": "2024-03-10T19:18:22.523Z"
   },
   {
    "duration": 9,
    "start_time": "2024-03-10T19:18:29.844Z"
   },
   {
    "duration": 8,
    "start_time": "2024-03-10T19:19:30.828Z"
   },
   {
    "duration": 6,
    "start_time": "2024-03-10T19:21:57.356Z"
   },
   {
    "duration": 70,
    "start_time": "2024-03-10T19:22:23.045Z"
   },
   {
    "duration": 14,
    "start_time": "2024-03-10T19:22:32.532Z"
   },
   {
    "duration": 27,
    "start_time": "2024-03-10T19:24:32.653Z"
   },
   {
    "duration": 3,
    "start_time": "2024-03-11T05:37:33.122Z"
   },
   {
    "duration": 45,
    "start_time": "2024-03-11T06:22:53.146Z"
   },
   {
    "duration": 386,
    "start_time": "2024-03-11T06:22:59.504Z"
   },
   {
    "duration": 263,
    "start_time": "2024-03-11T06:22:59.892Z"
   },
   {
    "duration": 21,
    "start_time": "2024-03-11T06:23:00.156Z"
   },
   {
    "duration": 128,
    "start_time": "2024-03-11T06:23:00.179Z"
   },
   {
    "duration": 13,
    "start_time": "2024-03-11T06:23:00.308Z"
   },
   {
    "duration": 115,
    "start_time": "2024-03-11T06:23:00.323Z"
   },
   {
    "duration": 105,
    "start_time": "2024-03-11T06:23:00.440Z"
   },
   {
    "duration": 88,
    "start_time": "2024-03-11T06:23:00.546Z"
   },
   {
    "duration": 116,
    "start_time": "2024-03-11T06:23:00.635Z"
   },
   {
    "duration": 62,
    "start_time": "2024-03-11T06:23:00.753Z"
   },
   {
    "duration": 95,
    "start_time": "2024-03-11T06:23:00.816Z"
   },
   {
    "duration": 66,
    "start_time": "2024-03-11T06:23:00.912Z"
   },
   {
    "duration": 55,
    "start_time": "2024-03-11T06:23:00.980Z"
   },
   {
    "duration": 44,
    "start_time": "2024-03-11T06:23:01.036Z"
   },
   {
    "duration": 74,
    "start_time": "2024-03-11T06:23:01.081Z"
   },
   {
    "duration": 92,
    "start_time": "2024-03-11T06:23:01.157Z"
   },
   {
    "duration": 30,
    "start_time": "2024-03-11T06:23:01.250Z"
   },
   {
    "duration": 25,
    "start_time": "2024-03-11T06:23:01.282Z"
   },
   {
    "duration": 43,
    "start_time": "2024-03-11T06:23:01.309Z"
   },
   {
    "duration": 44,
    "start_time": "2024-03-11T06:23:01.353Z"
   },
   {
    "duration": 38,
    "start_time": "2024-03-11T06:23:01.399Z"
   },
   {
    "duration": 35,
    "start_time": "2024-03-11T06:23:01.438Z"
   },
   {
    "duration": 23,
    "start_time": "2024-03-11T06:23:01.474Z"
   },
   {
    "duration": 35,
    "start_time": "2024-03-11T06:23:01.499Z"
   },
   {
    "duration": 20,
    "start_time": "2024-03-11T06:23:01.536Z"
   },
   {
    "duration": 49,
    "start_time": "2024-03-11T06:23:01.558Z"
   },
   {
    "duration": 13,
    "start_time": "2024-03-11T06:23:01.609Z"
   },
   {
    "duration": 50,
    "start_time": "2024-03-11T06:23:01.626Z"
   },
   {
    "duration": 44,
    "start_time": "2024-03-11T06:23:01.678Z"
   },
   {
    "duration": 47,
    "start_time": "2024-03-11T06:23:01.723Z"
   },
   {
    "duration": 29,
    "start_time": "2024-03-11T06:23:01.771Z"
   },
   {
    "duration": 60,
    "start_time": "2024-03-11T06:23:01.802Z"
   },
   {
    "duration": 84,
    "start_time": "2024-03-11T06:23:01.863Z"
   },
   {
    "duration": 59,
    "start_time": "2024-03-11T06:23:01.949Z"
   },
   {
    "duration": 50,
    "start_time": "2024-03-11T06:23:02.010Z"
   },
   {
    "duration": 65,
    "start_time": "2024-03-11T06:23:02.062Z"
   },
   {
    "duration": 81,
    "start_time": "2024-03-11T06:23:02.134Z"
   },
   {
    "duration": 900,
    "start_time": "2024-03-11T06:23:02.216Z"
   },
   {
    "duration": 273,
    "start_time": "2024-03-11T06:23:03.118Z"
   },
   {
    "duration": 26,
    "start_time": "2024-03-11T06:23:03.392Z"
   },
   {
    "duration": 82,
    "start_time": "2024-03-11T06:23:03.420Z"
   },
   {
    "duration": 143,
    "start_time": "2024-03-11T06:23:03.504Z"
   },
   {
    "duration": 64,
    "start_time": "2024-03-11T06:23:03.648Z"
   },
   {
    "duration": 60,
    "start_time": "2024-03-11T06:23:03.714Z"
   },
   {
    "duration": 63,
    "start_time": "2024-03-11T06:23:03.776Z"
   },
   {
    "duration": 58,
    "start_time": "2024-03-11T06:23:03.841Z"
   },
   {
    "duration": 65,
    "start_time": "2024-03-11T06:23:03.900Z"
   },
   {
    "duration": 78,
    "start_time": "2024-03-11T06:23:03.966Z"
   },
   {
    "duration": 146,
    "start_time": "2024-03-11T06:23:04.046Z"
   },
   {
    "duration": 133,
    "start_time": "2024-03-11T06:23:04.194Z"
   },
   {
    "duration": 6,
    "start_time": "2024-03-11T06:23:04.329Z"
   },
   {
    "duration": 66,
    "start_time": "2024-03-11T06:23:04.336Z"
   },
   {
    "duration": 49,
    "start_time": "2024-03-11T06:23:04.404Z"
   },
   {
    "duration": 43,
    "start_time": "2024-03-11T06:23:04.454Z"
   },
   {
    "duration": 31,
    "start_time": "2024-03-11T06:23:04.500Z"
   },
   {
    "duration": 26,
    "start_time": "2024-03-11T06:23:04.532Z"
   },
   {
    "duration": 179,
    "start_time": "2024-03-11T06:23:04.560Z"
   },
   {
    "duration": 12,
    "start_time": "2024-03-11T06:23:04.740Z"
   },
   {
    "duration": 176,
    "start_time": "2024-03-11T06:23:04.753Z"
   },
   {
    "duration": 8,
    "start_time": "2024-03-11T06:23:04.931Z"
   },
   {
    "duration": 13,
    "start_time": "2024-03-11T07:12:43.356Z"
   },
   {
    "duration": 136,
    "start_time": "2024-03-11T07:14:35.383Z"
   },
   {
    "duration": 138,
    "start_time": "2024-03-11T07:15:27.662Z"
   },
   {
    "duration": 112,
    "start_time": "2024-03-11T07:15:34.518Z"
   },
   {
    "duration": 123,
    "start_time": "2024-03-11T07:15:52.615Z"
   },
   {
    "duration": 124,
    "start_time": "2024-03-11T07:17:17.680Z"
   },
   {
    "duration": 166,
    "start_time": "2024-03-11T07:25:08.531Z"
   },
   {
    "duration": 107,
    "start_time": "2024-03-11T07:25:41.481Z"
   },
   {
    "duration": 110,
    "start_time": "2024-03-11T07:25:55.848Z"
   },
   {
    "duration": 116,
    "start_time": "2024-03-11T07:49:18.130Z"
   },
   {
    "duration": 140,
    "start_time": "2024-03-11T09:15:10.970Z"
   },
   {
    "duration": 138,
    "start_time": "2024-03-11T09:18:10.348Z"
   },
   {
    "duration": 47,
    "start_time": "2024-03-11T09:18:34.883Z"
   },
   {
    "duration": 11,
    "start_time": "2024-03-11T09:18:43.134Z"
   },
   {
    "duration": 143,
    "start_time": "2024-03-11T09:18:48.234Z"
   },
   {
    "duration": 146,
    "start_time": "2024-03-11T09:20:59.466Z"
   },
   {
    "duration": 131,
    "start_time": "2024-03-11T09:21:10.092Z"
   },
   {
    "duration": 5,
    "start_time": "2024-03-11T13:48:38.744Z"
   },
   {
    "duration": 31,
    "start_time": "2024-03-11T13:49:40.948Z"
   },
   {
    "duration": 146,
    "start_time": "2024-03-11T13:53:34.279Z"
   },
   {
    "duration": 8,
    "start_time": "2024-03-11T13:53:59.288Z"
   },
   {
    "duration": 128,
    "start_time": "2024-03-11T13:54:13.568Z"
   },
   {
    "duration": 136,
    "start_time": "2024-03-11T13:54:37.111Z"
   },
   {
    "duration": 167,
    "start_time": "2024-03-11T13:56:32.177Z"
   },
   {
    "duration": 3795,
    "start_time": "2024-03-11T13:56:40.145Z"
   },
   {
    "duration": 3998,
    "start_time": "2024-03-11T13:56:54.208Z"
   },
   {
    "duration": 10,
    "start_time": "2024-03-11T13:57:16.685Z"
   },
   {
    "duration": 10,
    "start_time": "2024-03-11T13:57:33.657Z"
   },
   {
    "duration": 133,
    "start_time": "2024-03-11T13:57:37.762Z"
   },
   {
    "duration": 140,
    "start_time": "2024-03-11T13:57:47.441Z"
   },
   {
    "duration": 14,
    "start_time": "2024-03-11T13:59:25.996Z"
   },
   {
    "duration": 30,
    "start_time": "2024-03-11T13:59:46.884Z"
   },
   {
    "duration": 138,
    "start_time": "2024-03-11T14:02:10.927Z"
   },
   {
    "duration": 227,
    "start_time": "2024-03-11T14:02:17.492Z"
   },
   {
    "duration": 126,
    "start_time": "2024-03-11T14:02:41.158Z"
   },
   {
    "duration": 8,
    "start_time": "2024-03-11T14:11:09.677Z"
   },
   {
    "duration": 440,
    "start_time": "2024-03-11T18:05:33.762Z"
   },
   {
    "duration": 277,
    "start_time": "2024-03-11T18:05:34.204Z"
   },
   {
    "duration": 23,
    "start_time": "2024-03-11T18:05:34.483Z"
   },
   {
    "duration": 91,
    "start_time": "2024-03-11T18:05:34.507Z"
   },
   {
    "duration": 12,
    "start_time": "2024-03-11T18:05:34.600Z"
   },
   {
    "duration": 28,
    "start_time": "2024-03-11T18:05:34.613Z"
   },
   {
    "duration": 4,
    "start_time": "2024-03-11T18:05:34.642Z"
   },
   {
    "duration": 30,
    "start_time": "2024-03-11T18:05:34.647Z"
   },
   {
    "duration": 14,
    "start_time": "2024-03-11T18:05:34.678Z"
   },
   {
    "duration": 18,
    "start_time": "2024-03-11T18:05:34.694Z"
   },
   {
    "duration": 16,
    "start_time": "2024-03-11T18:05:34.714Z"
   },
   {
    "duration": 43,
    "start_time": "2024-03-11T18:05:34.731Z"
   },
   {
    "duration": 19,
    "start_time": "2024-03-11T18:05:34.775Z"
   },
   {
    "duration": 8,
    "start_time": "2024-03-11T18:05:34.797Z"
   },
   {
    "duration": 11,
    "start_time": "2024-03-11T18:05:34.807Z"
   },
   {
    "duration": 21,
    "start_time": "2024-03-11T18:05:34.819Z"
   },
   {
    "duration": 32,
    "start_time": "2024-03-11T18:05:34.842Z"
   },
   {
    "duration": 10,
    "start_time": "2024-03-11T18:05:34.876Z"
   },
   {
    "duration": 10,
    "start_time": "2024-03-11T18:05:34.888Z"
   },
   {
    "duration": 15,
    "start_time": "2024-03-11T18:05:34.900Z"
   },
   {
    "duration": 9,
    "start_time": "2024-03-11T18:05:34.917Z"
   },
   {
    "duration": 18,
    "start_time": "2024-03-11T18:05:34.928Z"
   },
   {
    "duration": 7,
    "start_time": "2024-03-11T18:05:34.973Z"
   },
   {
    "duration": 30,
    "start_time": "2024-03-11T18:05:34.982Z"
   },
   {
    "duration": 24,
    "start_time": "2024-03-11T18:05:35.014Z"
   },
   {
    "duration": 43,
    "start_time": "2024-03-11T18:05:35.040Z"
   },
   {
    "duration": 3,
    "start_time": "2024-03-11T18:05:35.084Z"
   },
   {
    "duration": 11,
    "start_time": "2024-03-11T18:05:35.089Z"
   },
   {
    "duration": 14,
    "start_time": "2024-03-11T18:05:35.102Z"
   },
   {
    "duration": 11,
    "start_time": "2024-03-11T18:05:35.117Z"
   },
   {
    "duration": 15,
    "start_time": "2024-03-11T18:05:35.129Z"
   },
   {
    "duration": 13,
    "start_time": "2024-03-11T18:05:35.145Z"
   },
   {
    "duration": 18,
    "start_time": "2024-03-11T18:05:35.160Z"
   },
   {
    "duration": 46,
    "start_time": "2024-03-11T18:05:35.179Z"
   },
   {
    "duration": 1002,
    "start_time": "2024-03-11T18:05:35.227Z"
   },
   {
    "duration": 285,
    "start_time": "2024-03-11T18:05:36.231Z"
   },
   {
    "duration": 22,
    "start_time": "2024-03-11T18:05:36.518Z"
   },
   {
    "duration": 8,
    "start_time": "2024-03-11T18:05:36.541Z"
   },
   {
    "duration": 90,
    "start_time": "2024-03-11T18:05:36.551Z"
   },
   {
    "duration": 50,
    "start_time": "2024-03-11T18:05:36.643Z"
   },
   {
    "duration": 20,
    "start_time": "2024-03-11T18:05:36.698Z"
   },
   {
    "duration": 12,
    "start_time": "2024-03-11T18:05:36.720Z"
   },
   {
    "duration": 29,
    "start_time": "2024-03-11T18:05:36.733Z"
   },
   {
    "duration": 10,
    "start_time": "2024-03-11T18:05:36.764Z"
   },
   {
    "duration": 22,
    "start_time": "2024-03-11T18:05:36.775Z"
   },
   {
    "duration": 131,
    "start_time": "2024-03-11T18:05:36.799Z"
   },
   {
    "duration": 146,
    "start_time": "2024-03-11T18:05:36.932Z"
   },
   {
    "duration": 9,
    "start_time": "2024-03-11T18:05:37.079Z"
   },
   {
    "duration": 41,
    "start_time": "2024-03-11T18:05:37.090Z"
   },
   {
    "duration": 152,
    "start_time": "2024-03-11T18:05:37.133Z"
   },
   {
    "duration": 7,
    "start_time": "2024-03-11T18:05:37.286Z"
   },
   {
    "duration": 31,
    "start_time": "2024-03-11T18:05:37.295Z"
   },
   {
    "duration": 8,
    "start_time": "2024-03-11T18:05:37.328Z"
   },
   {
    "duration": 42,
    "start_time": "2024-03-11T18:05:37.337Z"
   },
   {
    "duration": 5,
    "start_time": "2024-03-11T18:05:37.381Z"
   },
   {
    "duration": 148,
    "start_time": "2024-03-11T18:05:37.387Z"
   },
   {
    "duration": 11,
    "start_time": "2024-03-11T18:05:37.537Z"
   },
   {
    "duration": 29,
    "start_time": "2024-03-11T18:05:37.549Z"
   },
   {
    "duration": 32,
    "start_time": "2024-03-11T18:05:37.580Z"
   },
   {
    "duration": 2265,
    "start_time": "2024-03-11T18:27:51.690Z"
   },
   {
    "duration": 213,
    "start_time": "2024-03-11T18:28:26.316Z"
   },
   {
    "duration": 495,
    "start_time": "2024-03-11T19:10:03.301Z"
   },
   {
    "duration": 233,
    "start_time": "2024-03-11T19:10:03.798Z"
   },
   {
    "duration": 28,
    "start_time": "2024-03-11T19:10:04.033Z"
   },
   {
    "duration": 192,
    "start_time": "2024-03-11T19:10:04.063Z"
   },
   {
    "duration": 13,
    "start_time": "2024-03-11T19:10:04.258Z"
   },
   {
    "duration": 47,
    "start_time": "2024-03-11T19:10:04.272Z"
   },
   {
    "duration": 52,
    "start_time": "2024-03-11T19:10:04.320Z"
   },
   {
    "duration": 85,
    "start_time": "2024-03-11T19:10:04.374Z"
   },
   {
    "duration": 17,
    "start_time": "2024-03-11T19:10:04.461Z"
   },
   {
    "duration": 62,
    "start_time": "2024-03-11T19:10:04.479Z"
   },
   {
    "duration": 36,
    "start_time": "2024-03-11T19:10:04.543Z"
   },
   {
    "duration": 36,
    "start_time": "2024-03-11T19:10:04.581Z"
   },
   {
    "duration": 58,
    "start_time": "2024-03-11T19:10:04.619Z"
   },
   {
    "duration": 27,
    "start_time": "2024-03-11T19:10:04.680Z"
   },
   {
    "duration": 41,
    "start_time": "2024-03-11T19:10:04.709Z"
   },
   {
    "duration": 39,
    "start_time": "2024-03-11T19:10:04.752Z"
   },
   {
    "duration": 17,
    "start_time": "2024-03-11T19:10:04.793Z"
   },
   {
    "duration": 40,
    "start_time": "2024-03-11T19:10:04.812Z"
   },
   {
    "duration": 42,
    "start_time": "2024-03-11T19:10:04.854Z"
   },
   {
    "duration": 48,
    "start_time": "2024-03-11T19:10:04.898Z"
   },
   {
    "duration": 53,
    "start_time": "2024-03-11T19:10:04.948Z"
   },
   {
    "duration": 42,
    "start_time": "2024-03-11T19:10:05.003Z"
   },
   {
    "duration": 22,
    "start_time": "2024-03-11T19:10:05.047Z"
   },
   {
    "duration": 58,
    "start_time": "2024-03-11T19:10:05.071Z"
   },
   {
    "duration": 54,
    "start_time": "2024-03-11T19:10:05.130Z"
   },
   {
    "duration": 21,
    "start_time": "2024-03-11T19:10:05.186Z"
   },
   {
    "duration": 2,
    "start_time": "2024-03-11T19:10:05.209Z"
   },
   {
    "duration": 22,
    "start_time": "2024-03-11T19:10:05.213Z"
   },
   {
    "duration": 40,
    "start_time": "2024-03-11T19:10:05.237Z"
   },
   {
    "duration": 38,
    "start_time": "2024-03-11T19:10:05.279Z"
   },
   {
    "duration": 38,
    "start_time": "2024-03-11T19:10:05.319Z"
   },
   {
    "duration": 17,
    "start_time": "2024-03-11T19:10:05.359Z"
   },
   {
    "duration": 37,
    "start_time": "2024-03-11T19:10:05.378Z"
   },
   {
    "duration": 50,
    "start_time": "2024-03-11T19:10:05.418Z"
   },
   {
    "duration": 1135,
    "start_time": "2024-03-11T19:10:05.470Z"
   },
   {
    "duration": 325,
    "start_time": "2024-03-11T19:10:06.607Z"
   },
   {
    "duration": 24,
    "start_time": "2024-03-11T19:10:06.934Z"
   },
   {
    "duration": 8,
    "start_time": "2024-03-11T19:10:06.960Z"
   },
   {
    "duration": 101,
    "start_time": "2024-03-11T19:10:06.970Z"
   },
   {
    "duration": 25,
    "start_time": "2024-03-11T19:10:07.073Z"
   },
   {
    "duration": 51,
    "start_time": "2024-03-11T19:10:07.102Z"
   },
   {
    "duration": 22,
    "start_time": "2024-03-11T19:10:07.155Z"
   },
   {
    "duration": 20,
    "start_time": "2024-03-11T19:10:07.178Z"
   },
   {
    "duration": 9,
    "start_time": "2024-03-11T19:10:07.199Z"
   },
   {
    "duration": 18,
    "start_time": "2024-03-11T19:10:07.209Z"
   },
   {
    "duration": 29,
    "start_time": "2024-03-11T19:10:07.229Z"
   },
   {
    "duration": 137,
    "start_time": "2024-03-11T19:10:07.260Z"
   },
   {
    "duration": 155,
    "start_time": "2024-03-11T19:10:07.399Z"
   },
   {
    "duration": 7,
    "start_time": "2024-03-11T19:10:07.556Z"
   },
   {
    "duration": 20,
    "start_time": "2024-03-11T19:10:07.565Z"
   },
   {
    "duration": 168,
    "start_time": "2024-03-11T19:10:07.588Z"
   },
   {
    "duration": 7,
    "start_time": "2024-03-11T19:10:07.758Z"
   },
   {
    "duration": 27,
    "start_time": "2024-03-11T19:10:07.767Z"
   },
   {
    "duration": 8,
    "start_time": "2024-03-11T19:10:07.795Z"
   },
   {
    "duration": 813,
    "start_time": "2024-03-11T19:10:07.825Z"
   },
   {
    "duration": 17,
    "start_time": "2024-03-11T19:10:08.641Z"
   },
   {
    "duration": 13,
    "start_time": "2024-03-11T19:10:08.660Z"
   },
   {
    "duration": 297,
    "start_time": "2024-03-11T19:10:08.675Z"
   },
   {
    "duration": 20,
    "start_time": "2024-03-11T19:10:09.028Z"
   },
   {
    "duration": 21,
    "start_time": "2024-03-11T19:10:09.050Z"
   },
   {
    "duration": 50,
    "start_time": "2024-03-11T19:10:09.073Z"
   },
   {
    "duration": 9,
    "start_time": "2024-03-11T19:11:28.568Z"
   },
   {
    "duration": 33,
    "start_time": "2024-03-11T19:11:55.606Z"
   },
   {
    "duration": 17,
    "start_time": "2024-03-11T19:22:56.737Z"
   },
   {
    "duration": 33,
    "start_time": "2024-03-11T19:23:10.158Z"
   },
   {
    "duration": 415,
    "start_time": "2024-03-12T07:56:57.484Z"
   },
   {
    "duration": 280,
    "start_time": "2024-03-12T07:56:57.901Z"
   },
   {
    "duration": 20,
    "start_time": "2024-03-12T07:56:58.182Z"
   },
   {
    "duration": 88,
    "start_time": "2024-03-12T07:56:58.204Z"
   },
   {
    "duration": 12,
    "start_time": "2024-03-12T07:56:58.293Z"
   },
   {
    "duration": 10,
    "start_time": "2024-03-12T07:56:58.307Z"
   },
   {
    "duration": 6,
    "start_time": "2024-03-12T07:56:58.318Z"
   },
   {
    "duration": 31,
    "start_time": "2024-03-12T07:56:58.325Z"
   },
   {
    "duration": 16,
    "start_time": "2024-03-12T07:56:58.357Z"
   },
   {
    "duration": 13,
    "start_time": "2024-03-12T07:56:58.376Z"
   },
   {
    "duration": 15,
    "start_time": "2024-03-12T07:56:58.391Z"
   },
   {
    "duration": 17,
    "start_time": "2024-03-12T07:56:58.407Z"
   },
   {
    "duration": 48,
    "start_time": "2024-03-12T07:56:58.426Z"
   },
   {
    "duration": 9,
    "start_time": "2024-03-12T07:56:58.475Z"
   },
   {
    "duration": 18,
    "start_time": "2024-03-12T07:56:58.485Z"
   },
   {
    "duration": 19,
    "start_time": "2024-03-12T07:56:58.505Z"
   },
   {
    "duration": 5,
    "start_time": "2024-03-12T07:56:58.526Z"
   },
   {
    "duration": 6,
    "start_time": "2024-03-12T07:56:58.532Z"
   },
   {
    "duration": 34,
    "start_time": "2024-03-12T07:56:58.539Z"
   },
   {
    "duration": 15,
    "start_time": "2024-03-12T07:56:58.574Z"
   },
   {
    "duration": 18,
    "start_time": "2024-03-12T07:56:58.590Z"
   },
   {
    "duration": 18,
    "start_time": "2024-03-12T07:56:58.609Z"
   },
   {
    "duration": 10,
    "start_time": "2024-03-12T07:56:58.629Z"
   },
   {
    "duration": 31,
    "start_time": "2024-03-12T07:56:58.641Z"
   },
   {
    "duration": 20,
    "start_time": "2024-03-12T07:56:58.674Z"
   },
   {
    "duration": 19,
    "start_time": "2024-03-12T07:56:58.696Z"
   },
   {
    "duration": 2,
    "start_time": "2024-03-12T07:56:58.717Z"
   },
   {
    "duration": 6,
    "start_time": "2024-03-12T07:56:58.722Z"
   },
   {
    "duration": 11,
    "start_time": "2024-03-12T07:56:58.729Z"
   },
   {
    "duration": 27,
    "start_time": "2024-03-12T07:56:58.742Z"
   },
   {
    "duration": 14,
    "start_time": "2024-03-12T07:56:58.771Z"
   },
   {
    "duration": 6,
    "start_time": "2024-03-12T07:56:58.787Z"
   },
   {
    "duration": 14,
    "start_time": "2024-03-12T07:56:58.794Z"
   },
   {
    "duration": 41,
    "start_time": "2024-03-12T07:56:58.810Z"
   },
   {
    "duration": 966,
    "start_time": "2024-03-12T07:56:58.852Z"
   },
   {
    "duration": 292,
    "start_time": "2024-03-12T07:56:59.820Z"
   },
   {
    "duration": 22,
    "start_time": "2024-03-12T07:57:00.113Z"
   },
   {
    "duration": 57,
    "start_time": "2024-03-12T07:57:00.137Z"
   },
   {
    "duration": 147,
    "start_time": "2024-03-12T07:57:00.196Z"
   },
   {
    "duration": 171,
    "start_time": "2024-03-12T07:57:00.344Z"
   },
   {
    "duration": 220,
    "start_time": "2024-03-12T07:57:00.516Z"
   },
   {
    "duration": 265,
    "start_time": "2024-03-12T07:57:00.738Z"
   },
   {
    "duration": 109,
    "start_time": "2024-03-12T07:57:01.005Z"
   },
   {
    "duration": 48,
    "start_time": "2024-03-12T07:57:01.116Z"
   },
   {
    "duration": 57,
    "start_time": "2024-03-12T07:57:01.166Z"
   },
   {
    "duration": 36,
    "start_time": "2024-03-12T07:57:01.225Z"
   },
   {
    "duration": 55,
    "start_time": "2024-03-12T07:57:01.263Z"
   },
   {
    "duration": 181,
    "start_time": "2024-03-12T07:57:01.320Z"
   },
   {
    "duration": 126,
    "start_time": "2024-03-12T07:57:01.503Z"
   },
   {
    "duration": 6,
    "start_time": "2024-03-12T07:57:01.631Z"
   },
   {
    "duration": 78,
    "start_time": "2024-03-12T07:57:01.638Z"
   },
   {
    "duration": 285,
    "start_time": "2024-03-12T07:57:01.717Z"
   },
   {
    "duration": 8,
    "start_time": "2024-03-12T07:57:02.003Z"
   },
   {
    "duration": 72,
    "start_time": "2024-03-12T07:57:02.012Z"
   },
   {
    "duration": 62,
    "start_time": "2024-03-12T07:57:02.085Z"
   },
   {
    "duration": 855,
    "start_time": "2024-03-12T07:57:02.149Z"
   },
   {
    "duration": 18,
    "start_time": "2024-03-12T07:57:03.006Z"
   },
   {
    "duration": 5,
    "start_time": "2024-03-12T07:57:03.026Z"
   },
   {
    "duration": 149,
    "start_time": "2024-03-12T07:57:03.033Z"
   },
   {
    "duration": 10,
    "start_time": "2024-03-12T07:57:03.184Z"
   },
   {
    "duration": 6,
    "start_time": "2024-03-12T07:57:03.196Z"
   },
   {
    "duration": 22,
    "start_time": "2024-03-12T07:57:03.204Z"
   },
   {
    "duration": 406,
    "start_time": "2024-03-12T08:27:57.591Z"
   },
   {
    "duration": 106,
    "start_time": "2024-03-12T08:27:57.999Z"
   },
   {
    "duration": 22,
    "start_time": "2024-03-12T08:27:58.106Z"
   },
   {
    "duration": 44,
    "start_time": "2024-03-12T08:27:58.130Z"
   },
   {
    "duration": 12,
    "start_time": "2024-03-12T08:27:58.176Z"
   },
   {
    "duration": 19,
    "start_time": "2024-03-12T08:27:58.189Z"
   },
   {
    "duration": 9,
    "start_time": "2024-03-12T08:27:58.209Z"
   },
   {
    "duration": 26,
    "start_time": "2024-03-12T08:27:58.219Z"
   },
   {
    "duration": 27,
    "start_time": "2024-03-12T08:27:58.247Z"
   },
   {
    "duration": 14,
    "start_time": "2024-03-12T08:27:58.276Z"
   },
   {
    "duration": 16,
    "start_time": "2024-03-12T08:27:58.292Z"
   },
   {
    "duration": 22,
    "start_time": "2024-03-12T08:27:58.309Z"
   },
   {
    "duration": 39,
    "start_time": "2024-03-12T08:27:58.333Z"
   },
   {
    "duration": 9,
    "start_time": "2024-03-12T08:27:58.373Z"
   },
   {
    "duration": 11,
    "start_time": "2024-03-12T08:27:58.383Z"
   },
   {
    "duration": 14,
    "start_time": "2024-03-12T08:27:58.395Z"
   },
   {
    "duration": 5,
    "start_time": "2024-03-12T08:27:58.410Z"
   },
   {
    "duration": 7,
    "start_time": "2024-03-12T08:27:58.416Z"
   },
   {
    "duration": 11,
    "start_time": "2024-03-12T08:27:58.424Z"
   },
   {
    "duration": 44,
    "start_time": "2024-03-12T08:27:58.437Z"
   },
   {
    "duration": 7,
    "start_time": "2024-03-12T08:27:58.483Z"
   },
   {
    "duration": 23,
    "start_time": "2024-03-12T08:27:58.491Z"
   },
   {
    "duration": 8,
    "start_time": "2024-03-12T08:27:58.515Z"
   },
   {
    "duration": 22,
    "start_time": "2024-03-12T08:27:58.525Z"
   },
   {
    "duration": 22,
    "start_time": "2024-03-12T08:27:58.570Z"
   },
   {
    "duration": 21,
    "start_time": "2024-03-12T08:27:58.593Z"
   },
   {
    "duration": 3,
    "start_time": "2024-03-12T08:27:58.615Z"
   },
   {
    "duration": 16,
    "start_time": "2024-03-12T08:27:58.621Z"
   },
   {
    "duration": 12,
    "start_time": "2024-03-12T08:27:58.638Z"
   },
   {
    "duration": 4,
    "start_time": "2024-03-12T08:27:58.652Z"
   },
   {
    "duration": 23,
    "start_time": "2024-03-12T08:27:58.658Z"
   },
   {
    "duration": 15,
    "start_time": "2024-03-12T08:27:58.683Z"
   },
   {
    "duration": 30,
    "start_time": "2024-03-12T08:27:58.700Z"
   },
   {
    "duration": 60,
    "start_time": "2024-03-12T08:27:58.733Z"
   },
   {
    "duration": 811,
    "start_time": "2024-03-12T08:27:58.795Z"
   },
   {
    "duration": 289,
    "start_time": "2024-03-12T08:27:59.609Z"
   },
   {
    "duration": 23,
    "start_time": "2024-03-12T08:27:59.900Z"
   },
   {
    "duration": 8,
    "start_time": "2024-03-12T08:27:59.924Z"
   },
   {
    "duration": 96,
    "start_time": "2024-03-12T08:27:59.933Z"
   },
   {
    "duration": 23,
    "start_time": "2024-03-12T08:28:00.031Z"
   },
   {
    "duration": 75,
    "start_time": "2024-03-12T08:28:00.055Z"
   },
   {
    "duration": 126,
    "start_time": "2024-03-12T08:28:00.132Z"
   },
   {
    "duration": 81,
    "start_time": "2024-03-12T08:28:00.259Z"
   },
   {
    "duration": 53,
    "start_time": "2024-03-12T08:28:00.341Z"
   },
   {
    "duration": 77,
    "start_time": "2024-03-12T08:28:00.396Z"
   },
   {
    "duration": 50,
    "start_time": "2024-03-12T08:28:00.475Z"
   },
   {
    "duration": 57,
    "start_time": "2024-03-12T08:28:00.527Z"
   },
   {
    "duration": 201,
    "start_time": "2024-03-12T08:28:00.586Z"
   },
   {
    "duration": 128,
    "start_time": "2024-03-12T08:28:00.788Z"
   },
   {
    "duration": 6,
    "start_time": "2024-03-12T08:28:00.917Z"
   },
   {
    "duration": 52,
    "start_time": "2024-03-12T08:28:00.924Z"
   },
   {
    "duration": 153,
    "start_time": "2024-03-12T08:28:00.977Z"
   },
   {
    "duration": 7,
    "start_time": "2024-03-12T08:28:01.131Z"
   },
   {
    "duration": 183,
    "start_time": "2024-03-12T08:28:01.140Z"
   },
   {
    "duration": 90,
    "start_time": "2024-03-12T08:28:01.325Z"
   },
   {
    "duration": 900,
    "start_time": "2024-03-12T08:28:01.417Z"
   },
   {
    "duration": 17,
    "start_time": "2024-03-12T08:28:02.319Z"
   },
   {
    "duration": 16,
    "start_time": "2024-03-12T08:28:02.337Z"
   },
   {
    "duration": 136,
    "start_time": "2024-03-12T08:28:02.355Z"
   },
   {
    "duration": 10,
    "start_time": "2024-03-12T08:28:02.493Z"
   },
   {
    "duration": 22,
    "start_time": "2024-03-12T08:28:02.505Z"
   },
   {
    "duration": 25,
    "start_time": "2024-03-12T08:28:02.529Z"
   },
   {
    "duration": 439,
    "start_time": "2024-03-12T13:13:51.342Z"
   },
   {
    "duration": 106,
    "start_time": "2024-03-12T13:13:51.783Z"
   },
   {
    "duration": 19,
    "start_time": "2024-03-12T13:13:51.891Z"
   },
   {
    "duration": 45,
    "start_time": "2024-03-12T13:13:51.913Z"
   },
   {
    "duration": 12,
    "start_time": "2024-03-12T13:13:51.959Z"
   },
   {
    "duration": 14,
    "start_time": "2024-03-12T13:13:51.973Z"
   },
   {
    "duration": 5,
    "start_time": "2024-03-12T13:13:51.989Z"
   },
   {
    "duration": 29,
    "start_time": "2024-03-12T13:13:51.995Z"
   },
   {
    "duration": 15,
    "start_time": "2024-03-12T13:13:52.026Z"
   },
   {
    "duration": 30,
    "start_time": "2024-03-12T13:13:52.044Z"
   },
   {
    "duration": 16,
    "start_time": "2024-03-12T13:13:52.075Z"
   },
   {
    "duration": 25,
    "start_time": "2024-03-12T13:13:52.093Z"
   },
   {
    "duration": 18,
    "start_time": "2024-03-12T13:13:52.120Z"
   },
   {
    "duration": 33,
    "start_time": "2024-03-12T13:13:52.140Z"
   },
   {
    "duration": 10,
    "start_time": "2024-03-12T13:13:52.175Z"
   },
   {
    "duration": 17,
    "start_time": "2024-03-12T13:13:52.187Z"
   },
   {
    "duration": 6,
    "start_time": "2024-03-12T13:13:52.206Z"
   },
   {
    "duration": 7,
    "start_time": "2024-03-12T13:13:52.213Z"
   },
   {
    "duration": 17,
    "start_time": "2024-03-12T13:13:52.221Z"
   },
   {
    "duration": 14,
    "start_time": "2024-03-12T13:13:52.266Z"
   },
   {
    "duration": 11,
    "start_time": "2024-03-12T13:13:52.282Z"
   },
   {
    "duration": 25,
    "start_time": "2024-03-12T13:13:52.295Z"
   },
   {
    "duration": 16,
    "start_time": "2024-03-12T13:13:52.322Z"
   },
   {
    "duration": 29,
    "start_time": "2024-03-12T13:13:52.340Z"
   },
   {
    "duration": 21,
    "start_time": "2024-03-12T13:13:52.371Z"
   },
   {
    "duration": 18,
    "start_time": "2024-03-12T13:13:52.394Z"
   },
   {
    "duration": 3,
    "start_time": "2024-03-12T13:13:52.413Z"
   },
   {
    "duration": 7,
    "start_time": "2024-03-12T13:13:52.419Z"
   },
   {
    "duration": 7,
    "start_time": "2024-03-12T13:13:52.427Z"
   },
   {
    "duration": 37,
    "start_time": "2024-03-12T13:13:52.435Z"
   },
   {
    "duration": 17,
    "start_time": "2024-03-12T13:13:52.473Z"
   },
   {
    "duration": 3,
    "start_time": "2024-03-12T13:13:52.492Z"
   },
   {
    "duration": 14,
    "start_time": "2024-03-12T13:13:52.496Z"
   },
   {
    "duration": 49,
    "start_time": "2024-03-12T13:13:52.512Z"
   },
   {
    "duration": 752,
    "start_time": "2024-03-12T13:13:52.565Z"
   },
   {
    "duration": 271,
    "start_time": "2024-03-12T13:13:53.319Z"
   },
   {
    "duration": 22,
    "start_time": "2024-03-12T13:13:53.592Z"
   },
   {
    "duration": 10,
    "start_time": "2024-03-12T13:13:53.616Z"
   },
   {
    "duration": 91,
    "start_time": "2024-03-12T13:13:53.628Z"
   },
   {
    "duration": 25,
    "start_time": "2024-03-12T13:13:53.720Z"
   },
   {
    "duration": 33,
    "start_time": "2024-03-12T13:13:53.746Z"
   },
   {
    "duration": 36,
    "start_time": "2024-03-12T13:13:53.781Z"
   },
   {
    "duration": 19,
    "start_time": "2024-03-12T13:13:53.818Z"
   },
   {
    "duration": 29,
    "start_time": "2024-03-12T13:13:53.838Z"
   },
   {
    "duration": 6,
    "start_time": "2024-03-12T13:13:53.868Z"
   },
   {
    "duration": 6,
    "start_time": "2024-03-12T13:13:53.875Z"
   },
   {
    "duration": 22,
    "start_time": "2024-03-12T13:13:53.882Z"
   },
   {
    "duration": 126,
    "start_time": "2024-03-12T13:13:53.906Z"
   },
   {
    "duration": 128,
    "start_time": "2024-03-12T13:13:54.033Z"
   },
   {
    "duration": 6,
    "start_time": "2024-03-12T13:13:54.165Z"
   },
   {
    "duration": 18,
    "start_time": "2024-03-12T13:13:54.172Z"
   },
   {
    "duration": 128,
    "start_time": "2024-03-12T13:13:54.192Z"
   },
   {
    "duration": 6,
    "start_time": "2024-03-12T13:13:54.322Z"
   },
   {
    "duration": 36,
    "start_time": "2024-03-12T13:13:54.330Z"
   },
   {
    "duration": 8,
    "start_time": "2024-03-12T13:13:54.368Z"
   },
   {
    "duration": 719,
    "start_time": "2024-03-12T13:13:54.378Z"
   },
   {
    "duration": 16,
    "start_time": "2024-03-12T13:13:55.099Z"
   },
   {
    "duration": 4,
    "start_time": "2024-03-12T13:13:55.117Z"
   },
   {
    "duration": 147,
    "start_time": "2024-03-12T13:13:55.123Z"
   },
   {
    "duration": 11,
    "start_time": "2024-03-12T13:13:55.272Z"
   },
   {
    "duration": 8,
    "start_time": "2024-03-12T13:13:55.284Z"
   },
   {
    "duration": 31,
    "start_time": "2024-03-12T13:13:55.293Z"
   },
   {
    "duration": 427,
    "start_time": "2024-03-14T18:55:54.578Z"
   },
   {
    "duration": 251,
    "start_time": "2024-03-14T18:55:55.007Z"
   },
   {
    "duration": 19,
    "start_time": "2024-03-14T18:55:55.259Z"
   },
   {
    "duration": 176,
    "start_time": "2024-03-14T18:55:55.279Z"
   },
   {
    "duration": 11,
    "start_time": "2024-03-14T18:55:55.457Z"
   },
   {
    "duration": 16,
    "start_time": "2024-03-14T18:55:55.470Z"
   },
   {
    "duration": 17,
    "start_time": "2024-03-14T18:55:55.487Z"
   },
   {
    "duration": 28,
    "start_time": "2024-03-14T18:55:55.506Z"
   },
   {
    "duration": 14,
    "start_time": "2024-03-14T18:55:55.536Z"
   },
   {
    "duration": 14,
    "start_time": "2024-03-14T18:55:55.551Z"
   },
   {
    "duration": 31,
    "start_time": "2024-03-14T18:55:55.566Z"
   },
   {
    "duration": 24,
    "start_time": "2024-03-14T18:55:55.598Z"
   },
   {
    "duration": 18,
    "start_time": "2024-03-14T18:55:55.623Z"
   },
   {
    "duration": 7,
    "start_time": "2024-03-14T18:55:55.644Z"
   },
   {
    "duration": 29,
    "start_time": "2024-03-14T18:55:55.652Z"
   },
   {
    "duration": 22,
    "start_time": "2024-03-14T18:55:55.682Z"
   },
   {
    "duration": 5,
    "start_time": "2024-03-14T18:55:55.705Z"
   },
   {
    "duration": 16,
    "start_time": "2024-03-14T18:55:55.712Z"
   },
   {
    "duration": 25,
    "start_time": "2024-03-14T18:55:55.730Z"
   },
   {
    "duration": 17,
    "start_time": "2024-03-14T18:55:55.757Z"
   },
   {
    "duration": 22,
    "start_time": "2024-03-14T18:55:55.775Z"
   },
   {
    "duration": 6,
    "start_time": "2024-03-14T18:55:55.799Z"
   },
   {
    "duration": 26,
    "start_time": "2024-03-14T18:55:55.807Z"
   },
   {
    "duration": 21,
    "start_time": "2024-03-14T18:55:55.834Z"
   },
   {
    "duration": 31,
    "start_time": "2024-03-14T18:55:55.857Z"
   },
   {
    "duration": 3,
    "start_time": "2024-03-14T18:55:55.890Z"
   },
   {
    "duration": 5,
    "start_time": "2024-03-14T18:55:55.895Z"
   },
   {
    "duration": 5,
    "start_time": "2024-03-14T18:55:55.902Z"
   },
   {
    "duration": 4,
    "start_time": "2024-03-14T18:55:55.908Z"
   },
   {
    "duration": 18,
    "start_time": "2024-03-14T18:55:55.913Z"
   },
   {
    "duration": 21,
    "start_time": "2024-03-14T18:55:55.932Z"
   },
   {
    "duration": 54,
    "start_time": "2024-03-14T18:55:55.955Z"
   },
   {
    "duration": 914,
    "start_time": "2024-03-14T18:55:56.011Z"
   },
   {
    "duration": 276,
    "start_time": "2024-03-14T18:55:56.927Z"
   },
   {
    "duration": 31,
    "start_time": "2024-03-14T18:55:57.205Z"
   },
   {
    "duration": 9,
    "start_time": "2024-03-14T18:55:57.237Z"
   },
   {
    "duration": 102,
    "start_time": "2024-03-14T18:55:57.248Z"
   },
   {
    "duration": 34,
    "start_time": "2024-03-14T18:55:57.351Z"
   },
   {
    "duration": 16,
    "start_time": "2024-03-14T18:55:57.386Z"
   },
   {
    "duration": 43,
    "start_time": "2024-03-14T18:55:57.404Z"
   },
   {
    "duration": 38,
    "start_time": "2024-03-14T18:55:57.451Z"
   },
   {
    "duration": 5,
    "start_time": "2024-03-14T18:55:57.491Z"
   },
   {
    "duration": 55,
    "start_time": "2024-03-14T18:55:57.497Z"
   },
   {
    "duration": 9,
    "start_time": "2024-03-14T18:55:57.553Z"
   },
   {
    "duration": 40,
    "start_time": "2024-03-14T18:55:57.563Z"
   },
   {
    "duration": 130,
    "start_time": "2024-03-14T18:55:57.605Z"
   },
   {
    "duration": 120,
    "start_time": "2024-03-14T18:55:57.737Z"
   },
   {
    "duration": 6,
    "start_time": "2024-03-14T18:55:57.858Z"
   },
   {
    "duration": 33,
    "start_time": "2024-03-14T18:55:57.866Z"
   },
   {
    "duration": 130,
    "start_time": "2024-03-14T18:55:57.901Z"
   },
   {
    "duration": 7,
    "start_time": "2024-03-14T18:55:58.033Z"
   },
   {
    "duration": 26,
    "start_time": "2024-03-14T18:55:58.042Z"
   },
   {
    "duration": 17,
    "start_time": "2024-03-14T18:55:58.069Z"
   },
   {
    "duration": 19,
    "start_time": "2024-03-14T18:55:58.087Z"
   },
   {
    "duration": 4,
    "start_time": "2024-03-14T18:55:58.107Z"
   },
   {
    "duration": 140,
    "start_time": "2024-03-14T18:55:58.112Z"
   },
   {
    "duration": 10,
    "start_time": "2024-03-14T18:55:58.254Z"
   },
   {
    "duration": 7,
    "start_time": "2024-03-14T18:55:58.281Z"
   }
  ],
  "colab": {
   "name": "DA+. Сборный проект 1. Шаблон (1).ipynb",
   "provenance": []
  },
  "kernelspec": {
   "display_name": "Python 3 (ipykernel)",
   "language": "python",
   "name": "python3"
  },
  "language_info": {
   "codemirror_mode": {
    "name": "ipython",
    "version": 3
   },
   "file_extension": ".py",
   "mimetype": "text/x-python",
   "name": "python",
   "nbconvert_exporter": "python",
   "pygments_lexer": "ipython3",
   "version": "3.9.5"
  },
  "toc": {
   "base_numbering": 1,
   "nav_menu": {
    "height": "239px",
    "width": "537px"
   },
   "number_sections": true,
   "sideBar": true,
   "skip_h1_title": true,
   "title_cell": "Table of Contents",
   "title_sidebar": "Contents",
   "toc_cell": false,
   "toc_position": {
    "height": "calc(100% - 180px)",
    "left": "10px",
    "top": "150px",
    "width": "287.516px"
   },
   "toc_section_display": true,
   "toc_window_display": true
  }
 },
 "nbformat": 4,
 "nbformat_minor": 1
}
